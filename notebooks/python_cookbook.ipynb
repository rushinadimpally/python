{
 "cells": [
  {
   "cell_type": "code",
   "execution_count": 1,
   "metadata": {},
   "outputs": [
    {
     "name": "stdout",
     "output_type": "stream",
     "text": [
      "1\n",
      "2\n",
      "too many value\n",
      "1 2 3\n"
     ]
    }
   ],
   "source": [
    "# 1.1 unpacking\n",
    "l = (1,2)\n",
    "a, b = l\n",
    "print(a)\n",
    "print(b)\n",
    "\n",
    "f = (1,2,4)\n",
    "try:\n",
    "    a,b = f\n",
    "except ValueError as e:\n",
    "    print(\"too many value\")\n",
    "\n",
    "f = [1,2,3]\n",
    "a,v,c = f\n",
    "print(a, v, c)"
   ]
  },
  {
   "cell_type": "code",
   "execution_count": 2,
   "metadata": {},
   "outputs": [
    {
     "name": "stdout",
     "output_type": "stream",
     "text": [
      "0\n",
      "1\n",
      "[2, 3, 4]\n",
      "5\n",
      "15\n"
     ]
    }
   ],
   "source": [
    "# arbitrary length lists\n",
    "\n",
    "f = range(6)\n",
    "a,b,*c,d = f # use the star expression to unpack everything in-between\n",
    "print(a) \n",
    "print(b)\n",
    "print(c)\n",
    "print(d) # last elements\n",
    "\n",
    "head, *tail = f\n",
    "\n",
    "# can split into head and tail like other languages\n",
    "# (haskell)\n",
    "sum_t = 0\n",
    "def my_sum(items):\n",
    "    if len(items) == 0:\n",
    "        return 0\n",
    "    global sum_t\n",
    "    head, *tail = items\n",
    "    return head + my_sum(tail)\n",
    "print(my_sum(f))"
   ]
  },
  {
   "cell_type": "code",
   "execution_count": 3,
   "metadata": {},
   "outputs": [
    {
     "name": "stdout",
     "output_type": "stream",
     "text": [
      "deque([1, 2, 3], maxlen=3)\n",
      "deque([2, 3, 4], maxlen=3)\n"
     ]
    }
   ],
   "source": [
    "# have a queue and keep the last n items\n",
    "from collections import deque\n",
    "\n",
    "f = deque(maxlen=3) # maxlen limits the number of elements and pops off older elements\n",
    "f.append(1)\n",
    "f.append(2)\n",
    "f.append(3)\n",
    "print(f)\n",
    "f.append(4)\n",
    "print(f) # This will pop 1 off the queue"
   ]
  },
  {
   "cell_type": "code",
   "execution_count": 4,
   "metadata": {
    "scrolled": true
   },
   "outputs": [
    {
     "name": "stdout",
     "output_type": "stream",
     "text": [
      "[1, 3, 1, 5, 5, 7, 2, 6]\n",
      "1\n",
      "1\n",
      "2\n",
      "[3, 5, 6, 5, 7]\n",
      "[0, 1, 2]\n",
      "[5, 4, 3]\n"
     ]
    }
   ],
   "source": [
    "#largest/smallest n items\n",
    "# Creating a heapified structure and then popping elements off the heap\n",
    "my_list = [1,5,2,3,5,7,1,6]\n",
    "import heapq\n",
    "heapq.heapify(my_list)\n",
    "print(my_list)\n",
    "\n",
    "# smallest n elements can be grabbed by popping off the heap\n",
    "print(heapq.heappop(my_list))\n",
    "print(heapq.heappop(my_list))\n",
    "print(heapq.heappop(my_list))\n",
    "\n",
    "print(my_list)\n",
    "\n",
    "# separately, can also use nlargest and nsmallest functions\n",
    "my_list = range(6)\n",
    "print(heapq.nsmallest(3, my_list))\n",
    "print(heapq.nlargest(3, my_list))"
   ]
  },
  {
   "cell_type": "code",
   "execution_count": 5,
   "metadata": {
    "scrolled": true
   },
   "outputs": [
    {
     "name": "stdout",
     "output_type": "stream",
     "text": [
      "a\n",
      "d\n",
      "b\n",
      "c\n",
      "e\n"
     ]
    }
   ],
   "source": [
    "# priority queue\n",
    "import heapq\n",
    "\n",
    "class MyQueue(object):\n",
    "    def __init__(self):\n",
    "        self.my_list = []\n",
    "        self.index = 0\n",
    "        \n",
    "    def push(self, value, priority):\n",
    "        # heappush does not allow for a keyfunction to specifiy priority.\n",
    "        # instead we store a tuple which has priority as the first element\n",
    "        # when comparing two tuples, it's in the order of the tuple elements\n",
    "        # so priority takes precedence. index is also added in case two priorities \n",
    "        # are the same, we want to give preference to the element that was added first\n",
    "        heapq.heappush(self.my_list, (priority, self.index, value))\n",
    "        self.index = self.index + 1\n",
    "    \n",
    "    def pop(self):\n",
    "        #index -1 to actually get at the value and not the priority or the index\n",
    "        return heapq.heappop(self.my_list)[-1] \n",
    "    \n",
    "my_q = MyQueue()\n",
    "my_q.push('a',1)\n",
    "my_q.push('b',3)\n",
    "my_q.push('c',4)\n",
    "my_q.push('d',2)\n",
    "my_q.push('e',5)\n",
    "\n",
    "print(my_q.pop())\n",
    "print(my_q.pop())\n",
    "print(my_q.pop())\n",
    "print(my_q.pop())\n",
    "print(my_q.pop())"
   ]
  },
  {
   "cell_type": "code",
   "execution_count": 6,
   "metadata": {},
   "outputs": [
    {
     "name": "stdout",
     "output_type": "stream",
     "text": [
      "[1, 2]\n",
      "[]\n",
      "[]\n",
      "[]\n"
     ]
    }
   ],
   "source": [
    "# multidict\n",
    "# collections.abc - mimic a dictionary\n",
    "# let's do sensible things\n",
    "\n",
    "from collections.abc import MutableMapping\n",
    "from collections import defaultdict\n",
    "\n",
    "class MyMultiDict(MutableMapping):\n",
    "    def __init__(self):\n",
    "        self._mydict = defaultdict(list)\n",
    "    \n",
    "    def __getitem__(self, key):\n",
    "        return self._mydict[key]\n",
    "    \n",
    "    def __iter__(self):\n",
    "        for key,value in self._mydict.items():\n",
    "            for x in value:\n",
    "                yield key, x\n",
    "    \n",
    "    def __len__(self):\n",
    "        return [sum(x) for x in self._mydict.values()]\n",
    "    \n",
    "    def __delitem__(self, key):\n",
    "        return self._mydict.pop(key)\n",
    "    \n",
    "    def __setitem__(self, key, value):\n",
    "        self._mydict[key].append(value)\n",
    "    \n",
    "multi_dict = MyMultiDict()\n",
    "multi_dict[\"a\"] = 1\n",
    "multi_dict[\"a\"] = 2\n",
    "print(multi_dict[\"a\"])\n",
    "print(multi_dict[\"b\"])\n",
    "print(multi_dict[\"b\"])\n",
    "multi_dict.pop(\"a\")\n",
    "print(multi_dict[\"a\"])"
   ]
  },
  {
   "cell_type": "code",
   "execution_count": 7,
   "metadata": {},
   "outputs": [],
   "source": [
    "# ordered dict to keep the order in which elements were inserted\n",
    "# the built-in dictionary class does not have this guarantee\n",
    "\n",
    "from collections import OrderedDict"
   ]
  },
  {
   "cell_type": "code",
   "execution_count": 8,
   "metadata": {},
   "outputs": [
    {
     "name": "stdout",
     "output_type": "stream",
     "text": [
      "('c', 5)\n",
      "('a', 1)\n",
      "[('a', 1), ('b', 3), ('c', 5)]\n"
     ]
    }
   ],
   "source": [
    "# calculating with dictioanries\n",
    "# most calculations should take a key function\n",
    "\n",
    "my_dict = {\"a\" : 1, \"b\" : 3 , \"c\" : 5}\n",
    "\n",
    "# max\n",
    "print(max(my_dict.items(), key = lambda x : x[1]))\n",
    "\n",
    "# min\n",
    "print(min(my_dict.items(), key = lambda x : x[1]))\n",
    "\n",
    "# sorting\n",
    "print(sorted(my_dict.items(), key = lambda x : x[1]))"
   ]
  },
  {
   "cell_type": "code",
   "execution_count": 9,
   "metadata": {},
   "outputs": [
    {
     "name": "stdout",
     "output_type": "stream",
     "text": [
      "{'c', 'b'}\n",
      "{('c', 5)}\n",
      "dict_values([1, 3, 5])\n",
      "dict_values([1, 5, 3, 5])\n",
      "<class 'dict_keys'>\n",
      "<class 'dict_items'>\n",
      "<class 'dict_values'>\n",
      "Help on class dict_values in module builtins:\n",
      "\n",
      "class dict_values(object)\n",
      " |  Methods defined here:\n",
      " |  \n",
      " |  __getattribute__(self, name, /)\n",
      " |      Return getattr(self, name).\n",
      " |  \n",
      " |  __iter__(self, /)\n",
      " |      Implement iter(self).\n",
      " |  \n",
      " |  __len__(self, /)\n",
      " |      Return len(self).\n",
      " |  \n",
      " |  __repr__(self, /)\n",
      " |      Return repr(self).\n",
      "\n",
      "Help on class dict_keys in module builtins:\n",
      "\n",
      "class dict_keys(object)\n",
      " |  Methods defined here:\n",
      " |  \n",
      " |  __and__(self, value, /)\n",
      " |      Return self&value.\n",
      " |  \n",
      " |  __contains__(self, key, /)\n",
      " |      Return key in self.\n",
      " |  \n",
      " |  __eq__(self, value, /)\n",
      " |      Return self==value.\n",
      " |  \n",
      " |  __ge__(self, value, /)\n",
      " |      Return self>=value.\n",
      " |  \n",
      " |  __getattribute__(self, name, /)\n",
      " |      Return getattr(self, name).\n",
      " |  \n",
      " |  __gt__(self, value, /)\n",
      " |      Return self>value.\n",
      " |  \n",
      " |  __iter__(self, /)\n",
      " |      Implement iter(self).\n",
      " |  \n",
      " |  __le__(self, value, /)\n",
      " |      Return self<=value.\n",
      " |  \n",
      " |  __len__(self, /)\n",
      " |      Return len(self).\n",
      " |  \n",
      " |  __lt__(self, value, /)\n",
      " |      Return self<value.\n",
      " |  \n",
      " |  __ne__(self, value, /)\n",
      " |      Return self!=value.\n",
      " |  \n",
      " |  __or__(self, value, /)\n",
      " |      Return self|value.\n",
      " |  \n",
      " |  __rand__(self, value, /)\n",
      " |      Return value&self.\n",
      " |  \n",
      " |  __repr__(self, /)\n",
      " |      Return repr(self).\n",
      " |  \n",
      " |  __ror__(self, value, /)\n",
      " |      Return value|self.\n",
      " |  \n",
      " |  __rsub__(self, value, /)\n",
      " |      Return value-self.\n",
      " |  \n",
      " |  __rxor__(self, value, /)\n",
      " |      Return value^self.\n",
      " |  \n",
      " |  __sub__(self, value, /)\n",
      " |      Return self-value.\n",
      " |  \n",
      " |  __xor__(self, value, /)\n",
      " |      Return self^value.\n",
      " |  \n",
      " |  isdisjoint(...)\n",
      " |      Return True if the view and the given iterable have a null intersection.\n",
      " |  \n",
      " |  ----------------------------------------------------------------------\n",
      " |  Data and other attributes defined here:\n",
      " |  \n",
      " |  __hash__ = None\n",
      "\n",
      "Help on class dict_items in module builtins:\n",
      "\n",
      "class dict_items(object)\n",
      " |  Methods defined here:\n",
      " |  \n",
      " |  __and__(self, value, /)\n",
      " |      Return self&value.\n",
      " |  \n",
      " |  __contains__(self, key, /)\n",
      " |      Return key in self.\n",
      " |  \n",
      " |  __eq__(self, value, /)\n",
      " |      Return self==value.\n",
      " |  \n",
      " |  __ge__(self, value, /)\n",
      " |      Return self>=value.\n",
      " |  \n",
      " |  __getattribute__(self, name, /)\n",
      " |      Return getattr(self, name).\n",
      " |  \n",
      " |  __gt__(self, value, /)\n",
      " |      Return self>value.\n",
      " |  \n",
      " |  __iter__(self, /)\n",
      " |      Implement iter(self).\n",
      " |  \n",
      " |  __le__(self, value, /)\n",
      " |      Return self<=value.\n",
      " |  \n",
      " |  __len__(self, /)\n",
      " |      Return len(self).\n",
      " |  \n",
      " |  __lt__(self, value, /)\n",
      " |      Return self<value.\n",
      " |  \n",
      " |  __ne__(self, value, /)\n",
      " |      Return self!=value.\n",
      " |  \n",
      " |  __or__(self, value, /)\n",
      " |      Return self|value.\n",
      " |  \n",
      " |  __rand__(self, value, /)\n",
      " |      Return value&self.\n",
      " |  \n",
      " |  __repr__(self, /)\n",
      " |      Return repr(self).\n",
      " |  \n",
      " |  __ror__(self, value, /)\n",
      " |      Return value|self.\n",
      " |  \n",
      " |  __rsub__(self, value, /)\n",
      " |      Return value-self.\n",
      " |  \n",
      " |  __rxor__(self, value, /)\n",
      " |      Return value^self.\n",
      " |  \n",
      " |  __sub__(self, value, /)\n",
      " |      Return self-value.\n",
      " |  \n",
      " |  __xor__(self, value, /)\n",
      " |      Return self^value.\n",
      " |  \n",
      " |  isdisjoint(...)\n",
      " |      Return True if the view and the given iterable have a null intersection.\n",
      " |  \n",
      " |  ----------------------------------------------------------------------\n",
      " |  Data and other attributes defined here:\n",
      " |  \n",
      " |  __hash__ = None\n",
      "\n"
     ]
    }
   ],
   "source": [
    "# commonalities\n",
    "# same keys, same values, etc\n",
    "\n",
    "my_dict_1 = {\"a\" : 1, \"b\" : 3 , \"c\" : 5}\n",
    "my_dict_2 = {\"d\" : 1, \"b\" : 5 , \"f\" : 3, \"c\" : 5}\n",
    "\n",
    "print(my_dict_1.keys() & my_dict_2.keys()) # common keys\n",
    "#print(my_dict_1.values() & my_dict_2.values()) # common values\n",
    "print(my_dict_1.items() & my_dict_2.items()) # common items\n",
    "\n",
    "# open question : why is list intersection not supported in python ?\n",
    "# maybe because lists can contain non unique values?\n",
    "# keys and items are inherently unique\n",
    "print(my_dict_1.values())\n",
    "print(my_dict_2.values())\n",
    "print(type(my_dict_1.keys()))\n",
    "print(type(my_dict_1.items()))\n",
    "print(type(my_dict_1.values()))\n",
    "\n",
    "help(type(my_dict_1.values()))\n",
    "help(type(my_dict_1.keys()))\n",
    "help(type(my_dict_1.items()))"
   ]
  },
  {
   "cell_type": "code",
   "execution_count": 10,
   "metadata": {},
   "outputs": [
    {
     "name": "stdout",
     "output_type": "stream",
     "text": [
      "[1, 2, 3, 4]\n"
     ]
    }
   ],
   "source": [
    "# remove duplicates from a sequence\n",
    "# conversion to a set removes the ordering\n",
    "\n",
    "def dedupe(items):\n",
    "    seen_set = set()\n",
    "    for item in items:\n",
    "        if item in seen_set:\n",
    "            continue\n",
    "        else:\n",
    "            seen_set.add(item)\n",
    "            yield item\n",
    "            \n",
    "dup_list = [1,2,3,4,1,1,1,1,2,2,3,4,2,2]\n",
    "print([x for x in dedupe(dup_list)])"
   ]
  },
  {
   "cell_type": "code",
   "execution_count": 11,
   "metadata": {},
   "outputs": [
    {
     "name": "stdout",
     "output_type": "stream",
     "text": [
      "range(0, 3)\n",
      "range(0, 3)\n",
      "<class 'range'>\n",
      "[0, 1, 2]\n"
     ]
    }
   ],
   "source": [
    "# naming a slice\n",
    "my_list = range(5)\n",
    "first_3_elements = slice(0,3)\n",
    "\n",
    "# this is still just another range\n",
    "# That is pretty awesome!!!!\n",
    "print(my_list[first_3_elements])\n",
    "# in temrs of implementation, the __getitem__ function\n",
    "# likely checks to see if the input is a slice \n",
    "# in which case it then re-returns an iterator\n",
    "\n",
    "print(my_list[0:3]) # This also just returns a range\n",
    "print(type(my_list[0:3])) # This also just returns a range\n",
    "\n",
    "print(list(my_list[first_3_elements])) # force the expansion\n",
    "\n",
    "#help(range)"
   ]
  },
  {
   "cell_type": "code",
   "execution_count": 12,
   "metadata": {},
   "outputs": [
    {
     "name": "stdout",
     "output_type": "stream",
     "text": [
      "(1, 7)\n",
      "6\n",
      "3\n",
      "<class 'collections.Counter'>\n",
      "7\n",
      "1\n",
      "8\n"
     ]
    }
   ],
   "source": [
    "# most frequent items\n",
    "# any type of counting\n",
    "\n",
    "from collections import Counter\n",
    "\n",
    "my_list = [1,1,1,2,2,2,2,3,3,3,2,2,1,1,1,1]\n",
    "counter = Counter(my_list)\n",
    "print(counter.most_common()[0])\n",
    "print(counter[2])\n",
    "print(counter[3])\n",
    "print(type(counter))\n",
    "\n",
    "# counters have arithmetic operations available which is cool\n",
    "my_other_list = [1]\n",
    "counter_other = Counter(my_other_list)\n",
    "\n",
    "counter_combined = counter + counter_other\n",
    "print(counter[1])\n",
    "print(counter_other[1])\n",
    "print(counter_combined[1])"
   ]
  },
  {
   "cell_type": "code",
   "execution_count": 13,
   "metadata": {
    "scrolled": true
   },
   "outputs": [
    {
     "name": "stdout",
     "output_type": "stream",
     "text": [
      "[a, c, d]\n",
      "[a, c, d]\n"
     ]
    }
   ],
   "source": [
    "# sorting without native comparison\n",
    "# use the keyfunc or the attrgetter method\n",
    "\n",
    "from operator import attrgetter\n",
    "\n",
    "class User(object):\n",
    "    def __init__(self, id):\n",
    "        self.id = id\n",
    "        \n",
    "    def __str__(self):\n",
    "        return self.id\n",
    "    \n",
    "    def __repr__(self):\n",
    "        return self.id\n",
    "        \n",
    "users = [User(x) for x in [\"c\", \"a\", \"d\"]]\n",
    "print(sorted(users, key=lambda x : x.id))\n",
    "print(sorted(users, key=attrgetter('id')))"
   ]
  },
  {
   "cell_type": "code",
   "execution_count": 14,
   "metadata": {},
   "outputs": [
    {
     "name": "stdout",
     "output_type": "stream",
     "text": [
      "1\n",
      "{'id': 3, 'group': 1}\n",
      "{'id': 5, 'group': 1}\n",
      "{'id': 2, 'group': 1}\n",
      "2\n",
      "{'id': 4, 'group': 2}\n",
      "{'id': 1, 'group': 2}\n"
     ]
    }
   ],
   "source": [
    "from operator import itemgetter\n",
    "from itertools import groupby\n",
    "\n",
    "rows = [ {'id' : 3, 'group' : 1},\n",
    "        {'id' : 4, 'group' : 2},\n",
    "        {'id' : 5, 'group' : 1},\n",
    "        {'id' : 1, 'group' : 2},\n",
    "        {'id' : 2, 'group' : 1},\n",
    "]\n",
    "\n",
    "# the two methods are similar\n",
    "rows.sort(key=itemgetter('group'))\n",
    "#rows.sort(key=lambda x : x['group'])\n",
    "\n",
    "# note groupby only works on already sorted rows\n",
    "for group, items in groupby(rows, key=itemgetter('group')):\n",
    "    print(group)\n",
    "    for item in items:\n",
    "        print(item)"
   ]
  },
  {
   "cell_type": "code",
   "execution_count": 15,
   "metadata": {},
   "outputs": [
    {
     "name": "stdout",
     "output_type": "stream",
     "text": [
      "[4]\n"
     ]
    }
   ],
   "source": [
    "#filtering\n",
    "my_list = range(5)\n",
    "filtered_list = filter(lambda x : x > 3, my_list)\n",
    "print(list(filtered_list))\n",
    "\n",
    "# other itertools filters are  takewhile/dropwhile/filterfalse"
   ]
  },
  {
   "cell_type": "code",
   "execution_count": 16,
   "metadata": {},
   "outputs": [
    {
     "name": "stdout",
     "output_type": "stream",
     "text": [
      "{'b': 3, 'c': 5}\n"
     ]
    }
   ],
   "source": [
    "# dictionary subset\n",
    "\n",
    "my_dict = {'a' : 1 , 'b' : 3, 'c' : 5}\n",
    "my_sub_dict = {key:value for key, value in my_dict.items() if value > 2}\n",
    "print(my_sub_dict)"
   ]
  },
  {
   "cell_type": "code",
   "execution_count": 17,
   "metadata": {
    "scrolled": true
   },
   "outputs": [
    {
     "name": "stdout",
     "output_type": "stream",
     "text": [
      "MyTuple(id=3, name=4)\n"
     ]
    }
   ],
   "source": [
    "# named tuples\n",
    "from collections import namedtuple\n",
    "MyTuple = namedtuple('MyTuple', ['id', 'name'])\n",
    "tuple = MyTuple(3,4)\n",
    "print(tuple)"
   ]
  },
  {
   "cell_type": "code",
   "execution_count": 18,
   "metadata": {},
   "outputs": [
    {
     "data": {
      "text/plain": [
       "5"
      ]
     },
     "execution_count": 18,
     "metadata": {},
     "output_type": "execute_result"
    }
   ],
   "source": [
    "# generator expressions\n",
    "sum(x**2 for x in range(3))"
   ]
  },
  {
   "cell_type": "code",
   "execution_count": 19,
   "metadata": {},
   "outputs": [
    {
     "name": "stdout",
     "output_type": "stream",
     "text": [
      "ChainMap({'a': 1}, {'b': 2, 'a': 3})\n",
      "1\n"
     ]
    }
   ],
   "source": [
    "# merging dictionaries causes copies\n",
    "# to deal with two dictionaries as though they are the same\n",
    "# use chainmap\n",
    "\n",
    "from collections import ChainMap\n",
    "\n",
    "my_dict = {'a' : 1}\n",
    "my_dict_2 = {'b' : 2, 'a' : 3}\n",
    "merged = ChainMap(my_dict, my_dict_2)\n",
    "print(merged)\n",
    "\n",
    "# note if the dicts have common keys, the first dictionary takes\n",
    "# precedence\n",
    "print(merged['a'])"
   ]
  },
  {
   "cell_type": "markdown",
   "metadata": {},
   "source": [
    "###  Chapter 2\n"
   ]
  },
  {
   "cell_type": "code",
   "execution_count": 20,
   "metadata": {},
   "outputs": [
    {
     "data": {
      "text/plain": [
       "['asdf', 'fjdk', 'afed', 'fjek', 'asdf', 'foo']"
      ]
     },
     "execution_count": 20,
     "metadata": {},
     "output_type": "execute_result"
    }
   ],
   "source": [
    "# simple string split only takes in a single delimiter\n",
    "import re\n",
    "\n",
    "line = 'asdf fjdk; afed, fjek,asdf,      foo'\n",
    "re.split(r'[;,\\s]\\s*', line)"
   ]
  },
  {
   "cell_type": "code",
   "execution_count": 21,
   "metadata": {},
   "outputs": [
    {
     "name": "stdout",
     "output_type": "stream",
     "text": [
      "True\n",
      "False\n",
      "False\n",
      "True\n"
     ]
    }
   ],
   "source": [
    "# starts with and endswith\n",
    "my_list = 'abcd efgg aaa'\n",
    "print(my_list.startswith('abc'))\n",
    "print(my_list.startswith('def'))\n",
    "print(my_list.endswith('def'))\n",
    "print(my_list.endswith('aaa'))"
   ]
  },
  {
   "cell_type": "code",
   "execution_count": 22,
   "metadata": {
    "scrolled": true
   },
   "outputs": [
    {
     "name": "stdout",
     "output_type": "stream",
     "text": [
      "11/27/2012\n",
      "None\n",
      "['11/27/2012', '3/13/2013']\n",
      "['11/27/2012', '3/13/2013']\n"
     ]
    }
   ],
   "source": [
    "# patterns\n",
    "\n",
    "import re\n",
    "\n",
    "text = 'Today is 11/27/2012. PyCon starts 3/13/2013.'\n",
    "\n",
    "# note match requires matches from the start of the string\n",
    "# search does not require this\n",
    "\n",
    "print(re.search(r'\\d+/\\d+/\\d+', text).group(0))\n",
    "print(re.match(r'\\d+/\\d+/\\d+', text)) # None\n",
    "\n",
    "# practice is  to compile the regex if it will be re-used\n",
    "com = re.compile(r'\\d+/\\d+/\\d+')\n",
    "print(com.findall(text))\n",
    "\n",
    "# can use finditer to get an iterator\n",
    "print([x.group(0) for x in com.finditer(text)])"
   ]
  },
  {
   "cell_type": "code",
   "execution_count": 23,
   "metadata": {},
   "outputs": [
    {
     "name": "stdout",
     "output_type": "stream",
     "text": [
      "yes, but no, but yes, but no, but yes\n",
      "yeah dude, but no, but yeah dude, but no, but yeah dude\n",
      "yeah buddy, but no, but yeah buddy, but no, but yeah buddy\n",
      "yEAH dude, bUt No, but yEAh dude, but NO, bUt yEAh dude\n"
     ]
    }
   ],
   "source": [
    "# replace with simple string replace\n",
    "text = 'yeah, but no, but yeah, but no, but yeah'\n",
    "print(text.replace('yeah', 'yes'))\n",
    "\n",
    "# replace regex\n",
    "import re\n",
    "\n",
    "text = 'yeah, but no, but yeah, but no, but yeah'\n",
    "print(re.sub(r'(yeah)', r'\\1 dude', text)) # capture the yeah and replace with yeah dude\n",
    "\n",
    "# callback for replace method\n",
    "def rep_foo(match):\n",
    "    return match.group(1) + \" buddy\"\n",
    "print(re.sub(r'(yeah)', rep_foo, text)) # capture the yeah and replace with yeah dude\n",
    "\n",
    "# case insensitive flag\n",
    "text = 'yEAH, bUt No, but yEAh, but NO, bUt yEAh'\n",
    "print(re.sub(r'(yeah)', r'\\1 dude', text, flags=re.IGNORECASE)) # capture the yeah and replace with yeah dude\n"
   ]
  },
  {
   "cell_type": "code",
   "execution_count": 24,
   "metadata": {},
   "outputs": [],
   "source": [
    "# discussions around unicode that are not useful\n",
    "# discussions around regular expression edge cases not useful"
   ]
  },
  {
   "cell_type": "code",
   "execution_count": 25,
   "metadata": {
    "scrolled": true
   },
   "outputs": [
    {
     "name": "stdout",
     "output_type": "stream",
     "text": [
      "a boy was in the well \n",
      " a boy was in the well\n",
      "a boy was in the well\n",
      "-a-boy-was-in-the-well-\n"
     ]
    }
   ],
   "source": [
    "# strip\n",
    "\n",
    "text = \" a boy was in the well \"\n",
    "print(text.lstrip())\n",
    "print(text.rstrip())\n",
    "print(text.strip())\n",
    "print(text.replace(' ', '-'))"
   ]
  },
  {
   "cell_type": "code",
   "execution_count": 26,
   "metadata": {
    "scrolled": true
   },
   "outputs": [
    {
     "name": "stdout",
     "output_type": "stream",
     "text": [
      "Hello World         \n",
      "         Hello World\n",
      "    Hello World     \n",
      "====Hello World=====\n"
     ]
    }
   ],
   "source": [
    "# alignment\n",
    "text = \"Hello World\"\n",
    "print(text.ljust(20))\n",
    "print(text.rjust(20))\n",
    "print(text.center(20))\n",
    "print(text.center(20, '='))\n"
   ]
  },
  {
   "cell_type": "code",
   "execution_count": 27,
   "metadata": {},
   "outputs": [
    {
     "name": "stdout",
     "output_type": "stream",
     "text": [
      "a b\n",
      "a b\n"
     ]
    }
   ],
   "source": [
    "# joining\n",
    "text = ['a', 'b']\n",
    "print(' '.join(text))\n",
    "\n",
    "# use generators when able so \n",
    "# users can decide on how to join\n",
    "\n",
    "def give_strings():\n",
    "    yield 'a'\n",
    "    yield 'b'\n",
    "\n",
    "print(' '.join(give_strings()))"
   ]
  },
  {
   "cell_type": "code",
   "execution_count": 28,
   "metadata": {},
   "outputs": [
    {
     "name": "stdout",
     "output_type": "stream",
     "text": [
      "variable 34 will be substituted here\n"
     ]
    }
   ],
   "source": [
    "# format method\n",
    "print('variable {a} will be substituted {}'.format(\"here\", a=34))"
   ]
  },
  {
   "cell_type": "code",
   "execution_count": 29,
   "metadata": {},
   "outputs": [
    {
     "name": "stdout",
     "output_type": "stream",
     "text": [
      "This is a long string which definitely is larger than 20 characters\n",
      "This is a long\n",
      "string which\n",
      "definitely is larger\n",
      "than 20 characters\n"
     ]
    }
   ],
   "source": [
    "import textwrap\n",
    "\n",
    "# wrap text around a column length\n",
    "text = \"This is a long string which definitely is larger than 20 characters\"\n",
    "print(text)\n",
    "print(textwrap.fill(text, 20))"
   ]
  },
  {
   "cell_type": "code",
   "execution_count": 30,
   "metadata": {},
   "outputs": [],
   "source": [
    "# working with xml and html (not useful)"
   ]
  },
  {
   "cell_type": "code",
   "execution_count": 31,
   "metadata": {},
   "outputs": [],
   "source": [
    "# TODO: TOKENIZING AND PARSING (2.18/2.19) - large topics\n",
    "# need to come back to this later"
   ]
  },
  {
   "cell_type": "code",
   "execution_count": 32,
   "metadata": {},
   "outputs": [],
   "source": [
    "# byte strings vs text strings\n",
    "# most of the operations works the same. use text if the \n",
    "# underlying data is text\n"
   ]
  },
  {
   "cell_type": "markdown",
   "metadata": {},
   "source": [
    "###  Chapter 3 - Numbers/Dates/Times\n"
   ]
  },
  {
   "cell_type": "code",
   "execution_count": 33,
   "metadata": {},
   "outputs": [
    {
     "name": "stdout",
     "output_type": "stream",
     "text": [
      "1.2\n",
      "1.23\n",
      "33.33333\n"
     ]
    }
   ],
   "source": [
    "print(round(1.23,1))\n",
    "print(round(1.23,2))\n",
    "print(round(100/3,5))\n"
   ]
  },
  {
   "cell_type": "code",
   "execution_count": 34,
   "metadata": {},
   "outputs": [
    {
     "name": "stdout",
     "output_type": "stream",
     "text": [
      "6.300000000000001\n"
     ]
    }
   ],
   "source": [
    "a = 2.1\n",
    "b = 4.2\n",
    "print(a+ b)"
   ]
  },
  {
   "cell_type": "code",
   "execution_count": 35,
   "metadata": {},
   "outputs": [
    {
     "name": "stdout",
     "output_type": "stream",
     "text": [
      "6.3\n",
      "0.7647058823529411764705882353\n",
      "0.7647\n"
     ]
    }
   ],
   "source": [
    "from decimal import Decimal\n",
    "\n",
    "a = Decimal('2.1')\n",
    "b = Decimal('4.2')\n",
    "c = a + b\n",
    "print(c)\n",
    "\n",
    "from decimal import localcontext\n",
    "\n",
    "a = Decimal('1.3')\n",
    "b = Decimal('1.7')\n",
    "print(a/b)\n",
    "with localcontext() as ctx:\n",
    "    ctx.prec = 4\n",
    "    print(a/b)\n",
    "    \n",
    "# See the next code section\n",
    "# to see how the precision value might be influenced\n",
    "# within a context"
   ]
  },
  {
   "cell_type": "code",
   "execution_count": 36,
   "metadata": {},
   "outputs": [
    {
     "name": "stdout",
     "output_type": "stream",
     "text": [
      "a\n",
      "b\n",
      "a\n"
     ]
    }
   ],
   "source": [
    "# recollect how contexts are implemented\n",
    "from contextlib import contextmanager\n",
    "\n",
    "\n",
    "CURRENTLY_SAYING = 'a'\n",
    "\n",
    "\n",
    "def says_depending_on_context():\n",
    "    global CURRENTLY_SAYING\n",
    "    return CURRENTLY_SAYING\n",
    "\n",
    "@contextmanager\n",
    "def switch_say(input_value):\n",
    "    global CURRENTLY_SAYING\n",
    "    old_saying = CURRENTLY_SAYING\n",
    "    CURRENTLY_SAYING = input_value\n",
    "    try:\n",
    "        yield CURRENTLY_SAYING\n",
    "    finally:\n",
    "        CURRENTLY_SAYING = old_saying\n",
    "\n",
    "print(says_depending_on_context())\n",
    "with switch_say('b'):\n",
    "    print(says_depending_on_context())\n",
    "\n",
    "print(says_depending_on_context())"
   ]
  },
  {
   "cell_type": "code",
   "execution_count": 37,
   "metadata": {},
   "outputs": [
    {
     "name": "stdout",
     "output_type": "stream",
     "text": [
      "123.46\n",
      "123.456\n",
      "   123.456\n"
     ]
    }
   ],
   "source": [
    "# formatting numbers using format\n",
    "# format has a mini language (not currently useful)\n",
    "\n",
    "number = 123.45555\n",
    "print(format(number, '3.2f'))\n",
    "print(format(number, '3.3f'))\n",
    "print(format(number, '10.3f'))"
   ]
  },
  {
   "cell_type": "code",
   "execution_count": 38,
   "metadata": {
    "scrolled": true
   },
   "outputs": [
    {
     "name": "stdout",
     "output_type": "stream",
     "text": [
      "1234\n",
      "0b10011010010\n",
      "0x4d2\n",
      "0o2322\n",
      "<class 'int'>\n",
      "<class 'float'>\n"
     ]
    }
   ],
   "source": [
    "# oct, bi n and hexx\n",
    "a = 1234\n",
    "print(a)\n",
    "print(bin(a))\n",
    "print(hex(a))\n",
    "print(oct(a))\n",
    "\n",
    "\n",
    "# Note: This is just for formatting\n",
    "# all of the underlying types are still floats\n",
    "print(type(a))\n",
    "\n",
    "b = 123.33\n",
    "#print(bin(b)) # float objects cannot be represented as integers\n",
    "#print(hex(b))\n",
    "#print(oct(b))\n",
    "print(type(b))"
   ]
  },
  {
   "cell_type": "code",
   "execution_count": 39,
   "metadata": {},
   "outputs": [
    {
     "data": {
      "text/plain": [
       "69120565665751139577663547927094891008"
      ]
     },
     "execution_count": 39,
     "metadata": {},
     "output_type": "execute_result"
    }
   ],
   "source": [
    "data = b'\\x00\\x124V\\x00x\\x90\\xab\\x00\\xcd\\xef\\x01\\x00#\\x004'\n",
    "int.from_bytes(data, 'little') # endian-ness"
   ]
  },
  {
   "cell_type": "code",
   "execution_count": 40,
   "metadata": {},
   "outputs": [
    {
     "name": "stdout",
     "output_type": "stream",
     "text": [
      "(2+3j)\n",
      "(3+5j)\n",
      "(5+8j)\n",
      "2.0\n",
      "3.0\n",
      "(2-3j)\n",
      "<class 'complex'>\n"
     ]
    }
   ],
   "source": [
    "a = complex(2,3) # use constructor\n",
    "print(a)\n",
    "\n",
    "b = 3 + 5j # or the j suffix to numbers\n",
    "print(b)\n",
    "\n",
    "print(a+b)\n",
    "\n",
    "print(a.real)\n",
    "print(a.imag)\n",
    "print(a.conjugate())\n",
    "print(type(a))"
   ]
  },
  {
   "cell_type": "code",
   "execution_count": 41,
   "metadata": {},
   "outputs": [
    {
     "name": "stdout",
     "output_type": "stream",
     "text": [
      "inf\n",
      "-inf\n",
      "nan\n",
      "inf\n",
      "inf\n",
      "-inf\n",
      "-inf\n",
      "nan\n",
      "nan\n",
      "nan\n",
      "True\n",
      "True\n"
     ]
    }
   ],
   "source": [
    "# inf and nan\n",
    "\n",
    "a = float('inf')\n",
    "b = float('-inf')\n",
    "c = float('nan')\n",
    "\n",
    "print(a)\n",
    "print(b)\n",
    "print(c)\n",
    "\n",
    "print(a+45)\n",
    "print(a-45)\n",
    "print(b-45)\n",
    "print(b+45)\n",
    "\n",
    "print(float('inf')/float('inf'))\n",
    "print(float('inf')/float('-inf'))\n",
    "\n",
    "# nan simply propagates\n",
    "print(c + 45) # all math operations on nan are nan\n",
    "\n",
    "from math import isinf, isnan\n",
    "\n",
    "print(isnan(c))\n",
    "print(isinf(a))"
   ]
  },
  {
   "cell_type": "code",
   "execution_count": 42,
   "metadata": {},
   "outputs": [
    {
     "name": "stdout",
     "output_type": "stream",
     "text": [
      "3/4\n",
      "1/2\n",
      "5/4\n",
      "3/8\n"
     ]
    }
   ],
   "source": [
    "# fractions\n",
    "from fractions import Fraction\n",
    "\n",
    "a = Fraction(3,4)\n",
    "b = Fraction(1,2)\n",
    "\n",
    "print(a)\n",
    "print(b)\n",
    "print(a + b )\n",
    "print(a * b )\n"
   ]
  },
  {
   "cell_type": "code",
   "execution_count": 43,
   "metadata": {},
   "outputs": [
    {
     "name": "stdout",
     "output_type": "stream",
     "text": [
      "[2 4 6 8]\n",
      "[ 3  6  9 12]\n",
      "[[2. 2. 2. ... 2. 2. 2.]\n",
      " [2. 2. 2. ... 2. 2. 2.]\n",
      " [2. 2. 2. ... 2. 2. 2.]\n",
      " ...\n",
      " [2. 2. 2. ... 2. 2. 2.]\n",
      " [2. 2. 2. ... 2. 2. 2.]\n",
      " [2. 2. 2. ... 2. 2. 2.]]\n",
      "[[0.90929743 0.90929743 0.90929743 ... 0.90929743 0.90929743 0.90929743]\n",
      " [0.90929743 0.90929743 0.90929743 ... 0.90929743 0.90929743 0.90929743]\n",
      " [0.90929743 0.90929743 0.90929743 ... 0.90929743 0.90929743 0.90929743]\n",
      " ...\n",
      " [0.90929743 0.90929743 0.90929743 ... 0.90929743 0.90929743 0.90929743]\n",
      " [0.90929743 0.90929743 0.90929743 ... 0.90929743 0.90929743 0.90929743]\n",
      " [0.90929743 0.90929743 0.90929743 ... 0.90929743 0.90929743 0.90929743]]\n"
     ]
    }
   ],
   "source": [
    "# numpy Note: This will be the subject of the book:\n",
    "# Python for data analysis. This is a starter\n",
    "\n",
    "# need to install python3-numpy using apt-get\n",
    "import numpy as np\n",
    "\n",
    "ax = np.array([1,2,3,4])\n",
    "ay = np.array([1,2,3,4])\n",
    "\n",
    "print(ax + ay)\n",
    "print(ax * 3)\n",
    "\n",
    "\n",
    "large_grid = np.zeros(shape=(10000,10000), dtype=float)\n",
    "print(large_grid + 2)\n",
    "print(np.sin(large_grid + 2))"
   ]
  },
  {
   "cell_type": "code",
   "execution_count": 44,
   "metadata": {
    "scrolled": true
   },
   "outputs": [
    {
     "name": "stdout",
     "output_type": "stream",
     "text": [
      "[[ 1  2  3  4]\n",
      " [ 5  6  7  8]\n",
      " [ 9 10 11 12]]\n",
      "[1 2 3 4]\n",
      "[[ 2  3  4  5]\n",
      " [ 6  7  8  9]\n",
      " [10 11 12 13]]\n",
      "[[1 2 3 4]\n",
      " [5 6 7 8]]\n",
      "====\n",
      "[[4]\n",
      " [8]]\n",
      "[[ 1  2  3  9]\n",
      " [ 5  6  7 13]\n",
      " [ 9 10 11 12]]\n"
     ]
    }
   ],
   "source": [
    "a = np.array([[1,2,3,4],[5,6,7,8],[9,10,11,12]])\n",
    "print(a)\n",
    "print(a[0])\n",
    "print(a + [1,1,1,1])\n",
    "print(a[0:2]) # rows 0 and 1\n",
    "print(\"====\")\n",
    "print(a[0:2, -1:]) # last column of rows 0 and 1\n",
    "a[0:2, -1:] += 5\n",
    "print(a)"
   ]
  },
  {
   "cell_type": "code",
   "execution_count": 45,
   "metadata": {
    "scrolled": true
   },
   "outputs": [
    {
     "name": "stdout",
     "output_type": "stream",
     "text": [
      "[[1 2 3]\n",
      " [3 4 5]\n",
      " [5 6 7]]\n",
      "[[1 3 5]\n",
      " [2 4 6]\n",
      " [3 5 7]]\n",
      "[[ 4.50359963e+15 -9.00719925e+15  4.50359963e+15]\n",
      " [-9.00719925e+15  1.80143985e+16 -9.00719925e+15]\n",
      " [ 4.50359963e+15 -9.00719925e+15  4.50359963e+15]]\n",
      "[[ -4. -20. -28.]\n",
      " [ -8.   0.   8.]\n",
      " [  4.   4.   0.]]\n",
      "[[-2.  0. -2.]\n",
      " [ 0.  0. -8.]\n",
      " [ 0.  0.  0.]]\n",
      "===============\n",
      "[[2 0]\n",
      " [0 2]]\n",
      "[[0.5 0. ]\n",
      " [0.  0.5]]\n",
      "[[2 0]\n",
      " [0 2]]\n",
      "[[1. 0.]\n",
      " [0. 1.]]\n",
      "[[1. 0.]\n",
      " [0. 1.]]\n"
     ]
    }
   ],
   "source": [
    "# matrices and linear algebra\n",
    "\n",
    "import numpy as np\n",
    "m = np.matrix([[1,2,3], [3,4,5], [5,6,7]])\n",
    "print(m)\n",
    "\n",
    "print(m.T) # transpose\n",
    "print(m.I) # inverse\n",
    "print(m.I * m) # float multiplication does not work here\n",
    "print(m * m.I)\n",
    "print(\"===============\")\n",
    "simple = np.matrix([[2,0], [0,2]])\n",
    "print(simple)\n",
    "print(simple.I)\n",
    "print(simple.T)\n",
    "print(simple.I * simple) # float mult works here and give sthe I matrix\n",
    "print(simple * simple.I)"
   ]
  },
  {
   "cell_type": "code",
   "execution_count": 46,
   "metadata": {
    "scrolled": false
   },
   "outputs": [
    {
     "name": "stdout",
     "output_type": "stream",
     "text": [
      "2\n",
      "[4, 1]\n",
      "[3, 4, 1, 2]\n"
     ]
    }
   ],
   "source": [
    "# random\n",
    "\n",
    "import random\n",
    "choices = [1,2,3,4]\n",
    "print(random.choice(choices))\n",
    "print(random.sample(choices,2))\n",
    "\n",
    "random.shuffle(choices)\n",
    "print(choices)"
   ]
  },
  {
   "cell_type": "code",
   "execution_count": 47,
   "metadata": {
    "scrolled": true
   },
   "outputs": [
    {
     "name": "stdout",
     "output_type": "stream",
     "text": [
      "2020-05-15 08:17:23.028475\n",
      "2020-05-17 08:17:23.028475\n"
     ]
    }
   ],
   "source": [
    "# datetime module\n",
    "from datetime import timedelta, datetime\n",
    "\n",
    "a = timedelta(days=2)\n",
    "b = datetime.now()\n",
    "\n",
    "print(b)\n",
    "print(a+b)"
   ]
  },
  {
   "cell_type": "code",
   "execution_count": 48,
   "metadata": {
    "scrolled": true
   },
   "outputs": [
    {
     "name": "stdout",
     "output_type": "stream",
     "text": [
      "2012-02-09 00:00:00\n"
     ]
    }
   ],
   "source": [
    "# date tiem to string and back\n",
    "from datetime import datetime\n",
    "date_str = \"2012-02-09\"\n",
    "y = datetime.strptime(date_str, \"%Y-%m-%d\")\n",
    "print(y)"
   ]
  },
  {
   "cell_type": "code",
   "execution_count": 49,
   "metadata": {
    "scrolled": true
   },
   "outputs": [
    {
     "name": "stdout",
     "output_type": "stream",
     "text": [
      "2020-05-15 08:17:23.046889\n",
      "2020-05-15 08:17:23.046889-04:00\n",
      "2020-05-15 17:47:23.046889+05:30\n",
      "2020-05-15 12:17:23.046889+00:00\n"
     ]
    }
   ],
   "source": [
    "# conversion of timezones using pytz\n",
    "from datetime import datetime\n",
    "from pytz import timezone, utc\n",
    "\n",
    "now  = datetime.now()\n",
    "print(now)\n",
    "est = timezone('US/Eastern')\n",
    "est_now = est.localize(now)\n",
    "print(est_now)\n",
    "\n",
    "# get time in india\n",
    "print(est_now.astimezone(timezone('Asia/Kolkata')))\n",
    "\n",
    "# get utc\n",
    "print(est_now.astimezone(utc))"
   ]
  },
  {
   "cell_type": "markdown",
   "metadata": {},
   "source": [
    "### Chapter 4"
   ]
  },
  {
   "cell_type": "code",
   "execution_count": 50,
   "metadata": {},
   "outputs": [
    {
     "name": "stdout",
     "output_type": "stream",
     "text": [
      "1\n",
      "2\n",
      "3\n",
      "4\n"
     ]
    }
   ],
   "source": [
    "# using next instead of for\n",
    "my_list = [1,2,3,4]\n",
    "\n",
    "it = iter(my_list)\n",
    "while True:\n",
    "    try:\n",
    "        print(next(it))\n",
    "    except StopIteration:\n",
    "        break        \n"
   ]
  },
  {
   "cell_type": "code",
   "execution_count": 51,
   "metadata": {
    "scrolled": true
   },
   "outputs": [],
   "source": [
    "# depth first iterations via generator and via iterator\n",
    "\n",
    "from collections import deque\n",
    "\n",
    "class Node(object):\n",
    "    def __init__(self, value):\n",
    "        self.value = value\n",
    "        self.children = []\n",
    "        \n",
    "    def add_child(self, node):\n",
    "        self.children.append(node)\n",
    "    \n",
    "    # Shoudl really not be properties of the node\n",
    "    # but of the tree\n",
    "    def breadth_first(self):        \n",
    "        yield self        \n",
    "        for x in self.children:\n",
    "            deque.append(x)\n",
    "            yield x\n",
    "            \n",
    "        \n",
    "    def depth_first(self):\n",
    "        for x in self.children:\n",
    "            yield from x.depth_first()\n",
    "        yield self\n",
    "    \n",
    "def test_cls(cls):\n",
    "    node_parent = cls(0)\n",
    "    node_child1 = cls(1)\n",
    "    node_child2 = cls(2)\n",
    "    node_child1_child1 = cls(3)\n",
    "    node_child1_child2 = cls(4)\n",
    "    \n",
    "    node_child2_child1 = cls(5)\n",
    "    node_child2_child2 = cls(6)\n",
    "    \n",
    "    node_parent.add_child(node_child1)\n",
    "    node_parent.add_child(node_child2)\n",
    "    \n",
    "    node_child1.add_child(node_child1_child1)\n",
    "    node_child1.add_child(node_child1_child2)\n",
    "    \n",
    "    node_child2.add_child(node_child2_child1)\n",
    "    node_child2.add_child(node_child2_child2)\n",
    "    \n",
    "    print([x.value for x in node_parent.depth_first()])\n",
    "    print([x.value for x in node_parent.breadth_first()])\n",
    "    \n",
    "cls = Node\n",
    "#test_cls(cls)\n",
    "    "
   ]
  },
  {
   "cell_type": "code",
   "execution_count": 52,
   "metadata": {},
   "outputs": [
    {
     "name": "stdout",
     "output_type": "stream",
     "text": [
      "[4, 3, 2, 1]\n"
     ]
    }
   ],
   "source": [
    "a = [1,2,3,4]\n",
    "print(list(reversed(a)))"
   ]
  },
  {
   "cell_type": "code",
   "execution_count": 53,
   "metadata": {},
   "outputs": [],
   "source": [
    "# implement iterators for classes to keep state around\n"
   ]
  },
  {
   "cell_type": "code",
   "execution_count": 54,
   "metadata": {},
   "outputs": [
    {
     "name": "stdout",
     "output_type": "stream",
     "text": [
      "[0, 1]\n"
     ]
    }
   ],
   "source": [
    "# slicing on iterators is not possible since \n",
    "# no information is known about size and index and subscripting\n",
    "\n",
    "it = (x for x in range(5))\n",
    "#  error\n",
    "#print(it[0:1])\n",
    "\n",
    "# instead, islice from itertools creates an iterator object\n",
    "# which does have all of these features\n",
    "from itertools import islice\n",
    "print(list(islice(it, 0, 2)))\n"
   ]
  },
  {
   "cell_type": "code",
   "execution_count": 55,
   "metadata": {},
   "outputs": [],
   "source": [
    "# discussions on dropwhile, permuations and enumerate \n",
    "# already covered in effective python\n",
    "\n",
    "# discussions on chain, zip, zip_longest "
   ]
  },
  {
   "cell_type": "code",
   "execution_count": 56,
   "metadata": {},
   "outputs": [
    {
     "name": "stdout",
     "output_type": "stream",
     "text": [
      "[0, 1, 2, 3, 4, 5, 6, 7]\n"
     ]
    }
   ],
   "source": [
    "# sorted merge\n",
    "import heapq\n",
    "\n",
    "a = [1,3,4,5]\n",
    "b = [0,2,6,7]\n",
    "print(list(heapq.merge(a,b)))"
   ]
  },
  {
   "cell_type": "code",
   "execution_count": 57,
   "metadata": {},
   "outputs": [
    {
     "name": "stdout",
     "output_type": "stream",
     "text": [
      "127.0.0.1\tlocalhost\n",
      "127.0.1.1\trushi-study\n",
      "\n",
      "# The following lines are desirable for IPv6 capable host\n",
      "s\n",
      "::1     ip6-localhost ip6-loopback\n",
      "fe00::0 ip6-localnet\n",
      "ff00::0 ip6-mcastprefix\n",
      "ff02::1 ip6-allnod\n",
      "es\n",
      "ff02::2 ip6-allrouters\n",
      "\n"
     ]
    }
   ],
   "source": [
    "# Cool way to iterate:\n",
    "\n",
    "import sys\n",
    "with open(\"/etc/hosts\", 'r') as f:\n",
    "    \n",
    "    # The iter method can take in a 0 argument lambda\n",
    "    # and a sentinel value and create an iterable from it \n",
    "    # that keeps invoking the lambda until the sentinel value is \n",
    "    # returned\n",
    "    for chunk in iter(lambda:f.read(100), ''):\n",
    "        print(chunk)\n",
    "    "
   ]
  },
  {
   "cell_type": "markdown",
   "metadata": {},
   "source": [
    "### Chapter 5 (Files)\n"
   ]
  },
  {
   "cell_type": "code",
   "execution_count": 58,
   "metadata": {
    "scrolled": true
   },
   "outputs": [
    {
     "name": "stdout",
     "output_type": "stream",
     "text": [
      "hello\n",
      "\n",
      "world\n",
      "\n"
     ]
    }
   ],
   "source": [
    "# basic file read/write stuff \n",
    "with open(\"/tmp/mytempfile\", 'w') as f:\n",
    "    f.write(\"hello\")\n",
    "    print(\"\\nworld\", file=f)\n",
    "\n",
    "with open(\"/tmp/mytempfile\", 'r') as f:    \n",
    "    for line in f.readlines():\n",
    "        print(line)\n"
   ]
  },
  {
   "cell_type": "code",
   "execution_count": 59,
   "metadata": {
    "scrolled": true
   },
   "outputs": [
    {
     "name": "stdout",
     "output_type": "stream",
     "text": [
      "abc\n",
      "abcnew data \n",
      "\n",
      "b'Hello'\n",
      "b'Hello350x34'\n"
     ]
    }
   ],
   "source": [
    "# file like interface using string or bytes\n",
    "\n",
    "from io import StringIO, BytesIO\n",
    "\n",
    "s = StringIO()\n",
    "s.write(\"abc\")\n",
    "print(s.getvalue())\n",
    "\n",
    "print(\"new data \", file=s)\n",
    "print(s.getvalue())\n",
    "\n",
    "b = BytesIO()\n",
    "b.write(b'Hello')\n",
    "print(b.getvalue())\n",
    "#print(b'new data ', file=b) # print does not work since it uses only strings\n",
    "b.write(b'35')\n",
    "b.write(b'0x34')\n",
    "print(b.getvalue())\n"
   ]
  },
  {
   "cell_type": "code",
   "execution_count": 60,
   "metadata": {},
   "outputs": [
    {
     "name": "stdout",
     "output_type": "stream",
     "text": [
      "hello\n"
     ]
    }
   ],
   "source": [
    "# Using zipped files\n",
    "import gzip\n",
    "\n",
    "with gzip.open(\"/tmp/compressedfile\", \"wt\") as f:\n",
    "    f.write(\"hello\")\n",
    "    \n",
    "with gzip.open(\"/tmp/compressedfile\", \"rt\") as f:\n",
    "    text = f.read()\n",
    "    print(text)\n"
   ]
  },
  {
   "cell_type": "code",
   "execution_count": 61,
   "metadata": {
    "scrolled": true
   },
   "outputs": [
    {
     "name": "stdout",
     "output_type": "stream",
     "text": [
      "0\n",
      "1\n",
      "2\n"
     ]
    }
   ],
   "source": [
    "import sys\n",
    "# reading fixed sized chunks\n",
    "RECORD_SIZE = 1\n",
    "\n",
    "with open(\"/tmp/fixed_sizes_files\", \"wb\") as f:\n",
    "    for x in range(3):        \n",
    "        f.write(x.to_bytes(RECORD_SIZE, sys.byteorder))\n",
    "\n",
    "# size of each int is 4 bytes\n",
    "from functools import partial\n",
    "\n",
    "\n",
    "with open(\"/tmp/fixed_sizes_files\", \"rb\") as f:\n",
    "    records = iter(partial(f.read, 1), b'')\n",
    "    for x in records:\n",
    "        print(int.from_bytes(x, sys.byteorder))"
   ]
  },
  {
   "cell_type": "code",
   "execution_count": 62,
   "metadata": {},
   "outputs": [
    {
     "name": "stdout",
     "output_type": "stream",
     "text": [
      "num bytes: 10\n",
      "bytearray(b'\\x00\\x01\\x02\\x03\\x04\\x05\\x06\\x07\\x08\\t\\x00\\x00\\x00\\x00\\x00\\x00\\x00\\x00\\x00\\x00')\n",
      "9\n"
     ]
    }
   ],
   "source": [
    "# re-usable pre-allocated buffers\n",
    "import sys\n",
    "\n",
    "preallocated_buffer = bytearray(20)\n",
    "\n",
    "with open(\"/tmp/testfile\", \"wb\") as f:\n",
    "    for x in range(10):        \n",
    "        f.write(x.to_bytes(1, sys.byteorder))\n",
    "        \n",
    "with open(\"/tmp/testfile\", \"rb\") as f:\n",
    "    print(\"num bytes:\", f.readinto(preallocated_buffer))\n",
    "    \n",
    "print(preallocated_buffer)\n",
    "print(preallocated_buffer[9])"
   ]
  },
  {
   "cell_type": "code",
   "execution_count": 63,
   "metadata": {},
   "outputs": [
    {
     "name": "stdout",
     "output_type": "stream",
     "text": [
      "100\n",
      "b'Hello World\\x00\\x00\\x00\\x00\\x00\\x00\\x00\\x00\\x00\\x00'\n",
      "100\n",
      "b'\\x00\\x00\\x00\\x00\\x00\\x00\\x00\\x00\\x00\\x00\\x00'\n"
     ]
    }
   ],
   "source": [
    "# memory mapping fies ( TODO)\n",
    "import os \n",
    "import mmap\n",
    "\n",
    "required_size = 100\n",
    "with open('/tmp/mmap_file', 'wb') as f:\n",
    "    f.seek(required_size - 1)\n",
    "    f.write(b'\\x00')\n",
    "\n",
    "fd = os.open('/tmp/mmap_file', os.O_RDWR)\n",
    "m = mmap.mmap(fd, required_size, mmap.ACCESS_WRITE)\n",
    "print(len(m))\n",
    "# edit the memory\n",
    "m[0:11] = b'Hello World'\n",
    "print(m[0:21])\n",
    "print(len(m))\n",
    "m.flush()\n",
    "m.close()\n",
    "\n",
    "# Does not seem to be working ()\n",
    "with open('/tmp/mmap_file', 'rb') as f:    \n",
    "    print(f.read(11))\n"
   ]
  },
  {
   "cell_type": "code",
   "execution_count": 64,
   "metadata": {},
   "outputs": [
    {
     "name": "stdout",
     "output_type": "stream",
     "text": [
      "True\n",
      "2772\n",
      "1575206568.1707957\n",
      "True\n",
      "False\n",
      "/usr/local/bin/python3\n"
     ]
    }
   ],
   "source": [
    "import os\n",
    "\n",
    "print(os.path.isfile(\"/etc/passwd\"))\n",
    "print(os.path.getsize(\"/etc/passwd\"))\n",
    "print(os.path.getmtime(\"/etc/passwd\"))\n",
    "print(os.path.isdir(\"/etc\"))\n",
    "print(os.path.islink(\"/usr/local/bin/python3\"))\n",
    "print(os.path.realpath(\"/usr/local/bin/python3\"))"
   ]
  },
  {
   "cell_type": "code",
   "execution_count": 65,
   "metadata": {
    "scrolled": false
   },
   "outputs": [
    {
     "name": "stdout",
     "output_type": "stream",
     "text": [
      "['srv', 'lib', 'boot', 'swapfile', 'media', 'lib32', 'snap', 'etc', 'tmp', 'opt', 'libx32', 'sys', 'mnt', 'usr', 'root', 'lost+found', 'proc', 'run', 'home', 'sbin', 'var', 'dev', 'lib64', 'bin', 'cdrom']\n",
      "['/home/']\n"
     ]
    }
   ],
   "source": [
    "import os\n",
    "\n",
    "print([x for x in os.listdir(\"/\")])\n",
    "\n",
    "# regex search\n",
    "import glob\n",
    "print(glob.glob('/ho*/'))"
   ]
  },
  {
   "cell_type": "code",
   "execution_count": 66,
   "metadata": {},
   "outputs": [],
   "source": [
    "# couple of articls around changing the encoding of files\n",
    "# that is un-interesting to me"
   ]
  },
  {
   "cell_type": "code",
   "execution_count": 67,
   "metadata": {
    "scrolled": true
   },
   "outputs": [
    {
     "name": "stdout",
     "output_type": "stream",
     "text": [
      "['hello']\n"
     ]
    }
   ],
   "source": [
    "# converting fds to python files\n",
    "\n",
    "import os\n",
    "\n",
    "fd = os.open(\"/tmp/tmpfile\", os.O_CREAT | os.O_WRONLY)\n",
    "f = open(fd, \"w\")\n",
    "f.write(\"hello\")\n",
    "f.close()\n",
    "\n",
    "fd = os.open(\"/tmp/tmpfile\", os.O_RDONLY)\n",
    "f = open(fd, \"r\")\n",
    "print(f.readlines())\n",
    "f.close()\n"
   ]
  },
  {
   "cell_type": "code",
   "execution_count": 68,
   "metadata": {},
   "outputs": [],
   "source": [
    "from tempfile import TemporaryFile, TemporaryDirectory\n",
    "\n",
    "with TemporaryFile('w+t') as t:\n",
    "    t.write(\"anc\")\n",
    "# file is deleted at this point\n"
   ]
  },
  {
   "cell_type": "code",
   "execution_count": 69,
   "metadata": {},
   "outputs": [],
   "source": [
    "# need to read up on pickly separately"
   ]
  },
  {
   "cell_type": "markdown",
   "metadata": {},
   "source": [
    "###  Chapter 6"
   ]
  },
  {
   "cell_type": "code",
   "execution_count": 70,
   "metadata": {
    "scrolled": true
   },
   "outputs": [
    {
     "name": "stdout",
     "output_type": "stream",
     "text": [
      "Symbol,Price,Date,Time,Change,Volume\n",
      "\n",
      "AA,39.48,6/11/2007,9:36am,-0.18,181800\n",
      "\n",
      "AIG,71.38,6/11/2007,9:36am,-0.15,195500\n",
      "\n",
      "AXP,62.58,6/11/2007,9:36am,-0.46,935000\n",
      "\n",
      "OrderedDict([('Symbol', 'AA'), ('Price', '39.48'), ('Date', '6/11/2007'), ('Time', '9:36am'), ('Change', '-0.18'), ('Volume', '181800')])\n",
      "OrderedDict([('Symbol', 'AIG'), ('Price', '71.38'), ('Date', '6/11/2007'), ('Time', '9:36am'), ('Change', '-0.15'), ('Volume', '195500')])\n",
      "OrderedDict([('Symbol', 'AXP'), ('Price', '62.58'), ('Date', '6/11/2007'), ('Time', '9:36am'), ('Change', '-0.46'), ('Volume', '935000')])\n"
     ]
    }
   ],
   "source": [
    "# csv reader \n",
    "\n",
    "headers = ['Symbol','Price','Date','Time','Change','Volume']\n",
    "rows = [('AA', 39.48, '6/11/2007', '9:36am', -0.18, 181800),\n",
    "        ('AIG', 71.38, '6/11/2007', '9:36am', -0.15, 195500),\n",
    "        ('AXP', 62.58, '6/11/2007', '9:36am', -0.46, 935000),]\n",
    "\n",
    "\n",
    "import csv\n",
    "from tempfile import TemporaryFile\n",
    "\n",
    "# if we have headers and a set of rows\n",
    "with TemporaryFile('w+t') as f:\n",
    "    writer = csv.writer(f)\n",
    "    writer.writerow(headers)\n",
    "    for row in rows:        \n",
    "        writer.writerow(row)\n",
    "    \n",
    "    f.seek(0)\n",
    "    for line in f.readlines():\n",
    "        print(line)\n",
    "        \n",
    "    # now read it back\n",
    "    f.seek(0)\n",
    "    reader = csv.DictReader(f)\n",
    "    for row in reader:\n",
    "        print(row)\n",
    "    "
   ]
  },
  {
   "cell_type": "code",
   "execution_count": 71,
   "metadata": {},
   "outputs": [],
   "source": [
    "from tempfile import TemporaryFile\n",
    "#help(TemporaryFile)"
   ]
  },
  {
   "cell_type": "code",
   "execution_count": 72,
   "metadata": {},
   "outputs": [],
   "source": [
    "import csv\n",
    "#help(csv)"
   ]
  },
  {
   "cell_type": "code",
   "execution_count": 73,
   "metadata": {},
   "outputs": [
    {
     "name": "stdout",
     "output_type": "stream",
     "text": [
      "{'a': 1, 'b': 2, 'name': 'TestClass1'}\n",
      "{'a': 3, 'b': 4, 'c': 5, 'name': 'TestClass2'}\n",
      "[{'a': 1, 'b': 2, 'name': 'TestClass1'}, {'a': 3, 'b': 4, 'c': 5, 'name': 'TestClass2'}]\n",
      "1\n",
      "2\n",
      "3\n",
      "4\n",
      "5\n",
      "{'a': 1, 'b': 2, 'name': 'TestClass1'}\n",
      "{'a': 3, 'b': 4, 'c': 5, 'name': 'TestClass2'}\n"
     ]
    }
   ],
   "source": [
    "import json\n",
    "\n",
    "# serialize/deserialize an object to a file\n",
    "\n",
    "# keep a dictionary of known classes\n",
    "# when serializing, make sure to keep the name of the class around\n",
    "# when de-serializing, create a new object without calling __init__ \n",
    "# and instead using __new__ and then filling up the attributes\n",
    "\n",
    "\n",
    "class TestClass1(object):\n",
    "    def __init__(self, a, b):\n",
    "        self.a = a\n",
    "        self.b = b\n",
    "        \n",
    "    def foo(self):\n",
    "        pass\n",
    "\n",
    "class TestClass2(object):\n",
    "    def __init__(self, a, b, c):\n",
    "        self.a = a\n",
    "        self.b = b\n",
    "        self.c = c\n",
    "\n",
    "    def bar(self):\n",
    "        pass\n",
    "\n",
    "class_registry = {'TestClass1' : TestClass1, \n",
    "                  'TestClass2' : TestClass2}\n",
    "\n",
    "# problem is two dictionaries are loaded separately\n",
    "def serialize(f, obj_list):\n",
    "    full_list = []\n",
    "    for obj in obj_list:\n",
    "        my_dict = obj.__dict__\n",
    "        my_dict.update({'name' : obj.__class__.__name__})\n",
    "        print(my_dict)\n",
    "        full_list.append(my_dict)\n",
    "    \n",
    "    json.dump(full_list, f)\n",
    "\n",
    "def deserialize(f):\n",
    "    out_dict = json.load(f)\n",
    "    print(out_dict)\n",
    "    elements = []\n",
    "    for element in out_dict:\n",
    "        cls = class_registry[element['name']]\n",
    "        obj = cls.__new__(cls)\n",
    "        obj.__dict__ = element\n",
    "        elements.append(obj)\n",
    "    return elements\n",
    "\n",
    "test_class1 = TestClass1(1,2)\n",
    "test_class2 = TestClass2(3,4,5)\n",
    "\n",
    "with TemporaryFile('w+t') as f:\n",
    "    serialize(f, [test_class1, test_class2])\n",
    "    f.seek(0)\n",
    "    my_class1, my_class2 = deserialize(f)\n",
    "    print(my_class1.a)\n",
    "    print(my_class1.b)\n",
    "    print(my_class2.a)\n",
    "    print(my_class2.b)\n",
    "    print(my_class2.c)\n",
    "    \n",
    "\n",
    "print(test_class1.__dict__)\n",
    "print(test_class2.__dict__)\n"
   ]
  },
  {
   "cell_type": "code",
   "execution_count": 74,
   "metadata": {},
   "outputs": [],
   "source": [
    "\n",
    "# classmethods take in a class and either create them or \n",
    "# execute a known method on them which returns whatever is needed.\n",
    "# metaclasses are used to validate and register classes\n",
    "# each time a new class is created, metaclasses methods\n",
    "# get invoked first"
   ]
  },
  {
   "cell_type": "code",
   "execution_count": 75,
   "metadata": {},
   "outputs": [
    {
     "name": "stdout",
     "output_type": "stream",
     "text": [
      "Test\n"
     ]
    }
   ],
   "source": [
    "class Test():\n",
    "    def __init(self):\n",
    "        pass\n",
    "    \n",
    "test = Test()\n",
    "print(test.__class__.__name__)"
   ]
  },
  {
   "cell_type": "code",
   "execution_count": 76,
   "metadata": {},
   "outputs": [
    {
     "name": "stdout",
     "output_type": "stream",
     "text": [
      "<class 'xml.etree.ElementTree.ElementTree'>\n",
      "Reuven Lerner: Today’s lesson in “Python for non-programmers”: Dictionaries\n",
      "Fri, 15 May 2020 09:03:26 +0000\n",
      "https://lerner.co.il/2020/05/15/todays-lesson-in-python-for-non-programmers-dictionaries/\n",
      "\n",
      "Python Software Foundation: Lightning Talks Part 1 - Python Language Summit 2020\n",
      "Thu, 14 May 2020 14:03:46 +0000\n",
      "http://feedproxy.google.com/~r/PythonSoftwareFoundationNews/~3/cWtcQjdVcnQ/lightning-talks-part-1.html\n",
      "\n",
      "Python Software Foundation: The 2020 Python Language Summit\n",
      "Thu, 14 May 2020 13:48:48 +0000\n",
      "http://feedproxy.google.com/~r/PythonSoftwareFoundationNews/~3/plH83v899Ww/the-2020-python-language-summit.html\n",
      "\n",
      "Python Software Foundation: Lightning Talks Part 2 - Python Language Summit 2020\n",
      "Thu, 14 May 2020 13:46:08 +0000\n",
      "http://feedproxy.google.com/~r/PythonSoftwareFoundationNews/~3/5P9XTL57fNU/lightning-talks-part-2.html\n",
      "\n",
      "Python Circle: Displaying custom 404 error (page not found) page in Django 2.0\n",
      "Thu, 14 May 2020 13:44:55 +0000\n",
      "https://www.pythoncircle.com/post/564/displaying-custom-404-error-page-not-found-page-in-django-20/\n",
      "\n",
      "Python Circle: Designing custom 404 and 500 error pages in Django\n",
      "Thu, 14 May 2020 13:44:55 +0000\n",
      "https://www.pythoncircle.com/post/40/designing-custom-404-and-500-error-pages-in-django/\n",
      "\n",
      "Codementor: Top Python Testing Frameworks In 2020 For Selenium Automation\n",
      "Thu, 14 May 2020 11:38:40 +0000\n",
      "https://www.codementor.io/aadidwi/top-python-testing-frameworks-in-2020-for-selenium-automation-16fu6ll5ol\n",
      "\n",
      "Catalin George Festila: Python 3.8.3 : Pyxel free game engine.\n",
      "Thu, 14 May 2020 09:38:24 +0000\n",
      "http://python-catalin.blogspot.com/2020/05/python-383-pyxel-free-game-engine.html\n",
      "\n",
      "Django Weblog: Django 3.1 alpha 1 released\n",
      "Thu, 14 May 2020 08:18:15 +0000\n",
      "https://www.djangoproject.com/weblog/2020/may/14/django-31-alpha-1-released/\n",
      "\n",
      "Python Bytes: #181 It's time to interrogate your Python code\n",
      "Thu, 14 May 2020 08:00:00 +0000\n",
      "https://pythonbytes.fm/episodes/show/181/it-s-time-to-interrogate-your-python-code\n",
      "\n",
      "Python Insider: Python 3.8.3 is now available\n",
      "Thu, 14 May 2020 04:48:27 +0000\n",
      "http://feedproxy.google.com/~r/PythonInsider/~3/Ae5Lv6hpDyM/python-383-is-now-available.html\n",
      "\n",
      "Matt Layman: How To Fix A Bug - Building SaaS #56\n",
      "Thu, 14 May 2020 00:00:00 +0000\n",
      "https://www.mattlayman.com/building-saas/how-to-fix-a-bug/\n",
      "\n",
      "Codementor: How to Write Middleware using FastAPI\n",
      "Wed, 13 May 2020 23:39:44 +0000\n",
      "https://www.codementor.io/mandarvaze/how-to-write-middleware-using-fastapi-16fa1mwvec\n",
      "\n",
      "Karim Elghamrawy: Python OOP Course is LIVE\n",
      "Wed, 13 May 2020 17:04:10 +0000\n",
      "https://www.afternerd.com/blog/python-oop-course-is-live/\n",
      "\n",
      "Python Software Foundation: Call for Volunteers! Python GitHub Migration Work Group\n",
      "Wed, 13 May 2020 16:53:10 +0000\n",
      "http://feedproxy.google.com/~r/PythonSoftwareFoundationNews/~3/EnE-H8gFi30/call-for-volunteers-python-github.html\n",
      "\n",
      "Django Weblog: Django Google Summer of Code Students 2020\n",
      "Wed, 13 May 2020 14:43:15 +0000\n",
      "https://www.djangoproject.com/weblog/2020/may/13/summer-of-code/\n",
      "\n",
      "Real Python: Python Community Interview With Christopher Bailey\n",
      "Wed, 13 May 2020 14:00:00 +0000\n",
      "https://realpython.com/interview-christopher-bailey/\n",
      "\n",
      "Python Software Foundation: 6 Ways Salesforce Gets Things Done with Python\n",
      "Wed, 13 May 2020 12:13:58 +0000\n",
      "http://feedproxy.google.com/~r/PythonSoftwareFoundationNews/~3/8w8A-Iy_YZk/6-ways-salesforce-gets-things-done-with.html\n",
      "\n",
      "Python Software Foundation: Capital One - Lessons From Adopting Python as a Team\n",
      "Wed, 13 May 2020 12:13:47 +0000\n",
      "http://feedproxy.google.com/~r/PythonSoftwareFoundationNews/~3/YWA1iXsooLA/capital-one-lessons-from-adopting.html\n",
      "\n",
      "PyCon: A message from Google to the Python community\n",
      "Wed, 13 May 2020 12:12:49 +0000\n",
      "https://pycon.blogspot.com/2020/05/a-message-from-google-to-python.html\n",
      "\n",
      "CubicWeb: A roadmap to Cubicweb 3.28 (and beyond)\n",
      "Wed, 13 May 2020 09:03:00 +0000\n",
      "http://feedproxy.google.com/~r/cubicweborg/~3/_vkMpHOcEdI/17310072\n",
      "\n",
      "Codementor: Create your first web scraper with ScrapingBee API and Python\n",
      "Wed, 13 May 2020 07:20:57 +0000\n",
      "https://www.codementor.io/pknerd/create-your-first-web-scraper-with-scrapingbee-api-and-python-16eicb1711\n",
      "\n",
      "Brett Cannon: Thoughts on where tools fit into a workflow\n",
      "Wed, 13 May 2020 03:40:44 +0000\n",
      "https://snarky.ca/thoughts-on-a-tooling-workflow/\n",
      "\n",
      "PyCoder’s Weekly: Issue #420 (May 12, 2020)\n",
      "Tue, 12 May 2020 19:30:00 +0000\n",
      "https://pycoders.com/issues/420\n",
      "\n",
      "Python Engineering at Microsoft: Python in Visual Studio Code – May 2020 Release\n",
      "Tue, 12 May 2020 17:47:09 +0000\n",
      "https://devblogs.microsoft.com/python/python-in-visual-studio-code-may-2020-release/\n",
      "\n"
     ]
    }
   ],
   "source": [
    "# xml parsing and url request\n",
    "\n",
    "from urllib.request import urlopen\n",
    "from xml.etree.ElementTree import parse\n",
    "\n",
    "u = urlopen('http://planet.python.org/rss20.xml')\n",
    "doc = parse(u)\n",
    "print(type(doc))\n",
    "\n",
    "for item in doc.iterfind('channel/item'):\n",
    "    print(item.findtext('title'))\n",
    "    print(item.findtext('pubDate'))\n",
    "    print(item.findtext('link'))\n",
    "    print()\n"
   ]
  },
  {
   "cell_type": "code",
   "execution_count": 77,
   "metadata": {},
   "outputs": [
    {
     "name": "stdout",
     "output_type": "stream",
     "text": [
      "(1, 2.3, 4.5)\n",
      "(6, 7.8, 9.0)\n",
      "(12, 13.4, 56.7)\n"
     ]
    }
   ],
   "source": [
    "# read and write binary records\n",
    "\n",
    "from struct import Struct\n",
    "from tempfile import TemporaryFile\n",
    "\n",
    "with TemporaryFile() as f:\n",
    "    records = [ (1, 2.3, 4.5),(6, 7.8, 9.0),(12, 13.4, 56.7) ]\n",
    "    struct = Struct('<idd') # little endian, int, double, double\n",
    "    for r in records:\n",
    "        f.write(struct.pack(*r))\n",
    "    \n",
    "    f.seek(0)\n",
    "    for record_data in iter(lambda:f.read(struct.size), b''):        \n",
    "        record = struct.unpack(record_data)\n",
    "        print(record)"
   ]
  },
  {
   "cell_type": "code",
   "execution_count": 78,
   "metadata": {},
   "outputs": [],
   "source": [
    "# complicated look into packing and unpacking \n",
    "# using metaclasses (can be used as a reference )"
   ]
  },
  {
   "cell_type": "code",
   "execution_count": 79,
   "metadata": {},
   "outputs": [],
   "source": [
    "# pandas. Will dig more deeply in the book\n",
    "# python for data analysis\n"
   ]
  },
  {
   "cell_type": "markdown",
   "metadata": {},
   "source": [
    "###  Chapter 7 - functions\n"
   ]
  },
  {
   "cell_type": "code",
   "execution_count": 80,
   "metadata": {},
   "outputs": [
    {
     "name": "stdout",
     "output_type": "stream",
     "text": [
      "1\n",
      "1 2\n",
      "{'a': 3, 'b': 4}\n",
      "3\n"
     ]
    }
   ],
   "source": [
    "# any number of input args\n",
    "def foo(*args):\n",
    "    print(*args)\n",
    "    \n",
    "foo(1)\n",
    "foo(1,2)\n",
    "\n",
    "def bar(**kwargs):\n",
    "    print(kwargs)\n",
    "    print(kwargs.get('a'))\n",
    "    \n",
    "bar(a = 3, b = 4)"
   ]
  },
  {
   "cell_type": "code",
   "execution_count": 81,
   "metadata": {
    "scrolled": true
   },
   "outputs": [
    {
     "name": "stdout",
     "output_type": "stream",
     "text": [
      "Help on function add in module __main__:\n",
      "\n",
      "add(x: int, y: int) -> int\n",
      "\n"
     ]
    }
   ],
   "source": [
    "# function annotations\n",
    "\n",
    "def add(x:int, y:int) -> int:\n",
    "    return x+y\n",
    "help(add)"
   ]
  },
  {
   "cell_type": "code",
   "execution_count": 82,
   "metadata": {
    "scrolled": true
   },
   "outputs": [
    {
     "name": "stdout",
     "output_type": "stream",
     "text": [
      "3\n"
     ]
    }
   ],
   "source": [
    "# return multiple results\n",
    "def foo():\n",
    "    return list(range(4))\n",
    "\n",
    "# get the last value\n",
    "*_,last = foo()\n",
    "print(last)"
   ]
  },
  {
   "cell_type": "code",
   "execution_count": 83,
   "metadata": {},
   "outputs": [],
   "source": [
    "# do not use mutable objects as default values in functions\n",
    "# these are shared across function calls !!\n",
    "\n",
    "# !!NO\n",
    "def foo(a = []):\n",
    "    return a\n"
   ]
  },
  {
   "cell_type": "code",
   "execution_count": 84,
   "metadata": {},
   "outputs": [
    {
     "name": "stdout",
     "output_type": "stream",
     "text": [
      "21\n",
      "11\n"
     ]
    }
   ],
   "source": [
    "# lambda capture\n",
    "\n",
    "x = 10 \n",
    "a = lambda y: x+y\n",
    "x = 20\n",
    "print(a(1)) # returns 21 instead of 11 (current value of x is used)\n",
    "\n",
    "x = 10\n",
    "b = lambda y,x=x: x + y # sets the default value of x to x\n",
    "x = 20\n",
    "print(b(1))"
   ]
  },
  {
   "cell_type": "code",
   "execution_count": 85,
   "metadata": {},
   "outputs": [
    {
     "name": "stdout",
     "output_type": "stream",
     "text": [
      "3\n"
     ]
    }
   ],
   "source": [
    "# partial functool which fixes some function arguments\n",
    "# sort of like std::bind in c++\n",
    "\n",
    "# function signature of foo takes in 4 arguments.\n",
    "# let's say argument d is to tweak logging and\n",
    "# when not passed, does not log\n",
    "def foo(a,d = None):\n",
    "    if d is None:\n",
    "        return\n",
    "    else:\n",
    "        print(a)\n",
    "    \n",
    "# lets say we have a different function which takes a callback\n",
    "def bar(callback):\n",
    "    callback(3)\n",
    "    \n",
    "# we want to use foo as callback but also want to log\n",
    "bar(foo) # will not log\n",
    "\n",
    "from functools import partial \n",
    "\n",
    "# we can fix the foo argument by doing this:\n",
    "bar(partial(foo, d=True)) # partial returns a function with the arguments fixed\n",
    "\n",
    "# TODO: Implement partial    \n",
    "    "
   ]
  },
  {
   "cell_type": "code",
   "execution_count": 86,
   "metadata": {},
   "outputs": [
    {
     "name": "stdout",
     "output_type": "stream",
     "text": [
      "5\n",
      "[5]\n",
      "5\n",
      "5\n"
     ]
    }
   ],
   "source": [
    "# methods of supplying callbacks with context\n",
    "\n",
    "def foo(callback):\n",
    "    callback()\n",
    "\n",
    "# we want callback to keep track of the number of times\n",
    "# it's been invoked\n",
    "\n",
    "\n",
    "# method 1\n",
    "# use a class\n",
    "class CallbackClass(object):\n",
    "    def __init__(self):\n",
    "        self.times = 0\n",
    "    \n",
    "    def __call__(self):\n",
    "        self.times +=1\n",
    "        return self.times\n",
    "\n",
    "callback_instance = CallbackClass()\n",
    "for x in range(5):\n",
    "    foo(callback_instance)\n",
    "print(callback_instance.times)\n",
    "\n",
    "\n",
    "# method 2\n",
    "# use a wrapper function which has state\n",
    "\n",
    "def cb_wrapper(times):\n",
    "    def cb():\n",
    "        nonlocal times\n",
    "        times[0] += 1\n",
    "    return cb\n",
    "\n",
    "times = [0]\n",
    "cb = cb_wrapper(times)\n",
    "for x in range(5):\n",
    "    foo(cb)\n",
    "\n",
    "print(times)\n",
    "\n",
    "# method 3 \n",
    "# use coroutines\n",
    "\n",
    "sequence = 0 \n",
    "def make_coroutine_handler():    \n",
    "    def handler():\n",
    "        global sequence\n",
    "        while True:\n",
    "            response = yield\n",
    "            sequence += 1\n",
    "    return handler()\n",
    "\n",
    "handler = make_coroutine_handler()\n",
    "next(handler)\n",
    "for x in range(5):\n",
    "    foo(partial(handler.send, 0))\n",
    "\n",
    "print(sequence)\n",
    "\n",
    "# use partial\n",
    "# create a mutable that can be passed to function\n",
    "# cannot pass simple ints since they are not mutable\n",
    "# only lists, dicts, sets and custom classes are mutables\n",
    "# int, float, str, tuple are not mutable\n",
    "class SeqCounter(object):\n",
    "    def __init__(self):\n",
    "        self.seq = 0\n",
    "        \n",
    "from functools import partial\n",
    "def counted_callback(seq_counter):\n",
    "    seq_counter.seq += 1\n",
    "\n",
    "seq_counter = SeqCounter()\n",
    "for x in range(5):\n",
    "    foo(partial(counted_callback, seq_counter))\n",
    "print (seq_counter.seq)"
   ]
  },
  {
   "cell_type": "code",
   "execution_count": 87,
   "metadata": {},
   "outputs": [],
   "source": [
    "# crazy apply_asyn callbacks (TODO)\n",
    "# for now, no point in trying to figure out exact workings"
   ]
  },
  {
   "cell_type": "code",
   "execution_count": 88,
   "metadata": {},
   "outputs": [
    {
     "name": "stdout",
     "output_type": "stream",
     "text": [
      "0\n",
      "3\n"
     ]
    }
   ],
   "source": [
    "# accessing closure variables\n",
    "\n",
    "def sample():\n",
    "    n = 0\n",
    "    def func():\n",
    "        pass\n",
    "    def get_n():\n",
    "        nonlocal n\n",
    "        return n    \n",
    "    def set_n(a):\n",
    "        nonlocal n\n",
    "        n = a\n",
    "    func.get_n = get_n # these are function attributes\n",
    "    func.set_n = set_n\n",
    "    return func\n",
    "\n",
    "# function instance is created\n",
    "func = sample()\n",
    "\n",
    "# function attributes can now be accessed\n",
    "print(func.get_n())\n",
    "func.set_n(3)\n",
    "print(func.get_n())"
   ]
  },
  {
   "cell_type": "markdown",
   "metadata": {},
   "source": [
    "### Chapter 8 - Classes and Objects"
   ]
  },
  {
   "cell_type": "code",
   "execution_count": 89,
   "metadata": {
    "scrolled": true
   },
   "outputs": [
    {
     "name": "stdout",
     "output_type": "stream",
     "text": [
      "(1 and 2)\n",
      "MyClass(1,2)\n",
      "1\n"
     ]
    }
   ],
   "source": [
    "# __repr__ and __str__\n",
    "\n",
    "class MyClass(object):\n",
    "    def __init__(self, a, b):\n",
    "        self.a = a\n",
    "        self.b = b\n",
    "    \n",
    "    # __repr__ is called by repr() which is an inbuilt function\n",
    "    # which is used when evaluating or inspecting values.\n",
    "    # __str__ is used when printing \n",
    "    # an object or during a call to format\n",
    "    def __repr__(self):\n",
    "        return \"MyClass({0.a},{0.b})\".format(self)\n",
    "    \n",
    "    def __str__(self):\n",
    "        return \"({0.a} and {0.b})\".format(self)\n",
    "    \n",
    "my_class = MyClass(1,2)\n",
    "print(str(my_class))\n",
    "print(repr(my_class))\n",
    "\n",
    "# evaluate the repr string to create a new object\n",
    "new_class = eval(repr(my_class))\n",
    "print(new_class.a)"
   ]
  },
  {
   "cell_type": "code",
   "execution_count": 90,
   "metadata": {
    "scrolled": true
   },
   "outputs": [
    {
     "name": "stdout",
     "output_type": "stream",
     "text": [
      "A: 1 B: 2\n",
      "B: 2 A: 1\n"
     ]
    }
   ],
   "source": [
    "# formatting \n",
    "class A(object):\n",
    "    def __init__(self, a, b):\n",
    "        self.a = a\n",
    "        self.b = b\n",
    "        \n",
    "    def __format__(self, code):\n",
    "        if code == '1':\n",
    "            return \"A: {0.a} B: {0.b}\".format(self)\n",
    "        else:\n",
    "            return \"B: {0.b} A: {0.a}\".format(self)\n",
    "        \n",
    "a = A(1,2)\n",
    "print(format(a, '1'))\n",
    "print(format(a, '0'))"
   ]
  },
  {
   "cell_type": "code",
   "execution_count": 91,
   "metadata": {},
   "outputs": [],
   "source": [
    "# use __slots__ to create compact instances\n"
   ]
  },
  {
   "cell_type": "code",
   "execution_count": 92,
   "metadata": {
    "scrolled": false
   },
   "outputs": [
    {
     "name": "stdout",
     "output_type": "stream",
     "text": [
      "getting a\n",
      "2\n",
      "setting a\n",
      "deleting a\n"
     ]
    }
   ],
   "source": [
    "# class properties\n",
    "\n",
    "class A(object):\n",
    "    def __init__(self, a):\n",
    "        self._a = a\n",
    "    \n",
    "    @property\n",
    "    def a(self):\n",
    "        print(\"getting a\")\n",
    "        return self._a\n",
    "    \n",
    "    # note: all three functions must be called the same\n",
    "    @a.setter\n",
    "    def a(self, a):\n",
    "        print(\"setting a\")\n",
    "        self._a = a\n",
    "    \n",
    "    @a.deleter\n",
    "    def a(self):\n",
    "        print(\"deleting a\")\n",
    "        del self._a\n",
    "    \n",
    "a = A(2)\n",
    "print(a.a)\n",
    "a.a = 5\n",
    "del a.a # fully deletes the attribute and the instance no longer has it\n",
    "#print(a.a) # this will get an attribute error"
   ]
  },
  {
   "cell_type": "code",
   "execution_count": 93,
   "metadata": {},
   "outputs": [
    {
     "name": "stdout",
     "output_type": "stream",
     "text": [
      "initializing descriptor\n",
      "initializing descriptor\n",
      "getting value:  None UsesDescriptors\n",
      "<class '__main__.MyDescriptor'>\n",
      "setting value\n",
      "getting value:  <__main__.UsesDescriptors object at 0x7fe8db4eae50> UsesDescriptors\n",
      "<__main__.A object at 0x7fe8db4c4e10>\n"
     ]
    }
   ],
   "source": [
    "# descriptors\n",
    "\n",
    "class MyDescriptor(object):\n",
    "    def __init__(self, name):\n",
    "        print(\"initializing descriptor\")\n",
    "        self.name = name\n",
    "    \n",
    "    def __get__(self, instance, cls):\n",
    "        print(\"getting value: \", instance, cls.__name__)\n",
    "        if instance is None:\n",
    "            return self\n",
    "        else:\n",
    "            return instance.__dict__[self.name]\n",
    "        \n",
    "    def __set__(self, instance, value):\n",
    "        print(\"setting value\")\n",
    "        instance.__dict__[self.name] = value\n",
    "        \n",
    "    def __delete__(self, instance):\n",
    "        print(\"deleting value\")\n",
    "        del instance.__dict__[self.name]\n",
    "        \n",
    "class UsesDescriptors(object):\n",
    "    z1 = MyDescriptor('a') # uses an instance with name 'a'\n",
    "    z2 = MyDescriptor('b')\n",
    "    \n",
    "    def __init__(self, a1, b1):        \n",
    "        # describes the class attribute\n",
    "        # call translates to __get__(z1, None, UsesDescriptors)\n",
    "        # returns a type mydescriptor since instance is None\n",
    "        print(type(UsesDescriptors.z1))\n",
    "        self.z1 = a\n",
    "        \n",
    "        # describes the instance attribute\n",
    "        # call translates to __get__(z1, self, UsesDescriptors)\n",
    "        # cannot return a value since self.__dict__ does not have\n",
    "        # this key\n",
    "        #print(type(self.z1)) # in this case , the __get__ ,\n",
    "        \n",
    "        # first looks up the variable in __dict__\n",
    "        # if not found, uses the __getattr__ method\n",
    "        # to see if an instance can be created.\n",
    "        #print(type(self.a))\n",
    "        \n",
    "        #https://docs.python.org/3/reference/datamodel.html#descriptors\n",
    "        # is a useful read around descriptors\n",
    "        # a.x results in type(a).__dict__['x'].__get__(a, type(a))\n",
    "        # this occurs only if an instance of the descriptor class \n",
    "        # appears in the class dictionary\n",
    "        \n",
    "        # becase of the lines:\n",
    "        #  z2 = MyDescriptor('b'); z1 and z2 are put in the classes's dictionary\n",
    "        # since z1 and z2 contains the __(get|Set|delte)__ methods, all future access to \n",
    "        # variables named z1 and z2 will now go through the descriptor class\n",
    "        # self.z1 will first look through the instance dictionary, then the class dictionary.\n",
    "        # it will find it in the class dictionary and will also find that the instance\n",
    "        # implements the descriptor protocol after which python will override the access and setting of\n",
    "        # this variable to be via the descriptor class\n",
    "        \n",
    "u = UsesDescriptors(1,2)\n",
    "print(u.z1)"
   ]
  },
  {
   "cell_type": "code",
   "execution_count": 94,
   "metadata": {},
   "outputs": [
    {
     "name": "stdout",
     "output_type": "stream",
     "text": [
      "False\n",
      "4\n",
      "True\n"
     ]
    }
   ],
   "source": [
    "# class attributes can be created at runtime\n",
    "# first looks at the __dict__; \n",
    "# python attribute errors are invoked if the object does not \n",
    "# already exist and one is not trying to set it but rather trying\n",
    "# to access it.\n",
    "class A(object):\n",
    "    def __init__(self):\n",
    "        pass\n",
    "    \n",
    "a = A()\n",
    "print(hasattr(a, 'r'))\n",
    "\n",
    "a.r = 4 # translated to setattr(a, 'r', 4)\n",
    "print(a.r) # translated to getattr(a, 'r') which can fail\n",
    "# we can override getattr to always call setattr and cause this to pass\n",
    "print(hasattr(a, 'r'))"
   ]
  },
  {
   "cell_type": "code",
   "execution_count": 95,
   "metadata": {},
   "outputs": [
    {
     "name": "stdout",
     "output_type": "stream",
     "text": [
      "Can't instantiate abstract class B with abstract methods method1, method2\n"
     ]
    }
   ],
   "source": [
    "# abstract classes\n",
    "\n",
    "from abc import abstractmethod, ABCMeta\n",
    "# ABCMeta disallows an abstract class from being instantiated\n",
    "# abstractmethod forces other classes implementing the interfacing\n",
    "# to implment these methods\n",
    "\n",
    "class A(metaclass=ABCMeta):\n",
    "    \n",
    "    @abstractmethod\n",
    "    def method1():\n",
    "        pass\n",
    "    \n",
    "    @abstractmethod\n",
    "    def method2():\n",
    "        pass\n",
    "    \n",
    "    \n",
    "class B(A):\n",
    "    def __init__():\n",
    "        super(B, self).__init__()\n",
    "\n",
    "try:\n",
    "    b = B()\n",
    "except TypeError as e:\n",
    "    print(e)\n",
    "    \n",
    "class C(A):\n",
    "    def __init__(self):\n",
    "        super(C, self).__init__()\n",
    "    \n",
    "    def method1():\n",
    "        pass\n",
    "    \n",
    "    def method2():\n",
    "        pass\n",
    "    \n",
    "c = C()\n"
   ]
  },
  {
   "cell_type": "code",
   "execution_count": 96,
   "metadata": {},
   "outputs": [
    {
     "name": "stdout",
     "output_type": "stream",
     "text": [
      "hello\n",
      "<class 'function'>\n"
     ]
    }
   ],
   "source": [
    "# writing a decorator\n",
    "\n",
    "def decor(func):\n",
    "    print(\"hello\")\n",
    "    print(type(func))\n",
    "    def func_wrap(*args, **kwargs):\n",
    "        # * and ** are the unpacking arguments\n",
    "        # these should be unpacked when forwarding\n",
    "        # so that the inner function can process correctly\n",
    "        # if these are not unpacked, args and kwargs would \n",
    "        # be the first two arguments instead of the unpacked \n",
    "        # sequences of arguments\n",
    "        func(*args, **kwargs)\n",
    "    return func_wrap\n",
    "    \n",
    "@decor\n",
    "def foo():\n",
    "    pass\n",
    "\n",
    "foo()"
   ]
  },
  {
   "cell_type": "code",
   "execution_count": 97,
   "metadata": {},
   "outputs": [],
   "source": [
    "# topic on doing type checking using \n",
    "# descriptor protocolo and metaclasses or function decorators\n"
   ]
  },
  {
   "cell_type": "code",
   "execution_count": 98,
   "metadata": {},
   "outputs": [],
   "source": [
    "# topic on collections' abstract base classes"
   ]
  },
  {
   "cell_type": "code",
   "execution_count": 99,
   "metadata": {
    "scrolled": true
   },
   "outputs": [
    {
     "name": "stdout",
     "output_type": "stream",
     "text": [
      "setting key _object\n",
      "getting key a\n",
      "3\n",
      "setting key b\n",
      "getting key b\n",
      "5\n"
     ]
    }
   ],
   "source": [
    "# delegation via __getattr__ and __setattr__\n",
    "# as an alternative to inheritance\n",
    "\n",
    "class A(object):\n",
    "    def __init__(self, a):\n",
    "        self.a = a\n",
    "        \n",
    "class LoggingProxy(object):\n",
    "    def __init__(self, inner_object):\n",
    "        # this is problematic since this also invokes the setter\n",
    "        # method. We need to somehow disable this\n",
    "        self._object = inner_object\n",
    "    \n",
    "    def __getattr__(self, key):\n",
    "        print(\"getting key\", key)\n",
    "        if key.startswith('_'):\n",
    "            return super().__getattr__(self, key)\n",
    "        else:\n",
    "            return getattr(self._object, key)\n",
    "    \n",
    "    def __setattr__(self, key, value):\n",
    "        print(\"setting key\", key)\n",
    "        if key.startswith('_'):\n",
    "            super().__setattr__(key, value)\n",
    "        else:        \n",
    "            setattr(self._object, key, value)\n",
    "    \n",
    "    \n",
    "a = A(3)\n",
    "lp = LoggingProxy(a)\n",
    "\n",
    "print(lp.a)\n",
    "lp.b = 5\n",
    "print(lp.b)"
   ]
  },
  {
   "cell_type": "code",
   "execution_count": 100,
   "metadata": {},
   "outputs": [],
   "source": [
    "# use class method to support alternate constructirs\n",
    "\n",
    "class Date(object):\n",
    "    def __init__(self, year, month, day):\n",
    "        self.year = year\n",
    "        # so on...\n",
    "        \n",
    "    @classmethod\n",
    "    def today(cls):\n",
    "        return Date(0,0,0)\n",
    "    \n",
    "random_date = Date(1,2,3)\n",
    "today_date = Date.today()"
   ]
  },
  {
   "cell_type": "code",
   "execution_count": 101,
   "metadata": {},
   "outputs": [
    {
     "name": "stdout",
     "output_type": "stream",
     "text": [
      "5\n"
     ]
    }
   ],
   "source": [
    "# use of __new__ to create bare uninitialized data\n",
    "# this is useful when deserializing data from files, etc\n",
    "\n",
    "class A():\n",
    "    def __init__(self, a):\n",
    "        self.a = a\n",
    "        \n",
    "a = A.__new__(A)\n",
    "a.a = 5\n",
    "print(a.a)"
   ]
  },
  {
   "cell_type": "code",
   "execution_count": 102,
   "metadata": {},
   "outputs": [],
   "source": [
    "# state transition by modifying self.__class__ \n",
    "# or an inner object entirely\n",
    "\n",
    "# class A needs to constantly check the state\n",
    "# to run it's methods.\n",
    "class A(object):\n",
    "    def __init__(object):\n",
    "        self._state = '0'\n",
    "        \n",
    "    def method1(self):\n",
    "        if self_state != '1':\n",
    "            raise RuntimeError(\"invalid state\")\n",
    "        else:\n",
    "            pass\n",
    "            \n",
    "    def method2(self):\n",
    "        if self_state != '2':\n",
    "            raise RuntimeError(\"invalid state\")\n",
    "        else:\n",
    "            pass\n",
    "        \n",
    "\n",
    "# alternatively, class A could look like:\n",
    "from abc import ABCMeta, abstractmethod\n",
    "\n",
    "class State(metaclass=ABCMeta):\n",
    "    @abstractmethod\n",
    "    def method1(self):\n",
    "        pass\n",
    "    \n",
    "    @abstractmethod\n",
    "    def method2(self):\n",
    "        pass\n",
    "\n",
    "class State1(State):\n",
    "    \n",
    "    def method1(self):\n",
    "        # do thing\n",
    "        print(\"Hello\")\n",
    "        \n",
    "    def method2(self):\n",
    "        raise RuntimeError(\"Cannot do thing\")\n",
    "        \n",
    "class State2(State):\n",
    "    \n",
    "    def method1(self):\n",
    "        # do thing\n",
    "        raise RuntimeError(\"Cannot do thing\")\n",
    "        \n",
    "    def method2(self):\n",
    "        print(\"Hello\")\n",
    "        \n",
    "class A2(object):\n",
    "    def __init__(self):\n",
    "        self._state = State1()\n",
    "        \n",
    "    def method1(self):\n",
    "        self._state.method1()\n",
    "        \n",
    "    def method2(self):\n",
    "        self._state.method2()\n",
    "        \n",
    "    def state_switch(self):\n",
    "        self._state = State2()"
   ]
  },
  {
   "cell_type": "code",
   "execution_count": 103,
   "metadata": {},
   "outputs": [],
   "source": [
    "# visitor pattern using dynamically generated method names\n",
    "# which are then invoked using getattr method.\n",
    "\n",
    "\n",
    "# also explained is the use of yield in large data structures"
   ]
  },
  {
   "cell_type": "code",
   "execution_count": 104,
   "metadata": {},
   "outputs": [],
   "source": [
    "# weak references to cause garbage collection for cyclic objects"
   ]
  },
  {
   "cell_type": "code",
   "execution_count": 105,
   "metadata": {},
   "outputs": [],
   "source": [
    "# using caches to return instances of classes\n",
    "# that were created using the same arguments (factories that return same instance)"
   ]
  },
  {
   "cell_type": "markdown",
   "metadata": {},
   "source": [
    "### Chapter 9 - Metaprogramming"
   ]
  },
  {
   "cell_type": "code",
   "execution_count": 106,
   "metadata": {},
   "outputs": [],
   "source": [
    "# decorators -- again -- done this already"
   ]
  },
  {
   "cell_type": "code",
   "execution_count": 107,
   "metadata": {},
   "outputs": [],
   "source": [
    "# use functools.wraps to preserve the metadata like name, doc string and annotations\n",
    "# unwrap a decorator using __wrapped__ on the decorated function object\n",
    "# decoratora can also take additional arguments\n"
   ]
  },
  {
   "cell_type": "code",
   "execution_count": 108,
   "metadata": {},
   "outputs": [
    {
     "name": "stdout",
     "output_type": "stream",
     "text": [
      "decorator not taking options\n",
      "first invocation of decorator taking options\n",
      "decorator taking options\n"
     ]
    }
   ],
   "source": [
    "# differences between decorators taking arguments and those that don't\n",
    "\n",
    "# wrapper takes no arguments\n",
    "def logged1(func):\n",
    "    print(\"decorator not taking options\")\n",
    "    def wrapper(*args, **kwargs):\n",
    "        func(*args, **kwargs)\n",
    "    return wrapper\n",
    "\n",
    "# wrapper that does take arguments:\n",
    "# this wrapper does not get a function passed in.\n",
    "# instead, it needs to return a decorator which takes in a function\n",
    "\n",
    "# first invocation without a func argument should return a function\n",
    "# object which takes a function objection and has all other args fixed\n",
    "\n",
    "# second invocation should return a function that takes actual\n",
    "# arguments\n",
    "def logged(func=None, a=None, b = None):\n",
    "    if func is None:\n",
    "        print(\"first invocation of decorator taking options\")\n",
    "        return partial(logged, a=a, b=b) # fix the other arguments\n",
    "    print(\"decorator taking options\")\n",
    "    def wrapper(*args, **kwargs):\n",
    "        func(*args, **kwargs)        \n",
    "    return wrapper\n",
    "\n",
    "@logged1\n",
    "def foo():\n",
    "    pass\n",
    "\n",
    "@logged(a=3, b=4)\n",
    "def bar():    \n",
    "    pass\n",
    "\n",
    "foo()\n",
    "bar()\n",
    "# call sequence for bar is \n",
    "# bar()->logged with func=None func(a=3, b=4) -> partial func with func argument not None\n",
    "# ->actual barcode"
   ]
  },
  {
   "cell_type": "code",
   "execution_count": 109,
   "metadata": {},
   "outputs": [],
   "source": [
    "# 9.7 -> 9.12 (Decorator magic)\n",
    "# interesting use case of function decorators to enforece \n",
    "# the types of the function argument\n",
    "\n",
    "# uses the inspect module and the signature class \n",
    "\n",
    "#(TODO) May need a revisit"
   ]
  },
  {
   "cell_type": "code",
   "execution_count": 110,
   "metadata": {},
   "outputs": [],
   "source": [
    "# Read through rest of chapter 9 which dealt with somewhat esoteric topics\n"
   ]
  },
  {
   "cell_type": "markdown",
   "metadata": {},
   "source": [
    "### Chapter 10 - Module (Just a read through and to be used as a reference)"
   ]
  },
  {
   "cell_type": "markdown",
   "metadata": {},
   "source": [
    "###  Chapter 13 - Shell util scripts (Just a read through + usage of shutil library)"
   ]
  },
  {
   "cell_type": "markdown",
   "metadata": {},
   "source": [
    "### Chapter 14 - Testing (Just a read through)"
   ]
  },
  {
   "cell_type": "markdown",
   "metadata": {},
   "source": [
    "###  Chapter 11 - Networking\n",
    "Most of the topics here usually have a better alternative in the form of librarires. For now, just a read through"
   ]
  },
  {
   "cell_type": "markdown",
   "metadata": {},
   "source": [
    "###  Chapter 15 - C Modules\n"
   ]
  },
  {
   "cell_type": "code",
   "execution_count": 111,
   "metadata": {
    "scrolled": true
   },
   "outputs": [
    {
     "name": "stdout",
     "output_type": "stream",
     "text": [
      "<_FuncPtr object at 0x7fe8db4e9460>\n",
      "<_FuncPtr object at 0x7fe8db4e9120>\n",
      "2\n",
      "(2, 1)\n",
      "2.23606797749979\n"
     ]
    }
   ],
   "source": [
    "import ctypes\n",
    "import os\n",
    "\n",
    "# note: there is a limitation to how the load stuff works\n",
    "# if a module is already loaded into the python interpreter,\n",
    "# there is no easy way to unload it so changes can be made to the module and \n",
    "# for it to be re-run.\n",
    "\n",
    "# this is bad since if while testing, changes are made to the modules,\n",
    "# the python interpreter keeps them around.\n",
    "# This is especially an issue in jupyter notebook since the interpreter never\n",
    "# really goes down !!\n",
    "\n",
    "# See here: https://bugs.python.org/issue14597\n",
    "\n",
    "_path = \"/home/rushi/dev/git/python/c_module/libsample4.so\"\n",
    "_mod = ctypes.cdll.LoadLibrary(_path)\n",
    "\n",
    "_simple_path = \"/home/rushi/dev/git/python/c_module/libadder2.so\"\n",
    "_simple_mod = ctypes.cdll.LoadLibrary(_simple_path)\n",
    "\n",
    "print(_simple_mod.addTwo)\n",
    "print(_mod.gcd)\n",
    "\n",
    "# simple function taking two ints and returning an int\n",
    "gcd = _mod.gcd\n",
    "gcd.argtypes = (ctypes.c_int, ctypes.c_int)\n",
    "gcd.restype = (ctypes.c_int)\n",
    "print(gcd(10,12))\n",
    "\n",
    "# function which takes in a pointer for a result\n",
    "_divide = _mod.divide\n",
    "_divide.argtypes = (ctypes.c_int, ctypes.c_int, ctypes.POINTER(ctypes.c_int))\n",
    "_divide.restype = (ctypes.c_int)\n",
    "\n",
    "def divide_wrapper(x,y):\n",
    "    rem = ctypes.c_int()\n",
    "    quot = _divide(x,y,rem)\n",
    "    return quot, rem.value\n",
    "\n",
    "print(divide_wrapper(5,2))\n",
    "\n",
    "# using c structures \n",
    "# requires a class to be specified which can be passed\n",
    "# in.\n",
    "class Point(ctypes.Structure):\n",
    "    _fields_ = [('x', ctypes.c_double),\n",
    "                 ('y', ctypes.c_double)]\n",
    "\n",
    "distance_func = _mod.distance\n",
    "distance_func.argtypes = (ctypes.POINTER(Point), ctypes.POINTER(Point))\n",
    "distance_func.restype = ctypes.c_double\n",
    "\n",
    "p1 = Point(1,2)\n",
    "p2 = Point(0,0)\n",
    "print(distance_func(p1,p2))"
   ]
  },
  {
   "cell_type": "code",
   "execution_count": 116,
   "metadata": {},
   "outputs": [
    {
     "name": "stdout",
     "output_type": "stream",
     "text": [
      "<module 'sample_extension' from '/home/rushi/dev/git/python/c_module/sample_extension.cpython-37m-x86_64-linux-gnu.so'>\n",
      "Help on module sample_extension:\n",
      "\n",
      "NAME\n",
      "    sample_extension - sample extension module\n",
      "\n",
      "FUNCTIONS\n",
      "    addThree(...)\n",
      "        Adds three numbers together\n",
      "\n",
      "FILE\n",
      "    /home/rushi/dev/git/python/c_module/sample_extension.cpython-37m-x86_64-linux-gnu.so\n",
      "\n",
      "\n",
      "None\n",
      "['__doc__', '__file__', '__loader__', '__name__', '__package__', '__spec__', 'addThree']\n",
      "6\n"
     ]
    }
   ],
   "source": [
    "# write a handcrafted extension module directly using pythong C API\n",
    "import sys\n",
    "sys.path.append(\"/home/rushi/dev/git/python/c_module\")\n",
    "import sample_extension\n",
    "\n",
    "# NOTE: Need to restart the entire interpreter if the load \n",
    "# does not work. Otherwise the module remains loaded in\n",
    "# the interpreter and it won't work, even with the changes\n",
    "\n",
    "print(sample_extension)\n",
    "print(help(sample_extension))\n",
    "print(dir(sample_extension))\n",
    "\n",
    "print(sample_extension.addThree(1,2,3))"
   ]
  },
  {
   "cell_type": "code",
   "execution_count": null,
   "metadata": {},
   "outputs": [],
   "source": [
    "# Note: the rest of the topics in this chapter \n",
    "# are more for reference rather than implementation\n",
    "# It might be better to use SWIG or other tools to wrap C into python"
   ]
  }
 ],
 "metadata": {
  "kernelspec": {
   "display_name": "Python 3",
   "language": "python",
   "name": "python3"
  },
  "language_info": {
   "codemirror_mode": {
    "name": "ipython",
    "version": 3
   },
   "file_extension": ".py",
   "mimetype": "text/x-python",
   "name": "python",
   "nbconvert_exporter": "python",
   "pygments_lexer": "ipython3",
   "version": "3.7.5"
  }
 },
 "nbformat": 4,
 "nbformat_minor": 2
}
