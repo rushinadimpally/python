{
 "cells": [
  {
   "cell_type": "markdown",
   "metadata": {},
   "source": [
    "###  Setup"
   ]
  },
  {
   "cell_type": "markdown",
   "metadata": {},
   "source": [
    "Needed to do some setup for running pandas and numpy\n",
    "\n",
    "- Did an apt-get install for python3-venv\n",
    "- Created a virtual environment directory and activated it using the instructions here: https://docs.python.org/3/library/venv.html\n",
    "- After activation, installed pip and used pip to install pandas and numpy\n",
    "- Also installed jupyter notebook and ran the notebook under the activated virtual env\n",
    "- Also installed matplotlib using pip"
   ]
  },
  {
   "cell_type": "code",
   "execution_count": 1,
   "metadata": {},
   "outputs": [],
   "source": [
    "import pandas\n",
    "import numpy\n",
    "# no error"
   ]
  },
  {
   "cell_type": "markdown",
   "metadata": {},
   "source": [
    "###  Chapter 2  - Intro (Old Edition)"
   ]
  },
  {
   "cell_type": "code",
   "execution_count": 2,
   "metadata": {},
   "outputs": [
    {
     "name": "stdout",
     "output_type": "stream",
     "text": [
      "('America/New_York', 1251)\n",
      "('', 521)\n",
      "('America/Chicago', 400)\n",
      "('America/Los_Angeles', 382)\n",
      "('America/Denver', 191)\n",
      "('Europe/London', 74)\n",
      "('Asia/Tokyo', 37)\n",
      "('Pacific/Honolulu', 36)\n",
      "('Europe/Madrid', 35)\n",
      "('America/Sao_Paulo', 33)\n"
     ]
    }
   ],
   "source": [
    "# getting top 10 time zones from a dataset using classic python\n",
    "\n",
    "from collections import defaultdict\n",
    "import json\n",
    "import heapq\n",
    "\n",
    "tz_dict = defaultdict(int)\n",
    "with open(\"/home/rushi/dev/data/pda/ch02/usagov_bitly_data2012-03-16-1331923249.txt\", \"r\") as f:\n",
    "    for line in f.readlines():\n",
    "        data = json.loads(line)\n",
    "        if 'tz' in data.keys():\n",
    "            tz_dict[data['tz']] += 1\n",
    "\n",
    "results = heapq.nlargest(10, tz_dict.items(), key=lambda x: x[1])\n",
    "for result in results:\n",
    "    print(result)\n"
   ]
  },
  {
   "cell_type": "code",
   "execution_count": 3,
   "metadata": {
    "scrolled": false
   },
   "outputs": [
    {
     "data": {
      "text/plain": [
       "<matplotlib.axes._subplots.AxesSubplot at 0x7faef7d14210>"
      ]
     },
     "execution_count": 3,
     "metadata": {},
     "output_type": "execute_result"
    },
    {
     "data": {
      "image/png": "[encoded data removed]",
      "text/plain": [
       "<Figure size 432x288 with 1 Axes>"
      ]
     },
     "metadata": {
      "needs_background": "light"
     },
     "output_type": "display_data"
    }
   ],
   "source": [
    "# pandas approach\n",
    "import json\n",
    "\n",
    "from pandas import DataFrame, Series\n",
    "import pandas as pd\n",
    "\n",
    "records = []\n",
    "with open(\"/home/rushi/dev/data/pda/ch02/usagov_bitly_data2012-03-16-1331923249.txt\", \"r\") as f:\n",
    "    for line in f.readlines():\n",
    "        records.append(json.loads(line))\n",
    "        \n",
    "frame = DataFrame(records)\n",
    "frame['tz'].value_counts()[:10]\n",
    "\n",
    "# since the second most tz is unknown, clean up the data a little\n",
    "clean_tz = frame['tz'].fillna('Missing')\n",
    "clean_tz[clean_tz == ''] = 'Unknown'\n",
    "tz_counts = clean_tz.value_counts()[:10]\n",
    "#print(tz_counts[:10])\n",
    "\n",
    "tz_counts.plot(kind='barh', rot=0)\n",
    "\n"
   ]
  },
  {
   "cell_type": "code",
   "execution_count": 4,
   "metadata": {
    "scrolled": false
   },
   "outputs": [
    {
     "data": {
      "text/plain": [
       "<matplotlib.axes._subplots.AxesSubplot at 0x7faef5575bd0>"
      ]
     },
     "execution_count": 4,
     "metadata": {},
     "output_type": "execute_result"
    },
    {
     "data": {
      "image/png": "[encoded data removed]",
      "text/plain": [
       "<Figure size 432x288 with 1 Axes>"
      ]
     },
     "metadata": {
      "needs_background": "light"
     },
     "output_type": "display_data"
    }
   ],
   "source": [
    "\n",
    "# getting agent strings\n",
    "results = Series([x.split()[0] for x in frame.a.dropna()])\n",
    "results.value_counts()[:5].plot(kind='barh', rot=0)"
   ]
  },
  {
   "cell_type": "code",
   "execution_count": 5,
   "metadata": {},
   "outputs": [
    {
     "name": "stdout",
     "output_type": "stream",
     "text": [
      "['Windows' 'NotWindows' 'Windows' 'NotWindows' 'Windows']\n"
     ]
    },
    {
     "data": {
      "text/html": [
       "<div>\n",
       "<style scoped>\n",
       "    .dataframe tbody tr th:only-of-type {\n",
       "        vertical-align: middle;\n",
       "    }\n",
       "\n",
       "    .dataframe tbody tr th {\n",
       "        vertical-align: top;\n",
       "    }\n",
       "\n",
       "    .dataframe thead th {\n",
       "        text-align: right;\n",
       "    }\n",
       "</style>\n",
       "<table border=\"1\" class=\"dataframe\">\n",
       "  <thead>\n",
       "    <tr style=\"text-align: right;\">\n",
       "      <th></th>\n",
       "      <th>NotWindows</th>\n",
       "      <th>Windows</th>\n",
       "    </tr>\n",
       "    <tr>\n",
       "      <th>tz</th>\n",
       "      <th></th>\n",
       "      <th></th>\n",
       "    </tr>\n",
       "  </thead>\n",
       "  <tbody>\n",
       "    <tr>\n",
       "      <th></th>\n",
       "      <td>245.0</td>\n",
       "      <td>276.0</td>\n",
       "    </tr>\n",
       "    <tr>\n",
       "      <th>Africa/Cairo</th>\n",
       "      <td>0.0</td>\n",
       "      <td>3.0</td>\n",
       "    </tr>\n",
       "    <tr>\n",
       "      <th>Africa/Casablanca</th>\n",
       "      <td>0.0</td>\n",
       "      <td>1.0</td>\n",
       "    </tr>\n",
       "    <tr>\n",
       "      <th>Africa/Ceuta</th>\n",
       "      <td>0.0</td>\n",
       "      <td>2.0</td>\n",
       "    </tr>\n",
       "    <tr>\n",
       "      <th>Africa/Johannesburg</th>\n",
       "      <td>0.0</td>\n",
       "      <td>1.0</td>\n",
       "    </tr>\n",
       "    <tr>\n",
       "      <th>Africa/Lusaka</th>\n",
       "      <td>0.0</td>\n",
       "      <td>1.0</td>\n",
       "    </tr>\n",
       "    <tr>\n",
       "      <th>America/Anchorage</th>\n",
       "      <td>4.0</td>\n",
       "      <td>1.0</td>\n",
       "    </tr>\n",
       "    <tr>\n",
       "      <th>America/Argentina/Buenos_Aires</th>\n",
       "      <td>1.0</td>\n",
       "      <td>0.0</td>\n",
       "    </tr>\n",
       "    <tr>\n",
       "      <th>America/Argentina/Cordoba</th>\n",
       "      <td>0.0</td>\n",
       "      <td>1.0</td>\n",
       "    </tr>\n",
       "    <tr>\n",
       "      <th>America/Argentina/Mendoza</th>\n",
       "      <td>0.0</td>\n",
       "      <td>1.0</td>\n",
       "    </tr>\n",
       "  </tbody>\n",
       "</table>\n",
       "</div>"
      ],
      "text/plain": [
       "                                NotWindows  Windows\n",
       "tz                                                 \n",
       "                                     245.0    276.0\n",
       "Africa/Cairo                           0.0      3.0\n",
       "Africa/Casablanca                      0.0      1.0\n",
       "Africa/Ceuta                           0.0      2.0\n",
       "Africa/Johannesburg                    0.0      1.0\n",
       "Africa/Lusaka                          0.0      1.0\n",
       "America/Anchorage                      4.0      1.0\n",
       "America/Argentina/Buenos_Aires         1.0      0.0\n",
       "America/Argentina/Cordoba              0.0      1.0\n",
       "America/Argentina/Mendoza              0.0      1.0"
      ]
     },
     "execution_count": 5,
     "metadata": {},
     "output_type": "execute_result"
    }
   ],
   "source": [
    "import numpy as np\n",
    "cframe = frame[frame.a.notnull()]\n",
    "operating_system = np.where(cframe['a'].str.contains('Windows'), 'Windows', 'NotWindows')\n",
    "print(operating_system[:5])\n",
    "\n",
    "group_by_tz_os = cframe.groupby(['tz', operating_system])\n",
    "\n",
    "# recreate a table view\n",
    "agg_counts = group_by_tz_os.size().unstack().fillna(0)\n",
    "agg_counts[:10]"
   ]
  },
  {
   "cell_type": "code",
   "execution_count": 6,
   "metadata": {},
   "outputs": [
    {
     "data": {
      "text/plain": [
       "tz\n",
       "                                  24\n",
       "Africa/Cairo                      20\n",
       "Africa/Casablanca                 21\n",
       "Africa/Ceuta                      92\n",
       "Africa/Johannesburg               87\n",
       "Africa/Lusaka                     53\n",
       "America/Anchorage                 54\n",
       "America/Argentina/Buenos_Aires    57\n",
       "America/Argentina/Cordoba         26\n",
       "America/Argentina/Mendoza         55\n",
       "dtype: int64"
      ]
     },
     "execution_count": 6,
     "metadata": {},
     "output_type": "execute_result"
    }
   ],
   "source": [
    "# sort in ascending order\n",
    "indexer = agg_counts.sum(1).argsort()\n",
    "indexer[:10]\n"
   ]
  },
  {
   "cell_type": "code",
   "execution_count": 7,
   "metadata": {},
   "outputs": [
    {
     "data": {
      "text/html": [
       "<div>\n",
       "<style scoped>\n",
       "    .dataframe tbody tr th:only-of-type {\n",
       "        vertical-align: middle;\n",
       "    }\n",
       "\n",
       "    .dataframe tbody tr th {\n",
       "        vertical-align: top;\n",
       "    }\n",
       "\n",
       "    .dataframe thead th {\n",
       "        text-align: right;\n",
       "    }\n",
       "</style>\n",
       "<table border=\"1\" class=\"dataframe\">\n",
       "  <thead>\n",
       "    <tr style=\"text-align: right;\">\n",
       "      <th></th>\n",
       "      <th>NotWindows</th>\n",
       "      <th>Windows</th>\n",
       "    </tr>\n",
       "    <tr>\n",
       "      <th>tz</th>\n",
       "      <th></th>\n",
       "      <th></th>\n",
       "    </tr>\n",
       "  </thead>\n",
       "  <tbody>\n",
       "    <tr>\n",
       "      <th>America/Sao_Paulo</th>\n",
       "      <td>13.0</td>\n",
       "      <td>20.0</td>\n",
       "    </tr>\n",
       "    <tr>\n",
       "      <th>Europe/Madrid</th>\n",
       "      <td>16.0</td>\n",
       "      <td>19.0</td>\n",
       "    </tr>\n",
       "    <tr>\n",
       "      <th>Pacific/Honolulu</th>\n",
       "      <td>0.0</td>\n",
       "      <td>36.0</td>\n",
       "    </tr>\n",
       "    <tr>\n",
       "      <th>Asia/Tokyo</th>\n",
       "      <td>2.0</td>\n",
       "      <td>35.0</td>\n",
       "    </tr>\n",
       "    <tr>\n",
       "      <th>Europe/London</th>\n",
       "      <td>43.0</td>\n",
       "      <td>31.0</td>\n",
       "    </tr>\n",
       "    <tr>\n",
       "      <th>America/Denver</th>\n",
       "      <td>132.0</td>\n",
       "      <td>59.0</td>\n",
       "    </tr>\n",
       "    <tr>\n",
       "      <th>America/Los_Angeles</th>\n",
       "      <td>130.0</td>\n",
       "      <td>252.0</td>\n",
       "    </tr>\n",
       "    <tr>\n",
       "      <th>America/Chicago</th>\n",
       "      <td>115.0</td>\n",
       "      <td>285.0</td>\n",
       "    </tr>\n",
       "    <tr>\n",
       "      <th></th>\n",
       "      <td>245.0</td>\n",
       "      <td>276.0</td>\n",
       "    </tr>\n",
       "    <tr>\n",
       "      <th>America/New_York</th>\n",
       "      <td>339.0</td>\n",
       "      <td>912.0</td>\n",
       "    </tr>\n",
       "  </tbody>\n",
       "</table>\n",
       "</div>"
      ],
      "text/plain": [
       "                     NotWindows  Windows\n",
       "tz                                      \n",
       "America/Sao_Paulo          13.0     20.0\n",
       "Europe/Madrid              16.0     19.0\n",
       "Pacific/Honolulu            0.0     36.0\n",
       "Asia/Tokyo                  2.0     35.0\n",
       "Europe/London              43.0     31.0\n",
       "America/Denver            132.0     59.0\n",
       "America/Los_Angeles       130.0    252.0\n",
       "America/Chicago           115.0    285.0\n",
       "                          245.0    276.0\n",
       "America/New_York          339.0    912.0"
      ]
     },
     "execution_count": 7,
     "metadata": {},
     "output_type": "execute_result"
    }
   ],
   "source": [
    "\n",
    "# pick the 10 rows with top count\n",
    "count_subset = agg_counts.take(indexer)[-10:]\n",
    "count_subset"
   ]
  },
  {
   "cell_type": "code",
   "execution_count": 8,
   "metadata": {},
   "outputs": [
    {
     "data": {
      "text/plain": [
       "<matplotlib.axes._subplots.AxesSubplot at 0x7faef5499210>"
      ]
     },
     "execution_count": 8,
     "metadata": {},
     "output_type": "execute_result"
    },
    {
     "data": {
      "image/png": "[encoded data removed]",
      "text/plain": [
       "<Figure size 432x288 with 1 Axes>"
      ]
     },
     "metadata": {
      "needs_background": "light"
     },
     "output_type": "display_data"
    }
   ],
   "source": [
    "count_subset.plot(kind='barh', stacked=True)"
   ]
  },
  {
   "cell_type": "code",
   "execution_count": 9,
   "metadata": {
    "scrolled": true
   },
   "outputs": [
    {
     "name": "stdout",
     "output_type": "stream",
     "text": [
      "   user_id gender  age  occupation    zip\n",
      "0        1      F    1          10  48067\n",
      "1        2      M   56          16  70072\n",
      "2        3      M   25          15  55117\n",
      "3        4      M   45           7  02460\n",
      "4        5      M   25          20  55455\n"
     ]
    }
   ],
   "source": [
    "import pandas as pd\n",
    "import os\n",
    "\n",
    "data_path = '/home/rushi/dev/data/pda/ch02/'\n",
    "unames = ['user_id', 'gender', 'age', 'occupation', 'zip']\n",
    "users = pd.read_table(os.path.join(data_path, 'movielens/users.dat'), sep='::', header=None, names=unames, engine='python')\n",
    "\n",
    "rnames = ['user_id', 'movie_id', 'rating', 'timestamp']\n",
    "ratings = pd.read_table(os.path.join(data_path, 'movielens/ratings.dat'), sep='::', header=None, names=rnames, engine='python')\n",
    "\n",
    "mnames = ['movie_id', 'title', 'genres']\n",
    "movies = pd.read_table(os.path.join(data_path, 'movielens/movies.dat'), sep='::', header=None, names=mnames, engine='python')\n",
    "\n",
    "print(users[:5])"
   ]
  },
  {
   "cell_type": "code",
   "execution_count": 10,
   "metadata": {
    "scrolled": true
   },
   "outputs": [
    {
     "data": {
      "text/html": [
       "<div>\n",
       "<style scoped>\n",
       "    .dataframe tbody tr th:only-of-type {\n",
       "        vertical-align: middle;\n",
       "    }\n",
       "\n",
       "    .dataframe tbody tr th {\n",
       "        vertical-align: top;\n",
       "    }\n",
       "\n",
       "    .dataframe thead th {\n",
       "        text-align: right;\n",
       "    }\n",
       "</style>\n",
       "<table border=\"1\" class=\"dataframe\">\n",
       "  <thead>\n",
       "    <tr style=\"text-align: right;\">\n",
       "      <th></th>\n",
       "      <th>movie_id</th>\n",
       "      <th>title</th>\n",
       "      <th>genres</th>\n",
       "    </tr>\n",
       "  </thead>\n",
       "  <tbody>\n",
       "    <tr>\n",
       "      <th>0</th>\n",
       "      <td>1</td>\n",
       "      <td>Toy Story (1995)</td>\n",
       "      <td>Animation|Children's|Comedy</td>\n",
       "    </tr>\n",
       "    <tr>\n",
       "      <th>1</th>\n",
       "      <td>2</td>\n",
       "      <td>Jumanji (1995)</td>\n",
       "      <td>Adventure|Children's|Fantasy</td>\n",
       "    </tr>\n",
       "    <tr>\n",
       "      <th>2</th>\n",
       "      <td>3</td>\n",
       "      <td>Grumpier Old Men (1995)</td>\n",
       "      <td>Comedy|Romance</td>\n",
       "    </tr>\n",
       "    <tr>\n",
       "      <th>3</th>\n",
       "      <td>4</td>\n",
       "      <td>Waiting to Exhale (1995)</td>\n",
       "      <td>Comedy|Drama</td>\n",
       "    </tr>\n",
       "    <tr>\n",
       "      <th>4</th>\n",
       "      <td>5</td>\n",
       "      <td>Father of the Bride Part II (1995)</td>\n",
       "      <td>Comedy</td>\n",
       "    </tr>\n",
       "  </tbody>\n",
       "</table>\n",
       "</div>"
      ],
      "text/plain": [
       "   movie_id                               title                        genres\n",
       "0         1                    Toy Story (1995)   Animation|Children's|Comedy\n",
       "1         2                      Jumanji (1995)  Adventure|Children's|Fantasy\n",
       "2         3             Grumpier Old Men (1995)                Comedy|Romance\n",
       "3         4            Waiting to Exhale (1995)                  Comedy|Drama\n",
       "4         5  Father of the Bride Part II (1995)                        Comedy"
      ]
     },
     "execution_count": 10,
     "metadata": {},
     "output_type": "execute_result"
    }
   ],
   "source": [
    "movies[:5]"
   ]
  },
  {
   "cell_type": "code",
   "execution_count": 11,
   "metadata": {
    "scrolled": true
   },
   "outputs": [
    {
     "data": {
      "text/html": [
       "<div>\n",
       "<style scoped>\n",
       "    .dataframe tbody tr th:only-of-type {\n",
       "        vertical-align: middle;\n",
       "    }\n",
       "\n",
       "    .dataframe tbody tr th {\n",
       "        vertical-align: top;\n",
       "    }\n",
       "\n",
       "    .dataframe thead th {\n",
       "        text-align: right;\n",
       "    }\n",
       "</style>\n",
       "<table border=\"1\" class=\"dataframe\">\n",
       "  <thead>\n",
       "    <tr style=\"text-align: right;\">\n",
       "      <th></th>\n",
       "      <th>user_id</th>\n",
       "      <th>movie_id</th>\n",
       "      <th>rating</th>\n",
       "      <th>timestamp</th>\n",
       "    </tr>\n",
       "  </thead>\n",
       "  <tbody>\n",
       "    <tr>\n",
       "      <th>0</th>\n",
       "      <td>1</td>\n",
       "      <td>1193</td>\n",
       "      <td>5</td>\n",
       "      <td>978300760</td>\n",
       "    </tr>\n",
       "    <tr>\n",
       "      <th>1</th>\n",
       "      <td>1</td>\n",
       "      <td>661</td>\n",
       "      <td>3</td>\n",
       "      <td>978302109</td>\n",
       "    </tr>\n",
       "    <tr>\n",
       "      <th>2</th>\n",
       "      <td>1</td>\n",
       "      <td>914</td>\n",
       "      <td>3</td>\n",
       "      <td>978301968</td>\n",
       "    </tr>\n",
       "    <tr>\n",
       "      <th>3</th>\n",
       "      <td>1</td>\n",
       "      <td>3408</td>\n",
       "      <td>4</td>\n",
       "      <td>978300275</td>\n",
       "    </tr>\n",
       "    <tr>\n",
       "      <th>4</th>\n",
       "      <td>1</td>\n",
       "      <td>2355</td>\n",
       "      <td>5</td>\n",
       "      <td>978824291</td>\n",
       "    </tr>\n",
       "  </tbody>\n",
       "</table>\n",
       "</div>"
      ],
      "text/plain": [
       "   user_id  movie_id  rating  timestamp\n",
       "0        1      1193       5  978300760\n",
       "1        1       661       3  978302109\n",
       "2        1       914       3  978301968\n",
       "3        1      3408       4  978300275\n",
       "4        1      2355       5  978824291"
      ]
     },
     "execution_count": 11,
     "metadata": {},
     "output_type": "execute_result"
    }
   ],
   "source": [
    "ratings[:5]"
   ]
  },
  {
   "cell_type": "code",
   "execution_count": 12,
   "metadata": {
    "scrolled": true
   },
   "outputs": [
    {
     "data": {
      "text/html": [
       "<div>\n",
       "<style scoped>\n",
       "    .dataframe tbody tr th:only-of-type {\n",
       "        vertical-align: middle;\n",
       "    }\n",
       "\n",
       "    .dataframe tbody tr th {\n",
       "        vertical-align: top;\n",
       "    }\n",
       "\n",
       "    .dataframe thead th {\n",
       "        text-align: right;\n",
       "    }\n",
       "</style>\n",
       "<table border=\"1\" class=\"dataframe\">\n",
       "  <thead>\n",
       "    <tr style=\"text-align: right;\">\n",
       "      <th></th>\n",
       "      <th>user_id</th>\n",
       "      <th>movie_id</th>\n",
       "      <th>rating</th>\n",
       "      <th>timestamp</th>\n",
       "      <th>gender</th>\n",
       "      <th>age</th>\n",
       "      <th>occupation</th>\n",
       "      <th>zip</th>\n",
       "      <th>title</th>\n",
       "      <th>genres</th>\n",
       "    </tr>\n",
       "  </thead>\n",
       "  <tbody>\n",
       "    <tr>\n",
       "      <th>0</th>\n",
       "      <td>1</td>\n",
       "      <td>1193</td>\n",
       "      <td>5</td>\n",
       "      <td>978300760</td>\n",
       "      <td>F</td>\n",
       "      <td>1</td>\n",
       "      <td>10</td>\n",
       "      <td>48067</td>\n",
       "      <td>One Flew Over the Cuckoo's Nest (1975)</td>\n",
       "      <td>Drama</td>\n",
       "    </tr>\n",
       "    <tr>\n",
       "      <th>1</th>\n",
       "      <td>2</td>\n",
       "      <td>1193</td>\n",
       "      <td>5</td>\n",
       "      <td>978298413</td>\n",
       "      <td>M</td>\n",
       "      <td>56</td>\n",
       "      <td>16</td>\n",
       "      <td>70072</td>\n",
       "      <td>One Flew Over the Cuckoo's Nest (1975)</td>\n",
       "      <td>Drama</td>\n",
       "    </tr>\n",
       "    <tr>\n",
       "      <th>2</th>\n",
       "      <td>12</td>\n",
       "      <td>1193</td>\n",
       "      <td>4</td>\n",
       "      <td>978220179</td>\n",
       "      <td>M</td>\n",
       "      <td>25</td>\n",
       "      <td>12</td>\n",
       "      <td>32793</td>\n",
       "      <td>One Flew Over the Cuckoo's Nest (1975)</td>\n",
       "      <td>Drama</td>\n",
       "    </tr>\n",
       "    <tr>\n",
       "      <th>3</th>\n",
       "      <td>15</td>\n",
       "      <td>1193</td>\n",
       "      <td>4</td>\n",
       "      <td>978199279</td>\n",
       "      <td>M</td>\n",
       "      <td>25</td>\n",
       "      <td>7</td>\n",
       "      <td>22903</td>\n",
       "      <td>One Flew Over the Cuckoo's Nest (1975)</td>\n",
       "      <td>Drama</td>\n",
       "    </tr>\n",
       "    <tr>\n",
       "      <th>4</th>\n",
       "      <td>17</td>\n",
       "      <td>1193</td>\n",
       "      <td>5</td>\n",
       "      <td>978158471</td>\n",
       "      <td>M</td>\n",
       "      <td>50</td>\n",
       "      <td>1</td>\n",
       "      <td>95350</td>\n",
       "      <td>One Flew Over the Cuckoo's Nest (1975)</td>\n",
       "      <td>Drama</td>\n",
       "    </tr>\n",
       "    <tr>\n",
       "      <th>...</th>\n",
       "      <td>...</td>\n",
       "      <td>...</td>\n",
       "      <td>...</td>\n",
       "      <td>...</td>\n",
       "      <td>...</td>\n",
       "      <td>...</td>\n",
       "      <td>...</td>\n",
       "      <td>...</td>\n",
       "      <td>...</td>\n",
       "      <td>...</td>\n",
       "    </tr>\n",
       "    <tr>\n",
       "      <th>1000204</th>\n",
       "      <td>5949</td>\n",
       "      <td>2198</td>\n",
       "      <td>5</td>\n",
       "      <td>958846401</td>\n",
       "      <td>M</td>\n",
       "      <td>18</td>\n",
       "      <td>17</td>\n",
       "      <td>47901</td>\n",
       "      <td>Modulations (1998)</td>\n",
       "      <td>Documentary</td>\n",
       "    </tr>\n",
       "    <tr>\n",
       "      <th>1000205</th>\n",
       "      <td>5675</td>\n",
       "      <td>2703</td>\n",
       "      <td>3</td>\n",
       "      <td>976029116</td>\n",
       "      <td>M</td>\n",
       "      <td>35</td>\n",
       "      <td>14</td>\n",
       "      <td>30030</td>\n",
       "      <td>Broken Vessels (1998)</td>\n",
       "      <td>Drama</td>\n",
       "    </tr>\n",
       "    <tr>\n",
       "      <th>1000206</th>\n",
       "      <td>5780</td>\n",
       "      <td>2845</td>\n",
       "      <td>1</td>\n",
       "      <td>958153068</td>\n",
       "      <td>M</td>\n",
       "      <td>18</td>\n",
       "      <td>17</td>\n",
       "      <td>92886</td>\n",
       "      <td>White Boys (1999)</td>\n",
       "      <td>Drama</td>\n",
       "    </tr>\n",
       "    <tr>\n",
       "      <th>1000207</th>\n",
       "      <td>5851</td>\n",
       "      <td>3607</td>\n",
       "      <td>5</td>\n",
       "      <td>957756608</td>\n",
       "      <td>F</td>\n",
       "      <td>18</td>\n",
       "      <td>20</td>\n",
       "      <td>55410</td>\n",
       "      <td>One Little Indian (1973)</td>\n",
       "      <td>Comedy|Drama|Western</td>\n",
       "    </tr>\n",
       "    <tr>\n",
       "      <th>1000208</th>\n",
       "      <td>5938</td>\n",
       "      <td>2909</td>\n",
       "      <td>4</td>\n",
       "      <td>957273353</td>\n",
       "      <td>M</td>\n",
       "      <td>25</td>\n",
       "      <td>1</td>\n",
       "      <td>35401</td>\n",
       "      <td>Five Wives, Three Secretaries and Me (1998)</td>\n",
       "      <td>Documentary</td>\n",
       "    </tr>\n",
       "  </tbody>\n",
       "</table>\n",
       "<p>1000209 rows × 10 columns</p>\n",
       "</div>"
      ],
      "text/plain": [
       "         user_id  movie_id  rating  timestamp gender  age  occupation    zip  \\\n",
       "0              1      1193       5  978300760      F    1          10  48067   \n",
       "1              2      1193       5  978298413      M   56          16  70072   \n",
       "2             12      1193       4  978220179      M   25          12  32793   \n",
       "3             15      1193       4  978199279      M   25           7  22903   \n",
       "4             17      1193       5  978158471      M   50           1  95350   \n",
       "...          ...       ...     ...        ...    ...  ...         ...    ...   \n",
       "1000204     5949      2198       5  958846401      M   18          17  47901   \n",
       "1000205     5675      2703       3  976029116      M   35          14  30030   \n",
       "1000206     5780      2845       1  958153068      M   18          17  92886   \n",
       "1000207     5851      3607       5  957756608      F   18          20  55410   \n",
       "1000208     5938      2909       4  957273353      M   25           1  35401   \n",
       "\n",
       "                                               title                genres  \n",
       "0             One Flew Over the Cuckoo's Nest (1975)                 Drama  \n",
       "1             One Flew Over the Cuckoo's Nest (1975)                 Drama  \n",
       "2             One Flew Over the Cuckoo's Nest (1975)                 Drama  \n",
       "3             One Flew Over the Cuckoo's Nest (1975)                 Drama  \n",
       "4             One Flew Over the Cuckoo's Nest (1975)                 Drama  \n",
       "...                                              ...                   ...  \n",
       "1000204                           Modulations (1998)           Documentary  \n",
       "1000205                        Broken Vessels (1998)                 Drama  \n",
       "1000206                            White Boys (1999)                 Drama  \n",
       "1000207                     One Little Indian (1973)  Comedy|Drama|Western  \n",
       "1000208  Five Wives, Three Secretaries and Me (1998)           Documentary  \n",
       "\n",
       "[1000209 rows x 10 columns]"
      ]
     },
     "execution_count": 12,
     "metadata": {},
     "output_type": "execute_result"
    }
   ],
   "source": [
    "data = pd.merge(pd.merge(ratings, users), movies)\n",
    "data"
   ]
  },
  {
   "cell_type": "code",
   "execution_count": 13,
   "metadata": {
    "scrolled": true
   },
   "outputs": [],
   "source": [
    "#mean_ratings = data.pivot_table('rating', rows='title', cols='gender', aggfunc='mean')\n",
    "#mean_ratings[:5]"
   ]
  },
  {
   "cell_type": "markdown",
   "metadata": {},
   "source": [
    "### Chapter 1-2-3 (Edition 2) are introductory for pure python and so are skipped"
   ]
  },
  {
   "cell_type": "markdown",
   "metadata": {},
   "source": [
    "###  Chapter 4 - Numpy "
   ]
  },
  {
   "cell_type": "code",
   "execution_count": 14,
   "metadata": {},
   "outputs": [
    {
     "name": "stdout",
     "output_type": "stream",
     "text": [
      "CPU times: user 17.4 ms, sys: 164 µs, total: 17.6 ms\n",
      "Wall time: 17.5 ms\n",
      "CPU times: user 409 ms, sys: 0 ns, total: 409 ms\n",
      "Wall time: 407 ms\n"
     ]
    }
   ],
   "source": [
    "import numpy as np\n",
    "\n",
    "my_arr = np.arange(1000000)\n",
    "my_list = list(range(1000000))\n",
    "\n",
    "# IMPORTANT: The %time tag only applies to a single line\n",
    "# putting it on a preceding line will make it look as though \n",
    "# no time is taken for the call\n",
    "\n",
    "%time for _ in range(10): my_arr2 = my_arr * 3\n",
    "%time for _ in range(10): my_list2 = my_list * 3"
   ]
  },
  {
   "cell_type": "code",
   "execution_count": 15,
   "metadata": {
    "scrolled": true
   },
   "outputs": [
    {
     "name": "stdout",
     "output_type": "stream",
     "text": [
      "[[-1.27966037  0.3993922   0.44558504]\n",
      " [-0.73577411  0.99950846 -0.76137713]]\n",
      "[[-2.55932074  0.79878441  0.89117008]\n",
      " [-1.47154821  1.99901693 -1.52275425]]\n",
      "[[-12.79660369   3.99392204   4.45585042]\n",
      " [ -7.35774106   9.99508464  -7.61377126]]\n",
      "[[1.63753066 0.15951413 0.19854603]\n",
      " [0.54136353 0.99901717 0.57969513]]\n",
      "(2, 3)\n",
      "float64\n"
     ]
    }
   ],
   "source": [
    "import numpy as np\n",
    "data = np.random.randn(2,3) # shape of the output is 2X3\n",
    "#help(np.random.randn)\n",
    "print(data)\n",
    "print(data + data)\n",
    "print(data * 10)\n",
    "print(data * data)\n",
    "\n",
    "# numpy arrays are homogenous\n",
    "print(data.shape)\n",
    "print(data.dtype)"
   ]
  },
  {
   "cell_type": "code",
   "execution_count": 16,
   "metadata": {
    "scrolled": true
   },
   "outputs": [
    {
     "name": "stdout",
     "output_type": "stream",
     "text": [
      "[1 2 3 4]\n",
      "1\n",
      "(4,)\n",
      "=========\n",
      "[[1 2 3]\n",
      " [4 5 6]\n",
      " [7 8 9]]\n",
      "2\n",
      "(3, 3)\n",
      "=========\n",
      "[list([1, 2, 3]) list([4, 5, 6]) list([7, 8, 9, 10])]\n",
      "1\n",
      "(3,)\n",
      "=========\n",
      "[[[1 1 1]\n",
      "  [2 2 2]\n",
      "  [3 3 3]]\n",
      "\n",
      " [[4 4 4]\n",
      "  [5 5 5]\n",
      "  [6 6 6]]\n",
      "\n",
      " [[7 7 7]\n",
      "  [8 8 8]\n",
      "  [9 9 9]]]\n",
      "3\n",
      "(3, 3, 3)\n"
     ]
    }
   ],
   "source": [
    "\n",
    "my_list = [1,2,3,4]\n",
    "np_list = np.array(my_list)\n",
    "print(np_list)\n",
    "print(np_list.ndim) # dimensionality - 1\n",
    "print(np_list.shape) # 4 columns each of them has a scalar (4,)\n",
    "\n",
    "print(\"=========\")\n",
    "\n",
    "my_inner_list = [[1,2,3],[4,5,6],[7,8,9]]\n",
    "np_list = np.array(my_inner_list)\n",
    "print(np_list)\n",
    "print(np_list.ndim) # dimensionality - 2 (list of lists)\n",
    "print(np_list.shape) # 3 columns, each a list of 3 (3,3)\n",
    "\n",
    "print(\"=========\")\n",
    "\n",
    "my_inner_list = [[1,2,3],[4,5,6],[7,8,9, 10]]\n",
    "np_list = np.array(my_inner_list)\n",
    "print(np_list)\n",
    "print(np_list.ndim) # dimensionality - 1 since non homogenous sizes\n",
    "print(np_list.shape) # Non homogenous list size. 3 columns (3,)\n",
    "\n",
    "print(\"=========\")\n",
    "\n",
    "my_inner_list = [[[1,1,1],[2,2,2],[3,3,3]],\n",
    "                 [[4,4,4],[5,5,5],[6,6,6]],\n",
    "                 [[7,7,7],[8,8,8],[9,9,9]]]\n",
    "np_list = np.array(my_inner_list)\n",
    "print(np_list)\n",
    "print(np_list.ndim) # dimensionality - 3. List of list of list\n",
    "print(np_list.shape) # 3 columns, each a list with 3 columns, each with 3 column (3,3,3)\n",
    "\n"
   ]
  },
  {
   "cell_type": "code",
   "execution_count": 17,
   "metadata": {},
   "outputs": [
    {
     "name": "stdout",
     "output_type": "stream",
     "text": [
      "[0. 0. 0. 0. 0. 0. 0. 0. 0. 0.]\n",
      "[[[0. 0. 0.]\n",
      "  [0. 0. 0.]\n",
      "  [0. 0. 0.]]\n",
      "\n",
      " [[0. 0. 0.]\n",
      "  [0. 0. 0.]\n",
      "  [0. 0. 0.]]\n",
      "\n",
      " [[0. 0. 0.]\n",
      "  [0. 0. 0.]\n",
      "  [0. 0. 0.]]]\n",
      "[[[[0. 0.]\n",
      "   [0. 0.]]\n",
      "\n",
      "  [[0. 0.]\n",
      "   [0. 0.]]]\n",
      "\n",
      "\n",
      " [[[0. 0.]\n",
      "   [0. 0.]]\n",
      "\n",
      "  [[0. 0.]\n",
      "   [0. 0.]]]]\n"
     ]
    }
   ],
   "source": [
    "print(np.zeros(10))\n",
    "print(np.zeros((3,3,3))) # 3 dimensional array\n",
    "print(np.zeros((2,2,2,2))) # 3 dimensional array"
   ]
  },
  {
   "cell_type": "markdown",
   "metadata": {},
   "source": [
    "Visualzing dimensions - initial attempt\n",
    "\n",
    "- 0 dimension. A single value with no metadata. Ex: 19\n",
    "- 1 dimension. List of values. 1 metadata variable: size. Ex: [1,2,3,4]. Size: 4\n",
    "- 2 dimension. Matrix of values. Can grow horizontally or vertically. Imagine a sheet of paper which can grow horizontally or verically. Metadata: x-size and y-size Eg: Matrix with m,n row, column values to indicate size\n",
    "- 3 dimension. Multiple sheets of paper layered on one other. Extra metadata value to represent number of sheets. 3 sheets of paper. each paper length 1m and height 2m can be represented as 1,2,3\n",
    "- 4 dimension. Multiple stacks of sheets of paper. Extra metadata value represents the number of such stacks. Ex: 4 stacks of paper. Each stack with 5 sheets of paper and each paper has height 2m and widhth 3 me : (3,2,5,4) : (height, width, numsheets, numstacks)\n",
    "- 5 dims : multiple boxes. each box contains multiple stacks of paper. extra variable indicates the number of such boxes\n",
    "- 6 dims: container with boxes representing 5 dims.\n",
    "- 7 dims: boats with container\n",
    "- 8 dims: fleet with boats\n"
   ]
  },
  {
   "cell_type": "code",
   "execution_count": 18,
   "metadata": {
    "scrolled": true
   },
   "outputs": [
    {
     "name": "stdout",
     "output_type": "stream",
     "text": [
      "[0. 0. 0. 0.]\n",
      "[[0. 0.]\n",
      " [0. 0.]]\n",
      "[[1. 1.]\n",
      " [1. 1.]]\n",
      "[6.9361587e-310 6.9361587e-310 6.9361587e-310]\n",
      "[0 1 2 3]\n",
      "[[1 2]\n",
      " [3 4]]\n",
      "(2, 2)\n",
      "(2, 2)\n",
      "[[9 9]\n",
      " [9 9]]\n",
      "[[0 0]\n",
      " [0 0]]\n",
      "[[0 0]\n",
      " [0 0]]\n",
      "[[1. 0. 0.]\n",
      " [0. 1. 0.]\n",
      " [0. 0. 1.]]\n",
      "[[1. 0. 0.]\n",
      " [0. 1. 0.]\n",
      " [0. 0. 1.]]\n"
     ]
    }
   ],
   "source": [
    "# array creation methods\n",
    "\n",
    "print(np.zeros(4))\n",
    "print(np.zeros((2,2)))\n",
    "print(np.ones((2,2)))\n",
    "print(np.empty(3)) # unintialized\n",
    "print(np.arange(4))\n",
    "\n",
    "my_list = [[1,2],[3,4]]\n",
    "my_np = np.array(my_list) # copies data into np.array\n",
    "print(my_np)\n",
    "\n",
    "my_np_2 = np.asarray(my_list) # does a copy\n",
    "my_np_2 = np.asarray(my_np) # does not do a copy\n",
    "\n",
    "my_ones = np.ones_like(my_np_2) # create ones with same shape\n",
    "print(my_np_2.shape)\n",
    "print(my_ones.shape)\n",
    "\n",
    "# use shape fill with value\n",
    "my_fullof9s = np.full_like(my_ones , 9)\n",
    "print(my_fullof9s)\n",
    "\n",
    "# similarly\n",
    "print(np.zeros_like(my_ones))\n",
    "print(np.empty_like(my_ones))\n",
    "\n",
    "# identity (0s on the diagonal)\n",
    "# always creates an N*N matrix\n",
    "print(np.eye(3))\n",
    "print(np.identity(3))"
   ]
  },
  {
   "cell_type": "code",
   "execution_count": 19,
   "metadata": {},
   "outputs": [
    {
     "name": "stdout",
     "output_type": "stream",
     "text": [
      "int64\n",
      "float64\n",
      "[1 3]\n"
     ]
    }
   ],
   "source": [
    "# data types\n",
    "int_arr = np.array([1,2,3,4])\n",
    "print(int_arr.dtype)\n",
    "\n",
    "# cast to a different type (always copies)\n",
    "float_arr = int_arr.astype(np.float64)\n",
    "print(float_arr.dtype)\n",
    "\n",
    "# downcasting works - be careful\n",
    "floats = [1.2,3.4]\n",
    "print(np.array(floats).astype(np.int32)) # will give truncated values"
   ]
  },
  {
   "cell_type": "code",
   "execution_count": 20,
   "metadata": {
    "scrolled": true
   },
   "outputs": [
    {
     "name": "stdout",
     "output_type": "stream",
     "text": [
      "[[ 2  4  6]\n",
      " [ 8 10 12]]\n",
      "[[ True  True  True]\n",
      " [ True  True  True]]\n",
      "[[ 1  4  9]\n",
      " [16 25 36]]\n",
      "[[ 3  6  9]\n",
      " [12 15 18]]\n",
      "[[ 1  4  9]\n",
      " [16 25 36]]\n",
      "[[1.         0.5        0.33333333]\n",
      " [0.25       0.2        0.16666667]]\n",
      "[[ 2  4  6]\n",
      " [ 8 10 12]]\n"
     ]
    }
   ],
   "source": [
    "arr = np.array([[1,2,3], [4,5,6]])\n",
    "\n",
    "print(arr + arr)\n",
    "print(arr == arr) # returns booleans with same shape\n",
    "print(arr * arr)\n",
    "\n",
    "print(arr * 3) # scalars apply to all elements\n",
    "print(arr ** 2) # scalars apply to all elements\n",
    "print(1/arr) # scalars apply to all elements\n",
    "\n",
    "# operations between differently sizes arrays \n",
    "# termed 'broadcasting' seems to be an advanced topic\n",
    "\n",
    "diff_arr = np.array([[1,2,3], [4,5,6], [7,8,9]])\n",
    "\n",
    "print(arr + diff_arr[0:2]) # this works !"
   ]
  },
  {
   "cell_type": "code",
   "execution_count": 21,
   "metadata": {
    "scrolled": true
   },
   "outputs": [
    {
     "name": "stdout",
     "output_type": "stream",
     "text": [
      "[0 1 2 3 4 5 6 7 8 9]\n",
      "[8 9]\n",
      "[3 4]\n",
      "[ 0  1  2 -1 -1  5  6  7  8  9]\n",
      "[ 0  1  2 -1 -1  5  6 12 12 12]\n",
      "[23  1  2 -1 -1  5  6 12 12 12]\n"
     ]
    }
   ],
   "source": [
    "# indexing and slicing\n",
    "arr = np.arange(10)\n",
    "print(arr)\n",
    "print(arr[-2:])\n",
    "print(arr[3:5])\n",
    "\n",
    "# all slices are views and no copies are made implicitly\n",
    "# which means that changes are reflected in original array\n",
    "\n",
    "arr[3:5] = [-1, -1]\n",
    "print(arr)\n",
    "\n",
    "# scalars are broadcasted (applied to all values in the slice)\n",
    "arr[7:] = 12\n",
    "print(arr)\n",
    "\n",
    "# slices are views\n",
    "arr_slice = arr[0:1]\n",
    "arr_slice[:] = 23\n",
    "print(arr)"
   ]
  },
  {
   "cell_type": "code",
   "execution_count": 22,
   "metadata": {
    "scrolled": true
   },
   "outputs": [
    {
     "name": "stdout",
     "output_type": "stream",
     "text": [
      "[[[0 0]\n",
      "  [0 0]]\n",
      "\n",
      " [[1 1]\n",
      "  [1 1]]\n",
      "\n",
      " [[2 2]\n",
      "  [2 2]]]\n",
      "=====\n",
      "[[1 1]\n",
      " [1 1]]\n",
      "[2 2]\n",
      "2\n",
      "<class 'numpy.int64'>\n",
      "int64\n",
      "====\n",
      "2\n",
      "[0 1 2]\n",
      "[[[ 0  0]\n",
      "  [35  0]]\n",
      "\n",
      " [[ 1  1]\n",
      "  [35  1]]\n",
      "\n",
      " [[ 2  2]\n",
      "  [35  2]]]\n",
      "=====\n",
      "3\n",
      "3\n",
      "[[[1.]]]\n",
      "2\n",
      "[[1.]]\n",
      "1\n",
      "[1.]\n",
      "0\n",
      "1.0\n"
     ]
    }
   ],
   "source": [
    "# working with higher dim arrays\n",
    "\n",
    "# create a 3 dimensional array (list of 2 dim arrays)\n",
    "arr = np.array([np.full((2,2), x) for x in range(3)])\n",
    "print(arr)\n",
    "\n",
    "print(\"=====\")\n",
    "\n",
    "# indexing the 3 dim array results in the 2 dim elemen t\n",
    "print(arr[1])\n",
    "\n",
    "# chained indexing\n",
    "print(arr[2][1]) # results in a 1 dim array\n",
    "print(arr[2][1][0]) # results in a 0 dim array, scalar\n",
    "print(type(arr[2][1][0]))\n",
    "print(arr[2][1][0].dtype)\n",
    "\n",
    "print(\"====\")\n",
    "# comma separated indexing is the same thing\n",
    "print(arr[2,1,0])\n",
    "\n",
    "# slicing\n",
    "print(arr[:,1,0]) # from each 2 dim array, pick row 1 and from there element 0\n",
    "arr[:,1,0] = 35\n",
    "print(arr)\n",
    "\n",
    "print(\"=====\")\n",
    "\n",
    "# mixing indexes and slices results in a lowe dimensional slice\n",
    "dim_3 = np.ones((3,2,2))\n",
    "print(dim_3.ndim)\n",
    "# gets the last 2 dim element's last 1 dim elements' last element\n",
    "# this is a single element\n",
    "dim_3_slice = dim_3[-1:,-1:,-1:] \n",
    "# though a single element, it's still a 3 dim view since \n",
    "# we did not use indexes, only slices\n",
    "print(dim_3_slice.ndim)\n",
    "print(dim_3_slice)\n",
    "\n",
    "# using indexeds + slices results in a lower dim\n",
    "dim_2_slice = dim_3[-1,-1:,-1:]\n",
    "print(dim_2_slice.ndim)\n",
    "print(dim_2_slice)\n",
    "\n",
    "# using 2 indexes\n",
    "dim_1_slice = dim_3[-1,-1,-1:]\n",
    "print(dim_1_slice.ndim)\n",
    "print(dim_1_slice)\n",
    "\n",
    "# using 3 indexes\n",
    "dim_0_slice = dim_3[-1,-1,-1]\n",
    "print(dim_0_slice.ndim)\n",
    "print(dim_0_slice)\n"
   ]
  },
  {
   "cell_type": "code",
   "execution_count": 23,
   "metadata": {},
   "outputs": [
    {
     "name": "stdout",
     "output_type": "stream",
     "text": [
      "<U4\n",
      "['Bob' 'Joe' 'Will' 'Bob' 'Will' 'Joe' 'Joe']\n",
      "[ True False False  True False False False]\n",
      "[[-1.40512702 -0.52720267 -0.09968425 -0.06294557]\n",
      " [-0.52939909 -1.24853451 -0.65208414  0.30475923]\n",
      " [-1.466251   -0.54218782 -1.23608838  1.10267508]\n",
      " [-0.12849667 -1.65261498  0.05214848 -0.25109426]\n",
      " [-0.08002632 -0.34186576 -1.21174535 -0.96252311]\n",
      " [-0.27166656  3.15412852  1.74565936 -1.22921821]\n",
      " [ 1.58584149 -0.20607118 -0.58312306  0.74864004]]\n",
      "===\n",
      "[[-1.40512702 -0.52720267 -0.09968425 -0.06294557]\n",
      " [-0.12849667 -1.65261498  0.05214848 -0.25109426]]\n",
      "[[-0.06294557]\n",
      " [-0.25109426]]\n",
      "(2, 1)\n",
      "[[ 0.30475923]\n",
      " [ 1.10267508]\n",
      " [-0.96252311]\n",
      " [-1.22921821]\n",
      " [ 0.74864004]]\n",
      "<class 'numpy.ndarray'>\n",
      "bool\n"
     ]
    }
   ],
   "source": [
    "# boolean indexing\n",
    "names = np.array(['Bob', 'Joe', 'Will', 'Bob', 'Will', 'Joe', 'Joe'])\n",
    "data = np.random.randn(7, 4)\n",
    "print(names.dtype)\n",
    "#'<U4'  means little endian unicode 4 bytes\n",
    "#help(names.dtype)\n",
    "\n",
    "print(names)\n",
    "print(names == 'Bob') # comparison operator on a scalar also broadcasts\n",
    "\n",
    "# this boolean array can be passed to a different array\n",
    "# selects rows where the index in the boolean expression array is true\n",
    "# effectively selects 2 rows (0 and 3)\n",
    "print(data)\n",
    "print(\"===\")\n",
    "print(data[names == 'Bob']) \n",
    "\n",
    "# can also slice\n",
    "print(data[names == 'Bob', -1:]) \n",
    "print(data[names == 'Bob', -1:].shape) \n",
    "\n",
    "cond = names == 'Bob'\n",
    "print(data[~cond, -1:]) # negation\n",
    "\n",
    "#can create masks\n",
    "cond = (names == 'Bob') | (names == 'Will')\n",
    "print(type(cond)) # also an ndarray just has booleans\n",
    "print(cond.dtype)"
   ]
  },
  {
   "cell_type": "code",
   "execution_count": 24,
   "metadata": {},
   "outputs": [
    {
     "name": "stdout",
     "output_type": "stream",
     "text": [
      "2\n",
      "(2, 3)\n"
     ]
    }
   ],
   "source": [
    "# notation of shape\n",
    "# higher dimensions come first in the order \n",
    "# list of 2 elements each element is a list of 3 scalars\n",
    "arr = np.array([[2,3,4], [2,3,4]])\n",
    "print(arr.ndim)\n",
    "print(arr.shape)"
   ]
  },
  {
   "cell_type": "code",
   "execution_count": 25,
   "metadata": {
    "scrolled": true
   },
   "outputs": [
    {
     "name": "stdout",
     "output_type": "stream",
     "text": [
      "[[0.         0.         0.         0.        ]\n",
      " [0.         0.         0.         0.30475923]\n",
      " [0.         0.         0.         1.10267508]\n",
      " [0.         0.         0.05214848 0.        ]\n",
      " [0.         0.         0.         0.        ]\n",
      " [0.         3.15412852 1.74565936 0.        ]\n",
      " [1.58584149 0.         0.         0.74864004]]\n"
     ]
    }
   ],
   "source": [
    "# the next mapping is fascinating\n",
    "# data < 0 is a 3 dim boolean index. This allows \n",
    "# for manipulation at a scalar level\n",
    "data[data < 0] = 0\n",
    "print(data)\n",
    "# array takes in a boolean indexing condition\n",
    "# which has the same dimensions as itself\n",
    "# and then broadcasts only to those elements"
   ]
  },
  {
   "cell_type": "code",
   "execution_count": 26,
   "metadata": {},
   "outputs": [
    {
     "name": "stdout",
     "output_type": "stream",
     "text": [
      "====\n",
      "(3, 2, 2)\n",
      "(3, 2)\n",
      "[[[ 1.  1.]\n",
      "  [ 1.  1.]]\n",
      "\n",
      " [[24. 24.]\n",
      "  [24. 24.]]\n",
      "\n",
      " [[ 1.  1.]\n",
      "  [ 1.  1.]]]\n",
      "[[[50. 50.]\n",
      "  [50. 50.]]\n",
      "\n",
      " [[24. 24.]\n",
      "  [24. 24.]]\n",
      "\n",
      " [[50. 50.]\n",
      "  [50. 50.]]]\n"
     ]
    }
   ],
   "source": [
    "# in the first example, a single dimensional array\n",
    "# was used; so the indexing only applied to \n",
    "# the lower dimensional arrays whose higherstdimension array\n",
    "# mapped to True\n",
    "\n",
    "print(\"====\")\n",
    "# what happens is a two dimensional array is used ?\n",
    "dim_3_ones = np.ones((3,2,2))\n",
    "print(dim_3_ones.shape)\n",
    "\n",
    "# the higher dimensions need to match\n",
    "dim_2_boolean = np.array([[0,0],[1,1],[0,0]]) > 0\n",
    "print(dim_2_boolean.shape)\n",
    "\n",
    "dim_3_ones[dim_2_boolean] = 24\n",
    "print(dim_3_ones)\n",
    "\n",
    "dim_1_boolean = np.array([1,0,1]) > 0\n",
    "dim_3_ones[dim_1_boolean] = 50\n",
    "print(dim_3_ones)\n",
    "\n",
    "# if the boolean expression is of a lower dimension\n",
    "# all lower dimensions of the original array are brodcasted\n",
    "# example: a 1 dim bool expression is used for a 3 dim array\n",
    "# the lower 2 dims of the 3 dim array are untouched\n",
    "# when a 2 dim bool expression is used for a 3 dim array\n",
    "# each elemnt in the lower dimensions also is conditionally selected\n"
   ]
  },
  {
   "cell_type": "code",
   "execution_count": 27,
   "metadata": {
    "scrolled": true
   },
   "outputs": [
    {
     "name": "stdout",
     "output_type": "stream",
     "text": [
      "[[4. 4. 4. 4.]\n",
      " [3. 3. 3. 3.]\n",
      " [0. 0. 0. 0.]\n",
      " [6. 6. 6. 6.]]\n",
      "[[4. 4. 4. 4.]\n",
      " [3. 3. 3. 3.]\n",
      " [3. 3. 3. 3.]\n",
      " [4. 4. 4. 4.]]\n",
      "[[4. 4. 4. 4.]\n",
      " [7. 7. 7. 7.]\n",
      " [6. 6. 6. 6.]\n",
      " [4. 4. 4. 4.]]\n"
     ]
    }
   ],
   "source": [
    "# fancy indexing\n",
    "arr = np.empty((8,4))\n",
    "\n",
    "for i in range(8):\n",
    "    arr[i] = i\n",
    "\n",
    "# select rows in particular order:\n",
    "# select row 4 then 3 then 0 then 6:\n",
    "print(arr[[4,3,0,6]])\n",
    "print(arr[[4,3,3,4]])\n",
    "print(arr[[4,-1,-2,4]])"
   ]
  },
  {
   "cell_type": "code",
   "execution_count": 28,
   "metadata": {},
   "outputs": [
    {
     "name": "stdout",
     "output_type": "stream",
     "text": [
      "[[ 0  1  2  3]\n",
      " [ 4  5  6  7]\n",
      " [ 8  9 10 11]\n",
      " [12 13 14 15]\n",
      " [16 17 18 19]\n",
      " [20 21 22 23]\n",
      " [24 25 26 27]\n",
      " [28 29 30 31]]\n"
     ]
    }
   ],
   "source": [
    "# reshape\n",
    "arr=np.arange(32).reshape(8,4)\n",
    "print(arr)"
   ]
  },
  {
   "cell_type": "code",
   "execution_count": 29,
   "metadata": {
    "scrolled": true
   },
   "outputs": [
    {
     "name": "stdout",
     "output_type": "stream",
     "text": [
      "[ 4 23 29 10]\n",
      "[[ 4  6]\n",
      " [ 8 10]]\n",
      "----\n",
      "(8, 4)\n"
     ]
    },
    {
     "data": {
      "text/plain": [
       "array([[ 4,  6],\n",
       "       [ 8, 10]])"
      ]
     },
     "execution_count": 29,
     "metadata": {},
     "output_type": "execute_result"
    }
   ],
   "source": [
    "print(arr[[1,5,7,2],[0,3,1,2]]) # selects (1,0); (5,3); (7,1) ..\n",
    "\n",
    "# if the rectangular region bounded by the subset of rows, columns is desired\n",
    "# then do only select rows 1 2 and only colums 0 2\n",
    "print(arr[[1,2]][:,[0,2]])\n",
    "\n",
    "print(\"----\")\n",
    "\n",
    "# via bool expression\n",
    "print(arr.shape)\n",
    "row_index = np.zeros(arr.shape[0])\n",
    "column_index = np.zeros(arr.shape[1])\n",
    "row_index[1:3] = 1\n",
    "column_index[[0,2]] = 1\n",
    "arr[row_index == 1][:,column_index == 1]"
   ]
  },
  {
   "cell_type": "code",
   "execution_count": 30,
   "metadata": {
    "scrolled": true
   },
   "outputs": [
    {
     "name": "stdout",
     "output_type": "stream",
     "text": [
      "[[ 0  1  2  3  4]\n",
      " [ 5  6  7  8  9]\n",
      " [10 11 12 13 14]]\n",
      "[[ 0  5 10]\n",
      " [ 1  6 11]\n",
      " [ 2  7 12]\n",
      " [ 3  8 13]\n",
      " [ 4  9 14]]\n",
      "=======\n",
      "[[[ 0  1  2  3]\n",
      "  [ 4  5  6  7]]\n",
      "\n",
      " [[ 8  9 10 11]\n",
      "  [12 13 14 15]]]\n",
      "[[[ 0  1  2  3]\n",
      "  [ 8  9 10 11]]\n",
      "\n",
      " [[ 4  5  6  7]\n",
      "  [12 13 14 15]]]\n",
      "[[[ 0  4]\n",
      "  [ 8 12]]\n",
      "\n",
      " [[ 1  5]\n",
      "  [ 9 13]]\n",
      "\n",
      " [[ 2  6]\n",
      "  [10 14]]\n",
      "\n",
      " [[ 3  7]\n",
      "  [11 15]]]\n",
      "====\n",
      "14\n",
      "14\n"
     ]
    }
   ],
   "source": [
    "# swapping axes / transposing\n",
    "arr = np.arange(15).reshape((3, 5))\n",
    "print(arr)\n",
    "\n",
    "# transpose (which is just an axis swap)\n",
    "print(arr.T)\n",
    "\n",
    "print('=======')\n",
    "arr = np.arange(16).reshape((2,2,4))\n",
    "print(arr)\n",
    "print(arr.transpose(1,0,2))\n",
    "print(arr.transpose(2,0,1))\n",
    "\n",
    "# transpose above is a bit mind-bending but see explanation below\n",
    "\n",
    "print(\"====\")\n",
    "# the transformation itself is straightforward as \n",
    "# a bad brute force transformation could just be to \n",
    "# enumerate all of the elements and replace them using the \n",
    "# logic: element at x,y,z is now at z,x,y since we transposed 0,1,2\n",
    "# to 2, 0, 1\n",
    "print(arr[1][1][2])\n",
    "print(arr.transpose(2,0,1)[2][1][1])"
   ]
  },
  {
   "cell_type": "code",
   "execution_count": 31,
   "metadata": {
    "scrolled": false
   },
   "outputs": [
    {
     "name": "stdout",
     "output_type": "stream",
     "text": [
      "[0 1 2 3 4 5 6 7 8 9]\n",
      "[0.         1.         1.41421356 1.73205081 2.         2.23606798\n",
      " 2.44948974 2.64575131 2.82842712 3.        ]\n",
      "[1.00000000e+00 2.71828183e+00 7.38905610e+00 2.00855369e+01\n",
      " 5.45981500e+01 1.48413159e+02 4.03428793e+02 1.09663316e+03\n",
      " 2.98095799e+03 8.10308393e+03]\n",
      "=====\n",
      "[ 0.51343652  0.37410407  0.82466205  0.02030844 -0.5180933   1.34886365\n",
      "  0.55251653  0.24148773 -0.20468967  0.5193742 ]\n",
      "False\n"
     ]
    },
    {
     "data": {
      "text/plain": [
       "array([0.71654485, 0.61164048, 0.59113899, 0.        , 0.        ,\n",
       "       1.16140589, 0.74331456, 0.49141401, 0.        , 0.        ])"
      ]
     },
     "execution_count": 31,
     "metadata": {},
     "output_type": "execute_result"
    }
   ],
   "source": [
    "# universal functions\n",
    "arr = np.arange(10)\n",
    "print(arr)\n",
    "\n",
    "#unary\n",
    "print(np.sqrt(arr))\n",
    "print(np.exp(arr))\n",
    "\n",
    "print(\"=====\")\n",
    "# binary\n",
    "arr_1 = np.random.randn(10)\n",
    "arr_2 = np.random.randn(10)\n",
    "\n",
    "# element-wise maximum\n",
    "print(np.maximum(arr_1, arr_2))\n",
    "\n",
    "# in-place operations\n",
    "arr_1[arr_1  < 0 ] = 0\n",
    "arr_2 = np.sqrt(arr_1) # creates a new array\n",
    "print(arr_2 is arr_1)\n",
    "\n",
    "np.sqrt(arr_1, arr_1)\n"
   ]
  },
  {
   "cell_type": "code",
   "execution_count": 32,
   "metadata": {
    "scrolled": true
   },
   "outputs": [
    {
     "data": {
      "text/plain": [
       "array([[7.07106781, 7.06400028, 7.05693985, ..., 7.04988652, 7.05693985,\n",
       "        7.06400028],\n",
       "       [7.06400028, 7.05692568, 7.04985815, ..., 7.04279774, 7.04985815,\n",
       "        7.05692568],\n",
       "       [7.05693985, 7.04985815, 7.04278354, ..., 7.03571603, 7.04278354,\n",
       "        7.04985815],\n",
       "       ...,\n",
       "       [7.04988652, 7.04279774, 7.03571603, ..., 7.0286414 , 7.03571603,\n",
       "        7.04279774],\n",
       "       [7.05693985, 7.04985815, 7.04278354, ..., 7.03571603, 7.04278354,\n",
       "        7.04985815],\n",
       "       [7.06400028, 7.05692568, 7.04985815, ..., 7.04279774, 7.04985815,\n",
       "        7.05692568]])"
      ]
     },
     "execution_count": 32,
     "metadata": {},
     "output_type": "execute_result"
    }
   ],
   "source": [
    "points = np.arange(-5,5,0.01)\n",
    "xs,ys = np.meshgrid(points, points)\n",
    "#print(xs)\n",
    "#print(ys)\n",
    "#help(np.meshgrid)\n",
    "z = np.sqrt(xs**2  + ys**2)\n",
    "z"
   ]
  },
  {
   "cell_type": "code",
   "execution_count": 33,
   "metadata": {},
   "outputs": [
    {
     "data": {
      "text/plain": [
       "<matplotlib.colorbar.Colorbar at 0x7faef5245250>"
      ]
     },
     "execution_count": 33,
     "metadata": {},
     "output_type": "execute_result"
    },
    {
     "data": {
      "image/png": "[encoded data removed]",
      "text/plain": [
       "<Figure size 432x288 with 2 Axes>"
      ]
     },
     "metadata": {
      "needs_background": "light"
     },
     "output_type": "display_data"
    }
   ],
   "source": [
    "import matplotlib.pyplot as plt\n",
    "plt.imshow(z, cmap=plt.cm.gray)\n",
    "plt.colorbar()"
   ]
  },
  {
   "cell_type": "code",
   "execution_count": 34,
   "metadata": {
    "scrolled": true
   },
   "outputs": [
    {
     "name": "stdout",
     "output_type": "stream",
     "text": [
      "[1, -2, 3, -4, 5]\n",
      "[ 1 -2  3 -4  5]\n",
      "[1 0 3 0 5]\n"
     ]
    }
   ],
   "source": [
    "# where\n",
    "\n",
    "arr_1 = np.array([1,2,3,4,5])\n",
    "arr_2 = np.array([-1,-2,-3,-4,-5])\n",
    "cond_arr = np.array([bool(x % 2) for x in range(1,6)])\n",
    "\n",
    "#we could do (very slow since all of it is in python)\n",
    "selection = [x if z else y for x,y,z in zip(arr_1,arr_2,cond_arr)]\n",
    "print(selection)\n",
    "\n",
    "# instead do this\n",
    "selection_np = np.where(cond_arr, arr_1, arr_2)\n",
    "print(selection_np)\n",
    "\n",
    "\n",
    "# where arguments can also be scalar\n",
    "select_odd = np.where(arr_1 % 2 == 0, 0, arr_1)\n",
    "print(select_odd)"
   ]
  },
  {
   "cell_type": "code",
   "execution_count": 35,
   "metadata": {
    "scrolled": true
   },
   "outputs": [
    {
     "name": "stdout",
     "output_type": "stream",
     "text": [
      "[[-0.09272175 -0.92476975  0.49808306]\n",
      " [-0.87751972 -0.19239431  1.2969245 ]\n",
      " [ 0.85549155  0.33986027  2.27328583]]\n",
      "0.3529155194823203\n",
      "3.1762396753408826\n",
      "[-0.03824997 -0.25910126  1.3560978 ]\n",
      "=======\n",
      "[[0. 1. 2.]\n",
      " [3. 4. 5.]\n",
      " [6. 7. 8.]]\n",
      "[ 9. 12. 15.]\n",
      "[ 3. 12. 21.]\n",
      "[[ 0.  1.  3.]\n",
      " [ 3.  7. 12.]\n",
      " [ 6. 13. 21.]]\n"
     ]
    }
   ],
   "source": [
    "# aggregations and reductions\n",
    "arr = np.random.randn(3,3)\n",
    "print(arr)\n",
    "\n",
    "print(np.mean(arr))\n",
    "print(np.sum(arr))\n",
    "\n",
    "print(np.mean(arr, axis=0))\n",
    "\n",
    "print(\"=======\")\n",
    "arr = np.arange(9, dtype=np.float64).reshape(3,3)\n",
    "print(arr)\n",
    "\n",
    "print(np.sum(arr, axis=0))\n",
    "print(np.sum(arr, axis=1))\n",
    "\n",
    "print(np.cumsum(arr, axis=1))"
   ]
  },
  {
   "cell_type": "code",
   "execution_count": 36,
   "metadata": {
    "scrolled": true
   },
   "outputs": [
    {
     "name": "stdout",
     "output_type": "stream",
     "text": [
      "50\n",
      "True\n",
      "False\n",
      "True\n",
      "[1 1 1 2 3 4]\n",
      "5\n"
     ]
    }
   ],
   "source": [
    "# boolean array\n",
    "\n",
    "arr = np.random.randn(100)\n",
    "print((arr>0).sum()) # boolean values are coerced into 0 and 1 so can be summed\n",
    "\n",
    "print((arr>0).any())\n",
    "print((arr>0).all())\n",
    "arr[True] = 1 # turn all elements to 1\n",
    "print(arr.all())\n",
    "\n",
    "#sorting\n",
    "arr = np.array([1,4,1,2,3,1])\n",
    "arr.sort()\n",
    "print(arr)\n",
    "\n",
    "#quantiles\n",
    "arr = np.arange(100)\n",
    "print(arr[int(0.05 * len(arr))])"
   ]
  },
  {
   "cell_type": "code",
   "execution_count": 37,
   "metadata": {
    "scrolled": true
   },
   "outputs": [
    {
     "name": "stdout",
     "output_type": "stream",
     "text": [
      "[1 2 3 4 5]\n",
      "[1 3]\n",
      "[1 2 3 4 5 6]\n",
      "[ True  True False  True False False False False False]\n",
      "[2 4 5]\n",
      "[2 4 5 6]\n"
     ]
    }
   ],
   "source": [
    "# set-like operations\n",
    "arr_1 = np.array([1,1,2,3,4,4,4,4,5])\n",
    "arr_2 = np.array([6,6,1,3])\n",
    "\n",
    "print(np.unique(arr_1))\n",
    "print(np.intersect1d(arr_1, arr_2))\n",
    "print(np.union1d(arr_1, arr_2))\n",
    "print(np.in1d(arr_1, arr_2)) # figures out whether each element in arr_1 is in arr_2\n",
    "print(np.setdiff1d(arr_1, arr_2)) # elements in a but not in b\n",
    "print(np.setxor1d(arr_1, arr_2)) # elements that are in one but no both"
   ]
  },
  {
   "cell_type": "code",
   "execution_count": 38,
   "metadata": {
    "scrolled": true
   },
   "outputs": [
    {
     "name": "stdout",
     "output_type": "stream",
     "text": [
      "/home/rushi/dev/git/python\n",
      "total 464\n",
      "-rw-r--r-- 1 rushi rushi  89926 May  7 10:51 effective_python.ipynb\n",
      "drwxr-xr-x 3 rushi rushi   4096 May 15 08:13 c_module\n",
      "-rw-r--r-- 1 rushi rushi  97846 May 15 08:22 python_cookbook.ipynb\n",
      "drwxr-xr-x 7 rushi rushi   4096 May 18 20:11 environment\n",
      "-rw-r--r-- 1 rushi rushi 277150 May 29 07:55 PythonForDataAnalysis.ipynb\n"
     ]
    }
   ],
   "source": [
    "!pwd\n",
    "!ls -lrt"
   ]
  },
  {
   "cell_type": "code",
   "execution_count": 39,
   "metadata": {},
   "outputs": [],
   "source": [
    "# file saving and loading\n",
    "arr = np.arange(10)\n",
    "np.save('../../data/some_array', arr)"
   ]
  },
  {
   "cell_type": "code",
   "execution_count": 40,
   "metadata": {},
   "outputs": [
    {
     "name": "stdout",
     "output_type": "stream",
     "text": [
      "total 12\r\n",
      "drwxr-xr-x 10 rushi rushi 4096 Jun  8  2017 pda\r\n",
      "-rw-r--r--  1 rushi rushi  610 May 19 20:32 mult_arrays.npz\r\n",
      "-rw-r--r--  1 rushi rushi  208 May 29 07:56 some_array.npy\r\n"
     ]
    }
   ],
   "source": [
    "!ls -lrt ../../data/\n"
   ]
  },
  {
   "cell_type": "code",
   "execution_count": 41,
   "metadata": {},
   "outputs": [
    {
     "name": "stdout",
     "output_type": "stream",
     "text": [
      "[0 1 2 3 4 5 6 7 8 9]\n"
     ]
    }
   ],
   "source": [
    "arr = np.load('../../data/some_array.npy')\n",
    "print(arr)"
   ]
  },
  {
   "cell_type": "code",
   "execution_count": 42,
   "metadata": {},
   "outputs": [
    {
     "name": "stdout",
     "output_type": "stream",
     "text": [
      "<class 'numpy.lib.npyio.NpzFile'>\n",
      "[0 1 2 3 4 5 6 7 8 9]\n",
      "[0 1 2 3 4]\n"
     ]
    }
   ],
   "source": [
    "# saving multiple arrays\n",
    "a_arr = np.arange(10)\n",
    "b_arr = np.arange(5)\n",
    "np.savez('../../data/mult_arrays.npz', a=a_arr, b=b_arr)\n",
    "# can also use np.savez_compressed('arrays_compressed.npz')\n",
    "values = np.load('../../data/mult_arrays.npz')\n",
    "print(type(values))\n",
    "print(values['a'])\n",
    "print(values['b'])"
   ]
  },
  {
   "cell_type": "code",
   "execution_count": 43,
   "metadata": {
    "scrolled": true
   },
   "outputs": [
    {
     "name": "stdout",
     "output_type": "stream",
     "text": [
      "[[17]\n",
      " [38]]\n",
      "[[17]\n",
      " [38]]\n"
     ]
    }
   ],
   "source": [
    "#linear algebra\n",
    "x = np.array([[1,2,3],[4,5,6]]) # 2x3 matrix\n",
    "y = np.array([[1],[2], [4]]) # 3x1 matrix\n",
    "print(np.dot(x,y))\n",
    "\n",
    "# infix operator also does dot mult\n",
    "print(x@y)"
   ]
  },
  {
   "cell_type": "code",
   "execution_count": 44,
   "metadata": {
    "scrolled": true
   },
   "outputs": [
    {
     "name": "stdout",
     "output_type": "stream",
     "text": [
      "[[ 4.67464061 -0.04253764  1.96951865]\n",
      " [-0.04253764  1.02893721  0.25966716]\n",
      " [ 1.96951865  0.25966716  1.02348103]]\n",
      "[[ 1.7260858   0.97182692 -3.56812642]\n",
      " [ 0.97182692  1.58552145 -2.27238125]\n",
      " [-3.56812642 -2.27238125  8.4198476 ]]\n",
      "[[ 1.00000000e+00  1.54551000e-16 -4.81922311e-16]\n",
      " [-4.25745828e-17  1.00000000e+00  3.19655132e-16]\n",
      " [ 6.22850125e-17  1.73697483e-16  1.00000000e+00]]\n"
     ]
    }
   ],
   "source": [
    "# basic linear algebra functions\n",
    "arr = np.random.randn(3,3)\n",
    "mat = arr.T.dot(arr)\n",
    "print(mat)\n",
    "print(np.linalg.inv(mat))\n",
    "print(mat@np.linalg.inv(mat))\n",
    "\n",
    "# TODO understand and do:\n",
    "# eigens, pinv(penrose-moore pseudo inverse), qr decomposition,\n",
    "# svd (singular value decomposition), solve Ax = b for x\n",
    "# lstsq (least squares solution for ) Ax = b"
   ]
  },
  {
   "cell_type": "code",
   "execution_count": 45,
   "metadata": {},
   "outputs": [
    {
     "name": "stdout",
     "output_type": "stream",
     "text": [
      "[[ 0.91795174  0.81621017  0.96531075  2.39100013]\n",
      " [ 0.34769946  0.11863859 -1.20030863 -1.20315011]\n",
      " [-0.87670833 -1.12646774 -0.30326402 -1.84027514]\n",
      " [ 0.22225853 -1.14265861 -0.89027679 -0.98458093]]\n"
     ]
    }
   ],
   "source": [
    "# pseudo random number generation\n",
    "\n",
    "samples = np.random.normal(size=(4,4))\n",
    "print(samples)"
   ]
  },
  {
   "cell_type": "code",
   "execution_count": 46,
   "metadata": {},
   "outputs": [
    {
     "name": "stdout",
     "output_type": "stream",
     "text": [
      "533 ms ± 29.1 ms per loop (mean ± std. dev. of 7 runs, 1 loop each)\n"
     ]
    }
   ],
   "source": [
    "from random import normalvariate\n",
    "\n",
    "# generating large number of samples is faster in numpy\n",
    "# since it generates them simultaneously ?\n",
    "N = 1000000\n",
    "%timeit samples = [normalvariate(0,1) for _ in range(N)]"
   ]
  },
  {
   "cell_type": "code",
   "execution_count": 47,
   "metadata": {},
   "outputs": [
    {
     "name": "stdout",
     "output_type": "stream",
     "text": [
      "23.1 ms ± 1.28 ms per loop (mean ± std. dev. of 7 runs, 10 loops each)\n"
     ]
    }
   ],
   "source": [
    "%timeit np.random.normal(size=N)"
   ]
  },
  {
   "cell_type": "code",
   "execution_count": 48,
   "metadata": {
    "scrolled": true
   },
   "outputs": [
    {
     "name": "stdout",
     "output_type": "stream",
     "text": [
      "[0.19151945 0.62210877 0.43772774 0.78535858 0.77997581 0.27259261\n",
      " 0.27646426 0.80187218 0.95813935 0.87593263]\n",
      "[0.19151945 0.62210877 0.43772774 0.78535858 0.77997581 0.27259261\n",
      " 0.27646426 0.80187218 0.95813935 0.87593263]\n",
      "[ 0.47143516 -1.19097569  1.43270697 -0.3126519  -0.72058873  0.88716294\n",
      "  0.85958841 -0.6365235   0.01569637 -2.24268495]\n",
      "[ 0.47143516 -1.19097569  1.43270697 -0.3126519  -0.72058873  0.88716294\n",
      "  0.85958841 -0.6365235   0.01569637 -2.24268495]\n"
     ]
    }
   ],
   "source": [
    "# get the same random sequence\n",
    "np.random.seed(1234)\n",
    "print(np.random.rand(10))\n",
    "np.random.seed(1234)\n",
    "print(np.random.rand(10))\n",
    "\n",
    "# instead of global state, use a generator instead\n",
    "rng = np.random.RandomState(1234)\n",
    "print(rng.randn(10))\n",
    "rng = np.random.RandomState(1234)\n",
    "print(rng.randn(10))\n",
    "\n",
    "# TODO: Learn and run:\n",
    "# binomial, beta, chisquare, gamme and uniform distributions\n"
   ]
  },
  {
   "cell_type": "code",
   "execution_count": 49,
   "metadata": {
    "scrolled": true
   },
   "outputs": [
    {
     "data": {
      "text/plain": [
       "[<matplotlib.lines.Line2D at 0x7faef52252d0>]"
      ]
     },
     "execution_count": 49,
     "metadata": {},
     "output_type": "execute_result"
    },
    {
     "data": {
      "image/png": "[encoded data removed]",
      "text/plain": [
       "<Figure size 432x288 with 1 Axes>"
      ]
     },
     "metadata": {
      "needs_background": "light"
     },
     "output_type": "display_data"
    }
   ],
   "source": [
    "# random walk and simulation\n",
    "\n",
    "import random\n",
    "position = 0 \n",
    "walk = [position]\n",
    "steps = 1000\n",
    "for i in range(steps):\n",
    "    step = 1 if random.randint(0,1) else -1\n",
    "    position += step\n",
    "    walk.append(position)\n",
    "\n",
    "plt.title(\"Rushi Awesomeness over time\")\n",
    "plt.plot(walk[:100])"
   ]
  },
  {
   "cell_type": "code",
   "execution_count": 50,
   "metadata": {
    "scrolled": true
   },
   "outputs": [
    {
     "name": "stdout",
     "output_type": "stream",
     "text": [
      "-7\n",
      "62\n",
      "255\n",
      "[[  1   2   1 ...  48  47  48]\n",
      " [ -1  -2  -3 ...  36  37  36]\n",
      " [  1   2   1 ... -34 -35 -36]\n",
      " ...\n",
      " [ -1   0  -1 ...  66  65  66]\n",
      " [ -1  -2  -3 ...  -2  -3  -2]\n",
      " [  1   0   1 ...  34  33  34]]\n",
      "-130\n",
      "118\n",
      "3379\n"
     ]
    },
    {
     "data": {
      "text/plain": [
       "[<matplotlib.lines.Line2D at 0x7faef520cdd0>,\n",
       " <matplotlib.lines.Line2D at 0x7faef520c510>]"
      ]
     },
     "execution_count": 50,
     "metadata": {},
     "output_type": "execute_result"
    },
    {
     "data": {
      "image/png": "[encoded data removed]",
      "text/plain": [
       "<Figure size 432x288 with 1 Axes>"
      ]
     },
     "metadata": {
      "needs_background": "light"
     },
     "output_type": "display_data"
    }
   ],
   "source": [
    "# can achieve the same effect as above \n",
    "# since a walk is just a collection of steps and a cumulative sum\n",
    "\n",
    "nsteps = 1000\n",
    "draws = np.random.randint(0, 2, size=nsteps)\n",
    "steps = np.where(draws > 0, 1, -1)\n",
    "walk = steps.cumsum()\n",
    "print(walk.min())\n",
    "print(walk.max())\n",
    "\n",
    "# first time a value crossed a threshold\n",
    "print((np.abs(walk) >= 10).argmax())\n",
    "\n",
    "#generating multiple random walk simulations\n",
    "nwalks = 5000\n",
    "draws = np.random.randint(0, 2, size=(nwalks,nsteps))\n",
    "steps = np.where(draws > 0, 1, -1)\n",
    "walks = steps.cumsum(1) # cumsum over the 1st axis (not the 0th)\n",
    "print(walks)\n",
    "\n",
    "print(walks.min())\n",
    "print(walks.max())\n",
    "\n",
    "\n",
    "hits30 = (np.abs(walks) >= 30).any(1) # creats a boolean array\n",
    "print(hits30.sum()) # number of walks that hit 30\n",
    "\n",
    "# crossing times\n",
    "(np.abs(walks[hits30]) >= 30).argmax(1)\n",
    "\n",
    "# draw simultaneous\n",
    "t = walks[1][:100]\n",
    "z = walks[2][:100]\n",
    "#print(t)\n",
    "#print(z)\n",
    "plt.plot(t,'r', z, 'g')"
   ]
  },
  {
   "cell_type": "markdown",
   "metadata": {},
   "source": [
    "###  Chapter 5 - Pandas"
   ]
  },
  {
   "cell_type": "code",
   "execution_count": 51,
   "metadata": {},
   "outputs": [
    {
     "name": "stdout",
     "output_type": "stream",
     "text": [
      "0    1\n",
      "1    2\n",
      "2    3\n",
      "3    4\n",
      "dtype: int64\n",
      "[1 2 3 4]\n",
      "<class 'numpy.ndarray'>\n",
      "<class 'pandas.core.indexes.range.RangeIndex'>\n",
      "RangeIndex(start=0, stop=4, step=1)\n",
      "a    1\n",
      "b    2\n",
      "c    3\n",
      "d    4\n",
      "dtype: int64\n",
      "<class 'pandas.core.indexes.base.Index'>\n",
      "3\n",
      "3\n",
      "====\n",
      "c    3\n",
      "d    4\n",
      "dtype: int64\n",
      "a    1\n",
      "b    2\n",
      "c    3\n",
      "d    4\n",
      "dtype: int64\n"
     ]
    }
   ],
   "source": [
    "# series (fixed value ordered dict with index(keys) and values (np array))\n",
    "\n",
    "import pandas as pd\n",
    "from pandas import Series, DataFrame\n",
    "\n",
    "obj = Series([1,2,3,4]) # similar to np.array\n",
    "print(obj)\n",
    "\n",
    "# series have a sequence of values and an associated array of labels\n",
    "# called its index\n",
    "\n",
    "print(obj.values)\n",
    "print(type(obj.values)) # is a numpy array !\n",
    "print(type(obj.index))\n",
    "print(obj.index)\n",
    "#help(obj) --> TODO: Read the entire help\n",
    "\n",
    "\n",
    "obj2 = pd.Series([1,2,3,4], index = ['a','b', 'c', 'd'])\n",
    "print(obj2)\n",
    "print(type(obj2.index))\n",
    "\n",
    "# can use labels for access\n",
    "print(obj2['c'])\n",
    "print(obj2[2])\n",
    "\n",
    "print(\"====\")\n",
    "# link preserved post numpy filtering\n",
    "print(obj2[obj2 > 2])\n",
    "\n",
    "# can also be passed to numpy universal functions\n",
    "print(np.abs(obj2))\n"
   ]
  },
  {
   "cell_type": "code",
   "execution_count": 52,
   "metadata": {},
   "outputs": [
    {
     "name": "stdout",
     "output_type": "stream",
     "text": [
      "True\n",
      "False\n",
      "a    1\n",
      "b    2\n",
      "c    3\n",
      "d    4\n",
      "dtype: int64\n",
      "a    1.0\n",
      "b    2.0\n",
      "d    4.0\n",
      "e    NaN\n",
      "dtype: float64\n",
      "a    False\n",
      "b    False\n",
      "d    False\n",
      "e     True\n",
      "dtype: bool\n"
     ]
    }
   ],
   "source": [
    "# Series can also be though of as a fixed length ordered dict\n",
    "# mapping from index key to values\n",
    "\n",
    "# dict like operations\n",
    "print('b' in obj2)\n",
    "print('e' in obj2)\n",
    "\n",
    "\n",
    "# dict to series conversion\n",
    "sdata = {'a' : 1, 'b' : 2, 'c' : 3, 'd': 4}\n",
    "pdata = Series(sdata)\n",
    "print(pdata)\n",
    "\n",
    "# pass in a different order \n",
    "ordered_keys = ['a', 'b', 'd', 'e'] # exclude c, include e\n",
    "pdata = Series(sdata, index=ordered_keys)\n",
    "print(pdata) # will include e with a null value and exclude c\n",
    "print(pdata.isnull())"
   ]
  },
  {
   "cell_type": "code",
   "execution_count": 53,
   "metadata": {
    "scrolled": true
   },
   "outputs": [
    {
     "name": "stdout",
     "output_type": "stream",
     "text": [
      "a    2.0\n",
      "b    4.0\n",
      "c    6.0\n",
      "d    NaN\n",
      "e    NaN\n",
      "dtype: float64\n",
      "my_index\n",
      "a    1\n",
      "b    2\n",
      "c    3\n",
      "d    4\n",
      "Name: my_dataset, dtype: int64\n",
      "0    1\n",
      "1    2\n",
      "2    3\n",
      "3    4\n",
      "Name: my_dataset, dtype: int64\n"
     ]
    }
   ],
   "source": [
    "# data alignment by keys\n",
    "sdata = {'a' : 1, 'b' : 2, 'c' : 3, 'd': 4}\n",
    "pdata = Series(sdata)\n",
    "\n",
    "sdata = {'a' : 1, 'b' : 2, 'c' : 3, 'e': 4}\n",
    "pdata_2 = Series(sdata)\n",
    "\n",
    "print(pdata + pdata_2)\n",
    "\n",
    "#names to index and series \n",
    "pdata.name = \"my_dataset\"\n",
    "pdata.index.name = \"my_index\"\n",
    "print(pdata)\n",
    "\n",
    "# indexes can be replaced in-place\n",
    "pdata.index = range(4)\n",
    "print(pdata)"
   ]
  },
  {
   "cell_type": "code",
   "execution_count": 54,
   "metadata": {
    "scrolled": true
   },
   "outputs": [
    {
     "name": "stdout",
     "output_type": "stream",
     "text": [
      "    state  year  pop\n",
      "0    Ohio  2000  1.5\n",
      "1    Ohio  2001  1.7\n",
      "2    Ohio  2002  3.6\n",
      "3  Nevada  2001  2.4\n",
      "4  Nevada  2002  2.9\n",
      "5  Nevada  2003  3.2\n",
      "\n",
      "       year   state  pop empty\n",
      "one    2000    Ohio  1.5   NaN\n",
      "two    2001    Ohio  1.7   NaN\n",
      "three  2002    Ohio  3.6   NaN\n",
      "four   2001  Nevada  2.4   NaN\n",
      "five   2002  Nevada  2.9   NaN\n",
      "six    2003  Nevada  3.2   NaN\n",
      "Index(['year', 'state', 'pop', 'empty'], dtype='object')\n",
      "<class 'pandas.core.indexes.base.Index'>\n",
      "\n",
      "one      2000\n",
      "two      2001\n",
      "three    2002\n",
      "four     2001\n",
      "five     2002\n",
      "six      2003\n",
      "Name: year, dtype: int64\n",
      "one        Ohio\n",
      "two        Ohio\n",
      "three      Ohio\n",
      "four     Nevada\n",
      "five     Nevada\n",
      "six      Nevada\n",
      "Name: state, dtype: object\n",
      "year\n",
      "Index(['one', 'two', 'three', 'four', 'five', 'six'], dtype='object')\n",
      "[2000 2001 2002 2001 2002 2003]\n",
      "---\n",
      "year     2000\n",
      "state    Ohio\n",
      "pop       1.5\n",
      "empty     NaN\n",
      "Name: one, dtype: object\n",
      "<class 'pandas.core.series.Series'>\n",
      "Index(['year', 'state', 'pop', 'empty'], dtype='object')\n"
     ]
    }
   ],
   "source": [
    "# dataframe\n",
    "# table of data contains an ordered collection of columns.\n",
    "# has a row and column index\n",
    "# dict of series all sharing the same index\n",
    "\n",
    "# assumption: the shared index is the row index and the \n",
    "# column index is the keys in the dict which has columns/Series as values ?\n",
    "\n",
    "# construction from dict of equal length lists\n",
    "data = {'state': ['Ohio', 'Ohio', 'Ohio', 'Nevada', 'Nevada', 'Nevada']\n",
    "        ,'year': [2000, 2001, 2002, 2001, 2002, 2003]\n",
    "        ,'pop': [1.5, 1.7, 3.6, 2.4, 2.9, 3.2]}\n",
    "\n",
    "frame = DataFrame(data)\n",
    "print(frame)\n",
    "\n",
    "# can provide order of the columns as well as row indexes\n",
    "frame2 = DataFrame(data, \n",
    "                   columns=['year', 'state', 'pop', 'empty'],\n",
    "                   index=['one', 'two', 'three', 'four', 'five', 'six'])\n",
    "print()\n",
    "print(frame2)\n",
    "\n",
    "print(frame2.columns)\n",
    "print(type(frame2.columns))\n",
    "\n",
    "print()\n",
    "# access as dict key or attribute\n",
    "print(frame2.year)# returns a series with the same index as the frame \n",
    "print(frame2['state']) \n",
    "print(frame2.year.name)\n",
    "print(frame2.year.index)\n",
    "print(frame2.year.values)\n",
    "\n",
    "print(\"---\")\n",
    "# getting an entire row (with all columns from the frame)\n",
    "print(frame2.loc['one']) \n",
    "# the return type is a series with the column names\n",
    "# as the index of the series\n",
    "print(type(frame2.loc['one']))\n",
    "print(frame2.loc['one'].index)"
   ]
  },
  {
   "cell_type": "code",
   "execution_count": 55,
   "metadata": {},
   "outputs": [
    {
     "name": "stdout",
     "output_type": "stream",
     "text": [
      "6\n",
      "       year   state  pop  empty\n",
      "one    2000    Ohio  1.5      0\n",
      "two    2001    Ohio  1.7      1\n",
      "three  2002    Ohio  3.6      2\n",
      "four   2001  Nevada  2.4      3\n",
      "five   2002  Nevada  2.9      4\n",
      "six    2003  Nevada  3.2      5\n",
      "       year   state  pop  empty\n",
      "one    2000    Ohio  1.5     15\n",
      "two    2001    Ohio  1.7     15\n",
      "three  2002    Ohio  3.6     15\n",
      "four   2001  Nevada  2.4     15\n",
      "five   2002  Nevada  2.9     15\n",
      "six    2003  Nevada  3.2     15\n"
     ]
    }
   ],
   "source": [
    "# entire columns can be modified\n",
    "print(len(frame2['empty']))\n",
    "frame2['empty']  = np.arange(len(frame2['empty']))\n",
    "print(frame2)\n",
    "\n",
    "# can also do scalar assignments similar to np arrays\n",
    "frame2['empty'] = 15\n",
    "print(frame2)"
   ]
  },
  {
   "cell_type": "code",
   "execution_count": 56,
   "metadata": {},
   "outputs": [
    {
     "name": "stdout",
     "output_type": "stream",
     "text": [
      "       year   state  pop  empty  new_column\n",
      "one    2000    Ohio  1.5     15           0\n",
      "two    2001    Ohio  1.7     15           1\n",
      "three  2002    Ohio  3.6     15           2\n",
      "four   2001  Nevada  2.4     15           3\n",
      "five   2002  Nevada  2.9     15           4\n",
      "six    2003  Nevada  3.2     15           5\n"
     ]
    }
   ],
   "source": [
    "# assign new columns\n",
    "frame2['new_column'] = np.arange(6)\n",
    "print(frame2)"
   ]
  },
  {
   "cell_type": "code",
   "execution_count": 57,
   "metadata": {
    "scrolled": false
   },
   "outputs": [
    {
     "name": "stdout",
     "output_type": "stream",
     "text": [
      "       year   state  pop  empty  new_column  new_column_2\n",
      "one    2000    Ohio  1.5     15           0           NaN\n",
      "two    2001    Ohio  1.7     15           1           NaN\n",
      "three  2002    Ohio  3.6     15           2           NaN\n",
      "four   2001  Nevada  2.4     15           3           NaN\n",
      "five   2002  Nevada  2.9     15           4           NaN\n",
      "six    2003  Nevada  3.2     15           5           NaN\n",
      "==========\n",
      "       year   state  pop  empty  new_column  new_column_2\n",
      "one    2000    Ohio  1.5     15           0             0\n",
      "two    2001    Ohio  1.7     15           1             1\n",
      "three  2002    Ohio  3.6     15           2             2\n",
      "four   2001  Nevada  2.4     15           3             3\n",
      "five   2002  Nevada  2.9     15           4             4\n",
      "six    2003  Nevada  3.2     15           5             5\n",
      "Index(['year', 'state', 'pop', 'empty', 'new_column'], dtype='object')\n"
     ]
    }
   ],
   "source": [
    "# assign new series\n",
    "\n",
    "# this will not work since the series does not have the \n",
    "# right indexes\n",
    "new_column_2 = pd.Series([x for x in range(6)])\n",
    "frame2['new_column_2'] = new_column_2\n",
    "print(frame2)\n",
    "\n",
    "#assigning the indexes to the series will make it work\n",
    "print(\"==========\")\n",
    "new_column_2 = pd.Series([x for x in range(6)],\n",
    "                         index=frame2.index)\n",
    "frame2['new_column_2'] = new_column_2\n",
    "print(frame2)\n",
    "\n",
    "# deleting columns\n",
    "del frame2['new_column_2']\n",
    "print(frame2.columns)"
   ]
  },
  {
   "cell_type": "code",
   "execution_count": 58,
   "metadata": {
    "scrolled": true
   },
   "outputs": [
    {
     "name": "stdout",
     "output_type": "stream",
     "text": [
      "      nevada  ohio\n",
      "2001     2.4   1.6\n",
      "2002     2.9   3.5\n",
      "2000     NaN   1.5\n",
      "Index(['nevada', 'ohio'], dtype='object')\n",
      "Int64Index([2001, 2002, 2000], dtype='int64')\n",
      "nevada    2.9\n",
      "ohio      3.5\n",
      "Name: 2002, dtype: float64\n",
      "        2001  2002  2000\n",
      "nevada   2.4   2.9   NaN\n",
      "ohio     1.6   3.5   1.5\n",
      "[[2.4 1.6]\n",
      " [2.9 3.5]\n",
      " [nan 1.5]]\n",
      "(3, 2)\n",
      "(2, 3)\n"
     ]
    }
   ],
   "source": [
    "# nested dictionaries for pandas dataframe construction\n",
    "\n",
    "pop = {'nevada' : {2001: 2.4, 2002: 2.9},\n",
    "       'ohio' : {2000: 1.5, 2001:1.6, 2002:3.5}}\n",
    "pop_frame = DataFrame(pop)\n",
    "print(pop_frame)\n",
    "# the inner keys are considered to be the row indexes\n",
    "# the outer keys are considered to be the column indexes\n",
    "print(pop_frame.columns)\n",
    "print(pop_frame.index)\n",
    "# getting a particular row \n",
    "print(pop_frame.loc[2002])\n",
    "\n",
    "# dataframe can be transposed\n",
    "print(pop_frame.T)\n",
    "\n",
    "# values will return a 2 dimensional array with all of the values\n",
    "print(pop_frame.values)\n",
    "print(pop_frame.values.shape)\n",
    "print(pop_frame.T.values.shape)"
   ]
  },
  {
   "cell_type": "code",
   "execution_count": 59,
   "metadata": {
    "scrolled": false
   },
   "outputs": [
    {
     "name": "stdout",
     "output_type": "stream",
     "text": [
      "[[0 1 2 3 4]\n",
      " [5 6 7 8 9]]\n",
      "         one  two  three  four  five\n",
      "row_one    0    1      2     3     4\n",
      "row_two    5    6      7     8     9\n",
      "=====\n",
      "   col_a  col_b col_c\n",
      "0      1      0     a\n",
      "1      2      1     b\n",
      "2      3      2     c\n",
      "3      4      3     d\n",
      "4      5      4     e\n",
      "===\n",
      "   column_1  column_2\n",
      "a         1         2\n",
      "b         2         2\n",
      "c         3         2\n",
      "d         4         2\n",
      "e         5         2\n",
      "      nevada  ohio\n",
      "2001     2.4   1.6\n",
      "2002     2.9   3.5\n",
      "2000     NaN   1.5\n",
      "   a  b  c  d  e\n",
      "0  1  2  3  4  5\n",
      "1  2  2  2  2  2\n",
      "   0  1\n",
      "a  1  2\n",
      "b  2  2\n",
      "c  3  2\n",
      "d  4  2\n",
      "e  5  2\n",
      "     a  b    c\n",
      "0  1.0  2  NaN\n",
      "1  NaN  2  1.0\n",
      "=========\n",
      "   0  1  2\n",
      "0  0  1  2\n",
      "1  1  2  3\n",
      "        0   1   2\n",
      "row_1 NaN NaN NaN\n",
      "row_2 NaN NaN NaN\n",
      "   0  1  2\n",
      "0  0  1  2\n",
      "1  1  2  3\n"
     ]
    }
   ],
   "source": [
    "# construction methods for data frame\n",
    "\n",
    "# np 2d array\n",
    "np_2d = np.arange(10).reshape(2,5)\n",
    "print(np_2d)\n",
    "\n",
    "pd = DataFrame(np_2d,\n",
    "               columns=['one', 'two', 'three', 'four', 'five'],\n",
    "               index=['row_one', 'row_two']\n",
    "              )\n",
    "print(pd)\n",
    "print(\"=====\")\n",
    "\n",
    "# dict of arrays, lists or tuples\n",
    "# keys of dict are interpreted as column names\n",
    "my_dict = {'col_a' : [1,2,3,4,5],\n",
    "          'col_b' : [x for x in range(5)],\n",
    "          'col_c' : ['a', 'b', 'c', 'd', 'e']}\n",
    "pd = DataFrame(my_dict)\n",
    "print(pd)\n",
    "\n",
    "# dict of series\n",
    "series_1 = Series([1,2,3,4,5], index=['a','b','c','d','e'])\n",
    "series_2 = Series([2,2,2,2,2], index=['a','b','c','d','e'])\n",
    "pd = DataFrame({'column_1' : series_1, 'column_2' : series_2})\n",
    "print(\"===\")\n",
    "print(pd)\n",
    "\n",
    "# dict of dict (inner key is a row label)\n",
    "pop = {'nevada' : {2001: 2.4, 2002: 2.9},\n",
    "       'ohio' : {2000: 1.5, 2001:1.6, 2002:3.5}}\n",
    "pop_frame = DataFrame(pop)\n",
    "print(pop_frame)\n",
    "\n",
    "# list of series, union of indexes in series is the column index\n",
    "pd = DataFrame([series_1, series_2])\n",
    "print(pd)\n",
    "print(pd.T)\n",
    "\n",
    "# list of dicts\n",
    "dict_1 = {'a' : 1, 'b': 2}\n",
    "dict_2 = {'c' : 1, 'b': 2}\n",
    "pd = DataFrame([dict_1, dict_2])\n",
    "print(pd)\n",
    "\n",
    "# list of lists or tuples (same as 2dim nd array)\n",
    "list_1 = [0,1,2]\n",
    "list_2 = [1,2,3]\n",
    "pd = DataFrame([list_1, list_2])\n",
    "# same as [[],[]] which is the same way a 2dim array looks\n",
    "print(\"=========\")\n",
    "print(pd)\n",
    "\n",
    "#  Different dataframe\n",
    "# earlier dataframe had two rows.\n",
    "my_pd = DataFrame(pd, index=['row_1', 'row_2'])\n",
    "print(my_pd) \n",
    "\n",
    "my_pd_2 = DataFrame(pd)\n",
    "print(my_pd_2)\n",
    "\n",
    "# TODO: numpy maskled array and numpy structured record/record array"
   ]
  },
  {
   "cell_type": "code",
   "execution_count": 60,
   "metadata": {},
   "outputs": [
    {
     "name": "stdout",
     "output_type": "stream",
     "text": [
      "Index(['a', 'b', 'c'], dtype='object')\n",
      "<class 'pandas.core.indexes.base.Index'>\n",
      "Index(['b', 'c'], dtype='object')\n",
      "Int64Index([0, 1, 2], dtype='int64')\n",
      "True\n"
     ]
    }
   ],
   "source": [
    "# index objects\n",
    "import pandas as pd\n",
    "\n",
    "pd_d = DataFrame(range(3), index=['a', 'b', 'c'])\n",
    "print(pd_d.index)\n",
    "print(type(pd_d.index))\n",
    "print(pd_d.index[1:])\n",
    "\n",
    "# create new lables\n",
    "labels = pd.Index(np.arange(3))\n",
    "print(labels)\n",
    "\n",
    "new_series = pd.Series([0,1,2], index=labels)\n",
    "print(new_series.index is labels)\n",
    "\n"
   ]
  },
  {
   "cell_type": "code",
   "execution_count": 61,
   "metadata": {},
   "outputs": [
    {
     "name": "stdout",
     "output_type": "stream",
     "text": [
      "   a  b\n",
      "0  1  2\n",
      "1  3  4\n",
      "Index(['a', 'b'], dtype='object')\n",
      "True\n",
      "Index(['a', 'd', 'd'], dtype='object')\n",
      "   0\n",
      "a  0\n",
      "d  1\n",
      "d  2\n",
      "<class 'pandas.core.frame.DataFrame'>\n",
      "<class 'pandas.core.series.Series'>\n"
     ]
    }
   ],
   "source": [
    "dict_1 = {'a' : 1, 'b': 2}\n",
    "dict_2 = {'a' : 3, 'b': 4}\n",
    "pd_d = DataFrame([dict_1, dict_2])\n",
    "print(pd_d)\n",
    "\n",
    "print(pd_d.columns)\n",
    "\n",
    "# set like semantics\n",
    "print('a' in pd_d.columns)\n",
    "\n",
    "import pandas as pd \n",
    "# pandas index can contain duplicate labels\n",
    "labels = pd.Index(['a','d','d'])\n",
    "print(labels)\n",
    "\n",
    "pd_d = DataFrame(np.arange(3), labels)\n",
    "print(pd_d)\n",
    "\n",
    "print(type(pd_d.T['d'])) # if there are multiple selections, returns a dataframe\n",
    "print(type(pd_d.T['a'])) # if there is a single selection, returns a series"
   ]
  },
  {
   "cell_type": "code",
   "execution_count": 62,
   "metadata": {
    "scrolled": true
   },
   "outputs": [
    {
     "name": "stdout",
     "output_type": "stream",
     "text": [
      "a    1\n",
      "b    2\n",
      "c    3\n",
      "d    4\n",
      "dtype: int64\n",
      "c    3.0\n",
      "d    4.0\n",
      "b    2.0\n",
      "a    1.0\n",
      "e    NaN\n",
      "dtype: float64\n"
     ]
    }
   ],
   "source": [
    "# essential functionality\n",
    "\n",
    "obj = pd.Series([1,2,3,4], index=['a', 'b', 'c', 'd'])\n",
    "print(obj)\n",
    "obj2 = obj.reindex(['c', 'd', 'b', 'a', 'e']) # re-arrange + introduce new\n",
    "print(obj2)"
   ]
  },
  {
   "cell_type": "code",
   "execution_count": 63,
   "metadata": {
    "scrolled": true
   },
   "outputs": [
    {
     "name": "stdout",
     "output_type": "stream",
     "text": [
      "0     Apple\n",
      "5    Orange\n",
      "7    Banana\n",
      "dtype: object\n",
      "0     Apple\n",
      "1     Apple\n",
      "2     Apple\n",
      "3     Apple\n",
      "4     Apple\n",
      "5    Orange\n",
      "6    Orange\n",
      "7    Banana\n",
      "dtype: object\n",
      "0     Apple\n",
      "1    Orange\n",
      "2    Orange\n",
      "3    Orange\n",
      "4    Orange\n",
      "5    Orange\n",
      "6    Banana\n",
      "7    Banana\n",
      "dtype: object\n",
      "0     Apple\n",
      "1     Apple\n",
      "2     Apple\n",
      "3    Orange\n",
      "4    Orange\n",
      "5    Orange\n",
      "6    Banana\n",
      "7    Banana\n",
      "dtype: object\n"
     ]
    }
   ],
   "source": [
    "obj = pd.Series(['Apple', 'Orange', 'Banana'], index=[0,5,7])\n",
    "print(obj)\n",
    "obj2 = obj.reindex(range(8), method='ffill')\n",
    "print(obj2)\n",
    "\n",
    "obj3 = obj.reindex(range(8), method='bfill')\n",
    "print(obj3)\n",
    "\n",
    "obj4 = obj.reindex(range(8), method='nearest')\n",
    "print(obj4)"
   ]
  },
  {
   "cell_type": "code",
   "execution_count": 64,
   "metadata": {
    "scrolled": true
   },
   "outputs": [
    {
     "name": "stdout",
     "output_type": "stream",
     "text": [
      "   a  b\n",
      "0  0  2\n",
      "1  3  3\n",
      "   a  e  f\n",
      "0  0  2  2\n",
      "1  3  3  3\n"
     ]
    }
   ],
   "source": [
    "obj = pd.DataFrame({'a': [0,3] , 'b': [2,3]})\n",
    "print(obj)\n",
    "\n",
    "obj2 = obj.reindex(columns=['a', 'e','f'], method='ffill')\n",
    "print(obj2)"
   ]
  },
  {
   "cell_type": "code",
   "execution_count": 65,
   "metadata": {
    "scrolled": false
   },
   "outputs": [
    {
     "name": "stdout",
     "output_type": "stream",
     "text": [
      "          one  two  three  four\n",
      "Ohio        0    1      2     3\n",
      "Colorado    4    5      6     7\n",
      "Utah        8    9     10    11\n",
      "New York   12   13     14    15\n",
      "          one  two  three  four\n",
      "Colorado    4    5      6     7\n",
      "New York   12   13     14    15\n",
      "          one  four\n",
      "Colorado    4     7\n",
      "New York   12    15\n",
      "          one  two  three  four\n",
      "Colorado    4    5      6     7\n",
      "Utah        8    9     10    11\n",
      "New York   12   13     14    15\n"
     ]
    }
   ],
   "source": [
    "# dropping indexes\n",
    "data = pd.DataFrame(np.arange(16).reshape((4, 4)),\n",
    "                    index=['Ohio', 'Colorado', 'Utah', 'New York'],\n",
    "                    columns=['one', 'two', 'three', 'four'])\n",
    "\n",
    "print(data)\n",
    "data2 = data.drop(['Ohio', 'Utah']) # drops axis 0\n",
    "print(data2)\n",
    "data3 = data2.drop(['two', 'three'], axis=1) # drops axis 1\n",
    "print(data3)\n",
    "\n",
    "data.drop(['Ohio'], inplace=True)\n",
    "print(data)"
   ]
  },
  {
   "cell_type": "code",
   "execution_count": 66,
   "metadata": {
    "scrolled": true
   },
   "outputs": [
    {
     "name": "stdout",
     "output_type": "stream",
     "text": [
      "True\n",
      "c    True\n",
      "d    True\n",
      "dtype: bool\n",
      "a    0.0\n",
      "b    1.0\n",
      "dtype: float64\n"
     ]
    }
   ],
   "source": [
    "# indexing, selection and filtering\n",
    "\n",
    "obj = pd.Series(np.arange(4.), index = ['a','b','c','d'])\n",
    "print(obj['a'] == obj[0])\n",
    "\n",
    "print(obj[2:4] == obj[['c', 'd']])\n",
    "print(obj[obj<2])"
   ]
  },
  {
   "cell_type": "code",
   "execution_count": 67,
   "metadata": {
    "scrolled": true
   },
   "outputs": [
    {
     "name": "stdout",
     "output_type": "stream",
     "text": [
      "          one  two  three  four\n",
      "Ohio        0    1      2     3\n",
      "Colorado    4    5      6     7\n",
      "Utah        8    9     10    11\n",
      "New York   12   13     14    15\n",
      "Ohio         0\n",
      "Colorado     4\n",
      "Utah         8\n",
      "New York    12\n",
      "Name: one, dtype: int64\n",
      "Ohio         True\n",
      "Colorado    False\n",
      "Utah         True\n",
      "New York    False\n",
      "Name: one, dtype: bool\n",
      "      one  two  three  four\n",
      "Ohio    0    1      2     3\n",
      "Utah    8    9     10    11\n",
      "          one  two  three  four\n",
      "Ohio        0    1      2     3\n",
      "Colorado    4    5      6     7\n",
      "          one  two  three  four\n",
      "Ohio       19   19     19    19\n",
      "Colorado    4    5      6     7\n",
      "Utah       19   19     19    19\n",
      "New York   12   13     14    15\n"
     ]
    }
   ],
   "source": [
    "data = pd.DataFrame(np.arange(16).reshape((4, 4)),\n",
    "                    index=['Ohio', 'Colorado', 'Utah', 'New York'],\n",
    "                    columns=['one', 'two', 'three', 'four'])\n",
    "\n",
    "# for dataframes, only columns are directly accesible\n",
    "#print(data[['Ohio']]) --> Error\n",
    "print(data)\n",
    "print(data['one'])\n",
    "print(data['one'] % 8 == 0) # creates a one dim selection array\n",
    "print(data[data['one'] % 8 == 0])\n",
    "\n",
    "#special case to select rows\n",
    "print(data[:2])\n",
    "\n",
    "# passing in non labels does not work\n",
    "# though this  works for the series, it does not work for datframe\n",
    "#rint(data[2])\n",
    "\n",
    "data[data['one'] % 8 == 0] = 19\n",
    "print(data)"
   ]
  },
  {
   "cell_type": "code",
   "execution_count": 68,
   "metadata": {
    "scrolled": true
   },
   "outputs": [
    {
     "name": "stdout",
     "output_type": "stream",
     "text": [
      "two      1\n",
      "three    2\n",
      "Name: Ohio, dtype: int64\n",
      "<class 'pandas.core.series.Series'>\n",
      "one      0\n",
      "two      1\n",
      "three    2\n",
      "Name: Ohio, dtype: int64\n",
      "<class 'pandas.core.series.Series'>\n",
      "one      0\n",
      "two      1\n",
      "three    2\n",
      "four     3\n",
      "Name: Ohio, dtype: int64\n",
      "          one  two\n",
      "Ohio        0    1\n",
      "Colorado    4    5\n",
      "<class 'pandas.core.frame.DataFrame'>\n",
      "1\n",
      "two      1\n",
      "three    2\n",
      "four     3\n",
      "Name: Ohio, dtype: int64\n",
      "          four\n",
      "Colorado     7\n",
      "Utah        11\n",
      "New York    15\n"
     ]
    }
   ],
   "source": [
    "# loc and iloc \n",
    "# dataframe label-indexing on the rows\n",
    "# loc uses the axes labels\n",
    "# iloc uses the integers directly\n",
    "data = pd.DataFrame(np.arange(16).reshape((4, 4)),\n",
    "                    index=['Ohio', 'Colorado', 'Utah', 'New York'],\n",
    "                    columns=['one', 'two', 'three', 'four'])\n",
    "\n",
    "#selecting a single row returns a series\n",
    "# which has the column indexes as it's row index\n",
    "data_ohio = data.loc['Ohio', ['two', 'three']]\n",
    "print(data_ohio)\n",
    "print(type(data_ohio))\n",
    "\n",
    "data_sel = data.iloc[0, [0,1,2]]\n",
    "print(data_sel)\n",
    "print(type(data_sel))\n",
    "\n",
    "#select all columns\n",
    "data_sel = data.iloc[0]\n",
    "print(data_sel)\n",
    "\n",
    "#selecting multiple rows and columns\n",
    "# this results in a dataframe\n",
    "data_sel = data.loc[['Ohio', 'Colorado'], ['one', 'two']]\n",
    "print(data_sel)\n",
    "print(type(data_sel))\n",
    "\n",
    "# can use a list for rows, columns\n",
    "# can also use slices ':' notation\n",
    "# can use single labels\n",
    "# can mix and match\n",
    "\n",
    "data_sel = data.loc['Ohio', 'two']\n",
    "print(data_sel)\n",
    "\n",
    "data_sel = data.loc['Ohio', 'two':]\n",
    "print(data_sel)\n",
    "\n",
    "print(data.iloc[:,3:][data['four'] > 6])"
   ]
  },
  {
   "cell_type": "code",
   "execution_count": 69,
   "metadata": {
    "scrolled": false
   },
   "outputs": [
    {
     "name": "stdout",
     "output_type": "stream",
     "text": [
      "0    0\n",
      "1    1\n",
      "2    2\n",
      "dtype: int64\n",
      "2\n"
     ]
    }
   ],
   "source": [
    "# integer indexing\n",
    "\n",
    "ser = pd.Series(np.arange(3))\n",
    "print(ser)\n",
    "\n",
    "# the below does not work since there is no index with -1\n",
    "# this is different from python's list indexing since -1\n",
    "# returns the last element\n",
    "#print(ser[-1]) \n",
    "\n",
    "# this is because when the index is formed out of integers\n",
    "# indexing using -1 can be both label based and integer based\n",
    "# which can be confusing\n",
    "\n",
    "# if the axis has any integers, the indexing is going to be label based\n",
    "\n",
    "ser = pd.Series(np.arange(3), index=['a', 'b', 'c'])\n",
    "print(ser[-1]) # works\n",
    "\n",
    "\n",
    "ser = pd.Series(np.arange(3), index=['a', 'b', 5])\n",
    "#print(ser[-1]) # does not work\n"
   ]
  },
  {
   "cell_type": "code",
   "execution_count": 70,
   "metadata": {
    "scrolled": true
   },
   "outputs": [
    {
     "name": "stdout",
     "output_type": "stream",
     "text": [
      "a    7.3\n",
      "c   -2.5\n",
      "d    3.4\n",
      "e    1.5\n",
      "dtype: float64\n",
      "a   -2.1\n",
      "c    3.6\n",
      "e   -1.5\n",
      "f    4.0\n",
      "g    3.1\n",
      "dtype: float64\n",
      "a    5.2\n",
      "c    1.1\n",
      "d    NaN\n",
      "e    0.0\n",
      "f    NaN\n",
      "g    NaN\n",
      "dtype: float64\n",
      "           a     b     c   d\n",
      "Colorado NaN  13.0  15.0 NaN\n",
      "NY       NaN   NaN   NaN NaN\n",
      "Ohio     NaN   1.0   3.0 NaN\n",
      "Texas    NaN   NaN   NaN NaN\n",
      "            a     b     c    d\n",
      "Colorado  6.0  13.0  15.0  8.0\n",
      "NY        NaN   3.0   4.0  5.0\n",
      "Ohio      0.0   1.0   3.0  2.0\n",
      "Texas     3.0   4.0   5.0  NaN\n",
      "            a     b     c    d\n",
      "Colorado  6.0  13.0  15.0  8.0\n",
      "NY        NaN   3.0   4.0  5.0\n",
      "Ohio      0.0   1.0   3.0  2.0\n",
      "Texas     3.0   4.0   5.0  NaN\n"
     ]
    }
   ],
   "source": [
    "# arithmetic and data alignment\n",
    "\n",
    "#nan propagation\n",
    "\n",
    "s1 = pd.Series([7.3, -2.5, 3.4, 1.5], index=['a', 'c', 'd', 'e'])\n",
    "s2 = pd.Series([-2.1, 3.6, -1.5, 4, 3.1],\n",
    "               index=['a', 'c', 'e', 'f', 'g'])\n",
    "\n",
    "print(s1)\n",
    "print(s2)\n",
    "\n",
    "# for indexes that don't exist in both; it's \n",
    "# as though we are adding NaN to a value which is the same as Nan\n",
    "print(s1 + s2)\n",
    "\n",
    "\n",
    "# it's the same for dataframes\n",
    "# adding columns + indexes that don't exist in both dataframes\n",
    "# will result in NaN values\n",
    "\n",
    "df1 = pd.DataFrame(np.arange(9.).reshape((3, 3)), columns=list('abc'),\n",
    "                   index=['Ohio', 'Texas', 'Colorado'])\n",
    "\n",
    "df2 = pd.DataFrame(np.arange(9.).reshape((3, 3)), columns=list('bcd'),\n",
    "                   index=['Ohio', 'NY', 'Colorado'])\n",
    "\n",
    "print(df1 + df2)\n",
    "\n",
    "# to do the above, a fill value maybe useful\n",
    "\n",
    "print(df1.add(df2, fill_value=0))\n",
    "print(df1.radd(df2, fill_value=0))\n",
    "#help(df1.radd)\n",
    "\n",
    "# radd, rsub, etc\n",
    "# when doing something like a + b \n",
    "# what's invoked is actually a.__add__(b)\n",
    "# however, this is not useful when adding with a scalar\n",
    "# example: obj + 4 results in obj.__add__(4).\n",
    "# however, 4+ obj results in 4.__add__(obj) which is not implemented\n",
    "# when this happens, python invokes obj.__radd__(4) as a fallback\n",
    "\n",
    "# for dataframes this is useful since operations with scalars are common\n"
   ]
  },
  {
   "cell_type": "code",
   "execution_count": 71,
   "metadata": {},
   "outputs": [
    {
     "name": "stdout",
     "output_type": "stream",
     "text": [
      "            b    c    d\n",
      "Ohio      0.0  1.0  2.0\n",
      "NY        3.0  4.0  5.0\n",
      "Colorado  6.0  7.0  8.0\n",
      "b    0\n",
      "c    1\n",
      "d    2\n",
      "dtype: int64\n",
      "            b    c    d\n",
      "Ohio      0.0  0.0  0.0\n",
      "NY        3.0  3.0  3.0\n",
      "Colorado  6.0  6.0  6.0\n",
      "            b    c    d\n",
      "Colorado  NaN  NaN  NaN\n",
      "NY        NaN  NaN  NaN\n",
      "Ohio     -5.0 -4.0 -3.0\n",
      "            b    c    d\n",
      "Ohio     -2.0 -1.0  0.0\n",
      "NY       -2.0 -1.0  0.0\n",
      "Colorado -2.0 -1.0  0.0\n"
     ]
    }
   ],
   "source": [
    "# operations between data frames and series \n",
    "\n",
    "# is similar to opeartions between numpy arrays of different \n",
    "# dimensions where the operation gets broadcasted to lower dimensions\n",
    "\n",
    "\n",
    "df2 = pd.DataFrame(np.arange(9.).reshape((3, 3)), columns=list('bcd'),\n",
    "                   index=['Ohio', 'NY', 'Colorado'])\n",
    "\n",
    "print(df2)\n",
    "sub_series = pd.Series(np.arange(3), index=list('bcd'))\n",
    "print(sub_series)\n",
    "\n",
    "# series is one dimensional, df is two, \n",
    "# this operation is therefore applied to all of the rows of df (lower dimensions)\n",
    "print(df2 - sub_series)\n",
    "\n",
    "# can also broadcast over columns matching on rows\n",
    "sub_series = pd.Series([5], index=['Ohio'])\n",
    "print(df2.sub(sub_series, axis='index'))\n",
    "\n",
    "# subtract a columns values from all other columns\n",
    "print(df2.sub(df2['d'], axis='index'))"
   ]
  },
  {
   "cell_type": "code",
   "execution_count": 72,
   "metadata": {},
   "outputs": [
    {
     "name": "stdout",
     "output_type": "stream",
     "text": [
      "            b    c    d\n",
      "Ohio      0.0  1.0  2.0\n",
      "NY        3.0  4.0  5.0\n",
      "Colorado  6.0  7.0  8.0\n",
      "                 b         c         d\n",
      "Ohio      0.000000  1.000000  1.414214\n",
      "NY        1.732051  2.000000  2.236068\n",
      "Colorado  2.449490  2.645751  2.828427\n",
      "b    6.0\n",
      "c    6.0\n",
      "d    6.0\n",
      "dtype: float64\n",
      "b    6.0\n",
      "c    6.0\n",
      "d    6.0\n",
      "dtype: float64\n",
      "Ohio        2.0\n",
      "NY          2.0\n",
      "Colorado    2.0\n",
      "dtype: float64\n",
      "Ohio        2.0\n",
      "NY          2.0\n",
      "Colorado    2.0\n",
      "dtype: float64\n",
      "            b    c     d\n",
      "Ohio      2.0  3.0   4.0\n",
      "NY        5.0  6.0   7.0\n",
      "Colorado  8.0  9.0  10.0\n"
     ]
    }
   ],
   "source": [
    "#  function application and mapping\n",
    "df2 = pd.DataFrame(np.arange(9.).reshape((3, 3)), columns=list('bcd'),\n",
    "                   index=['Ohio', 'NY', 'Colorado'])\n",
    "\n",
    "print(df2)\n",
    "print(np.sqrt(df2))\n",
    "\n",
    "f = lambda x : x.max() - x.min()\n",
    "\n",
    "# applies across rows by default \n",
    "\n",
    "print(df2.apply(f))\n",
    "print(df2.apply(f, axis=0))\n",
    "\n",
    "print(df2.apply(f, axis='columns'))\n",
    "print(df2.apply(f, axis=1))\n",
    "\n",
    "# applymap allows application of a function to each value\n",
    "\n",
    "f = lambda x : x + 2\n",
    "print(df2.applymap(f))"
   ]
  },
  {
   "cell_type": "code",
   "execution_count": 73,
   "metadata": {
    "scrolled": true
   },
   "outputs": [
    {
     "name": "stdout",
     "output_type": "stream",
     "text": [
      "Index(['a', 'c', 'd', 'b'], dtype='object')\n",
      "a    0\n",
      "b    3\n",
      "c    1\n",
      "d    2\n",
      "dtype: int64\n",
      "a    0\n",
      "c    1\n",
      "d    2\n",
      "b    3\n",
      "dtype: int64\n",
      "   b  a\n",
      "0  4  0\n",
      "1  7  1\n",
      "2 -3  0\n",
      "3  7  3\n",
      "   b  a\n",
      "2 -3  0\n",
      "0  4  0\n",
      "1  7  1\n",
      "3  7  3\n",
      "   b  a\n",
      "2 -3  0\n",
      "0  4  0\n",
      "1  7  1\n",
      "3  7  3\n"
     ]
    }
   ],
   "source": [
    "# sorting and ranking\n",
    "obj = pd.Series(range(4), list('acdb'))\n",
    "print(obj.index)\n",
    "print(obj.sort_index())\n",
    "print(obj.sort_values())\n",
    "\n",
    "# use data in multiple columns\n",
    "\n",
    "frame = pd.DataFrame({'b': [4, 7, -3, 7], 'a': [0, 1, 0, 3]})\n",
    "print(frame)\n",
    "\n",
    "print(frame.sort_values(by='b'))\n",
    "print(frame.sort_values(by=['b', 'a']))"
   ]
  },
  {
   "cell_type": "code",
   "execution_count": 74,
   "metadata": {},
   "outputs": [],
   "source": [
    "# ranking (TODO: The purpose of this is not understood)"
   ]
  },
  {
   "cell_type": "code",
   "execution_count": 75,
   "metadata": {},
   "outputs": [],
   "source": [
    "# duplicate index results in a dataframe being returned \n",
    "# during an access rather than a series (explored above)"
   ]
  },
  {
   "cell_type": "code",
   "execution_count": 76,
   "metadata": {
    "scrolled": true
   },
   "outputs": [
    {
     "name": "stdout",
     "output_type": "stream",
     "text": [
      "    1   2   3   4\n",
      "a   0   1   2   3\n",
      "b   4   5   6   7\n",
      "c   8   9  10  11\n",
      "d  12  13  14  15\n",
      "1    24\n",
      "2    28\n",
      "3    32\n",
      "4    36\n",
      "dtype: int64\n",
      "a     6\n",
      "b    22\n",
      "c    38\n",
      "d    54\n",
      "dtype: int64\n",
      "1    d\n",
      "2    d\n",
      "3    d\n",
      "4    d\n",
      "dtype: object\n",
      "1    a\n",
      "2    a\n",
      "3    a\n",
      "4    a\n",
      "dtype: object\n",
      "    1   2   3   4\n",
      "a   0   1   2   3\n",
      "b   4   6   8  10\n",
      "c  12  15  18  21\n",
      "d  24  28  32  36\n",
      "               1          2          3          4\n",
      "count   4.000000   4.000000   4.000000   4.000000\n",
      "mean    6.000000   7.000000   8.000000   9.000000\n",
      "std     5.163978   5.163978   5.163978   5.163978\n",
      "min     0.000000   1.000000   2.000000   3.000000\n",
      "25%     3.000000   4.000000   5.000000   6.000000\n",
      "50%     6.000000   7.000000   8.000000   9.000000\n",
      "75%     9.000000  10.000000  11.000000  12.000000\n",
      "max    12.000000  13.000000  14.000000  15.000000\n",
      "   count  mean       std   min    25%   50%    75%   max\n",
      "a    4.0   1.5  1.290994   0.0   0.75   1.5   2.25   3.0\n",
      "b    4.0   5.5  1.290994   4.0   4.75   5.5   6.25   7.0\n",
      "c    4.0   9.5  1.290994   8.0   8.75   9.5  10.25  11.0\n",
      "d    4.0  13.5  1.290994  12.0  12.75  13.5  14.25  15.0\n"
     ]
    }
   ],
   "source": [
    "df = DataFrame(np.arange(16).reshape(4,4), index=list('abcd'), columns=list('1234'))\n",
    "print(df)\n",
    "\n",
    "print(df.sum())\n",
    "print(df.sum(axis=1))\n",
    "print(df.idxmax()) # index with the largest element\n",
    "print(df.idxmin())\n",
    "print(df.cumsum())\n",
    "print(df.describe())\n",
    "print(df.apply(lambda x : x.describe(), axis=1))\n",
    "# better version df.apply(df.DataFrame.describe, axis=1) # use the class method whose first argument will be df\n"
   ]
  },
  {
   "cell_type": "code",
   "execution_count": 77,
   "metadata": {},
   "outputs": [
    {
     "name": "stderr",
     "output_type": "stream",
     "text": [
      "/home/rushi/dev/git/python/environment/lib/python3.7/site-packages/pandas_datareader/compat/__init__.py:7: FutureWarning: pandas.util.testing is deprecated. Use the functions in the public API at pandas.testing instead.\n",
      "  from pandas.util.testing import assert_frame_equal\n"
     ]
    }
   ],
   "source": [
    "# correlation and covariance\n",
    "import pandas_datareader.data as web\n",
    "\n",
    "all_data = {ticker: web.get_data_yahoo(ticker)\n",
    "            for ticker in ['AAPL', 'IBM', 'MSFT', 'GOOG', 'SPY']}\n",
    "\n",
    "\n",
    "price = pd.DataFrame({ticker: data['Adj Close']\n",
    "                      for ticker, data in all_data.items()})\n",
    "\n",
    "volume = pd.DataFrame({ticker: data['Volume']\n",
    "                       for ticker, data in all_data.items()})\n",
    "\n",
    "#print(price)\n",
    "#print(volume)"
   ]
  },
  {
   "cell_type": "code",
   "execution_count": 78,
   "metadata": {
    "scrolled": true
   },
   "outputs": [
    {
     "name": "stdout",
     "output_type": "stream",
     "text": [
      "                AAPL       IBM      MSFT      GOOG       SPY\n",
      "Date                                                        \n",
      "2015-06-01       NaN       NaN       NaN       NaN       NaN\n",
      "2015-06-02 -0.004443 -0.003114 -0.006564  0.009719 -0.000993\n",
      "2015-06-03  0.001231  0.001592 -0.001492  0.002096  0.002650\n",
      "2015-06-04 -0.005841 -0.009063 -0.010459 -0.006681 -0.008446\n",
      "2015-06-05 -0.005489 -0.005820 -0.004746 -0.006279 -0.001713\n",
      "...              ...       ...       ...       ...       ...\n",
      "2020-05-21 -0.007455 -0.018619 -0.012011 -0.002787 -0.006904\n",
      "2020-05-22  0.006438 -0.006128  0.000436  0.005432  0.001899\n",
      "2020-05-26 -0.006774  0.028465 -0.010572  0.004679  0.012321\n",
      "2020-05-27  0.004357  0.031045  0.001322  0.000579  0.014879\n",
      "2020-05-28  0.000440 -0.008045 -0.002255 -0.000783 -0.001845\n",
      "\n",
      "[1258 rows x 5 columns]\n"
     ]
    }
   ],
   "source": [
    "returns = price.pct_change()\n",
    "print(returns)"
   ]
  },
  {
   "cell_type": "code",
   "execution_count": 79,
   "metadata": {},
   "outputs": [
    {
     "name": "stdout",
     "output_type": "stream",
     "text": [
      "0.00022112030310993166\n",
      "0.7508337420726041\n"
     ]
    }
   ],
   "source": [
    "print(returns['MSFT'].cov(returns['GOOG']))\n",
    "print(returns['MSFT'].corr(returns['GOOG']))"
   ]
  },
  {
   "cell_type": "code",
   "execution_count": 80,
   "metadata": {
    "scrolled": true
   },
   "outputs": [
    {
     "data": {
      "text/html": [
       "<div>\n",
       "<style scoped>\n",
       "    .dataframe tbody tr th:only-of-type {\n",
       "        vertical-align: middle;\n",
       "    }\n",
       "\n",
       "    .dataframe tbody tr th {\n",
       "        vertical-align: top;\n",
       "    }\n",
       "\n",
       "    .dataframe thead th {\n",
       "        text-align: right;\n",
       "    }\n",
       "</style>\n",
       "<table border=\"1\" class=\"dataframe\">\n",
       "  <thead>\n",
       "    <tr style=\"text-align: right;\">\n",
       "      <th></th>\n",
       "      <th>AAPL</th>\n",
       "      <th>IBM</th>\n",
       "      <th>MSFT</th>\n",
       "      <th>GOOG</th>\n",
       "      <th>SPY</th>\n",
       "    </tr>\n",
       "  </thead>\n",
       "  <tbody>\n",
       "    <tr>\n",
       "      <th>AAPL</th>\n",
       "      <td>1.000000</td>\n",
       "      <td>0.531396</td>\n",
       "      <td>0.711086</td>\n",
       "      <td>0.642149</td>\n",
       "      <td>0.764219</td>\n",
       "    </tr>\n",
       "    <tr>\n",
       "      <th>IBM</th>\n",
       "      <td>0.531396</td>\n",
       "      <td>1.000000</td>\n",
       "      <td>0.596898</td>\n",
       "      <td>0.527838</td>\n",
       "      <td>0.743120</td>\n",
       "    </tr>\n",
       "    <tr>\n",
       "      <th>MSFT</th>\n",
       "      <td>0.711086</td>\n",
       "      <td>0.596898</td>\n",
       "      <td>1.000000</td>\n",
       "      <td>0.750834</td>\n",
       "      <td>0.832724</td>\n",
       "    </tr>\n",
       "    <tr>\n",
       "      <th>GOOG</th>\n",
       "      <td>0.642149</td>\n",
       "      <td>0.527838</td>\n",
       "      <td>0.750834</td>\n",
       "      <td>1.000000</td>\n",
       "      <td>0.736546</td>\n",
       "    </tr>\n",
       "    <tr>\n",
       "      <th>SPY</th>\n",
       "      <td>0.764219</td>\n",
       "      <td>0.743120</td>\n",
       "      <td>0.832724</td>\n",
       "      <td>0.736546</td>\n",
       "      <td>1.000000</td>\n",
       "    </tr>\n",
       "  </tbody>\n",
       "</table>\n",
       "</div>"
      ],
      "text/plain": [
       "          AAPL       IBM      MSFT      GOOG       SPY\n",
       "AAPL  1.000000  0.531396  0.711086  0.642149  0.764219\n",
       "IBM   0.531396  1.000000  0.596898  0.527838  0.743120\n",
       "MSFT  0.711086  0.596898  1.000000  0.750834  0.832724\n",
       "GOOG  0.642149  0.527838  0.750834  1.000000  0.736546\n",
       "SPY   0.764219  0.743120  0.832724  0.736546  1.000000"
      ]
     },
     "execution_count": 80,
     "metadata": {},
     "output_type": "execute_result"
    }
   ],
   "source": [
    "returns.corr()"
   ]
  },
  {
   "cell_type": "code",
   "execution_count": 81,
   "metadata": {
    "scrolled": true
   },
   "outputs": [
    {
     "name": "stdout",
     "output_type": "stream",
     "text": [
      "                  AAPL        IBM        MSFT     GOOG          SPY\n",
      "Date                                                               \n",
      "2020-05-21  25672200.0  4000900.0  29119500.0  1385000   78293900.0\n",
      "2020-05-22  20450800.0  4180800.0  20826900.0  1309400   63958200.0\n",
      "2020-05-26  31380500.0  5469300.0  36073600.0  2060600   88951400.0\n",
      "2020-05-27  28236300.0  5727500.0  39517100.0  1685800  104817400.0\n",
      "2020-05-28  33390200.0  3915300.0  33810200.0  1692200   90405200.0\n",
      "AAPL   -0.140546\n",
      "IBM    -0.103913\n",
      "MSFT   -0.066232\n",
      "GOOG   -0.037800\n",
      "SPY    -0.219601\n",
      "dtype: float64\n"
     ]
    }
   ],
   "source": [
    "print(volume.tail())\n",
    "print(returns.corrwith(volume))"
   ]
  },
  {
   "cell_type": "code",
   "execution_count": 82,
   "metadata": {
    "scrolled": false
   },
   "outputs": [
    {
     "name": "stdout",
     "output_type": "stream",
     "text": [
      "['c' 'a' 'd' 'b']\n",
      "count     9\n",
      "unique    4\n",
      "top       a\n",
      "freq      3\n",
      "dtype: object\n",
      "---\n",
      "0     True\n",
      "1    False\n",
      "2    False\n",
      "3    False\n",
      "4    False\n",
      "5     True\n",
      "6     True\n",
      "7     True\n",
      "8     True\n",
      "dtype: bool\n",
      "['c' 'b']\n"
     ]
    }
   ],
   "source": [
    "obj = pd.Series(['c', 'a', 'd', 'a', 'a', 'b', 'b', 'c', 'c'])\n",
    "print(obj.unique())\n",
    "print(obj.describe())\n",
    "print(\"---\")\n",
    "# creates a boolean array indicating if each element is in the \n",
    "# filtered list\n",
    "print(obj.isin(['b', 'c']))\n",
    "mask = obj.isin(['b','c'])\n",
    "print(obj[mask].unique())"
   ]
  },
  {
   "cell_type": "markdown",
   "metadata": {},
   "source": [
    "###  Chapter 6 - Data Loading / Storage / File Formats"
   ]
  },
  {
   "cell_type": "code",
   "execution_count": 83,
   "metadata": {},
   "outputs": [
    {
     "name": "stdout",
     "output_type": "stream",
     "text": [
      "a,b,c,d,message\r\n",
      "1,2,3,4,hello\r\n",
      "5,6,7,8,world\r\n",
      "9,10,11,12,foo"
     ]
    }
   ],
   "source": [
    "!cat ../../data/pda/ch06/ex1.csv"
   ]
  },
  {
   "cell_type": "code",
   "execution_count": 84,
   "metadata": {},
   "outputs": [
    {
     "name": "stdout",
     "output_type": "stream",
     "text": [
      "   a   b   c   d message\n",
      "0  1   2   3   4   hello\n",
      "1  5   6   7   8   world\n",
      "2  9  10  11  12     foo\n"
     ]
    }
   ],
   "source": [
    "df = pd.read_csv('../../data/pda/ch06/ex1.csv')\n",
    "print(df)"
   ]
  },
  {
   "cell_type": "code",
   "execution_count": 85,
   "metadata": {},
   "outputs": [
    {
     "name": "stdout",
     "output_type": "stream",
     "text": [
      "-rw-r--r-- 1 rushi rushi 42 Jun  8  2017 ../../data/pda/ch06/ex2.csv\n",
      "1,2,3,4,hello\n",
      "5,6,7,8,world\n",
      "9,10,11,12,foo"
     ]
    }
   ],
   "source": [
    "!ls -lrt ../../data/pda/ch06/ex2.csv\n",
    "!cat ../../data/pda/ch06/ex2.csv"
   ]
  },
  {
   "cell_type": "code",
   "execution_count": 86,
   "metadata": {
    "scrolled": true
   },
   "outputs": [
    {
     "name": "stdout",
     "output_type": "stream",
     "text": [
      "   a   b   c   d message\n",
      "0  1   2   3   4   hello\n",
      "1  5   6   7   8   world\n",
      "2  9  10  11  12     foo\n"
     ]
    }
   ],
   "source": [
    "# no header needs to be specified otherwise pandas reader will assume that\n",
    "# line one is the header\n",
    "df = pd.read_csv('../../data/pda/ch06/ex2.csv', header=None,\n",
    "                names=['a','b','c','d','message'])\n",
    "print(df)"
   ]
  },
  {
   "cell_type": "code",
   "execution_count": 87,
   "metadata": {},
   "outputs": [
    {
     "name": "stdout",
     "output_type": "stream",
     "text": [
      "         a   b   c   d\n",
      "message               \n",
      "hello    1   2   3   4\n",
      "world    5   6   7   8\n",
      "foo      9  10  11  12\n"
     ]
    }
   ],
   "source": [
    "# specify one of the columns as the index\n",
    "df = pd.read_csv('../../data/pda/ch06/ex2.csv', header=None,\n",
    "                names=['a','b','c','d','message'],\n",
    "                index_col='message')\n",
    "print(df)"
   ]
  },
  {
   "cell_type": "code",
   "execution_count": 88,
   "metadata": {},
   "outputs": [
    {
     "name": "stdout",
     "output_type": "stream",
     "text": [
      "key1,key2,value1,value2\r\n",
      "one,a,1,2\r\n",
      "one,b,3,4\r\n",
      "one,c,5,6\r\n",
      "one,d,7,8\r\n",
      "two,a,9,10\r\n",
      "two,b,11,12\r\n",
      "two,c,13,14\r\n",
      "two,d,15,16\r\n"
     ]
    }
   ],
   "source": [
    "!cat ../../data/pda/ch06/csv_mindex.csv"
   ]
  },
  {
   "cell_type": "code",
   "execution_count": 89,
   "metadata": {
    "scrolled": true
   },
   "outputs": [
    {
     "name": "stdout",
     "output_type": "stream",
     "text": [
      "           value1  value2\n",
      "key1 key2                \n",
      "one  a          1       2\n",
      "     b          3       4\n",
      "     c          5       6\n",
      "     d          7       8\n",
      "two  a          9      10\n",
      "     b         11      12\n",
      "     c         13      14\n",
      "     d         15      16\n"
     ]
    }
   ],
   "source": [
    "# choose heirarchical indexes by specifying multiple index columns\n",
    "df = pd.read_csv('../../data/pda/ch06/csv_mindex.csv',                \n",
    "                index_col=['key1', 'key2'])\n",
    "print(df)"
   ]
  },
  {
   "cell_type": "code",
   "execution_count": 90,
   "metadata": {
    "scrolled": true
   },
   "outputs": [
    {
     "data": {
      "text/plain": [
       "['            A         B         C\\n',\n",
       " 'aaa -0.264438 -1.026059 -0.619500\\n',\n",
       " 'bbb  0.927272  0.302904 -0.032399\\n',\n",
       " 'ccc -0.264273 -0.386314 -0.217601\\n',\n",
       " 'ddd -0.871858 -0.348382  1.100491']"
      ]
     },
     "metadata": {},
     "output_type": "display_data"
    },
    {
     "data": {
      "text/html": [
       "<div>\n",
       "<style scoped>\n",
       "    .dataframe tbody tr th:only-of-type {\n",
       "        vertical-align: middle;\n",
       "    }\n",
       "\n",
       "    .dataframe tbody tr th {\n",
       "        vertical-align: top;\n",
       "    }\n",
       "\n",
       "    .dataframe thead th {\n",
       "        text-align: right;\n",
       "    }\n",
       "</style>\n",
       "<table border=\"1\" class=\"dataframe\">\n",
       "  <thead>\n",
       "    <tr style=\"text-align: right;\">\n",
       "      <th></th>\n",
       "      <th>A</th>\n",
       "      <th>B</th>\n",
       "      <th>C</th>\n",
       "    </tr>\n",
       "  </thead>\n",
       "  <tbody>\n",
       "    <tr>\n",
       "      <th>aaa</th>\n",
       "      <td>-0.264438</td>\n",
       "      <td>-1.026059</td>\n",
       "      <td>-0.619500</td>\n",
       "    </tr>\n",
       "    <tr>\n",
       "      <th>bbb</th>\n",
       "      <td>0.927272</td>\n",
       "      <td>0.302904</td>\n",
       "      <td>-0.032399</td>\n",
       "    </tr>\n",
       "    <tr>\n",
       "      <th>ccc</th>\n",
       "      <td>-0.264273</td>\n",
       "      <td>-0.386314</td>\n",
       "      <td>-0.217601</td>\n",
       "    </tr>\n",
       "    <tr>\n",
       "      <th>ddd</th>\n",
       "      <td>-0.871858</td>\n",
       "      <td>-0.348382</td>\n",
       "      <td>1.100491</td>\n",
       "    </tr>\n",
       "  </tbody>\n",
       "</table>\n",
       "</div>"
      ],
      "text/plain": [
       "            A         B         C\n",
       "aaa -0.264438 -1.026059 -0.619500\n",
       "bbb  0.927272  0.302904 -0.032399\n",
       "ccc -0.264273 -0.386314 -0.217601\n",
       "ddd -0.871858 -0.348382  1.100491"
      ]
     },
     "metadata": {},
     "output_type": "display_data"
    }
   ],
   "source": [
    "display(list(open('../../data/pda/ch06/ex3.csv')))\n",
    "\n",
    "# read_table reads tabular format. In the \n",
    "# special case where there is one fewer element\n",
    "# in the first row, the first row is interpreted as the row index\n",
    "# also specify variable white space as the delimiter\n",
    "result = pd.read_table('../../data/pda/ch06/ex3.csv', sep='\\s+')\n",
    "display(result)"
   ]
  },
  {
   "cell_type": "code",
   "execution_count": 91,
   "metadata": {
    "scrolled": false
   },
   "outputs": [
    {
     "data": {
      "text/plain": [
       "['# hey!\\n',\n",
       " 'a,b,c,d,message\\n',\n",
       " '# just wanted to make things more difficult for you\\n',\n",
       " '# who reads CSV files with computers, anyway?\\n',\n",
       " '1,2,3,4,hello\\n',\n",
       " '5,6,7,8,world\\n',\n",
       " '9,10,11,12,foo']"
      ]
     },
     "metadata": {},
     "output_type": "display_data"
    },
    {
     "data": {
      "text/html": [
       "<div>\n",
       "<style scoped>\n",
       "    .dataframe tbody tr th:only-of-type {\n",
       "        vertical-align: middle;\n",
       "    }\n",
       "\n",
       "    .dataframe tbody tr th {\n",
       "        vertical-align: top;\n",
       "    }\n",
       "\n",
       "    .dataframe thead th {\n",
       "        text-align: right;\n",
       "    }\n",
       "</style>\n",
       "<table border=\"1\" class=\"dataframe\">\n",
       "  <thead>\n",
       "    <tr style=\"text-align: right;\">\n",
       "      <th></th>\n",
       "      <th>a</th>\n",
       "      <th>b</th>\n",
       "      <th>c</th>\n",
       "      <th>d</th>\n",
       "      <th>message</th>\n",
       "    </tr>\n",
       "  </thead>\n",
       "  <tbody>\n",
       "    <tr>\n",
       "      <th>0</th>\n",
       "      <td>1</td>\n",
       "      <td>2</td>\n",
       "      <td>3</td>\n",
       "      <td>4</td>\n",
       "      <td>hello</td>\n",
       "    </tr>\n",
       "    <tr>\n",
       "      <th>1</th>\n",
       "      <td>5</td>\n",
       "      <td>6</td>\n",
       "      <td>7</td>\n",
       "      <td>8</td>\n",
       "      <td>world</td>\n",
       "    </tr>\n",
       "    <tr>\n",
       "      <th>2</th>\n",
       "      <td>9</td>\n",
       "      <td>10</td>\n",
       "      <td>11</td>\n",
       "      <td>12</td>\n",
       "      <td>foo</td>\n",
       "    </tr>\n",
       "  </tbody>\n",
       "</table>\n",
       "</div>"
      ],
      "text/plain": [
       "   a   b   c   d message\n",
       "0  1   2   3   4   hello\n",
       "1  5   6   7   8   world\n",
       "2  9  10  11  12     foo"
      ]
     },
     "metadata": {},
     "output_type": "display_data"
    }
   ],
   "source": [
    "# skip rows\n",
    "\n",
    "display(list(open('../../data/pda/ch06/ex4.csv')))\n",
    "result = pd.read_csv('../../data/pda/ch06/ex4.csv', skiprows=[0,2,3])\n",
    "display(result)"
   ]
  },
  {
   "cell_type": "code",
   "execution_count": 92,
   "metadata": {},
   "outputs": [
    {
     "data": {
      "text/plain": [
       "['something,a,b,c,d,message\\n',\n",
       " 'one,1,2,3,4,NA\\n',\n",
       " 'two,5,6,,8,world\\n',\n",
       " 'three,9,10,11,12,foo']"
      ]
     },
     "metadata": {},
     "output_type": "display_data"
    },
    {
     "data": {
      "text/html": [
       "<div>\n",
       "<style scoped>\n",
       "    .dataframe tbody tr th:only-of-type {\n",
       "        vertical-align: middle;\n",
       "    }\n",
       "\n",
       "    .dataframe tbody tr th {\n",
       "        vertical-align: top;\n",
       "    }\n",
       "\n",
       "    .dataframe thead th {\n",
       "        text-align: right;\n",
       "    }\n",
       "</style>\n",
       "<table border=\"1\" class=\"dataframe\">\n",
       "  <thead>\n",
       "    <tr style=\"text-align: right;\">\n",
       "      <th></th>\n",
       "      <th>something</th>\n",
       "      <th>a</th>\n",
       "      <th>b</th>\n",
       "      <th>c</th>\n",
       "      <th>d</th>\n",
       "      <th>message</th>\n",
       "    </tr>\n",
       "  </thead>\n",
       "  <tbody>\n",
       "    <tr>\n",
       "      <th>0</th>\n",
       "      <td>one</td>\n",
       "      <td>1</td>\n",
       "      <td>2</td>\n",
       "      <td>3.0</td>\n",
       "      <td>4</td>\n",
       "      <td>NaN</td>\n",
       "    </tr>\n",
       "    <tr>\n",
       "      <th>1</th>\n",
       "      <td>two</td>\n",
       "      <td>5</td>\n",
       "      <td>6</td>\n",
       "      <td>NaN</td>\n",
       "      <td>8</td>\n",
       "      <td>world</td>\n",
       "    </tr>\n",
       "    <tr>\n",
       "      <th>2</th>\n",
       "      <td>three</td>\n",
       "      <td>9</td>\n",
       "      <td>10</td>\n",
       "      <td>11.0</td>\n",
       "      <td>12</td>\n",
       "      <td>foo</td>\n",
       "    </tr>\n",
       "  </tbody>\n",
       "</table>\n",
       "</div>"
      ],
      "text/plain": [
       "  something  a   b     c   d message\n",
       "0       one  1   2   3.0   4     NaN\n",
       "1       two  5   6   NaN   8   world\n",
       "2     three  9  10  11.0  12     foo"
      ]
     },
     "metadata": {},
     "output_type": "display_data"
    }
   ],
   "source": [
    "# handling missing values\n",
    "display(list(open('../../data/pda/ch06/ex5.csv')))\n",
    "result = pd.read_csv('../../data/pda/ch06/ex5.csv')\n",
    "display(result)"
   ]
  },
  {
   "cell_type": "code",
   "execution_count": 93,
   "metadata": {},
   "outputs": [
    {
     "data": {
      "text/plain": [
       "['something,a,b,c,d,message\\n',\n",
       " 'one,1,2,3,4,NA\\n',\n",
       " 'two,5,6,,8,world\\n',\n",
       " 'three,9,10,11,12,foo']"
      ]
     },
     "metadata": {},
     "output_type": "display_data"
    },
    {
     "data": {
      "text/html": [
       "<div>\n",
       "<style scoped>\n",
       "    .dataframe tbody tr th:only-of-type {\n",
       "        vertical-align: middle;\n",
       "    }\n",
       "\n",
       "    .dataframe tbody tr th {\n",
       "        vertical-align: top;\n",
       "    }\n",
       "\n",
       "    .dataframe thead th {\n",
       "        text-align: right;\n",
       "    }\n",
       "</style>\n",
       "<table border=\"1\" class=\"dataframe\">\n",
       "  <thead>\n",
       "    <tr style=\"text-align: right;\">\n",
       "      <th></th>\n",
       "      <th>something</th>\n",
       "      <th>a</th>\n",
       "      <th>b</th>\n",
       "      <th>c</th>\n",
       "      <th>d</th>\n",
       "      <th>message</th>\n",
       "    </tr>\n",
       "  </thead>\n",
       "  <tbody>\n",
       "    <tr>\n",
       "      <th>0</th>\n",
       "      <td>one</td>\n",
       "      <td>1</td>\n",
       "      <td>2</td>\n",
       "      <td>3.0</td>\n",
       "      <td>4</td>\n",
       "      <td>NaN</td>\n",
       "    </tr>\n",
       "    <tr>\n",
       "      <th>1</th>\n",
       "      <td>two</td>\n",
       "      <td>5</td>\n",
       "      <td>6</td>\n",
       "      <td>NaN</td>\n",
       "      <td>8</td>\n",
       "      <td>world</td>\n",
       "    </tr>\n",
       "    <tr>\n",
       "      <th>2</th>\n",
       "      <td>three</td>\n",
       "      <td>9</td>\n",
       "      <td>10</td>\n",
       "      <td>11.0</td>\n",
       "      <td>12</td>\n",
       "      <td>foo</td>\n",
       "    </tr>\n",
       "  </tbody>\n",
       "</table>\n",
       "</div>"
      ],
      "text/plain": [
       "  something  a   b     c   d message\n",
       "0       one  1   2   3.0   4     NaN\n",
       "1       two  5   6   NaN   8   world\n",
       "2     three  9  10  11.0  12     foo"
      ]
     },
     "metadata": {},
     "output_type": "display_data"
    },
    {
     "data": {
      "text/html": [
       "<div>\n",
       "<style scoped>\n",
       "    .dataframe tbody tr th:only-of-type {\n",
       "        vertical-align: middle;\n",
       "    }\n",
       "\n",
       "    .dataframe tbody tr th {\n",
       "        vertical-align: top;\n",
       "    }\n",
       "\n",
       "    .dataframe thead th {\n",
       "        text-align: right;\n",
       "    }\n",
       "</style>\n",
       "<table border=\"1\" class=\"dataframe\">\n",
       "  <thead>\n",
       "    <tr style=\"text-align: right;\">\n",
       "      <th></th>\n",
       "      <th>something</th>\n",
       "      <th>a</th>\n",
       "      <th>b</th>\n",
       "      <th>c</th>\n",
       "      <th>d</th>\n",
       "      <th>message</th>\n",
       "    </tr>\n",
       "  </thead>\n",
       "  <tbody>\n",
       "    <tr>\n",
       "      <th>0</th>\n",
       "      <td>False</td>\n",
       "      <td>False</td>\n",
       "      <td>False</td>\n",
       "      <td>False</td>\n",
       "      <td>False</td>\n",
       "      <td>True</td>\n",
       "    </tr>\n",
       "    <tr>\n",
       "      <th>1</th>\n",
       "      <td>False</td>\n",
       "      <td>False</td>\n",
       "      <td>False</td>\n",
       "      <td>True</td>\n",
       "      <td>False</td>\n",
       "      <td>False</td>\n",
       "    </tr>\n",
       "    <tr>\n",
       "      <th>2</th>\n",
       "      <td>False</td>\n",
       "      <td>False</td>\n",
       "      <td>False</td>\n",
       "      <td>False</td>\n",
       "      <td>False</td>\n",
       "      <td>False</td>\n",
       "    </tr>\n",
       "  </tbody>\n",
       "</table>\n",
       "</div>"
      ],
      "text/plain": [
       "   something      a      b      c      d  message\n",
       "0      False  False  False  False  False     True\n",
       "1      False  False  False   True  False    False\n",
       "2      False  False  False  False  False    False"
      ]
     },
     "metadata": {},
     "output_type": "display_data"
    }
   ],
   "source": [
    "# handling missing values\n",
    "display(list(open('../../data/pda/ch06/ex5.csv')))\n",
    "result = pd.read_csv('../../data/pda/ch06/ex5.csv')\n",
    "display(result)\n",
    "\n",
    "display(pd.isnull(result))"
   ]
  },
  {
   "cell_type": "code",
   "execution_count": 94,
   "metadata": {},
   "outputs": [
    {
     "data": {
      "text/plain": [
       "['something,a,b,c,d,message\\n',\n",
       " 'one,1,2,3,4,NA\\n',\n",
       " 'two,5,6,,8,world\\n',\n",
       " 'three,9,10,11,12,foo']"
      ]
     },
     "metadata": {},
     "output_type": "display_data"
    },
    {
     "data": {
      "text/html": [
       "<div>\n",
       "<style scoped>\n",
       "    .dataframe tbody tr th:only-of-type {\n",
       "        vertical-align: middle;\n",
       "    }\n",
       "\n",
       "    .dataframe tbody tr th {\n",
       "        vertical-align: top;\n",
       "    }\n",
       "\n",
       "    .dataframe thead th {\n",
       "        text-align: right;\n",
       "    }\n",
       "</style>\n",
       "<table border=\"1\" class=\"dataframe\">\n",
       "  <thead>\n",
       "    <tr style=\"text-align: right;\">\n",
       "      <th></th>\n",
       "      <th>something</th>\n",
       "      <th>a</th>\n",
       "      <th>b</th>\n",
       "      <th>c</th>\n",
       "      <th>d</th>\n",
       "      <th>message</th>\n",
       "    </tr>\n",
       "  </thead>\n",
       "  <tbody>\n",
       "    <tr>\n",
       "      <th>0</th>\n",
       "      <td>one</td>\n",
       "      <td>1</td>\n",
       "      <td>2</td>\n",
       "      <td>3.0</td>\n",
       "      <td>4</td>\n",
       "      <td>NaN</td>\n",
       "    </tr>\n",
       "    <tr>\n",
       "      <th>1</th>\n",
       "      <td>two</td>\n",
       "      <td>5</td>\n",
       "      <td>6</td>\n",
       "      <td>NaN</td>\n",
       "      <td>8</td>\n",
       "      <td>world</td>\n",
       "    </tr>\n",
       "    <tr>\n",
       "      <th>2</th>\n",
       "      <td>three</td>\n",
       "      <td>9</td>\n",
       "      <td>10</td>\n",
       "      <td>11.0</td>\n",
       "      <td>12</td>\n",
       "      <td>foo</td>\n",
       "    </tr>\n",
       "  </tbody>\n",
       "</table>\n",
       "</div>"
      ],
      "text/plain": [
       "  something  a   b     c   d message\n",
       "0       one  1   2   3.0   4     NaN\n",
       "1       two  5   6   NaN   8   world\n",
       "2     three  9  10  11.0  12     foo"
      ]
     },
     "metadata": {},
     "output_type": "display_data"
    },
    {
     "data": {
      "text/html": [
       "<div>\n",
       "<style scoped>\n",
       "    .dataframe tbody tr th:only-of-type {\n",
       "        vertical-align: middle;\n",
       "    }\n",
       "\n",
       "    .dataframe tbody tr th {\n",
       "        vertical-align: top;\n",
       "    }\n",
       "\n",
       "    .dataframe thead th {\n",
       "        text-align: right;\n",
       "    }\n",
       "</style>\n",
       "<table border=\"1\" class=\"dataframe\">\n",
       "  <thead>\n",
       "    <tr style=\"text-align: right;\">\n",
       "      <th></th>\n",
       "      <th>something</th>\n",
       "      <th>a</th>\n",
       "      <th>b</th>\n",
       "      <th>c</th>\n",
       "      <th>d</th>\n",
       "      <th>message</th>\n",
       "    </tr>\n",
       "  </thead>\n",
       "  <tbody>\n",
       "    <tr>\n",
       "      <th>0</th>\n",
       "      <td>one</td>\n",
       "      <td>1</td>\n",
       "      <td>2</td>\n",
       "      <td>3.0</td>\n",
       "      <td>4</td>\n",
       "      <td>NaN</td>\n",
       "    </tr>\n",
       "    <tr>\n",
       "      <th>1</th>\n",
       "      <td>NaN</td>\n",
       "      <td>5</td>\n",
       "      <td>6</td>\n",
       "      <td>NaN</td>\n",
       "      <td>8</td>\n",
       "      <td>world</td>\n",
       "    </tr>\n",
       "    <tr>\n",
       "      <th>2</th>\n",
       "      <td>three</td>\n",
       "      <td>9</td>\n",
       "      <td>10</td>\n",
       "      <td>11.0</td>\n",
       "      <td>12</td>\n",
       "      <td>NaN</td>\n",
       "    </tr>\n",
       "  </tbody>\n",
       "</table>\n",
       "</div>"
      ],
      "text/plain": [
       "  something  a   b     c   d message\n",
       "0       one  1   2   3.0   4     NaN\n",
       "1       NaN  5   6   NaN   8   world\n",
       "2     three  9  10  11.0  12     NaN"
      ]
     },
     "metadata": {},
     "output_type": "display_data"
    }
   ],
   "source": [
    "# handling missing values\n",
    "display(list(open('../../data/pda/ch06/ex5.csv')))\n",
    "result = pd.read_csv('../../data/pda/ch06/ex5.csv')\n",
    "display(result)\n",
    "\n",
    "# can also take a na_values argument to specify missing elements\n",
    "# can also specify sentinel values to indicate missing elements for each column\n",
    "\n",
    "# indicate that foo and two are also missing values\n",
    "sentinels = {'message' : ['foo', 'NA'], 'something' : ['two']}\n",
    "result = pd.read_csv('../../data/pda/ch06/ex5.csv', na_values=sentinels)\n",
    "display(result)\n"
   ]
  },
  {
   "cell_type": "code",
   "execution_count": 95,
   "metadata": {
    "scrolled": true
   },
   "outputs": [
    {
     "data": {
      "text/html": [
       "<div>\n",
       "<style scoped>\n",
       "    .dataframe tbody tr th:only-of-type {\n",
       "        vertical-align: middle;\n",
       "    }\n",
       "\n",
       "    .dataframe tbody tr th {\n",
       "        vertical-align: top;\n",
       "    }\n",
       "\n",
       "    .dataframe thead th {\n",
       "        text-align: right;\n",
       "    }\n",
       "</style>\n",
       "<table border=\"1\" class=\"dataframe\">\n",
       "  <thead>\n",
       "    <tr style=\"text-align: right;\">\n",
       "      <th></th>\n",
       "      <th>one</th>\n",
       "      <th>two</th>\n",
       "      <th>three</th>\n",
       "      <th>four</th>\n",
       "      <th>key</th>\n",
       "    </tr>\n",
       "  </thead>\n",
       "  <tbody>\n",
       "    <tr>\n",
       "      <th>0</th>\n",
       "      <td>0.467976</td>\n",
       "      <td>-0.038649</td>\n",
       "      <td>-0.295344</td>\n",
       "      <td>-1.824726</td>\n",
       "      <td>L</td>\n",
       "    </tr>\n",
       "    <tr>\n",
       "      <th>1</th>\n",
       "      <td>-0.358893</td>\n",
       "      <td>1.404453</td>\n",
       "      <td>0.704965</td>\n",
       "      <td>-0.200638</td>\n",
       "      <td>B</td>\n",
       "    </tr>\n",
       "    <tr>\n",
       "      <th>2</th>\n",
       "      <td>-0.501840</td>\n",
       "      <td>0.659254</td>\n",
       "      <td>-0.421691</td>\n",
       "      <td>-0.057688</td>\n",
       "      <td>G</td>\n",
       "    </tr>\n",
       "    <tr>\n",
       "      <th>3</th>\n",
       "      <td>0.204886</td>\n",
       "      <td>1.074134</td>\n",
       "      <td>1.388361</td>\n",
       "      <td>-0.982404</td>\n",
       "      <td>R</td>\n",
       "    </tr>\n",
       "    <tr>\n",
       "      <th>4</th>\n",
       "      <td>0.354628</td>\n",
       "      <td>-0.133116</td>\n",
       "      <td>0.283763</td>\n",
       "      <td>-0.837063</td>\n",
       "      <td>Q</td>\n",
       "    </tr>\n",
       "    <tr>\n",
       "      <th>...</th>\n",
       "      <td>...</td>\n",
       "      <td>...</td>\n",
       "      <td>...</td>\n",
       "      <td>...</td>\n",
       "      <td>...</td>\n",
       "    </tr>\n",
       "    <tr>\n",
       "      <th>9995</th>\n",
       "      <td>2.311896</td>\n",
       "      <td>-0.417070</td>\n",
       "      <td>-1.409599</td>\n",
       "      <td>-0.515821</td>\n",
       "      <td>L</td>\n",
       "    </tr>\n",
       "    <tr>\n",
       "      <th>9996</th>\n",
       "      <td>-0.479893</td>\n",
       "      <td>-0.650419</td>\n",
       "      <td>0.745152</td>\n",
       "      <td>-0.646038</td>\n",
       "      <td>E</td>\n",
       "    </tr>\n",
       "    <tr>\n",
       "      <th>9997</th>\n",
       "      <td>0.523331</td>\n",
       "      <td>0.787112</td>\n",
       "      <td>0.486066</td>\n",
       "      <td>1.093156</td>\n",
       "      <td>K</td>\n",
       "    </tr>\n",
       "    <tr>\n",
       "      <th>9998</th>\n",
       "      <td>-0.362559</td>\n",
       "      <td>0.598894</td>\n",
       "      <td>-1.843201</td>\n",
       "      <td>0.887292</td>\n",
       "      <td>G</td>\n",
       "    </tr>\n",
       "    <tr>\n",
       "      <th>9999</th>\n",
       "      <td>-0.096376</td>\n",
       "      <td>-1.012999</td>\n",
       "      <td>-0.657431</td>\n",
       "      <td>-0.573315</td>\n",
       "      <td>0</td>\n",
       "    </tr>\n",
       "  </tbody>\n",
       "</table>\n",
       "<p>10000 rows × 5 columns</p>\n",
       "</div>"
      ],
      "text/plain": [
       "           one       two     three      four key\n",
       "0     0.467976 -0.038649 -0.295344 -1.824726   L\n",
       "1    -0.358893  1.404453  0.704965 -0.200638   B\n",
       "2    -0.501840  0.659254 -0.421691 -0.057688   G\n",
       "3     0.204886  1.074134  1.388361 -0.982404   R\n",
       "4     0.354628 -0.133116  0.283763 -0.837063   Q\n",
       "...        ...       ...       ...       ...  ..\n",
       "9995  2.311896 -0.417070 -1.409599 -0.515821   L\n",
       "9996 -0.479893 -0.650419  0.745152 -0.646038   E\n",
       "9997  0.523331  0.787112  0.486066  1.093156   K\n",
       "9998 -0.362559  0.598894 -1.843201  0.887292   G\n",
       "9999 -0.096376 -1.012999 -0.657431 -0.573315   0\n",
       "\n",
       "[10000 rows x 5 columns]"
      ]
     },
     "metadata": {},
     "output_type": "display_data"
    }
   ],
   "source": [
    "pd.options.display.max_rows = 10\n",
    "result = pd.read_csv('../../data/pda/ch06/ex6.csv')\n",
    "display(result)"
   ]
  },
  {
   "cell_type": "code",
   "execution_count": 96,
   "metadata": {},
   "outputs": [
    {
     "name": "stdout",
     "output_type": "stream",
     "text": [
      "        one       two     three      four key\n",
      "0  0.467976 -0.038649 -0.295344 -1.824726   L\n",
      "1 -0.358893  1.404453  0.704965 -0.200638   B\n",
      "2 -0.501840  0.659254 -0.421691 -0.057688   G\n",
      "3  0.204886  1.074134  1.388361 -0.982404   R\n",
      "<class 'pandas.io.parsers.TextFileReader'>\n",
      "0    151.0\n",
      "1    146.0\n",
      "2    152.0\n",
      "3    162.0\n",
      "4    171.0\n",
      "     ...  \n",
      "V    328.0\n",
      "W    305.0\n",
      "X    364.0\n",
      "Y    314.0\n",
      "Z    288.0\n",
      "Length: 36, dtype: float64\n"
     ]
    }
   ],
   "source": [
    "# select number of rows to read\n",
    "result = pd.read_csv('../../data/pda/ch06/ex6.csv', nrows=4)\n",
    "print(result)\n",
    "\n",
    "# read file in chunks\n",
    "# 1000 rows at a time\n",
    "chunker = pd.read_csv('../../data/pda/ch06/ex6.csv', chunksize=1000)\n",
    "print(type(chunker))\n",
    "\n",
    "totals = pd.Series([], dtype=np.float64)\n",
    "for chunk in chunker:    \n",
    "    # need to specify fill values since the keys of each\n",
    "    # new segment are going to be different\n",
    "    totals = totals.add(chunk['key'].value_counts(), fill_value=0)\n",
    "print(totals)"
   ]
  },
  {
   "cell_type": "code",
   "execution_count": 97,
   "metadata": {
    "scrolled": true
   },
   "outputs": [
    {
     "name": "stdout",
     "output_type": "stream",
     "text": [
      "  something  a   b     c   d message\n",
      "0       one  1   2   3.0   4     NaN\n",
      "1       two  5   6   NaN   8   world\n",
      "2     three  9  10  11.0  12     foo\n",
      ",something,a,b,c,d,message\n",
      "0,one,1,2,3.0,4,\n",
      "1,two,5,6,,8,world\n",
      "2,three,9,10,11.0,12,foo\n",
      "=========\n",
      "one,1,2,3.0,4,\n",
      "two,5,6,,8,world\n",
      "three,9,10,11.0,12,foo\n"
     ]
    }
   ],
   "source": [
    "# writing to files\n",
    "import sys\n",
    "\n",
    "data = pd.read_csv('../../data/pda/ch06/ex5.csv')\n",
    "print(data)\n",
    "\n",
    "# writing to stdout but can be written to any file\n",
    "data.to_csv(sys.stdout, sep=',')\n",
    "\n",
    "print(\"=========\")\n",
    "\n",
    "data.to_csv(sys.stdout, sep=',', index=False, header=False)\n"
   ]
  },
  {
   "cell_type": "code",
   "execution_count": 98,
   "metadata": {},
   "outputs": [],
   "source": [
    "# csv, json are straightforward\n",
    "\n",
    "# xml and html is uninteresting"
   ]
  },
  {
   "cell_type": "code",
   "execution_count": 99,
   "metadata": {
    "scrolled": true
   },
   "outputs": [
    {
     "ename": "HDF5ExtError",
     "evalue": "HDF5 error back trace\n\n  File \"H5F.c\", line 509, in H5Fopen\n    unable to open file\n  File \"H5Fint.c\", line 1400, in H5F__open\n    unable to open file\n  File \"H5Fint.c\", line 1700, in H5F_open\n    unable to read superblock\n  File \"H5Fsuper.c\", line 623, in H5F__super_read\n    truncated file: eof = 96, sblock->base_addr = 0, stored_eof = 2048\n\nEnd of HDF5 error back trace\n\nUnable to open/create file '/var/tmp/mydata.h5'",
     "output_type": "error",
     "traceback": [
      "\u001b[0;31m---------------------------------------------------------------------------\u001b[0m",
      "\u001b[0;31mHDF5ExtError\u001b[0m                              Traceback (most recent call last)",
      "\u001b[0;32m<ipython-input-99-8b7d9bac2cef>\u001b[0m in \u001b[0;36m<module>\u001b[0;34m\u001b[0m\n\u001b[1;32m      2\u001b[0m \u001b[0;31m# need to pip install tables\u001b[0m\u001b[0;34m\u001b[0m\u001b[0;34m\u001b[0m\u001b[0;34m\u001b[0m\u001b[0m\n\u001b[1;32m      3\u001b[0m \u001b[0mdf\u001b[0m \u001b[0;34m=\u001b[0m \u001b[0mpd\u001b[0m\u001b[0;34m.\u001b[0m\u001b[0mDataFrame\u001b[0m\u001b[0;34m(\u001b[0m\u001b[0;34m{\u001b[0m\u001b[0;34m'a'\u001b[0m \u001b[0;34m:\u001b[0m \u001b[0mpd\u001b[0m\u001b[0;34m.\u001b[0m\u001b[0mSeries\u001b[0m\u001b[0;34m(\u001b[0m\u001b[0mnp\u001b[0m\u001b[0;34m.\u001b[0m\u001b[0marange\u001b[0m\u001b[0;34m(\u001b[0m\u001b[0;36m100\u001b[0m\u001b[0;34m)\u001b[0m\u001b[0;34m)\u001b[0m\u001b[0;34m}\u001b[0m\u001b[0;34m)\u001b[0m\u001b[0;34m\u001b[0m\u001b[0;34m\u001b[0m\u001b[0m\n\u001b[0;32m----> 4\u001b[0;31m \u001b[0mstore\u001b[0m \u001b[0;34m=\u001b[0m \u001b[0mpd\u001b[0m\u001b[0;34m.\u001b[0m\u001b[0mHDFStore\u001b[0m\u001b[0;34m(\u001b[0m\u001b[0;34m'/var/tmp/mydata.h5'\u001b[0m\u001b[0;34m)\u001b[0m\u001b[0;34m\u001b[0m\u001b[0;34m\u001b[0m\u001b[0m\n\u001b[0m\u001b[1;32m      5\u001b[0m \u001b[0mstore\u001b[0m\u001b[0;34m[\u001b[0m\u001b[0;34m'obj1'\u001b[0m\u001b[0;34m]\u001b[0m \u001b[0;34m=\u001b[0m \u001b[0mdf\u001b[0m \u001b[0;31m# store a frame\u001b[0m\u001b[0;34m\u001b[0m\u001b[0;34m\u001b[0m\u001b[0m\n\u001b[1;32m      6\u001b[0m \u001b[0mstore\u001b[0m\u001b[0;34m[\u001b[0m\u001b[0;34m'obj1_col'\u001b[0m\u001b[0;34m]\u001b[0m \u001b[0;34m=\u001b[0m \u001b[0mdf\u001b[0m\u001b[0;34m[\u001b[0m\u001b[0;34m'a'\u001b[0m\u001b[0;34m]\u001b[0m \u001b[0;31m# store a series\u001b[0m\u001b[0;34m\u001b[0m\u001b[0;34m\u001b[0m\u001b[0m\n",
      "\u001b[0;32m~/dev/git/python/environment/lib/python3.7/site-packages/pandas/io/pytables.py\u001b[0m in \u001b[0;36m__init__\u001b[0;34m(self, path, mode, complevel, complib, fletcher32, **kwargs)\u001b[0m\n\u001b[1;32m    535\u001b[0m         \u001b[0mself\u001b[0m\u001b[0;34m.\u001b[0m\u001b[0m_fletcher32\u001b[0m \u001b[0;34m=\u001b[0m \u001b[0mfletcher32\u001b[0m\u001b[0;34m\u001b[0m\u001b[0;34m\u001b[0m\u001b[0m\n\u001b[1;32m    536\u001b[0m         \u001b[0mself\u001b[0m\u001b[0;34m.\u001b[0m\u001b[0m_filters\u001b[0m \u001b[0;34m=\u001b[0m \u001b[0;32mNone\u001b[0m\u001b[0;34m\u001b[0m\u001b[0;34m\u001b[0m\u001b[0m\n\u001b[0;32m--> 537\u001b[0;31m         \u001b[0mself\u001b[0m\u001b[0;34m.\u001b[0m\u001b[0mopen\u001b[0m\u001b[0;34m(\u001b[0m\u001b[0mmode\u001b[0m\u001b[0;34m=\u001b[0m\u001b[0mmode\u001b[0m\u001b[0;34m,\u001b[0m \u001b[0;34m**\u001b[0m\u001b[0mkwargs\u001b[0m\u001b[0;34m)\u001b[0m\u001b[0;34m\u001b[0m\u001b[0;34m\u001b[0m\u001b[0m\n\u001b[0m\u001b[1;32m    538\u001b[0m \u001b[0;34m\u001b[0m\u001b[0m\n\u001b[1;32m    539\u001b[0m     \u001b[0;32mdef\u001b[0m \u001b[0m__fspath__\u001b[0m\u001b[0;34m(\u001b[0m\u001b[0mself\u001b[0m\u001b[0;34m)\u001b[0m\u001b[0;34m:\u001b[0m\u001b[0;34m\u001b[0m\u001b[0;34m\u001b[0m\u001b[0m\n",
      "\u001b[0;32m~/dev/git/python/environment/lib/python3.7/site-packages/pandas/io/pytables.py\u001b[0m in \u001b[0;36mopen\u001b[0;34m(self, mode, **kwargs)\u001b[0m\n\u001b[1;32m    653\u001b[0m \u001b[0;34m\u001b[0m\u001b[0m\n\u001b[1;32m    654\u001b[0m         \u001b[0;32mtry\u001b[0m\u001b[0;34m:\u001b[0m\u001b[0;34m\u001b[0m\u001b[0;34m\u001b[0m\u001b[0m\n\u001b[0;32m--> 655\u001b[0;31m             \u001b[0mself\u001b[0m\u001b[0;34m.\u001b[0m\u001b[0m_handle\u001b[0m \u001b[0;34m=\u001b[0m \u001b[0mtables\u001b[0m\u001b[0;34m.\u001b[0m\u001b[0mopen_file\u001b[0m\u001b[0;34m(\u001b[0m\u001b[0mself\u001b[0m\u001b[0;34m.\u001b[0m\u001b[0m_path\u001b[0m\u001b[0;34m,\u001b[0m \u001b[0mself\u001b[0m\u001b[0;34m.\u001b[0m\u001b[0m_mode\u001b[0m\u001b[0;34m,\u001b[0m \u001b[0;34m**\u001b[0m\u001b[0mkwargs\u001b[0m\u001b[0;34m)\u001b[0m\u001b[0;34m\u001b[0m\u001b[0;34m\u001b[0m\u001b[0m\n\u001b[0m\u001b[1;32m    656\u001b[0m         \u001b[0;32mexcept\u001b[0m \u001b[0mIOError\u001b[0m \u001b[0;32mas\u001b[0m \u001b[0merr\u001b[0m\u001b[0;34m:\u001b[0m  \u001b[0;31m# pragma: no cover\u001b[0m\u001b[0;34m\u001b[0m\u001b[0;34m\u001b[0m\u001b[0m\n\u001b[1;32m    657\u001b[0m             \u001b[0;32mif\u001b[0m \u001b[0;34m\"can not be written\"\u001b[0m \u001b[0;32min\u001b[0m \u001b[0mstr\u001b[0m\u001b[0;34m(\u001b[0m\u001b[0merr\u001b[0m\u001b[0;34m)\u001b[0m\u001b[0;34m:\u001b[0m\u001b[0;34m\u001b[0m\u001b[0;34m\u001b[0m\u001b[0m\n",
      "\u001b[0;32m~/dev/git/python/environment/lib/python3.7/site-packages/tables/file.py\u001b[0m in \u001b[0;36mopen_file\u001b[0;34m(filename, mode, title, root_uep, filters, **kwargs)\u001b[0m\n\u001b[1;32m    313\u001b[0m \u001b[0;34m\u001b[0m\u001b[0m\n\u001b[1;32m    314\u001b[0m     \u001b[0;31m# Finally, create the File instance, and return it\u001b[0m\u001b[0;34m\u001b[0m\u001b[0;34m\u001b[0m\u001b[0;34m\u001b[0m\u001b[0m\n\u001b[0;32m--> 315\u001b[0;31m     \u001b[0;32mreturn\u001b[0m \u001b[0mFile\u001b[0m\u001b[0;34m(\u001b[0m\u001b[0mfilename\u001b[0m\u001b[0;34m,\u001b[0m \u001b[0mmode\u001b[0m\u001b[0;34m,\u001b[0m \u001b[0mtitle\u001b[0m\u001b[0;34m,\u001b[0m \u001b[0mroot_uep\u001b[0m\u001b[0;34m,\u001b[0m \u001b[0mfilters\u001b[0m\u001b[0;34m,\u001b[0m \u001b[0;34m**\u001b[0m\u001b[0mkwargs\u001b[0m\u001b[0;34m)\u001b[0m\u001b[0;34m\u001b[0m\u001b[0;34m\u001b[0m\u001b[0m\n\u001b[0m\u001b[1;32m    316\u001b[0m \u001b[0;34m\u001b[0m\u001b[0m\n\u001b[1;32m    317\u001b[0m \u001b[0;34m\u001b[0m\u001b[0m\n",
      "\u001b[0;32m~/dev/git/python/environment/lib/python3.7/site-packages/tables/file.py\u001b[0m in \u001b[0;36m__init__\u001b[0;34m(self, filename, mode, title, root_uep, filters, **kwargs)\u001b[0m\n\u001b[1;32m    776\u001b[0m \u001b[0;34m\u001b[0m\u001b[0m\n\u001b[1;32m    777\u001b[0m         \u001b[0;31m# Now, it is time to initialize the File extension\u001b[0m\u001b[0;34m\u001b[0m\u001b[0;34m\u001b[0m\u001b[0;34m\u001b[0m\u001b[0m\n\u001b[0;32m--> 778\u001b[0;31m         \u001b[0mself\u001b[0m\u001b[0;34m.\u001b[0m\u001b[0m_g_new\u001b[0m\u001b[0;34m(\u001b[0m\u001b[0mfilename\u001b[0m\u001b[0;34m,\u001b[0m \u001b[0mmode\u001b[0m\u001b[0;34m,\u001b[0m \u001b[0;34m**\u001b[0m\u001b[0mparams\u001b[0m\u001b[0;34m)\u001b[0m\u001b[0;34m\u001b[0m\u001b[0;34m\u001b[0m\u001b[0m\n\u001b[0m\u001b[1;32m    779\u001b[0m \u001b[0;34m\u001b[0m\u001b[0m\n\u001b[1;32m    780\u001b[0m         \u001b[0;31m# Check filters and set PyTables format version for new files.\u001b[0m\u001b[0;34m\u001b[0m\u001b[0;34m\u001b[0m\u001b[0;34m\u001b[0m\u001b[0m\n",
      "\u001b[0;32mtables/hdf5extension.pyx\u001b[0m in \u001b[0;36mtables.hdf5extension.File._g_new\u001b[0;34m()\u001b[0m\n",
      "\u001b[0;31mHDF5ExtError\u001b[0m: HDF5 error back trace\n\n  File \"H5F.c\", line 509, in H5Fopen\n    unable to open file\n  File \"H5Fint.c\", line 1400, in H5F__open\n    unable to open file\n  File \"H5Fint.c\", line 1700, in H5F_open\n    unable to read superblock\n  File \"H5Fsuper.c\", line 623, in H5F__super_read\n    truncated file: eof = 96, sblock->base_addr = 0, stored_eof = 2048\n\nEnd of HDF5 error back trace\n\nUnable to open/create file '/var/tmp/mydata.h5'"
     ]
    }
   ],
   "source": [
    "# can only be run once\n",
    "#hdf5 files with pandas\n",
    "# need to pip install tables\n",
    "#df = pd.DataFrame({'a' : pd.Series(np.arange(100))})\n",
    "#store = pd.HDFStore('/var/tmp/mydata.h5')\n",
    "#store['obj1'] = df # store a frame\n",
    "#store['obj1_col'] = df['a'] # store a series\n",
    "#help(store)\n",
    "#print(store['obj1'])"
   ]
  },
  {
   "cell_type": "code",
   "execution_count": 100,
   "metadata": {
    "scrolled": true
   },
   "outputs": [
    {
     "name": "stdout",
     "output_type": "stream",
     "text": [
      "    number                                              title state\n",
      "0    34455  BUG: Groupby.apply raises KeyError for Float64...  open\n",
      "1    34454  TST/REF: refactor the arithmetic tests for Int...  open\n",
      "2    34453  [ENH] Allow pad, backfill and cumcount in grou...  open\n",
      "3    34452  BUG: groupby.tshift inconsistent behavior with...  open\n",
      "4    34450                            BUG: Fixes Issue #34318  open\n",
      "..     ...                                                ...   ...\n",
      "25   34412  DOC:/USAGE: Resulting Index when merging over ...  open\n",
      "26   34411  BUG: pd.read_sql returns empty list if query h...  open\n",
      "27   34410    32-bit compat issues in MacPython/pandas-wheels  open\n",
      "28   34407            Revert \"CLN: _consolidate_inplace less\"  open\n",
      "29   34406                           PERF: asv runner is down  open\n",
      "\n",
      "[30 rows x 3 columns]\n"
     ]
    }
   ],
   "source": [
    "# scrape web apis\n",
    "\n",
    "import requests\n",
    "url = 'https://api.github.com/repos/pandas-dev/pandas/issues'\n",
    "resp = requests.get(url)\n",
    "data = resp.json()\n",
    "issues = pd.DataFrame(data, columns=['number', 'title', 'state'])\n",
    "print(issues)"
   ]
  },
  {
   "cell_type": "code",
   "execution_count": null,
   "metadata": {},
   "outputs": [],
   "source": [
    "# extracting from database is not interesting\n",
    "# can be done via tools like sqlalchemy"
   ]
  },
  {
   "cell_type": "markdown",
   "metadata": {},
   "source": [
    "###  Chapter 7 - Data Cleaning and Preparation\n"
   ]
  },
  {
   "cell_type": "code",
   "execution_count": 101,
   "metadata": {
    "scrolled": true
   },
   "outputs": [
    {
     "name": "stdout",
     "output_type": "stream",
     "text": [
      "0     aardvark\n",
      "1    artichoke\n",
      "2          NaN\n",
      "3      avocado\n",
      "dtype: object\n",
      "0    False\n",
      "1    False\n",
      "2     True\n",
      "3    False\n",
      "dtype: bool\n",
      "0     True\n",
      "1    False\n",
      "2     True\n",
      "3    False\n",
      "dtype: bool\n",
      "1    artichoke\n",
      "3      avocado\n",
      "dtype: object\n",
      "0      Unknown\n",
      "1    artichoke\n",
      "2      Unknown\n",
      "3      avocado\n",
      "dtype: object\n"
     ]
    }
   ],
   "source": [
    "string_data = pd.Series(['aardvark', 'artichoke', np.nan, 'avocado'])\n",
    "print(string_data)\n",
    "print(string_data.isnull())\n",
    "string_data[0] = None\n",
    "print(string_data.isnull()) # missing data is treated the same as None Data\n",
    "print(string_data.dropna())\n",
    "print(string_data.fillna(value=\"Unknown\"))\n",
    "#help(string_data.fillna)"
   ]
  },
  {
   "cell_type": "code",
   "execution_count": 102,
   "metadata": {
    "scrolled": true
   },
   "outputs": [
    {
     "data": {
      "text/html": [
       "<div>\n",
       "<style scoped>\n",
       "    .dataframe tbody tr th:only-of-type {\n",
       "        vertical-align: middle;\n",
       "    }\n",
       "\n",
       "    .dataframe tbody tr th {\n",
       "        vertical-align: top;\n",
       "    }\n",
       "\n",
       "    .dataframe thead th {\n",
       "        text-align: right;\n",
       "    }\n",
       "</style>\n",
       "<table border=\"1\" class=\"dataframe\">\n",
       "  <thead>\n",
       "    <tr style=\"text-align: right;\">\n",
       "      <th></th>\n",
       "      <th>0</th>\n",
       "      <th>1</th>\n",
       "      <th>2</th>\n",
       "    </tr>\n",
       "  </thead>\n",
       "  <tbody>\n",
       "    <tr>\n",
       "      <th>0</th>\n",
       "      <td>1</td>\n",
       "      <td>6.5</td>\n",
       "      <td>3</td>\n",
       "    </tr>\n",
       "    <tr>\n",
       "      <th>1</th>\n",
       "      <td>1</td>\n",
       "      <td>&lt;NA&gt;</td>\n",
       "      <td>&lt;NA&gt;</td>\n",
       "    </tr>\n",
       "    <tr>\n",
       "      <th>2</th>\n",
       "      <td>&lt;NA&gt;</td>\n",
       "      <td>&lt;NA&gt;</td>\n",
       "      <td>&lt;NA&gt;</td>\n",
       "    </tr>\n",
       "    <tr>\n",
       "      <th>3</th>\n",
       "      <td>&lt;NA&gt;</td>\n",
       "      <td>6.5</td>\n",
       "      <td>3</td>\n",
       "    </tr>\n",
       "  </tbody>\n",
       "</table>\n",
       "</div>"
      ],
      "text/plain": [
       "      0     1     2\n",
       "0     1   6.5     3\n",
       "1     1  <NA>  <NA>\n",
       "2  <NA>  <NA>  <NA>\n",
       "3  <NA>   6.5     3"
      ]
     },
     "metadata": {},
     "output_type": "display_data"
    },
    {
     "data": {
      "text/html": [
       "<div>\n",
       "<style scoped>\n",
       "    .dataframe tbody tr th:only-of-type {\n",
       "        vertical-align: middle;\n",
       "    }\n",
       "\n",
       "    .dataframe tbody tr th {\n",
       "        vertical-align: top;\n",
       "    }\n",
       "\n",
       "    .dataframe thead th {\n",
       "        text-align: right;\n",
       "    }\n",
       "</style>\n",
       "<table border=\"1\" class=\"dataframe\">\n",
       "  <thead>\n",
       "    <tr style=\"text-align: right;\">\n",
       "      <th></th>\n",
       "      <th>0</th>\n",
       "      <th>1</th>\n",
       "      <th>2</th>\n",
       "    </tr>\n",
       "  </thead>\n",
       "  <tbody>\n",
       "    <tr>\n",
       "      <th>0</th>\n",
       "      <td>1</td>\n",
       "      <td>6.5</td>\n",
       "      <td>3</td>\n",
       "    </tr>\n",
       "  </tbody>\n",
       "</table>\n",
       "</div>"
      ],
      "text/plain": [
       "   0    1  2\n",
       "0  1  6.5  3"
      ]
     },
     "metadata": {},
     "output_type": "display_data"
    },
    {
     "data": {
      "text/html": [
       "<div>\n",
       "<style scoped>\n",
       "    .dataframe tbody tr th:only-of-type {\n",
       "        vertical-align: middle;\n",
       "    }\n",
       "\n",
       "    .dataframe tbody tr th {\n",
       "        vertical-align: top;\n",
       "    }\n",
       "\n",
       "    .dataframe thead th {\n",
       "        text-align: right;\n",
       "    }\n",
       "</style>\n",
       "<table border=\"1\" class=\"dataframe\">\n",
       "  <thead>\n",
       "    <tr style=\"text-align: right;\">\n",
       "      <th></th>\n",
       "      <th>0</th>\n",
       "      <th>1</th>\n",
       "      <th>2</th>\n",
       "    </tr>\n",
       "  </thead>\n",
       "  <tbody>\n",
       "    <tr>\n",
       "      <th>0</th>\n",
       "      <td>1</td>\n",
       "      <td>6.5</td>\n",
       "      <td>3</td>\n",
       "    </tr>\n",
       "    <tr>\n",
       "      <th>1</th>\n",
       "      <td>1</td>\n",
       "      <td>&lt;NA&gt;</td>\n",
       "      <td>&lt;NA&gt;</td>\n",
       "    </tr>\n",
       "    <tr>\n",
       "      <th>3</th>\n",
       "      <td>&lt;NA&gt;</td>\n",
       "      <td>6.5</td>\n",
       "      <td>3</td>\n",
       "    </tr>\n",
       "  </tbody>\n",
       "</table>\n",
       "</div>"
      ],
      "text/plain": [
       "      0     1     2\n",
       "0     1   6.5     3\n",
       "1     1  <NA>  <NA>\n",
       "3  <NA>   6.5     3"
      ]
     },
     "metadata": {},
     "output_type": "display_data"
    },
    {
     "data": {
      "text/html": [
       "<div>\n",
       "<style scoped>\n",
       "    .dataframe tbody tr th:only-of-type {\n",
       "        vertical-align: middle;\n",
       "    }\n",
       "\n",
       "    .dataframe tbody tr th {\n",
       "        vertical-align: top;\n",
       "    }\n",
       "\n",
       "    .dataframe thead th {\n",
       "        text-align: right;\n",
       "    }\n",
       "</style>\n",
       "<table border=\"1\" class=\"dataframe\">\n",
       "  <thead>\n",
       "    <tr style=\"text-align: right;\">\n",
       "      <th></th>\n",
       "      <th>0</th>\n",
       "      <th>1</th>\n",
       "      <th>2</th>\n",
       "      <th>4</th>\n",
       "    </tr>\n",
       "  </thead>\n",
       "  <tbody>\n",
       "    <tr>\n",
       "      <th>0</th>\n",
       "      <td>1</td>\n",
       "      <td>6.5</td>\n",
       "      <td>3</td>\n",
       "      <td>&lt;NA&gt;</td>\n",
       "    </tr>\n",
       "    <tr>\n",
       "      <th>1</th>\n",
       "      <td>1</td>\n",
       "      <td>&lt;NA&gt;</td>\n",
       "      <td>&lt;NA&gt;</td>\n",
       "      <td>&lt;NA&gt;</td>\n",
       "    </tr>\n",
       "    <tr>\n",
       "      <th>2</th>\n",
       "      <td>&lt;NA&gt;</td>\n",
       "      <td>&lt;NA&gt;</td>\n",
       "      <td>&lt;NA&gt;</td>\n",
       "      <td>&lt;NA&gt;</td>\n",
       "    </tr>\n",
       "    <tr>\n",
       "      <th>3</th>\n",
       "      <td>&lt;NA&gt;</td>\n",
       "      <td>6.5</td>\n",
       "      <td>3</td>\n",
       "      <td>&lt;NA&gt;</td>\n",
       "    </tr>\n",
       "  </tbody>\n",
       "</table>\n",
       "</div>"
      ],
      "text/plain": [
       "      0     1     2     4\n",
       "0     1   6.5     3  <NA>\n",
       "1     1  <NA>  <NA>  <NA>\n",
       "2  <NA>  <NA>  <NA>  <NA>\n",
       "3  <NA>   6.5     3  <NA>"
      ]
     },
     "metadata": {},
     "output_type": "display_data"
    },
    {
     "data": {
      "text/html": [
       "<div>\n",
       "<style scoped>\n",
       "    .dataframe tbody tr th:only-of-type {\n",
       "        vertical-align: middle;\n",
       "    }\n",
       "\n",
       "    .dataframe tbody tr th {\n",
       "        vertical-align: top;\n",
       "    }\n",
       "\n",
       "    .dataframe thead th {\n",
       "        text-align: right;\n",
       "    }\n",
       "</style>\n",
       "<table border=\"1\" class=\"dataframe\">\n",
       "  <thead>\n",
       "    <tr style=\"text-align: right;\">\n",
       "      <th></th>\n",
       "      <th>0</th>\n",
       "      <th>1</th>\n",
       "      <th>2</th>\n",
       "    </tr>\n",
       "  </thead>\n",
       "  <tbody>\n",
       "    <tr>\n",
       "      <th>0</th>\n",
       "      <td>1</td>\n",
       "      <td>6.5</td>\n",
       "      <td>3</td>\n",
       "    </tr>\n",
       "    <tr>\n",
       "      <th>1</th>\n",
       "      <td>1</td>\n",
       "      <td>&lt;NA&gt;</td>\n",
       "      <td>&lt;NA&gt;</td>\n",
       "    </tr>\n",
       "    <tr>\n",
       "      <th>2</th>\n",
       "      <td>&lt;NA&gt;</td>\n",
       "      <td>&lt;NA&gt;</td>\n",
       "      <td>&lt;NA&gt;</td>\n",
       "    </tr>\n",
       "    <tr>\n",
       "      <th>3</th>\n",
       "      <td>&lt;NA&gt;</td>\n",
       "      <td>6.5</td>\n",
       "      <td>3</td>\n",
       "    </tr>\n",
       "  </tbody>\n",
       "</table>\n",
       "</div>"
      ],
      "text/plain": [
       "      0     1     2\n",
       "0     1   6.5     3\n",
       "1     1  <NA>  <NA>\n",
       "2  <NA>  <NA>  <NA>\n",
       "3  <NA>   6.5     3"
      ]
     },
     "metadata": {},
     "output_type": "display_data"
    }
   ],
   "source": [
    "from pandas import NA\n",
    "data = pd.DataFrame([[1., 6.5, 3.], [1., NA, NA],\n",
    "                     [NA, NA, NA], [NA, 6.5, 3.]])\n",
    "\n",
    "display(data)\n",
    "display(data.dropna()) # drops any row with a single missing value\n",
    "display(data.dropna(how='all')) # drops row only if all values are missing\n",
    "data[4] = NA\n",
    "display(data)\n",
    "display(data.dropna(how='all', axis='columns'))"
   ]
  },
  {
   "cell_type": "code",
   "execution_count": 108,
   "metadata": {},
   "outputs": [
    {
     "name": "stdout",
     "output_type": "stream",
     "text": [
      "          0         1         2\n",
      "0  0.239576  0.175857  0.085997\n",
      "1  0.531829  0.900339  0.661512\n",
      "2  0.824061  0.602951  0.810893\n",
      "3  0.997332  0.268821  0.985430\n",
      "4  0.044348  0.953584  0.127112\n",
      "5  0.535118  0.713759  0.441978\n",
      "6  0.916942  0.732790  0.315209\n",
      "0    0.175857\n",
      "1    0.900339\n",
      "2    0.602951\n",
      "3    0.268821\n",
      "Name: 1, dtype: float64\n",
      "          0         1         2\n",
      "0  0.239576      <NA>  0.085997\n",
      "1  0.531829      <NA>  0.661512\n",
      "2  0.824061      <NA>  0.810893\n",
      "3  0.997332      <NA>  0.985430\n",
      "4  0.044348  0.953584  0.127112\n",
      "5  0.535118  0.713759  0.441978\n",
      "6  0.916942   0.73279  0.315209\n",
      "0    <NA>\n",
      "1    <NA>\n",
      "2    <NA>\n",
      "3    <NA>\n",
      "Name: 1, dtype: object\n",
      "          0         1         2\n",
      "4  0.044348  0.953584  0.127112\n",
      "5  0.535118  0.713759  0.441978\n",
      "6  0.916942   0.73279  0.315209\n"
     ]
    }
   ],
   "source": [
    "df = pd.DataFrame(np.random.rand(7,3))\n",
    "print(df)\n",
    "print(df.iloc[:4, 1])\n",
    "df.iloc[:4,1] = NA\n",
    "print(df)\n",
    "print(df.iloc[:4, 1])\n",
    "print(df.dropna())"
   ]
  },
  {
   "cell_type": "code",
   "execution_count": 110,
   "metadata": {
    "scrolled": true
   },
   "outputs": [
    {
     "name": "stdout",
     "output_type": "stream",
     "text": [
      "          0         1         2\n",
      "0  0.573179  0.000000  0.287308\n",
      "1  0.482616  0.000000  0.150670\n",
      "2  0.829959  0.000000  0.994264\n",
      "3  0.256114  0.000000  0.494107\n",
      "4  0.448897  0.091288  0.251903\n",
      "5  0.223908  0.512690  0.746506\n",
      "6  0.584577  0.765317  0.151905\n"
     ]
    }
   ],
   "source": [
    "df = pd.DataFrame(np.random.rand(7,3))\n",
    "df.iloc[:4,1] = NA\n",
    "df.fillna(0, inplace=True)\n",
    "print(df)"
   ]
  },
  {
   "cell_type": "code",
   "execution_count": 122,
   "metadata": {
    "scrolled": true
   },
   "outputs": [
    {
     "name": "stdout",
     "output_type": "stream",
     "text": [
      "    k1  k2\n",
      "0  one   1\n",
      "1  two   2\n",
      "2  one   1\n",
      "3  two   2\n",
      "4  one   1\n",
      "5  two   2\n",
      "0    False\n",
      "1    False\n",
      "2     True\n",
      "3     True\n",
      "4     True\n",
      "5     True\n",
      "dtype: bool\n",
      "    k1  k2\n",
      "0  one   1\n",
      "1  two   2\n",
      "    k1  k2\n",
      "0  one   1\n",
      "1  two   2\n",
      "    k1  k2  v1\n",
      "0  one   1   0\n",
      "1  two   2   1\n",
      "2  one   1   2\n",
      "3  two   2   3\n",
      "4  one   1   4\n",
      "5  two   2   5\n",
      "    k1  k2  v1\n",
      "4  one   1   4\n",
      "5  two   2   5\n"
     ]
    }
   ],
   "source": [
    "# remove duplicates\n",
    "data = DataFrame({'k1' : ['one', 'two'] * 3, 'k2' : [1,2] * 3})\n",
    "print(data)\n",
    "\n",
    "print(data.duplicated())\n",
    "print(data.drop_duplicates())\n",
    "print(data[~data.duplicated()])\n",
    "\n",
    "# identify duplicates on a column\n",
    "data = DataFrame({'k1' : ['one', 'two'] * 3, 'k2' : [1,2] * 3})\n",
    "data['v1'] = range(6)\n",
    "print(data)\n",
    "print(data.drop_duplicates(['k1'], keep='last'))\n"
   ]
  },
  {
   "cell_type": "code",
   "execution_count": 141,
   "metadata": {
    "scrolled": false
   },
   "outputs": [
    {
     "name": "stdout",
     "output_type": "stream",
     "text": [
      "          a         b         c\n",
      "d  0.043122  0.958574 -0.378383\n",
      "e -0.980083  0.436512 -0.129505\n",
      "f -1.352789 -0.662038  0.199630\n",
      "g -0.416333 -0.667304 -2.146019\n",
      "h -1.484204 -0.363301  1.060910\n",
      "i -0.273175 -1.396828  0.415028\n",
      "j -1.082988 -0.569401  1.661106\n",
      "          a         b         c  z\n",
      "d  0.043122  0.958574 -0.378383  1\n",
      "e -0.980083  0.436512 -0.129505  0\n",
      "f -1.352789 -0.662038  0.199630  0\n",
      "g -0.416333 -0.667304 -2.146019  0\n",
      "h -1.484204 -0.363301  1.060910  0\n",
      "i -0.273175 -1.396828  0.415028  0\n",
      "j -1.082988 -0.569401  1.661106  0\n",
      "0    1\n",
      "1    3\n",
      "2    1\n",
      "3    3\n",
      "dtype: int64\n",
      "0    2\n",
      "1    4\n",
      "2    2\n",
      "3    4\n",
      "dtype: int64\n",
      "0    5\n",
      "1    5\n",
      "2    5\n",
      "3    5\n",
      "dtype: int64\n"
     ]
    }
   ],
   "source": [
    "# applying functions (data transformation)\n",
    "\n",
    "data = pd.DataFrame(np.random.randn(7,3), columns=[\"a\", \"b\", \"c\"], index=list(\"defghij\"))\n",
    "print(data)\n",
    "data['z'] = data['a'].map(lambda x : 0 if x < 0 else 1)\n",
    "print(data)\n",
    "\n",
    "# replacing values\n",
    "ser = Series([1,0,1,0])\n",
    "ser.replace(0, 3, inplace=True)\n",
    "print(ser)\n",
    "# replace 1s and 3s with 2s and 4s\n",
    "ser.replace([1,3], [2,4], inplace=True)\n",
    "print(ser)\n",
    "\n",
    "# replace 2s and 4s with 5\n",
    "ser.replace([2,4], 5, inplace=True)\n",
    "print(ser)"
   ]
  },
  {
   "cell_type": "code",
   "execution_count": 148,
   "metadata": {
    "scrolled": true
   },
   "outputs": [
    {
     "name": "stdout",
     "output_type": "stream",
     "text": [
      "          one  two  three  four\n",
      "Ohio        0    1      2     3\n",
      "Colorado    4    5      6     7\n",
      "New York    8    9     10    11\n",
      "Index(['Ohio', 'Colorado', 'New York'], dtype='object')\n",
      "Index(['one', 'two', 'three', 'four'], dtype='object')\n",
      "Index(['ohio', 'colorado', 'new york'], dtype='object')\n",
      "False\n"
     ]
    }
   ],
   "source": [
    "data = pd.DataFrame(np.arange(12).reshape((3, 4)),\n",
    "                    index=['Ohio', 'Colorado', 'New York'],\n",
    "                    columns=['one', 'two', 'three', 'four'])\n",
    "print(data)\n",
    "print(data.index)\n",
    "print(data.columns)\n",
    "# instead of this two step process with map and reassign, rename can be used\n",
    "data.index = data.index.map(lambda x : x.lower())\n",
    "print(data.index)\n",
    "\n",
    "# creates another df with renamed indexes\n",
    "df2 = data.rename(index=str.title, columns=str.upper)\n",
    "print(df is df2)"
   ]
  },
  {
   "cell_type": "code",
   "execution_count": 157,
   "metadata": {
    "scrolled": true
   },
   "outputs": [
    {
     "name": "stdout",
     "output_type": "stream",
     "text": [
      "[(18, 25], (18, 25], (18, 25], (25, 35], (18, 25], ..., (25, 35], (60, 100], (35, 60], (35, 60], (25, 35]]\n",
      "Length: 12\n",
      "Categories (4, interval[int64]): [(18, 25] < (25, 35] < (35, 60] < (60, 100]]\n",
      "(18, 25]     5\n",
      "(25, 35]     3\n",
      "(35, 60]     3\n",
      "(60, 100]    1\n",
      "dtype: int64\n",
      "IntervalIndex([(18, 25], (25, 35], (35, 60], (60, 100]],\n",
      "              closed='right',\n",
      "              dtype='interval[int64]')\n",
      "[0 0 0 1 0 0 2 1 3 2 2 1]\n",
      "[young, young, young, youngadult, young, ..., youngadult, senior, middle-aged, middle-aged, youngadult]\n",
      "Length: 12\n",
      "Categories (4, object): [young < youngadult < middle-aged < senior]\n",
      "[(19.959, 28.2], (19.959, 28.2], (19.959, 28.2], (19.959, 28.2], (19.959, 28.2], ..., (28.2, 36.4], (52.8, 61.0], (44.6, 52.8], (36.4, 44.6], (28.2, 36.4]]\n",
      "Length: 12\n",
      "Categories (5, interval[float64]): [(19.959, 28.2] < (28.2, 36.4] < (36.4, 44.6] < (44.6, 52.8] < (52.8, 61.0]]\n",
      "(-3.646, -0.544]    250\n",
      "(-0.544, 0.114]     250\n",
      "(0.114, 0.698]      250\n",
      "(0.698, 3.32]       250\n",
      "dtype: int64\n"
     ]
    }
   ],
   "source": [
    "# binning and discretization\n",
    "# array of ages\n",
    "ages = [20, 22, 25, 27, 21, 23, 37, 31, 61, 45, 41, 32]\n",
    "# bins that the array should be categorized into\n",
    "# Eg: 18-25, 25-35, ....\n",
    "bins = [18,25,35,60,100]\n",
    "cats = pd.cut(ages, bins)\n",
    "print(cats) # 4 categories and transforms each element into the category\n",
    "\n",
    "print(cats.value_counts())\n",
    "print(cats.categories)\n",
    "print(cats.codes)\n",
    "\n",
    "# can add names to the bins\n",
    "group_names = [\"young\", \"youngadult\", \"middle-aged\", \"senior\"]\n",
    "cats = pd.cut(ages, bins, labels=group_names)\n",
    "print(cats)\n",
    "\n",
    "# cuts by default without bins will separate \n",
    "# into equal sized bins based on max and min values\n",
    "# number of bins will need to be given\n",
    "cats = pd.cut(ages, 5)\n",
    "print(cats)\n",
    "\n",
    "# qcut divides into quantiles and so \n",
    "# will divide into bins with equal number of elements\n",
    "data = np.random.randn(1000)\n",
    "cuts = pd.qcut(data, 4) # cut into 4 quantiles\n",
    "print(cuts.value_counts())"
   ]
  },
  {
   "cell_type": "code",
   "execution_count": 175,
   "metadata": {
    "scrolled": true
   },
   "outputs": [
    {
     "data": {
      "text/html": [
       "<div>\n",
       "<style scoped>\n",
       "    .dataframe tbody tr th:only-of-type {\n",
       "        vertical-align: middle;\n",
       "    }\n",
       "\n",
       "    .dataframe tbody tr th {\n",
       "        vertical-align: top;\n",
       "    }\n",
       "\n",
       "    .dataframe thead th {\n",
       "        text-align: right;\n",
       "    }\n",
       "</style>\n",
       "<table border=\"1\" class=\"dataframe\">\n",
       "  <thead>\n",
       "    <tr style=\"text-align: right;\">\n",
       "      <th></th>\n",
       "      <th>a</th>\n",
       "      <th>b</th>\n",
       "      <th>c</th>\n",
       "      <th>d</th>\n",
       "      <th>e</th>\n",
       "    </tr>\n",
       "  </thead>\n",
       "  <tbody>\n",
       "    <tr>\n",
       "      <th>count</th>\n",
       "      <td>10.000000</td>\n",
       "      <td>10.000000</td>\n",
       "      <td>10.000000</td>\n",
       "      <td>10.000000</td>\n",
       "      <td>10.000000</td>\n",
       "    </tr>\n",
       "    <tr>\n",
       "      <th>mean</th>\n",
       "      <td>0.023633</td>\n",
       "      <td>0.254175</td>\n",
       "      <td>-0.317604</td>\n",
       "      <td>-0.408701</td>\n",
       "      <td>-0.216256</td>\n",
       "    </tr>\n",
       "    <tr>\n",
       "      <th>std</th>\n",
       "      <td>1.218685</td>\n",
       "      <td>0.898364</td>\n",
       "      <td>0.538125</td>\n",
       "      <td>0.710320</td>\n",
       "      <td>0.843823</td>\n",
       "    </tr>\n",
       "    <tr>\n",
       "      <th>min</th>\n",
       "      <td>-1.935098</td>\n",
       "      <td>-0.854898</td>\n",
       "      <td>-1.288393</td>\n",
       "      <td>-1.468862</td>\n",
       "      <td>-1.707237</td>\n",
       "    </tr>\n",
       "    <tr>\n",
       "      <th>25%</th>\n",
       "      <td>-0.752518</td>\n",
       "      <td>-0.524741</td>\n",
       "      <td>-0.661508</td>\n",
       "      <td>-0.820041</td>\n",
       "      <td>-0.716229</td>\n",
       "    </tr>\n",
       "    <tr>\n",
       "      <th>50%</th>\n",
       "      <td>0.184168</td>\n",
       "      <td>0.176876</td>\n",
       "      <td>-0.245399</td>\n",
       "      <td>-0.415755</td>\n",
       "      <td>0.032788</td>\n",
       "    </tr>\n",
       "    <tr>\n",
       "      <th>75%</th>\n",
       "      <td>0.381182</td>\n",
       "      <td>0.917102</td>\n",
       "      <td>0.013285</td>\n",
       "      <td>0.233119</td>\n",
       "      <td>0.381983</td>\n",
       "    </tr>\n",
       "    <tr>\n",
       "      <th>max</th>\n",
       "      <td>2.402091</td>\n",
       "      <td>1.527229</td>\n",
       "      <td>0.415949</td>\n",
       "      <td>0.516697</td>\n",
       "      <td>0.987080</td>\n",
       "    </tr>\n",
       "  </tbody>\n",
       "</table>\n",
       "</div>"
      ],
      "text/plain": [
       "               a          b          c          d          e\n",
       "count  10.000000  10.000000  10.000000  10.000000  10.000000\n",
       "mean    0.023633   0.254175  -0.317604  -0.408701  -0.216256\n",
       "std     1.218685   0.898364   0.538125   0.710320   0.843823\n",
       "min    -1.935098  -0.854898  -1.288393  -1.468862  -1.707237\n",
       "25%    -0.752518  -0.524741  -0.661508  -0.820041  -0.716229\n",
       "50%     0.184168   0.176876  -0.245399  -0.415755   0.032788\n",
       "75%     0.381182   0.917102   0.013285   0.233119   0.381983\n",
       "max     2.402091   1.527229   0.415949   0.516697   0.987080"
      ]
     },
     "metadata": {},
     "output_type": "display_data"
    },
    {
     "name": "stdout",
     "output_type": "stream",
     "text": [
      "1    2.402091\n",
      "Name: a, dtype: float64\n",
      "0    False\n",
      "1     True\n",
      "2    False\n",
      "3    False\n",
      "4    False\n",
      "5    False\n",
      "6    False\n",
      "7    False\n",
      "8     True\n",
      "9    False\n",
      "dtype: bool\n",
      "a     True\n",
      "b     True\n",
      "c    False\n",
      "d    False\n",
      "e    False\n",
      "dtype: bool\n",
      "          a         b         c         d         e\n",
      "1  2.402091  1.527229 -0.244646 -0.569767  0.108501\n",
      "8 -1.258925  1.453738 -0.771947  0.516697  0.473143\n"
     ]
    }
   ],
   "source": [
    "# detection and filtering of outliers\n",
    "data = DataFrame(np.random.randn(10,5), columns=list('abcde'))\n",
    "display(data.describe())\n",
    "\n",
    "#select all values in a column exceeding 1\n",
    "print(data['a'][data['a'] > 1])\n",
    "\n",
    "# boolean array forall rows with any value exceeding 1\n",
    "print((data>1).any(1))\n",
    "\n",
    "# boolean array for all columns with any value exceeding 1\n",
    "print((data>1).any(0))\n",
    "\n",
    "print(data[(data>1.3).any(1)])\n"
   ]
  },
  {
   "cell_type": "code",
   "execution_count": 180,
   "metadata": {
    "scrolled": true
   },
   "outputs": [
    {
     "name": "stdout",
     "output_type": "stream",
     "text": [
      "    0   1   2   3\n",
      "0   0   1   2   3\n",
      "1   4   5   6   7\n",
      "2   8   9  10  11\n",
      "3  12  13  14  15\n",
      "4  16  17  18  19\n",
      "[3 4 2 0 1]\n",
      "    0   1   2   3\n",
      "3  12  13  14  15\n",
      "4  16  17  18  19\n",
      "2   8   9  10  11\n",
      "0   0   1   2   3\n",
      "1   4   5   6   7\n",
      "    0   1   2   3\n",
      "4  16  17  18  19\n",
      "2   8   9  10  11\n",
      "1   4   5   6   7\n",
      "    0   1   2   3\n",
      "1   4   5   6   7\n",
      "0   0   1   2   3\n",
      "4  16  17  18  19\n",
      "2   8   9  10  11\n",
      "2   8   9  10  11\n"
     ]
    }
   ],
   "source": [
    "# sampling\n",
    "df = DataFrame(np.arange(5*4).reshape(5,4))\n",
    "print(df)\n",
    "\n",
    "samples = np.random.permutation(5)\n",
    "print(samples)\n",
    "\n",
    "# rearrange the rows\n",
    "print(df.take(samples))\n",
    "print(df.sample(n=3))\n",
    "print(df.sample(n=5, replace=True)) # sample with replacements"
   ]
  },
  {
   "cell_type": "code",
   "execution_count": 186,
   "metadata": {},
   "outputs": [
    {
     "name": "stdout",
     "output_type": "stream",
     "text": [
      "  k1  k2\n",
      "0  a   0\n",
      "1  b   1\n",
      "2  b   2\n",
      "3  b   3\n",
      "4  c   4\n",
      "5  c   5\n",
      "6  a   6\n",
      "7  a   7\n",
      "   a  b  c\n",
      "0  1  0  0\n",
      "1  0  1  0\n",
      "2  0  1  0\n",
      "3  0  1  0\n",
      "4  0  0  1\n",
      "5  0  0  1\n",
      "6  1  0  0\n",
      "7  1  0  0\n"
     ]
    }
   ],
   "source": [
    "# indicator matrix\n",
    "\n",
    "df = DataFrame({'k1': list('abbbccaa'), 'k2': range(8)})\n",
    "print(df)\n",
    "\n",
    "# indicator is a matrix that indicates which unique value is at \n",
    "# a position\n",
    "print(pd.get_dummies(df['k1']))\n"
   ]
  },
  {
   "cell_type": "code",
   "execution_count": 191,
   "metadata": {},
   "outputs": [
    {
     "data": {
      "text/plain": [
       "8"
      ]
     },
     "execution_count": 191,
     "metadata": {},
     "output_type": "execute_result"
    }
   ],
   "source": [
    "# try to construct our own dummies method\n",
    "df['k1'].value_counts()\n",
    "len(df['k1'])"
   ]
  },
  {
   "cell_type": "code",
   "execution_count": 200,
   "metadata": {},
   "outputs": [
    {
     "name": "stdout",
     "output_type": "stream",
     "text": [
      "Empty DataFrame\n",
      "Columns: [a, b, c]\n",
      "Index: []\n",
      "   a  b  c\n",
      "0  1  0  0\n",
      "1  0  1  0\n",
      "2  0  1  0\n",
      "3  0  1  0\n",
      "4  0  0  1\n",
      "5  0  0  1\n",
      "6  1  0  0\n",
      "7  1  0  0\n",
      "   a  b  c\n",
      "0  1  0  0\n",
      "1  0  1  0\n",
      "2  0  1  0\n",
      "3  0  1  0\n",
      "4  0  0  1\n",
      "5  0  0  1\n",
      "6  1  0  0\n",
      "7  1  0  0\n"
     ]
    }
   ],
   "source": [
    "# implementation of the dummies function\n",
    "# get the unique columns and create a transformed boolean array\n",
    "# for each unique value\n",
    "df['k1'].unique()\n",
    "df2 = DataFrame(columns=df['k1'].unique())\n",
    "print(df2)\n",
    "for x in df2.columns:\n",
    "    df2[x] = (df['k1'] == x).map(lambda x : 1 if x else 0)\n",
    "    \n",
    "# these two are the same\n",
    "print(df2)\n",
    "print(pd.get_dummies(df['k1']))"
   ]
  },
  {
   "cell_type": "markdown",
   "metadata": {},
   "source": [
    "#### String manipulation"
   ]
  },
  {
   "cell_type": "code",
   "execution_count": 201,
   "metadata": {},
   "outputs": [],
   "source": [
    "# ignore general string manipulation sections"
   ]
  },
  {
   "cell_type": "code",
   "execution_count": 210,
   "metadata": {},
   "outputs": [
    {
     "name": "stdout",
     "output_type": "stream",
     "text": [
      "Dave     dave@google.com\n",
      "Steve    steve@gmail.com\n",
      "Rob        rob@gmail.com\n",
      "Wes                  NaN\n",
      "dtype: object\n",
      "Dave     dave@google.com\n",
      "Steve    steve@gmail.com\n",
      "Rob        rob@gmail.com\n",
      "Wes              unknown\n",
      "dtype: object\n",
      "Dave     False\n",
      "Steve     True\n",
      "Rob       True\n",
      "Wes        NaN\n",
      "dtype: object\n",
      "Dave     [(dave, google, com)]\n",
      "Steve    [(steve, gmail, com)]\n",
      "Rob        [(rob, gmail, com)]\n",
      "Wes                        NaN\n",
      "dtype: object\n"
     ]
    }
   ],
   "source": [
    "import re\n",
    "\n",
    "# Vectorized string functions in pandas\n",
    "data = Series({'Dave': 'dave@google.com', 'Steve': 'steve@gmail.com',\n",
    "        'Rob': 'rob@gmail.com', 'Wes': np.nan})\n",
    "print(data)\n",
    "print(data.fillna(\"unknown\"))\n",
    "print(data.str.contains('gmail')) # vectorized contains \n",
    "\n",
    "# using regular expressions\n",
    "pattern = '([A-Z0-9._%+-]+)@([A-Z0-9.-]+)\\\\.([A-Z]{2,4})'\n",
    "print(data.str.findall(pattern, flags=re.IGNORECASE))"
   ]
  },
  {
   "cell_type": "code",
   "execution_count": 211,
   "metadata": {},
   "outputs": [],
   "source": [
    "# many string operations have vectorized counterparts \n",
    "# endswith, startswith, findall, get, isupper,  ..."
   ]
  },
  {
   "cell_type": "markdown",
   "metadata": {},
   "source": [
    "###  Data Wrangling: Join/Combine/Reshape"
   ]
  },
  {
   "cell_type": "code",
   "execution_count": 225,
   "metadata": {
    "scrolled": true
   },
   "outputs": [
    {
     "data": {
      "text/plain": [
       "a  1    0.955263\n",
       "   2   -0.559233\n",
       "   3    0.533394\n",
       "b  1   -0.220539\n",
       "   3   -0.441906\n",
       "c  1    0.497127\n",
       "   2    0.498129\n",
       "d  2   -0.314591\n",
       "   3   -0.398835\n",
       "dtype: float64"
      ]
     },
     "metadata": {},
     "output_type": "display_data"
    },
    {
     "name": "stdout",
     "output_type": "stream",
     "text": [
      "MultiIndex([('a', 1),\n",
      "            ('a', 2),\n",
      "            ('a', 3),\n",
      "            ('b', 1),\n",
      "            ('b', 3),\n",
      "            ('c', 1),\n",
      "            ('c', 2),\n",
      "            ('d', 2),\n",
      "            ('d', 3)],\n",
      "           )\n",
      "a  1    0.955263\n",
      "   2   -0.559233\n",
      "   3    0.533394\n",
      "b  1   -0.220539\n",
      "   3   -0.441906\n",
      "c  1    0.497127\n",
      "   2    0.498129\n",
      "dtype: float64\n"
     ]
    }
   ],
   "source": [
    "data = pd.Series(np.random.randn(9),\n",
    "                 index=[['a', 'a', 'a', 'b', 'b', 'c', 'c', 'd', 'd'], \n",
    "                        [1, 2, 3, 1, 3, 1, 2, 2, 3]])\n",
    "display(data)\n",
    "print(data.index)\n",
    "print(data['a':'c'])"
   ]
  },
  {
   "cell_type": "code",
   "execution_count": 227,
   "metadata": {},
   "outputs": [
    {
     "name": "stdout",
     "output_type": "stream",
     "text": [
      "b  1   -0.220539\n",
      "c  1    0.497127\n",
      "   2    0.498129\n",
      "dtype: float64\n"
     ]
    }
   ],
   "source": [
    "print(data.loc['b':'c', 0:2])"
   ]
  },
  {
   "cell_type": "code",
   "execution_count": 230,
   "metadata": {},
   "outputs": [
    {
     "name": "stdout",
     "output_type": "stream",
     "text": [
      "          1         2         3\n",
      "a  0.955263 -0.559233  0.533394\n",
      "b -0.220539       NaN -0.441906\n",
      "c  0.497127  0.498129       NaN\n",
      "d       NaN -0.314591 -0.398835\n",
      "a  1    0.955263\n",
      "   2   -0.559233\n",
      "   3    0.533394\n",
      "b  1   -0.220539\n",
      "   3   -0.441906\n",
      "c  1    0.497127\n",
      "   2    0.498129\n",
      "d  2   -0.314591\n",
      "   3   -0.398835\n",
      "dtype: float64\n"
     ]
    }
   ],
   "source": [
    "print(data.unstack())\n",
    "print(data.unstack().stack())"
   ]
  },
  {
   "cell_type": "code",
   "execution_count": 255,
   "metadata": {
    "scrolled": true
   },
   "outputs": [
    {
     "data": {
      "text/html": [
       "<div>\n",
       "<style scoped>\n",
       "    .dataframe tbody tr th:only-of-type {\n",
       "        vertical-align: middle;\n",
       "    }\n",
       "\n",
       "    .dataframe tbody tr th {\n",
       "        vertical-align: top;\n",
       "    }\n",
       "\n",
       "    .dataframe thead tr th {\n",
       "        text-align: left;\n",
       "    }\n",
       "</style>\n",
       "<table border=\"1\" class=\"dataframe\">\n",
       "  <thead>\n",
       "    <tr>\n",
       "      <th></th>\n",
       "      <th></th>\n",
       "      <th colspan=\"2\" halign=\"left\">col_1</th>\n",
       "      <th>col_2</th>\n",
       "    </tr>\n",
       "    <tr>\n",
       "      <th></th>\n",
       "      <th></th>\n",
       "      <th>sub_col1</th>\n",
       "      <th>sub_col2</th>\n",
       "      <th>sub_col3</th>\n",
       "    </tr>\n",
       "  </thead>\n",
       "  <tbody>\n",
       "    <tr>\n",
       "      <th rowspan=\"2\" valign=\"top\">a</th>\n",
       "      <th>1</th>\n",
       "      <td>0</td>\n",
       "      <td>1</td>\n",
       "      <td>2</td>\n",
       "    </tr>\n",
       "    <tr>\n",
       "      <th>2</th>\n",
       "      <td>3</td>\n",
       "      <td>4</td>\n",
       "      <td>5</td>\n",
       "    </tr>\n",
       "    <tr>\n",
       "      <th rowspan=\"2\" valign=\"top\">b</th>\n",
       "      <th>1</th>\n",
       "      <td>6</td>\n",
       "      <td>7</td>\n",
       "      <td>8</td>\n",
       "    </tr>\n",
       "    <tr>\n",
       "      <th>2</th>\n",
       "      <td>9</td>\n",
       "      <td>10</td>\n",
       "      <td>11</td>\n",
       "    </tr>\n",
       "  </tbody>\n",
       "</table>\n",
       "</div>"
      ],
      "text/plain": [
       "       col_1             col_2\n",
       "    sub_col1 sub_col2 sub_col3\n",
       "a 1        0        1        2\n",
       "  2        3        4        5\n",
       "b 1        6        7        8\n",
       "  2        9       10       11"
      ]
     },
     "metadata": {},
     "output_type": "display_data"
    },
    {
     "name": "stdout",
     "output_type": "stream",
     "text": [
      "<class 'pandas.core.frame.DataFrame'>\n",
      "(4, 2)\n",
      "(4,)\n"
     ]
    }
   ],
   "source": [
    "# heirarchies can be along both axis\n",
    "df = DataFrame(np.arange(4 * 3).reshape(4,3),\n",
    "               index=[['a','a','b','b'],[1,2,1,2]],\n",
    "               columns=[['col_1', 'col_1', 'col_2'],['sub_col1', 'sub_col2', 'sub_col3']]\n",
    "              )\n",
    "display(df)\n",
    "print(type(df))\n",
    "print(df['col_1'].shape)\n",
    "print(df['col_1']['sub_col1'].shape)\n"
   ]
  },
  {
   "cell_type": "code",
   "execution_count": 256,
   "metadata": {
    "scrolled": true
   },
   "outputs": [
    {
     "data": {
      "text/html": [
       "<div>\n",
       "<style scoped>\n",
       "    .dataframe tbody tr th:only-of-type {\n",
       "        vertical-align: middle;\n",
       "    }\n",
       "\n",
       "    .dataframe tbody tr th {\n",
       "        vertical-align: top;\n",
       "    }\n",
       "\n",
       "    .dataframe thead tr th {\n",
       "        text-align: left;\n",
       "    }\n",
       "</style>\n",
       "<table border=\"1\" class=\"dataframe\">\n",
       "  <thead>\n",
       "    <tr>\n",
       "      <th></th>\n",
       "      <th></th>\n",
       "      <th colspan=\"2\" halign=\"left\">col_1</th>\n",
       "      <th>col_2</th>\n",
       "    </tr>\n",
       "    <tr>\n",
       "      <th></th>\n",
       "      <th></th>\n",
       "      <th>sub_col1</th>\n",
       "      <th>sub_col2</th>\n",
       "      <th>sub_col3</th>\n",
       "    </tr>\n",
       "  </thead>\n",
       "  <tbody>\n",
       "    <tr>\n",
       "      <th>1</th>\n",
       "      <th>a</th>\n",
       "      <td>0</td>\n",
       "      <td>1</td>\n",
       "      <td>2</td>\n",
       "    </tr>\n",
       "    <tr>\n",
       "      <th>2</th>\n",
       "      <th>a</th>\n",
       "      <td>3</td>\n",
       "      <td>4</td>\n",
       "      <td>5</td>\n",
       "    </tr>\n",
       "    <tr>\n",
       "      <th>1</th>\n",
       "      <th>b</th>\n",
       "      <td>6</td>\n",
       "      <td>7</td>\n",
       "      <td>8</td>\n",
       "    </tr>\n",
       "    <tr>\n",
       "      <th>2</th>\n",
       "      <th>b</th>\n",
       "      <td>9</td>\n",
       "      <td>10</td>\n",
       "      <td>11</td>\n",
       "    </tr>\n",
       "  </tbody>\n",
       "</table>\n",
       "</div>"
      ],
      "text/plain": [
       "       col_1             col_2\n",
       "    sub_col1 sub_col2 sub_col3\n",
       "1 a        0        1        2\n",
       "2 a        3        4        5\n",
       "1 b        6        7        8\n",
       "2 b        9       10       11"
      ]
     },
     "metadata": {},
     "output_type": "display_data"
    },
    {
     "data": {
      "text/html": [
       "<div>\n",
       "<style scoped>\n",
       "    .dataframe tbody tr th:only-of-type {\n",
       "        vertical-align: middle;\n",
       "    }\n",
       "\n",
       "    .dataframe tbody tr th {\n",
       "        vertical-align: top;\n",
       "    }\n",
       "\n",
       "    .dataframe thead tr th {\n",
       "        text-align: left;\n",
       "    }\n",
       "</style>\n",
       "<table border=\"1\" class=\"dataframe\">\n",
       "  <thead>\n",
       "    <tr>\n",
       "      <th></th>\n",
       "      <th></th>\n",
       "      <th colspan=\"2\" halign=\"left\">col_1</th>\n",
       "      <th>col_2</th>\n",
       "    </tr>\n",
       "    <tr>\n",
       "      <th></th>\n",
       "      <th></th>\n",
       "      <th>sub_col1</th>\n",
       "      <th>sub_col2</th>\n",
       "      <th>sub_col3</th>\n",
       "    </tr>\n",
       "  </thead>\n",
       "  <tbody>\n",
       "    <tr>\n",
       "      <th rowspan=\"2\" valign=\"top\">1</th>\n",
       "      <th>a</th>\n",
       "      <td>0</td>\n",
       "      <td>1</td>\n",
       "      <td>2</td>\n",
       "    </tr>\n",
       "    <tr>\n",
       "      <th>b</th>\n",
       "      <td>6</td>\n",
       "      <td>7</td>\n",
       "      <td>8</td>\n",
       "    </tr>\n",
       "    <tr>\n",
       "      <th rowspan=\"2\" valign=\"top\">2</th>\n",
       "      <th>a</th>\n",
       "      <td>3</td>\n",
       "      <td>4</td>\n",
       "      <td>5</td>\n",
       "    </tr>\n",
       "    <tr>\n",
       "      <th>b</th>\n",
       "      <td>9</td>\n",
       "      <td>10</td>\n",
       "      <td>11</td>\n",
       "    </tr>\n",
       "  </tbody>\n",
       "</table>\n",
       "</div>"
      ],
      "text/plain": [
       "       col_1             col_2\n",
       "    sub_col1 sub_col2 sub_col3\n",
       "1 a        0        1        2\n",
       "  b        6        7        8\n",
       "2 a        3        4        5\n",
       "  b        9       10       11"
      ]
     },
     "metadata": {},
     "output_type": "display_data"
    }
   ],
   "source": [
    "display(df.swaplevel(0,1))\n",
    "display(df.swaplevel(0,1).sort_index(level=0))"
   ]
  },
  {
   "cell_type": "code",
   "execution_count": 260,
   "metadata": {
    "scrolled": false
   },
   "outputs": [
    {
     "data": {
      "text/plain": [
       "col_1  sub_col1    18\n",
       "       sub_col2    22\n",
       "col_2  sub_col3    26\n",
       "dtype: int64"
      ]
     },
     "metadata": {},
     "output_type": "display_data"
    },
    {
     "data": {
      "text/html": [
       "<div>\n",
       "<style scoped>\n",
       "    .dataframe tbody tr th:only-of-type {\n",
       "        vertical-align: middle;\n",
       "    }\n",
       "\n",
       "    .dataframe tbody tr th {\n",
       "        vertical-align: top;\n",
       "    }\n",
       "\n",
       "    .dataframe thead tr th {\n",
       "        text-align: left;\n",
       "    }\n",
       "</style>\n",
       "<table border=\"1\" class=\"dataframe\">\n",
       "  <thead>\n",
       "    <tr>\n",
       "      <th></th>\n",
       "      <th colspan=\"2\" halign=\"left\">col_1</th>\n",
       "      <th>col_2</th>\n",
       "    </tr>\n",
       "    <tr>\n",
       "      <th></th>\n",
       "      <th>sub_col1</th>\n",
       "      <th>sub_col2</th>\n",
       "      <th>sub_col3</th>\n",
       "    </tr>\n",
       "  </thead>\n",
       "  <tbody>\n",
       "    <tr>\n",
       "      <th>1</th>\n",
       "      <td>6</td>\n",
       "      <td>8</td>\n",
       "      <td>10</td>\n",
       "    </tr>\n",
       "    <tr>\n",
       "      <th>2</th>\n",
       "      <td>12</td>\n",
       "      <td>14</td>\n",
       "      <td>16</td>\n",
       "    </tr>\n",
       "  </tbody>\n",
       "</table>\n",
       "</div>"
      ],
      "text/plain": [
       "     col_1             col_2\n",
       "  sub_col1 sub_col2 sub_col3\n",
       "1        6        8       10\n",
       "2       12       14       16"
      ]
     },
     "metadata": {},
     "output_type": "display_data"
    },
    {
     "data": {
      "text/html": [
       "<div>\n",
       "<style scoped>\n",
       "    .dataframe tbody tr th:only-of-type {\n",
       "        vertical-align: middle;\n",
       "    }\n",
       "\n",
       "    .dataframe tbody tr th {\n",
       "        vertical-align: top;\n",
       "    }\n",
       "\n",
       "    .dataframe thead tr th {\n",
       "        text-align: left;\n",
       "    }\n",
       "</style>\n",
       "<table border=\"1\" class=\"dataframe\">\n",
       "  <thead>\n",
       "    <tr>\n",
       "      <th></th>\n",
       "      <th colspan=\"2\" halign=\"left\">col_1</th>\n",
       "      <th>col_2</th>\n",
       "    </tr>\n",
       "    <tr>\n",
       "      <th></th>\n",
       "      <th>sub_col1</th>\n",
       "      <th>sub_col2</th>\n",
       "      <th>sub_col3</th>\n",
       "    </tr>\n",
       "  </thead>\n",
       "  <tbody>\n",
       "    <tr>\n",
       "      <th>a</th>\n",
       "      <td>3</td>\n",
       "      <td>5</td>\n",
       "      <td>7</td>\n",
       "    </tr>\n",
       "    <tr>\n",
       "      <th>b</th>\n",
       "      <td>15</td>\n",
       "      <td>17</td>\n",
       "      <td>19</td>\n",
       "    </tr>\n",
       "  </tbody>\n",
       "</table>\n",
       "</div>"
      ],
      "text/plain": [
       "     col_1             col_2\n",
       "  sub_col1 sub_col2 sub_col3\n",
       "a        3        5        7\n",
       "b       15       17       19"
      ]
     },
     "metadata": {},
     "output_type": "display_data"
    },
    {
     "data": {
      "text/html": [
       "<div>\n",
       "<style scoped>\n",
       "    .dataframe tbody tr th:only-of-type {\n",
       "        vertical-align: middle;\n",
       "    }\n",
       "\n",
       "    .dataframe tbody tr th {\n",
       "        vertical-align: top;\n",
       "    }\n",
       "\n",
       "    .dataframe thead th {\n",
       "        text-align: right;\n",
       "    }\n",
       "</style>\n",
       "<table border=\"1\" class=\"dataframe\">\n",
       "  <thead>\n",
       "    <tr style=\"text-align: right;\">\n",
       "      <th></th>\n",
       "      <th></th>\n",
       "      <th>col_1</th>\n",
       "      <th>col_2</th>\n",
       "    </tr>\n",
       "  </thead>\n",
       "  <tbody>\n",
       "    <tr>\n",
       "      <th rowspan=\"2\" valign=\"top\">a</th>\n",
       "      <th>1</th>\n",
       "      <td>1</td>\n",
       "      <td>2</td>\n",
       "    </tr>\n",
       "    <tr>\n",
       "      <th>2</th>\n",
       "      <td>7</td>\n",
       "      <td>5</td>\n",
       "    </tr>\n",
       "    <tr>\n",
       "      <th rowspan=\"2\" valign=\"top\">b</th>\n",
       "      <th>1</th>\n",
       "      <td>13</td>\n",
       "      <td>8</td>\n",
       "    </tr>\n",
       "    <tr>\n",
       "      <th>2</th>\n",
       "      <td>19</td>\n",
       "      <td>11</td>\n",
       "    </tr>\n",
       "  </tbody>\n",
       "</table>\n",
       "</div>"
      ],
      "text/plain": [
       "     col_1  col_2\n",
       "a 1      1      2\n",
       "  2      7      5\n",
       "b 1     13      8\n",
       "  2     19     11"
      ]
     },
     "metadata": {},
     "output_type": "display_data"
    },
    {
     "data": {
      "text/html": [
       "<div>\n",
       "<style scoped>\n",
       "    .dataframe tbody tr th:only-of-type {\n",
       "        vertical-align: middle;\n",
       "    }\n",
       "\n",
       "    .dataframe tbody tr th {\n",
       "        vertical-align: top;\n",
       "    }\n",
       "\n",
       "    .dataframe thead th {\n",
       "        text-align: right;\n",
       "    }\n",
       "</style>\n",
       "<table border=\"1\" class=\"dataframe\">\n",
       "  <thead>\n",
       "    <tr style=\"text-align: right;\">\n",
       "      <th></th>\n",
       "      <th></th>\n",
       "      <th>sub_col1</th>\n",
       "      <th>sub_col2</th>\n",
       "      <th>sub_col3</th>\n",
       "    </tr>\n",
       "  </thead>\n",
       "  <tbody>\n",
       "    <tr>\n",
       "      <th rowspan=\"2\" valign=\"top\">a</th>\n",
       "      <th>1</th>\n",
       "      <td>0</td>\n",
       "      <td>1</td>\n",
       "      <td>2</td>\n",
       "    </tr>\n",
       "    <tr>\n",
       "      <th>2</th>\n",
       "      <td>3</td>\n",
       "      <td>4</td>\n",
       "      <td>5</td>\n",
       "    </tr>\n",
       "    <tr>\n",
       "      <th rowspan=\"2\" valign=\"top\">b</th>\n",
       "      <th>1</th>\n",
       "      <td>6</td>\n",
       "      <td>7</td>\n",
       "      <td>8</td>\n",
       "    </tr>\n",
       "    <tr>\n",
       "      <th>2</th>\n",
       "      <td>9</td>\n",
       "      <td>10</td>\n",
       "      <td>11</td>\n",
       "    </tr>\n",
       "  </tbody>\n",
       "</table>\n",
       "</div>"
      ],
      "text/plain": [
       "     sub_col1  sub_col2  sub_col3\n",
       "a 1         0         1         2\n",
       "  2         3         4         5\n",
       "b 1         6         7         8\n",
       "  2         9        10        11"
      ]
     },
     "metadata": {},
     "output_type": "display_data"
    }
   ],
   "source": [
    "display(df.sum())\n",
    "display(df.sum(level=1))\n",
    "display(df.sum(level=0))\n",
    "display(df.sum(level=0, axis=1))\n",
    "display(df.sum(level=1, axis=1))"
   ]
  },
  {
   "cell_type": "code",
   "execution_count": 271,
   "metadata": {
    "scrolled": true
   },
   "outputs": [
    {
     "name": "stdout",
     "output_type": "stream",
     "text": [
      "   a  b   c   d\n",
      "0  0  5  10  20\n",
      "1  1  6   9  21\n",
      "2  2  7   8  22\n",
      "3  3  8   7  23\n",
      "4  4  9   6  24\n",
      "    a  b   d\n",
      "c           \n",
      "10  0  5  20\n",
      "9   1  6  21\n",
      "8   2  7  22\n",
      "7   3  8  23\n",
      "6   4  9  24\n",
      "       a  b\n",
      "d  c       \n",
      "20 10  0  5\n",
      "21 9   1  6\n",
      "22 8   2  7\n",
      "23 7   3  8\n",
      "24 6   4  9\n"
     ]
    }
   ],
   "source": [
    "df = DataFrame({'a': range(5),\n",
    "               'b': range(5,10),\n",
    "               'c': range(10,5,-1),\n",
    "               'd': range(20,25)})\n",
    "print(df)\n",
    "\n",
    "# can make a few of the columns into indexes\n",
    "df2 = df.set_index('c')\n",
    "print(df2)\n",
    "\n",
    "df3 = df.set_index(['d', 'c'])\n",
    "print(df3)"
   ]
  },
  {
   "cell_type": "code",
   "execution_count": 272,
   "metadata": {},
   "outputs": [
    {
     "data": {
      "text/plain": [
       "4"
      ]
     },
     "execution_count": 272,
     "metadata": {},
     "output_type": "execute_result"
    }
   ],
   "source": [
    "4"
   ]
  },
  {
   "cell_type": "markdown",
   "metadata": {},
   "source": [
    "####  Combining and Merging Datasets"
   ]
  },
  {
   "cell_type": "code",
   "execution_count": 273,
   "metadata": {},
   "outputs": [],
   "source": [
    "# merge, join, concat and reshape"
   ]
  },
  {
   "cell_type": "code",
   "execution_count": 274,
   "metadata": {},
   "outputs": [
    {
     "data": {
      "text/html": [
       "<div>\n",
       "<style scoped>\n",
       "    .dataframe tbody tr th:only-of-type {\n",
       "        vertical-align: middle;\n",
       "    }\n",
       "\n",
       "    .dataframe tbody tr th {\n",
       "        vertical-align: top;\n",
       "    }\n",
       "\n",
       "    .dataframe thead th {\n",
       "        text-align: right;\n",
       "    }\n",
       "</style>\n",
       "<table border=\"1\" class=\"dataframe\">\n",
       "  <thead>\n",
       "    <tr style=\"text-align: right;\">\n",
       "      <th></th>\n",
       "      <th>k1</th>\n",
       "      <th>k2</th>\n",
       "    </tr>\n",
       "  </thead>\n",
       "  <tbody>\n",
       "    <tr>\n",
       "      <th>0</th>\n",
       "      <td>0</td>\n",
       "      <td>7</td>\n",
       "    </tr>\n",
       "    <tr>\n",
       "      <th>1</th>\n",
       "      <td>1</td>\n",
       "      <td>6</td>\n",
       "    </tr>\n",
       "    <tr>\n",
       "      <th>2</th>\n",
       "      <td>2</td>\n",
       "      <td>5</td>\n",
       "    </tr>\n",
       "    <tr>\n",
       "      <th>3</th>\n",
       "      <td>3</td>\n",
       "      <td>4</td>\n",
       "    </tr>\n",
       "    <tr>\n",
       "      <th>4</th>\n",
       "      <td>4</td>\n",
       "      <td>3</td>\n",
       "    </tr>\n",
       "    <tr>\n",
       "      <th>5</th>\n",
       "      <td>5</td>\n",
       "      <td>2</td>\n",
       "    </tr>\n",
       "    <tr>\n",
       "      <th>6</th>\n",
       "      <td>6</td>\n",
       "      <td>1</td>\n",
       "    </tr>\n",
       "  </tbody>\n",
       "</table>\n",
       "</div>"
      ],
      "text/plain": [
       "   k1  k2\n",
       "0   0   7\n",
       "1   1   6\n",
       "2   2   5\n",
       "3   3   4\n",
       "4   4   3\n",
       "5   5   2\n",
       "6   6   1"
      ]
     },
     "execution_count": 274,
     "metadata": {},
     "output_type": "execute_result"
    }
   ],
   "source": [
    "df1 = DataFrame({'k1' : range(7), 'k2' : range(7,0,-1)})\n",
    "df2 = DataFrame({'k1' : range(3), 'k3' : range(3)})\n",
    "df1"
   ]
  },
  {
   "cell_type": "code",
   "execution_count": 275,
   "metadata": {},
   "outputs": [
    {
     "data": {
      "text/html": [
       "<div>\n",
       "<style scoped>\n",
       "    .dataframe tbody tr th:only-of-type {\n",
       "        vertical-align: middle;\n",
       "    }\n",
       "\n",
       "    .dataframe tbody tr th {\n",
       "        vertical-align: top;\n",
       "    }\n",
       "\n",
       "    .dataframe thead th {\n",
       "        text-align: right;\n",
       "    }\n",
       "</style>\n",
       "<table border=\"1\" class=\"dataframe\">\n",
       "  <thead>\n",
       "    <tr style=\"text-align: right;\">\n",
       "      <th></th>\n",
       "      <th>k1</th>\n",
       "      <th>k3</th>\n",
       "    </tr>\n",
       "  </thead>\n",
       "  <tbody>\n",
       "    <tr>\n",
       "      <th>0</th>\n",
       "      <td>0</td>\n",
       "      <td>0</td>\n",
       "    </tr>\n",
       "    <tr>\n",
       "      <th>1</th>\n",
       "      <td>1</td>\n",
       "      <td>1</td>\n",
       "    </tr>\n",
       "    <tr>\n",
       "      <th>2</th>\n",
       "      <td>2</td>\n",
       "      <td>2</td>\n",
       "    </tr>\n",
       "  </tbody>\n",
       "</table>\n",
       "</div>"
      ],
      "text/plain": [
       "   k1  k3\n",
       "0   0   0\n",
       "1   1   1\n",
       "2   2   2"
      ]
     },
     "execution_count": 275,
     "metadata": {},
     "output_type": "execute_result"
    }
   ],
   "source": [
    "df2"
   ]
  },
  {
   "cell_type": "code",
   "execution_count": 277,
   "metadata": {},
   "outputs": [
    {
     "data": {
      "text/html": [
       "<div>\n",
       "<style scoped>\n",
       "    .dataframe tbody tr th:only-of-type {\n",
       "        vertical-align: middle;\n",
       "    }\n",
       "\n",
       "    .dataframe tbody tr th {\n",
       "        vertical-align: top;\n",
       "    }\n",
       "\n",
       "    .dataframe thead th {\n",
       "        text-align: right;\n",
       "    }\n",
       "</style>\n",
       "<table border=\"1\" class=\"dataframe\">\n",
       "  <thead>\n",
       "    <tr style=\"text-align: right;\">\n",
       "      <th></th>\n",
       "      <th>k1</th>\n",
       "      <th>k2</th>\n",
       "      <th>k3</th>\n",
       "    </tr>\n",
       "  </thead>\n",
       "  <tbody>\n",
       "    <tr>\n",
       "      <th>0</th>\n",
       "      <td>0</td>\n",
       "      <td>7</td>\n",
       "      <td>0</td>\n",
       "    </tr>\n",
       "    <tr>\n",
       "      <th>1</th>\n",
       "      <td>1</td>\n",
       "      <td>6</td>\n",
       "      <td>1</td>\n",
       "    </tr>\n",
       "    <tr>\n",
       "      <th>2</th>\n",
       "      <td>2</td>\n",
       "      <td>5</td>\n",
       "      <td>2</td>\n",
       "    </tr>\n",
       "  </tbody>\n",
       "</table>\n",
       "</div>"
      ],
      "text/plain": [
       "   k1  k2  k3\n",
       "0   0   7   0\n",
       "1   1   6   1\n",
       "2   2   5   2"
      ]
     },
     "execution_count": 277,
     "metadata": {},
     "output_type": "execute_result"
    }
   ],
   "source": [
    "pd.merge(df1, df2)"
   ]
  },
  {
   "cell_type": "code",
   "execution_count": 279,
   "metadata": {},
   "outputs": [
    {
     "data": {
      "text/html": [
       "<div>\n",
       "<style scoped>\n",
       "    .dataframe tbody tr th:only-of-type {\n",
       "        vertical-align: middle;\n",
       "    }\n",
       "\n",
       "    .dataframe tbody tr th {\n",
       "        vertical-align: top;\n",
       "    }\n",
       "\n",
       "    .dataframe thead th {\n",
       "        text-align: right;\n",
       "    }\n",
       "</style>\n",
       "<table border=\"1\" class=\"dataframe\">\n",
       "  <thead>\n",
       "    <tr style=\"text-align: right;\">\n",
       "      <th></th>\n",
       "      <th>k1</th>\n",
       "      <th>k3</th>\n",
       "      <th>k4</th>\n",
       "    </tr>\n",
       "  </thead>\n",
       "  <tbody>\n",
       "    <tr>\n",
       "      <th>0</th>\n",
       "      <td>0</td>\n",
       "      <td>0</td>\n",
       "      <td>1</td>\n",
       "    </tr>\n",
       "    <tr>\n",
       "      <th>1</th>\n",
       "      <td>0</td>\n",
       "      <td>0</td>\n",
       "      <td>2</td>\n",
       "    </tr>\n",
       "    <tr>\n",
       "      <th>2</th>\n",
       "      <td>0</td>\n",
       "      <td>0</td>\n",
       "      <td>3</td>\n",
       "    </tr>\n",
       "    <tr>\n",
       "      <th>3</th>\n",
       "      <td>0</td>\n",
       "      <td>0</td>\n",
       "      <td>4</td>\n",
       "    </tr>\n",
       "  </tbody>\n",
       "</table>\n",
       "</div>"
      ],
      "text/plain": [
       "   k1  k3  k4\n",
       "0   0   0   1\n",
       "1   0   0   2\n",
       "2   0   0   3\n",
       "3   0   0   4"
      ]
     },
     "execution_count": 279,
     "metadata": {},
     "output_type": "execute_result"
    }
   ],
   "source": [
    "# df3 has multiple rows with the same key  which is also present in df2\n",
    "df3 = DataFrame({'k1' : [0,0,0,0], 'k4':[1,2,3,4]})\n",
    "pd.merge(df2,df3)\n",
    "\n",
    "# all rows with the same value for the common column (k1)\n",
    "# will be merged"
   ]
  },
  {
   "cell_type": "code",
   "execution_count": 281,
   "metadata": {
    "scrolled": true
   },
   "outputs": [
    {
     "name": "stdout",
     "output_type": "stream",
     "text": [
      "    a   b   c   d   w   x   y   z\n",
      "0   0   1   2   3   0   1   2   3\n",
      "1   4   5   6   7   4   5   6   7\n",
      "2   8   9  10  11   8   9  10  11\n",
      "3  12  13  14  15  12  13  14  15\n"
     ]
    }
   ],
   "source": [
    "# merge on different column names\n",
    "df1 = DataFrame(np.arange(16).reshape(4,4), columns=list('abcd'))\n",
    "df2 = DataFrame(np.arange(16).reshape(4,4), columns=list('wxyz'))\n",
    "df3 = pd.merge(df1, df2, left_on='a', right_on='w')\n",
    "print(df3)"
   ]
  },
  {
   "cell_type": "code",
   "execution_count": 286,
   "metadata": {
    "scrolled": true
   },
   "outputs": [
    {
     "data": {
      "text/html": [
       "<div>\n",
       "<style scoped>\n",
       "    .dataframe tbody tr th:only-of-type {\n",
       "        vertical-align: middle;\n",
       "    }\n",
       "\n",
       "    .dataframe tbody tr th {\n",
       "        vertical-align: top;\n",
       "    }\n",
       "\n",
       "    .dataframe thead th {\n",
       "        text-align: right;\n",
       "    }\n",
       "</style>\n",
       "<table border=\"1\" class=\"dataframe\">\n",
       "  <thead>\n",
       "    <tr style=\"text-align: right;\">\n",
       "      <th></th>\n",
       "      <th>k1</th>\n",
       "      <th>k2</th>\n",
       "      <th>k3</th>\n",
       "      <th>k4</th>\n",
       "    </tr>\n",
       "  </thead>\n",
       "  <tbody>\n",
       "    <tr>\n",
       "      <th>0</th>\n",
       "      <td>b</td>\n",
       "      <td>2</td>\n",
       "      <td>b</td>\n",
       "      <td>22</td>\n",
       "    </tr>\n",
       "    <tr>\n",
       "      <th>1</th>\n",
       "      <td>c</td>\n",
       "      <td>3</td>\n",
       "      <td>c</td>\n",
       "      <td>33</td>\n",
       "    </tr>\n",
       "  </tbody>\n",
       "</table>\n",
       "</div>"
      ],
      "text/plain": [
       "  k1  k2 k3  k4\n",
       "0  b   2  b  22\n",
       "1  c   3  c  33"
      ]
     },
     "metadata": {},
     "output_type": "display_data"
    },
    {
     "data": {
      "text/html": [
       "<div>\n",
       "<style scoped>\n",
       "    .dataframe tbody tr th:only-of-type {\n",
       "        vertical-align: middle;\n",
       "    }\n",
       "\n",
       "    .dataframe tbody tr th {\n",
       "        vertical-align: top;\n",
       "    }\n",
       "\n",
       "    .dataframe thead th {\n",
       "        text-align: right;\n",
       "    }\n",
       "</style>\n",
       "<table border=\"1\" class=\"dataframe\">\n",
       "  <thead>\n",
       "    <tr style=\"text-align: right;\">\n",
       "      <th></th>\n",
       "      <th>k1</th>\n",
       "      <th>k2</th>\n",
       "      <th>k3</th>\n",
       "      <th>k4</th>\n",
       "    </tr>\n",
       "  </thead>\n",
       "  <tbody>\n",
       "    <tr>\n",
       "      <th>0</th>\n",
       "      <td>a</td>\n",
       "      <td>1.0</td>\n",
       "      <td>NaN</td>\n",
       "      <td>NaN</td>\n",
       "    </tr>\n",
       "    <tr>\n",
       "      <th>1</th>\n",
       "      <td>b</td>\n",
       "      <td>2.0</td>\n",
       "      <td>b</td>\n",
       "      <td>22.0</td>\n",
       "    </tr>\n",
       "    <tr>\n",
       "      <th>2</th>\n",
       "      <td>c</td>\n",
       "      <td>3.0</td>\n",
       "      <td>c</td>\n",
       "      <td>33.0</td>\n",
       "    </tr>\n",
       "    <tr>\n",
       "      <th>3</th>\n",
       "      <td>d</td>\n",
       "      <td>4.0</td>\n",
       "      <td>NaN</td>\n",
       "      <td>NaN</td>\n",
       "    </tr>\n",
       "    <tr>\n",
       "      <th>4</th>\n",
       "      <td>NaN</td>\n",
       "      <td>NaN</td>\n",
       "      <td>x</td>\n",
       "      <td>11.0</td>\n",
       "    </tr>\n",
       "    <tr>\n",
       "      <th>5</th>\n",
       "      <td>NaN</td>\n",
       "      <td>NaN</td>\n",
       "      <td>z</td>\n",
       "      <td>44.0</td>\n",
       "    </tr>\n",
       "  </tbody>\n",
       "</table>\n",
       "</div>"
      ],
      "text/plain": [
       "    k1   k2   k3    k4\n",
       "0    a  1.0  NaN   NaN\n",
       "1    b  2.0    b  22.0\n",
       "2    c  3.0    c  33.0\n",
       "3    d  4.0  NaN   NaN\n",
       "4  NaN  NaN    x  11.0\n",
       "5  NaN  NaN    z  44.0"
      ]
     },
     "metadata": {},
     "output_type": "display_data"
    },
    {
     "data": {
      "text/html": [
       "<div>\n",
       "<style scoped>\n",
       "    .dataframe tbody tr th:only-of-type {\n",
       "        vertical-align: middle;\n",
       "    }\n",
       "\n",
       "    .dataframe tbody tr th {\n",
       "        vertical-align: top;\n",
       "    }\n",
       "\n",
       "    .dataframe thead th {\n",
       "        text-align: right;\n",
       "    }\n",
       "</style>\n",
       "<table border=\"1\" class=\"dataframe\">\n",
       "  <thead>\n",
       "    <tr style=\"text-align: right;\">\n",
       "      <th></th>\n",
       "      <th>k1</th>\n",
       "      <th>k2</th>\n",
       "      <th>k3</th>\n",
       "      <th>k4</th>\n",
       "    </tr>\n",
       "  </thead>\n",
       "  <tbody>\n",
       "    <tr>\n",
       "      <th>0</th>\n",
       "      <td>a</td>\n",
       "      <td>1</td>\n",
       "      <td>NaN</td>\n",
       "      <td>NaN</td>\n",
       "    </tr>\n",
       "    <tr>\n",
       "      <th>1</th>\n",
       "      <td>b</td>\n",
       "      <td>2</td>\n",
       "      <td>b</td>\n",
       "      <td>22.0</td>\n",
       "    </tr>\n",
       "    <tr>\n",
       "      <th>2</th>\n",
       "      <td>c</td>\n",
       "      <td>3</td>\n",
       "      <td>c</td>\n",
       "      <td>33.0</td>\n",
       "    </tr>\n",
       "    <tr>\n",
       "      <th>3</th>\n",
       "      <td>d</td>\n",
       "      <td>4</td>\n",
       "      <td>NaN</td>\n",
       "      <td>NaN</td>\n",
       "    </tr>\n",
       "  </tbody>\n",
       "</table>\n",
       "</div>"
      ],
      "text/plain": [
       "  k1  k2   k3    k4\n",
       "0  a   1  NaN   NaN\n",
       "1  b   2    b  22.0\n",
       "2  c   3    c  33.0\n",
       "3  d   4  NaN   NaN"
      ]
     },
     "metadata": {},
     "output_type": "display_data"
    },
    {
     "data": {
      "text/html": [
       "<div>\n",
       "<style scoped>\n",
       "    .dataframe tbody tr th:only-of-type {\n",
       "        vertical-align: middle;\n",
       "    }\n",
       "\n",
       "    .dataframe tbody tr th {\n",
       "        vertical-align: top;\n",
       "    }\n",
       "\n",
       "    .dataframe thead th {\n",
       "        text-align: right;\n",
       "    }\n",
       "</style>\n",
       "<table border=\"1\" class=\"dataframe\">\n",
       "  <thead>\n",
       "    <tr style=\"text-align: right;\">\n",
       "      <th></th>\n",
       "      <th>k1</th>\n",
       "      <th>k2</th>\n",
       "      <th>k3</th>\n",
       "      <th>k4</th>\n",
       "    </tr>\n",
       "  </thead>\n",
       "  <tbody>\n",
       "    <tr>\n",
       "      <th>0</th>\n",
       "      <td>b</td>\n",
       "      <td>2.0</td>\n",
       "      <td>b</td>\n",
       "      <td>22</td>\n",
       "    </tr>\n",
       "    <tr>\n",
       "      <th>1</th>\n",
       "      <td>c</td>\n",
       "      <td>3.0</td>\n",
       "      <td>c</td>\n",
       "      <td>33</td>\n",
       "    </tr>\n",
       "    <tr>\n",
       "      <th>2</th>\n",
       "      <td>NaN</td>\n",
       "      <td>NaN</td>\n",
       "      <td>x</td>\n",
       "      <td>11</td>\n",
       "    </tr>\n",
       "    <tr>\n",
       "      <th>3</th>\n",
       "      <td>NaN</td>\n",
       "      <td>NaN</td>\n",
       "      <td>z</td>\n",
       "      <td>44</td>\n",
       "    </tr>\n",
       "  </tbody>\n",
       "</table>\n",
       "</div>"
      ],
      "text/plain": [
       "    k1   k2 k3  k4\n",
       "0    b  2.0  b  22\n",
       "1    c  3.0  c  33\n",
       "2  NaN  NaN  x  11\n",
       "3  NaN  NaN  z  44"
      ]
     },
     "metadata": {},
     "output_type": "display_data"
    }
   ],
   "source": [
    "# merge can be \"inner\", \"outer\", \"left\", \"right\"\n",
    "# inner = interesection\n",
    "# outer = union with Nans \n",
    "# left = left df's rows\n",
    "# right = rright df's rows\n",
    "\n",
    "df1 = DataFrame({'k1' : ['a','b','c','d'], 'k2': [1,2,3,4]})\n",
    "df2 = DataFrame({'k3' : ['x','b','c','z'], 'k4': [11,22,33,44]})\n",
    "\n",
    "display(pd.merge(df1, df2, left_on='k1', right_on='k3', how='inner'))\n",
    "display(pd.merge(df1, df2, left_on='k1', right_on='k3', how='outer'))\n",
    "display(pd.merge(df1, df2, left_on='k1', right_on='k3', how='left'))\n",
    "display(pd.merge(df1, df2, left_on='k1', right_on='k3', how='right'))"
   ]
  },
  {
   "cell_type": "code",
   "execution_count": 290,
   "metadata": {
    "scrolled": false
   },
   "outputs": [
    {
     "data": {
      "text/html": [
       "<div>\n",
       "<style scoped>\n",
       "    .dataframe tbody tr th:only-of-type {\n",
       "        vertical-align: middle;\n",
       "    }\n",
       "\n",
       "    .dataframe tbody tr th {\n",
       "        vertical-align: top;\n",
       "    }\n",
       "\n",
       "    .dataframe thead th {\n",
       "        text-align: right;\n",
       "    }\n",
       "</style>\n",
       "<table border=\"1\" class=\"dataframe\">\n",
       "  <thead>\n",
       "    <tr style=\"text-align: right;\">\n",
       "      <th></th>\n",
       "      <th>k1</th>\n",
       "      <th>k2</th>\n",
       "      <th>k4</th>\n",
       "    </tr>\n",
       "  </thead>\n",
       "  <tbody>\n",
       "    <tr>\n",
       "      <th>0</th>\n",
       "      <td>a</td>\n",
       "      <td>1</td>\n",
       "      <td>11</td>\n",
       "    </tr>\n",
       "    <tr>\n",
       "      <th>1</th>\n",
       "      <td>a</td>\n",
       "      <td>2</td>\n",
       "      <td>11</td>\n",
       "    </tr>\n",
       "    <tr>\n",
       "      <th>2</th>\n",
       "      <td>b</td>\n",
       "      <td>3</td>\n",
       "      <td>22</td>\n",
       "    </tr>\n",
       "    <tr>\n",
       "      <th>3</th>\n",
       "      <td>b</td>\n",
       "      <td>3</td>\n",
       "      <td>33</td>\n",
       "    </tr>\n",
       "    <tr>\n",
       "      <th>4</th>\n",
       "      <td>b</td>\n",
       "      <td>4</td>\n",
       "      <td>22</td>\n",
       "    </tr>\n",
       "    <tr>\n",
       "      <th>5</th>\n",
       "      <td>b</td>\n",
       "      <td>4</td>\n",
       "      <td>33</td>\n",
       "    </tr>\n",
       "  </tbody>\n",
       "</table>\n",
       "</div>"
      ],
      "text/plain": [
       "  k1  k2  k4\n",
       "0  a   1  11\n",
       "1  a   2  11\n",
       "2  b   3  22\n",
       "3  b   3  33\n",
       "4  b   4  22\n",
       "5  b   4  33"
      ]
     },
     "metadata": {},
     "output_type": "display_data"
    }
   ],
   "source": [
    "# cartesian product of rows are created if there are \n",
    "# multiple rows in one frame that match a given row in another\n",
    "df1 = DataFrame({'k1' : ['a','a','b','b'], 'k2': [1,2,3,4]})\n",
    "df2 = DataFrame({'k1' : ['a','b','b','d'], 'k4': [11,22,33,44]})\n",
    "display(pd.merge(df1, df2)) # there will 2 a rows and 2 * 2  b rows\n"
   ]
  },
  {
   "cell_type": "code",
   "execution_count": 295,
   "metadata": {},
   "outputs": [
    {
     "name": "stdout",
     "output_type": "stream",
     "text": [
      "  key  value\n",
      "0   a      0\n",
      "1   b      1\n",
      "2   a      2\n",
      "3   a      3\n",
      "4   b      4\n",
      "5   c      5\n",
      "   group_val\n",
      "a        3.5\n",
      "b        7.0\n",
      "  key  value  group_val\n",
      "0   a      0        3.5\n",
      "2   a      2        3.5\n",
      "3   a      3        3.5\n",
      "1   b      1        7.0\n",
      "4   b      4        7.0\n"
     ]
    }
   ],
   "source": [
    "# merging on index\n",
    "left1 = pd.DataFrame({'key': ['a', 'b', 'a', 'a', 'b', 'c'],\n",
    "                      'value': range(6)})\n",
    "\n",
    "right1 = pd.DataFrame({'group_val': [3.5, 7]}, index=['a', 'b'])\n",
    "\n",
    "print(left1)\n",
    "print(right1)\n",
    "print(pd.merge(left1,right1,right_index=True,left_on='key'))"
   ]
  },
  {
   "cell_type": "code",
   "execution_count": 299,
   "metadata": {
    "scrolled": true
   },
   "outputs": [
    {
     "data": {
      "text/html": [
       "<div>\n",
       "<style scoped>\n",
       "    .dataframe tbody tr th:only-of-type {\n",
       "        vertical-align: middle;\n",
       "    }\n",
       "\n",
       "    .dataframe tbody tr th {\n",
       "        vertical-align: top;\n",
       "    }\n",
       "\n",
       "    .dataframe thead th {\n",
       "        text-align: right;\n",
       "    }\n",
       "</style>\n",
       "<table border=\"1\" class=\"dataframe\">\n",
       "  <thead>\n",
       "    <tr style=\"text-align: right;\">\n",
       "      <th></th>\n",
       "      <th>key1</th>\n",
       "      <th>key2</th>\n",
       "      <th>data</th>\n",
       "    </tr>\n",
       "  </thead>\n",
       "  <tbody>\n",
       "    <tr>\n",
       "      <th>0</th>\n",
       "      <td>Ohio</td>\n",
       "      <td>2000</td>\n",
       "      <td>0.0</td>\n",
       "    </tr>\n",
       "    <tr>\n",
       "      <th>1</th>\n",
       "      <td>Ohio</td>\n",
       "      <td>2001</td>\n",
       "      <td>1.0</td>\n",
       "    </tr>\n",
       "    <tr>\n",
       "      <th>2</th>\n",
       "      <td>Ohio</td>\n",
       "      <td>2002</td>\n",
       "      <td>2.0</td>\n",
       "    </tr>\n",
       "    <tr>\n",
       "      <th>3</th>\n",
       "      <td>Nevada</td>\n",
       "      <td>2001</td>\n",
       "      <td>3.0</td>\n",
       "    </tr>\n",
       "    <tr>\n",
       "      <th>4</th>\n",
       "      <td>Nevada</td>\n",
       "      <td>2002</td>\n",
       "      <td>4.0</td>\n",
       "    </tr>\n",
       "  </tbody>\n",
       "</table>\n",
       "</div>"
      ],
      "text/plain": [
       "     key1  key2  data\n",
       "0    Ohio  2000   0.0\n",
       "1    Ohio  2001   1.0\n",
       "2    Ohio  2002   2.0\n",
       "3  Nevada  2001   3.0\n",
       "4  Nevada  2002   4.0"
      ]
     },
     "metadata": {},
     "output_type": "display_data"
    },
    {
     "data": {
      "text/html": [
       "<div>\n",
       "<style scoped>\n",
       "    .dataframe tbody tr th:only-of-type {\n",
       "        vertical-align: middle;\n",
       "    }\n",
       "\n",
       "    .dataframe tbody tr th {\n",
       "        vertical-align: top;\n",
       "    }\n",
       "\n",
       "    .dataframe thead th {\n",
       "        text-align: right;\n",
       "    }\n",
       "</style>\n",
       "<table border=\"1\" class=\"dataframe\">\n",
       "  <thead>\n",
       "    <tr style=\"text-align: right;\">\n",
       "      <th></th>\n",
       "      <th></th>\n",
       "      <th>event1</th>\n",
       "      <th>event2</th>\n",
       "    </tr>\n",
       "  </thead>\n",
       "  <tbody>\n",
       "    <tr>\n",
       "      <th rowspan=\"2\" valign=\"top\">Nevada</th>\n",
       "      <th>2001</th>\n",
       "      <td>0</td>\n",
       "      <td>1</td>\n",
       "    </tr>\n",
       "    <tr>\n",
       "      <th>2000</th>\n",
       "      <td>2</td>\n",
       "      <td>3</td>\n",
       "    </tr>\n",
       "    <tr>\n",
       "      <th rowspan=\"4\" valign=\"top\">Ohio</th>\n",
       "      <th>2000</th>\n",
       "      <td>4</td>\n",
       "      <td>5</td>\n",
       "    </tr>\n",
       "    <tr>\n",
       "      <th>2000</th>\n",
       "      <td>6</td>\n",
       "      <td>7</td>\n",
       "    </tr>\n",
       "    <tr>\n",
       "      <th>2001</th>\n",
       "      <td>8</td>\n",
       "      <td>9</td>\n",
       "    </tr>\n",
       "    <tr>\n",
       "      <th>2002</th>\n",
       "      <td>10</td>\n",
       "      <td>11</td>\n",
       "    </tr>\n",
       "  </tbody>\n",
       "</table>\n",
       "</div>"
      ],
      "text/plain": [
       "             event1  event2\n",
       "Nevada 2001       0       1\n",
       "       2000       2       3\n",
       "Ohio   2000       4       5\n",
       "       2000       6       7\n",
       "       2001       8       9\n",
       "       2002      10      11"
      ]
     },
     "metadata": {},
     "output_type": "display_data"
    },
    {
     "data": {
      "text/html": [
       "<div>\n",
       "<style scoped>\n",
       "    .dataframe tbody tr th:only-of-type {\n",
       "        vertical-align: middle;\n",
       "    }\n",
       "\n",
       "    .dataframe tbody tr th {\n",
       "        vertical-align: top;\n",
       "    }\n",
       "\n",
       "    .dataframe thead th {\n",
       "        text-align: right;\n",
       "    }\n",
       "</style>\n",
       "<table border=\"1\" class=\"dataframe\">\n",
       "  <thead>\n",
       "    <tr style=\"text-align: right;\">\n",
       "      <th></th>\n",
       "      <th>key1</th>\n",
       "      <th>key2</th>\n",
       "      <th>data</th>\n",
       "      <th>event1</th>\n",
       "      <th>event2</th>\n",
       "    </tr>\n",
       "  </thead>\n",
       "  <tbody>\n",
       "    <tr>\n",
       "      <th>0</th>\n",
       "      <td>Ohio</td>\n",
       "      <td>2000</td>\n",
       "      <td>0.0</td>\n",
       "      <td>4.0</td>\n",
       "      <td>5.0</td>\n",
       "    </tr>\n",
       "    <tr>\n",
       "      <th>0</th>\n",
       "      <td>Ohio</td>\n",
       "      <td>2000</td>\n",
       "      <td>0.0</td>\n",
       "      <td>6.0</td>\n",
       "      <td>7.0</td>\n",
       "    </tr>\n",
       "    <tr>\n",
       "      <th>1</th>\n",
       "      <td>Ohio</td>\n",
       "      <td>2001</td>\n",
       "      <td>1.0</td>\n",
       "      <td>8.0</td>\n",
       "      <td>9.0</td>\n",
       "    </tr>\n",
       "    <tr>\n",
       "      <th>2</th>\n",
       "      <td>Ohio</td>\n",
       "      <td>2002</td>\n",
       "      <td>2.0</td>\n",
       "      <td>10.0</td>\n",
       "      <td>11.0</td>\n",
       "    </tr>\n",
       "    <tr>\n",
       "      <th>3</th>\n",
       "      <td>Nevada</td>\n",
       "      <td>2001</td>\n",
       "      <td>3.0</td>\n",
       "      <td>0.0</td>\n",
       "      <td>1.0</td>\n",
       "    </tr>\n",
       "    <tr>\n",
       "      <th>4</th>\n",
       "      <td>Nevada</td>\n",
       "      <td>2002</td>\n",
       "      <td>4.0</td>\n",
       "      <td>NaN</td>\n",
       "      <td>NaN</td>\n",
       "    </tr>\n",
       "    <tr>\n",
       "      <th>4</th>\n",
       "      <td>Nevada</td>\n",
       "      <td>2000</td>\n",
       "      <td>NaN</td>\n",
       "      <td>2.0</td>\n",
       "      <td>3.0</td>\n",
       "    </tr>\n",
       "  </tbody>\n",
       "</table>\n",
       "</div>"
      ],
      "text/plain": [
       "     key1  key2  data  event1  event2\n",
       "0    Ohio  2000   0.0     4.0     5.0\n",
       "0    Ohio  2000   0.0     6.0     7.0\n",
       "1    Ohio  2001   1.0     8.0     9.0\n",
       "2    Ohio  2002   2.0    10.0    11.0\n",
       "3  Nevada  2001   3.0     0.0     1.0\n",
       "4  Nevada  2002   4.0     NaN     NaN\n",
       "4  Nevada  2000   NaN     2.0     3.0"
      ]
     },
     "execution_count": 299,
     "metadata": {},
     "output_type": "execute_result"
    }
   ],
   "source": [
    "lefth = pd.DataFrame({'key1': ['Ohio', 'Ohio', 'Ohio',\n",
    "                               'Nevada', 'Nevada'],\n",
    "                      'key2': [2000, 2001, 2002, 2001, 2002],\n",
    "                      'data': np.arange(5.)})\n",
    "righth = pd.DataFrame(np.arange(12).reshape((6, 2)),\n",
    "                      index=[['Nevada', 'Nevada', 'Ohio', 'Ohio', 'Ohio', 'Ohio'],\n",
    "                             [2001, 2000, 2000, 2000, 2001, 2002]],\n",
    "                      columns=['event1', 'event2'])\n",
    "\n",
    "display(lefth)\n",
    "display(righth)\n",
    "\n",
    "# heirarchichal index joins are similar to a concat of key join\n",
    "pd.merge(lefth, righth, left_on=['key1', 'key2'], right_index=True, how='outer')\n"
   ]
  },
  {
   "cell_type": "code",
   "execution_count": 302,
   "metadata": {
    "scrolled": false
   },
   "outputs": [
    {
     "data": {
      "text/html": [
       "<div>\n",
       "<style scoped>\n",
       "    .dataframe tbody tr th:only-of-type {\n",
       "        vertical-align: middle;\n",
       "    }\n",
       "\n",
       "    .dataframe tbody tr th {\n",
       "        vertical-align: top;\n",
       "    }\n",
       "\n",
       "    .dataframe thead th {\n",
       "        text-align: right;\n",
       "    }\n",
       "</style>\n",
       "<table border=\"1\" class=\"dataframe\">\n",
       "  <thead>\n",
       "    <tr style=\"text-align: right;\">\n",
       "      <th></th>\n",
       "      <th>value</th>\n",
       "      <th>group_val</th>\n",
       "    </tr>\n",
       "  </thead>\n",
       "  <tbody>\n",
       "    <tr>\n",
       "      <th>a</th>\n",
       "      <td>0</td>\n",
       "      <td>3.5</td>\n",
       "    </tr>\n",
       "    <tr>\n",
       "      <th>a</th>\n",
       "      <td>2</td>\n",
       "      <td>3.5</td>\n",
       "    </tr>\n",
       "    <tr>\n",
       "      <th>a</th>\n",
       "      <td>3</td>\n",
       "      <td>3.5</td>\n",
       "    </tr>\n",
       "    <tr>\n",
       "      <th>b</th>\n",
       "      <td>1</td>\n",
       "      <td>7.0</td>\n",
       "    </tr>\n",
       "    <tr>\n",
       "      <th>b</th>\n",
       "      <td>4</td>\n",
       "      <td>7.0</td>\n",
       "    </tr>\n",
       "    <tr>\n",
       "      <th>c</th>\n",
       "      <td>5</td>\n",
       "      <td>NaN</td>\n",
       "    </tr>\n",
       "  </tbody>\n",
       "</table>\n",
       "</div>"
      ],
      "text/plain": [
       "   value  group_val\n",
       "a      0        3.5\n",
       "a      2        3.5\n",
       "a      3        3.5\n",
       "b      1        7.0\n",
       "b      4        7.0\n",
       "c      5        NaN"
      ]
     },
     "execution_count": 302,
     "metadata": {},
     "output_type": "execute_result"
    }
   ],
   "source": [
    "# joins (merges on indexes)\n",
    "left1 = pd.DataFrame({'key': ['a', 'b', 'a', 'a', 'b', 'c'],\n",
    "                      'value': range(6)})\n",
    "\n",
    "# use key column as index\n",
    "left1.set_index('key', inplace=True)\n",
    "right1 = pd.DataFrame({'group_val': [3.5, 7]}, index=['a', 'b'])\n",
    "\n",
    "# join on indexes\n",
    "left1.join(right1)"
   ]
  },
  {
   "cell_type": "code",
   "execution_count": 307,
   "metadata": {},
   "outputs": [
    {
     "name": "stdout",
     "output_type": "stream",
     "text": [
      "[[ 0  1  2  3]\n",
      " [ 4  5  6  7]\n",
      " [ 8  9 10 11]]\n",
      "[[ 0  1  2  3]\n",
      " [ 4  5  6  7]\n",
      " [ 8  9 10 11]\n",
      " [ 0  1  2  3]\n",
      " [ 4  5  6  7]\n",
      " [ 8  9 10 11]]\n",
      "[[ 0  1  2  3  0  1  2  3]\n",
      " [ 4  5  6  7  4  5  6  7]\n",
      " [ 8  9 10 11  8  9 10 11]]\n",
      "(3, 4)\n",
      "(6, 4)\n",
      "(3, 8)\n"
     ]
    }
   ],
   "source": [
    "# concatenation\n",
    "\n",
    "arr = np.arange(3*4).reshape(3,4)\n",
    "print(arr)\n",
    "a = np.concatenate([arr,arr])\n",
    "b = np.concatenate([arr,arr], axis=1)\n",
    "print(a)\n",
    "print(b)\n",
    "print(arr.shape)\n",
    "print(a.shape)\n",
    "print(b.shape)"
   ]
  },
  {
   "cell_type": "code",
   "execution_count": 310,
   "metadata": {
    "scrolled": true
   },
   "outputs": [
    {
     "name": "stdout",
     "output_type": "stream",
     "text": [
      "   0  1\n",
      "0  0  1\n",
      "1  2  3\n",
      "0    2\n",
      "1    4\n",
      "dtype: int64\n",
      "0    1\n",
      "1    5\n",
      "dtype: int64\n"
     ]
    }
   ],
   "source": [
    "# row-wise concat/sum is 0 axis opeartion\n",
    "df = DataFrame(np.arange(4).reshape(2,2))\n",
    "print(df)\n",
    "print(df.sum())\n",
    "print(df.sum(axis=1))"
   ]
  },
  {
   "cell_type": "code",
   "execution_count": 313,
   "metadata": {},
   "outputs": [
    {
     "data": {
      "text/plain": [
       "a    0\n",
       "b    1\n",
       "c    2\n",
       "d    3\n",
       "e    4\n",
       "f    5\n",
       "g    6\n",
       "dtype: int64"
      ]
     },
     "execution_count": 313,
     "metadata": {},
     "output_type": "execute_result"
    }
   ],
   "source": [
    "s1 = pd.Series([0, 1], index=['a', 'b'])\n",
    "s2 = pd.Series([2, 3, 4], index=['c', 'd', 'e'])\n",
    "s3 = pd.Series([5, 6], index=['f', 'g'])\n",
    "\n",
    "# default concat is to conact along rows which leads \n",
    "# to a concatenated series\n",
    "pd.concat([s1,s2,s3])"
   ]
  },
  {
   "cell_type": "code",
   "execution_count": 314,
   "metadata": {},
   "outputs": [
    {
     "data": {
      "text/html": [
       "<div>\n",
       "<style scoped>\n",
       "    .dataframe tbody tr th:only-of-type {\n",
       "        vertical-align: middle;\n",
       "    }\n",
       "\n",
       "    .dataframe tbody tr th {\n",
       "        vertical-align: top;\n",
       "    }\n",
       "\n",
       "    .dataframe thead th {\n",
       "        text-align: right;\n",
       "    }\n",
       "</style>\n",
       "<table border=\"1\" class=\"dataframe\">\n",
       "  <thead>\n",
       "    <tr style=\"text-align: right;\">\n",
       "      <th></th>\n",
       "      <th>0</th>\n",
       "      <th>1</th>\n",
       "      <th>2</th>\n",
       "    </tr>\n",
       "  </thead>\n",
       "  <tbody>\n",
       "    <tr>\n",
       "      <th>a</th>\n",
       "      <td>0.0</td>\n",
       "      <td>NaN</td>\n",
       "      <td>NaN</td>\n",
       "    </tr>\n",
       "    <tr>\n",
       "      <th>b</th>\n",
       "      <td>1.0</td>\n",
       "      <td>NaN</td>\n",
       "      <td>NaN</td>\n",
       "    </tr>\n",
       "    <tr>\n",
       "      <th>c</th>\n",
       "      <td>NaN</td>\n",
       "      <td>2.0</td>\n",
       "      <td>NaN</td>\n",
       "    </tr>\n",
       "    <tr>\n",
       "      <th>d</th>\n",
       "      <td>NaN</td>\n",
       "      <td>3.0</td>\n",
       "      <td>NaN</td>\n",
       "    </tr>\n",
       "    <tr>\n",
       "      <th>e</th>\n",
       "      <td>NaN</td>\n",
       "      <td>4.0</td>\n",
       "      <td>NaN</td>\n",
       "    </tr>\n",
       "    <tr>\n",
       "      <th>f</th>\n",
       "      <td>NaN</td>\n",
       "      <td>NaN</td>\n",
       "      <td>5.0</td>\n",
       "    </tr>\n",
       "    <tr>\n",
       "      <th>g</th>\n",
       "      <td>NaN</td>\n",
       "      <td>NaN</td>\n",
       "      <td>6.0</td>\n",
       "    </tr>\n",
       "  </tbody>\n",
       "</table>\n",
       "</div>"
      ],
      "text/plain": [
       "     0    1    2\n",
       "a  0.0  NaN  NaN\n",
       "b  1.0  NaN  NaN\n",
       "c  NaN  2.0  NaN\n",
       "d  NaN  3.0  NaN\n",
       "e  NaN  4.0  NaN\n",
       "f  NaN  NaN  5.0\n",
       "g  NaN  NaN  6.0"
      ]
     },
     "execution_count": 314,
     "metadata": {},
     "output_type": "execute_result"
    }
   ],
   "source": [
    "# concat along columns (3 columns will be created, one for each series)\n",
    "# being concatenated\n",
    "pd.concat([s1,s2,s3], axis=1)\n",
    "\n"
   ]
  },
  {
   "cell_type": "code",
   "execution_count": 315,
   "metadata": {},
   "outputs": [
    {
     "data": {
      "text/html": [
       "<div>\n",
       "<style scoped>\n",
       "    .dataframe tbody tr th:only-of-type {\n",
       "        vertical-align: middle;\n",
       "    }\n",
       "\n",
       "    .dataframe tbody tr th {\n",
       "        vertical-align: top;\n",
       "    }\n",
       "\n",
       "    .dataframe thead th {\n",
       "        text-align: right;\n",
       "    }\n",
       "</style>\n",
       "<table border=\"1\" class=\"dataframe\">\n",
       "  <thead>\n",
       "    <tr style=\"text-align: right;\">\n",
       "      <th></th>\n",
       "      <th>0</th>\n",
       "      <th>1</th>\n",
       "    </tr>\n",
       "  </thead>\n",
       "  <tbody>\n",
       "    <tr>\n",
       "      <th>a</th>\n",
       "      <td>0.0</td>\n",
       "      <td>0</td>\n",
       "    </tr>\n",
       "    <tr>\n",
       "      <th>b</th>\n",
       "      <td>1.0</td>\n",
       "      <td>1</td>\n",
       "    </tr>\n",
       "    <tr>\n",
       "      <th>f</th>\n",
       "      <td>NaN</td>\n",
       "      <td>5</td>\n",
       "    </tr>\n",
       "    <tr>\n",
       "      <th>g</th>\n",
       "      <td>NaN</td>\n",
       "      <td>6</td>\n",
       "    </tr>\n",
       "  </tbody>\n",
       "</table>\n",
       "</div>"
      ],
      "text/plain": [
       "     0  1\n",
       "a  0.0  0\n",
       "b  1.0  1\n",
       "f  NaN  5\n",
       "g  NaN  6"
      ]
     },
     "execution_count": 315,
     "metadata": {},
     "output_type": "execute_result"
    }
   ],
   "source": [
    "s4 = pd.concat([s1, s3])\n",
    "pd.concat([s1, s4], axis=1)"
   ]
  },
  {
   "cell_type": "code",
   "execution_count": 317,
   "metadata": {
    "scrolled": true
   },
   "outputs": [
    {
     "data": {
      "text/html": [
       "<div>\n",
       "<style scoped>\n",
       "    .dataframe tbody tr th:only-of-type {\n",
       "        vertical-align: middle;\n",
       "    }\n",
       "\n",
       "    .dataframe tbody tr th {\n",
       "        vertical-align: top;\n",
       "    }\n",
       "\n",
       "    .dataframe thead th {\n",
       "        text-align: right;\n",
       "    }\n",
       "</style>\n",
       "<table border=\"1\" class=\"dataframe\">\n",
       "  <thead>\n",
       "    <tr style=\"text-align: right;\">\n",
       "      <th></th>\n",
       "      <th>0</th>\n",
       "      <th>1</th>\n",
       "    </tr>\n",
       "  </thead>\n",
       "  <tbody>\n",
       "    <tr>\n",
       "      <th>a</th>\n",
       "      <td>0</td>\n",
       "      <td>0</td>\n",
       "    </tr>\n",
       "    <tr>\n",
       "      <th>b</th>\n",
       "      <td>1</td>\n",
       "      <td>1</td>\n",
       "    </tr>\n",
       "  </tbody>\n",
       "</table>\n",
       "</div>"
      ],
      "text/plain": [
       "   0  1\n",
       "a  0  0\n",
       "b  1  1"
      ]
     },
     "execution_count": 317,
     "metadata": {},
     "output_type": "execute_result"
    }
   ],
   "source": [
    "pd.concat([s1, s4], axis=1, join='inner')"
   ]
  },
  {
   "cell_type": "code",
   "execution_count": 319,
   "metadata": {},
   "outputs": [],
   "source": [
    "# join_axes examples does not work ?\n",
    "#pd.concat([s1, s4], axis=1, join_axes=[['a', 'c', 'b', 'e']])"
   ]
  },
  {
   "cell_type": "code",
   "execution_count": 323,
   "metadata": {},
   "outputs": [
    {
     "name": "stdout",
     "output_type": "stream",
     "text": [
      "         a    b    f    g\n",
      "one    0.0  1.0  NaN  NaN\n",
      "two    0.0  1.0  NaN  NaN\n",
      "three  NaN  NaN  5.0  6.0\n"
     ]
    }
   ],
   "source": [
    "# concatenation with the keys argument gives a heirarchichal index\n",
    "# which can be useful to indentify the concatenation \n",
    "result = pd.concat([s1, s1, s3], keys=['one', 'two', 'three'])\n",
    "result\n",
    "print(result.unstack())"
   ]
  },
  {
   "cell_type": "code",
   "execution_count": 325,
   "metadata": {
    "scrolled": true
   },
   "outputs": [
    {
     "data": {
      "text/html": [
       "<div>\n",
       "<style scoped>\n",
       "    .dataframe tbody tr th:only-of-type {\n",
       "        vertical-align: middle;\n",
       "    }\n",
       "\n",
       "    .dataframe tbody tr th {\n",
       "        vertical-align: top;\n",
       "    }\n",
       "\n",
       "    .dataframe thead th {\n",
       "        text-align: right;\n",
       "    }\n",
       "</style>\n",
       "<table border=\"1\" class=\"dataframe\">\n",
       "  <thead>\n",
       "    <tr style=\"text-align: right;\">\n",
       "      <th></th>\n",
       "      <th>one</th>\n",
       "      <th>two</th>\n",
       "      <th>three</th>\n",
       "      <th>four</th>\n",
       "    </tr>\n",
       "  </thead>\n",
       "  <tbody>\n",
       "    <tr>\n",
       "      <th>a</th>\n",
       "      <td>0.0</td>\n",
       "      <td>1.0</td>\n",
       "      <td>NaN</td>\n",
       "      <td>NaN</td>\n",
       "    </tr>\n",
       "    <tr>\n",
       "      <th>b</th>\n",
       "      <td>2.0</td>\n",
       "      <td>3.0</td>\n",
       "      <td>NaN</td>\n",
       "      <td>NaN</td>\n",
       "    </tr>\n",
       "    <tr>\n",
       "      <th>c</th>\n",
       "      <td>4.0</td>\n",
       "      <td>5.0</td>\n",
       "      <td>NaN</td>\n",
       "      <td>NaN</td>\n",
       "    </tr>\n",
       "    <tr>\n",
       "      <th>a</th>\n",
       "      <td>NaN</td>\n",
       "      <td>NaN</td>\n",
       "      <td>5.0</td>\n",
       "      <td>6.0</td>\n",
       "    </tr>\n",
       "    <tr>\n",
       "      <th>c</th>\n",
       "      <td>NaN</td>\n",
       "      <td>NaN</td>\n",
       "      <td>7.0</td>\n",
       "      <td>8.0</td>\n",
       "    </tr>\n",
       "  </tbody>\n",
       "</table>\n",
       "</div>"
      ],
      "text/plain": [
       "   one  two  three  four\n",
       "a  0.0  1.0    NaN   NaN\n",
       "b  2.0  3.0    NaN   NaN\n",
       "c  4.0  5.0    NaN   NaN\n",
       "a  NaN  NaN    5.0   6.0\n",
       "c  NaN  NaN    7.0   8.0"
      ]
     },
     "execution_count": 325,
     "metadata": {},
     "output_type": "execute_result"
    }
   ],
   "source": [
    "# concat data frames\n",
    "\n",
    "df1 = pd.DataFrame(np.arange(6).reshape(3, 2),\n",
    "                   index=['a', 'b', 'c'],\n",
    "                   columns=['one', 'two'])\n",
    "df2 = pd.DataFrame(5 + np.arange(4).reshape(2, 2),\n",
    "                   index=['a', 'c'],\n",
    "                   columns=['three', 'four'])\n",
    "pd.concat([df1,df2])"
   ]
  },
  {
   "cell_type": "code",
   "execution_count": 331,
   "metadata": {
    "scrolled": true
   },
   "outputs": [
    {
     "data": {
      "text/html": [
       "<div>\n",
       "<style scoped>\n",
       "    .dataframe tbody tr th:only-of-type {\n",
       "        vertical-align: middle;\n",
       "    }\n",
       "\n",
       "    .dataframe tbody tr th {\n",
       "        vertical-align: top;\n",
       "    }\n",
       "\n",
       "    .dataframe thead th {\n",
       "        text-align: right;\n",
       "    }\n",
       "</style>\n",
       "<table border=\"1\" class=\"dataframe\">\n",
       "  <thead>\n",
       "    <tr style=\"text-align: right;\">\n",
       "      <th></th>\n",
       "      <th>a</th>\n",
       "      <th>b</th>\n",
       "      <th>c</th>\n",
       "      <th>d</th>\n",
       "    </tr>\n",
       "  </thead>\n",
       "  <tbody>\n",
       "    <tr>\n",
       "      <th>0</th>\n",
       "      <td>-0.938045</td>\n",
       "      <td>-0.499138</td>\n",
       "      <td>-1.662586</td>\n",
       "      <td>0.837958</td>\n",
       "    </tr>\n",
       "    <tr>\n",
       "      <th>1</th>\n",
       "      <td>1.209865</td>\n",
       "      <td>-1.087317</td>\n",
       "      <td>-0.239908</td>\n",
       "      <td>0.954382</td>\n",
       "    </tr>\n",
       "    <tr>\n",
       "      <th>2</th>\n",
       "      <td>0.732369</td>\n",
       "      <td>0.793940</td>\n",
       "      <td>0.290722</td>\n",
       "      <td>-0.405936</td>\n",
       "    </tr>\n",
       "    <tr>\n",
       "      <th>0</th>\n",
       "      <td>-0.808396</td>\n",
       "      <td>-0.526609</td>\n",
       "      <td>NaN</td>\n",
       "      <td>0.896169</td>\n",
       "    </tr>\n",
       "    <tr>\n",
       "      <th>1</th>\n",
       "      <td>0.558815</td>\n",
       "      <td>0.081767</td>\n",
       "      <td>NaN</td>\n",
       "      <td>0.801241</td>\n",
       "    </tr>\n",
       "  </tbody>\n",
       "</table>\n",
       "</div>"
      ],
      "text/plain": [
       "          a         b         c         d\n",
       "0 -0.938045 -0.499138 -1.662586  0.837958\n",
       "1  1.209865 -1.087317 -0.239908  0.954382\n",
       "2  0.732369  0.793940  0.290722 -0.405936\n",
       "0 -0.808396 -0.526609       NaN  0.896169\n",
       "1  0.558815  0.081767       NaN  0.801241"
      ]
     },
     "metadata": {},
     "output_type": "display_data"
    },
    {
     "data": {
      "text/html": [
       "<div>\n",
       "<style scoped>\n",
       "    .dataframe tbody tr th:only-of-type {\n",
       "        vertical-align: middle;\n",
       "    }\n",
       "\n",
       "    .dataframe tbody tr th {\n",
       "        vertical-align: top;\n",
       "    }\n",
       "\n",
       "    .dataframe thead th {\n",
       "        text-align: right;\n",
       "    }\n",
       "</style>\n",
       "<table border=\"1\" class=\"dataframe\">\n",
       "  <thead>\n",
       "    <tr style=\"text-align: right;\">\n",
       "      <th></th>\n",
       "      <th>a</th>\n",
       "      <th>b</th>\n",
       "      <th>c</th>\n",
       "      <th>d</th>\n",
       "    </tr>\n",
       "  </thead>\n",
       "  <tbody>\n",
       "    <tr>\n",
       "      <th>0</th>\n",
       "      <td>-0.938045</td>\n",
       "      <td>-0.499138</td>\n",
       "      <td>-1.662586</td>\n",
       "      <td>0.837958</td>\n",
       "    </tr>\n",
       "    <tr>\n",
       "      <th>1</th>\n",
       "      <td>1.209865</td>\n",
       "      <td>-1.087317</td>\n",
       "      <td>-0.239908</td>\n",
       "      <td>0.954382</td>\n",
       "    </tr>\n",
       "    <tr>\n",
       "      <th>2</th>\n",
       "      <td>0.732369</td>\n",
       "      <td>0.793940</td>\n",
       "      <td>0.290722</td>\n",
       "      <td>-0.405936</td>\n",
       "    </tr>\n",
       "    <tr>\n",
       "      <th>3</th>\n",
       "      <td>-0.808396</td>\n",
       "      <td>-0.526609</td>\n",
       "      <td>NaN</td>\n",
       "      <td>0.896169</td>\n",
       "    </tr>\n",
       "    <tr>\n",
       "      <th>4</th>\n",
       "      <td>0.558815</td>\n",
       "      <td>0.081767</td>\n",
       "      <td>NaN</td>\n",
       "      <td>0.801241</td>\n",
       "    </tr>\n",
       "  </tbody>\n",
       "</table>\n",
       "</div>"
      ],
      "text/plain": [
       "          a         b         c         d\n",
       "0 -0.938045 -0.499138 -1.662586  0.837958\n",
       "1  1.209865 -1.087317 -0.239908  0.954382\n",
       "2  0.732369  0.793940  0.290722 -0.405936\n",
       "3 -0.808396 -0.526609       NaN  0.896169\n",
       "4  0.558815  0.081767       NaN  0.801241"
      ]
     },
     "metadata": {},
     "output_type": "display_data"
    },
    {
     "data": {
      "text/html": [
       "<div>\n",
       "<style scoped>\n",
       "    .dataframe tbody tr th:only-of-type {\n",
       "        vertical-align: middle;\n",
       "    }\n",
       "\n",
       "    .dataframe tbody tr th {\n",
       "        vertical-align: top;\n",
       "    }\n",
       "\n",
       "    .dataframe thead th {\n",
       "        text-align: right;\n",
       "    }\n",
       "</style>\n",
       "<table border=\"1\" class=\"dataframe\">\n",
       "  <thead>\n",
       "    <tr style=\"text-align: right;\">\n",
       "      <th></th>\n",
       "      <th>a</th>\n",
       "      <th>b</th>\n",
       "      <th>d</th>\n",
       "    </tr>\n",
       "  </thead>\n",
       "  <tbody>\n",
       "    <tr>\n",
       "      <th>0</th>\n",
       "      <td>-0.938045</td>\n",
       "      <td>-0.499138</td>\n",
       "      <td>0.837958</td>\n",
       "    </tr>\n",
       "    <tr>\n",
       "      <th>1</th>\n",
       "      <td>1.209865</td>\n",
       "      <td>-1.087317</td>\n",
       "      <td>0.954382</td>\n",
       "    </tr>\n",
       "    <tr>\n",
       "      <th>2</th>\n",
       "      <td>0.732369</td>\n",
       "      <td>0.793940</td>\n",
       "      <td>-0.405936</td>\n",
       "    </tr>\n",
       "    <tr>\n",
       "      <th>3</th>\n",
       "      <td>-0.808396</td>\n",
       "      <td>-0.526609</td>\n",
       "      <td>0.896169</td>\n",
       "    </tr>\n",
       "    <tr>\n",
       "      <th>4</th>\n",
       "      <td>0.558815</td>\n",
       "      <td>0.081767</td>\n",
       "      <td>0.801241</td>\n",
       "    </tr>\n",
       "  </tbody>\n",
       "</table>\n",
       "</div>"
      ],
      "text/plain": [
       "          a         b         d\n",
       "0 -0.938045 -0.499138  0.837958\n",
       "1  1.209865 -1.087317  0.954382\n",
       "2  0.732369  0.793940 -0.405936\n",
       "3 -0.808396 -0.526609  0.896169\n",
       "4  0.558815  0.081767  0.801241"
      ]
     },
     "metadata": {},
     "output_type": "display_data"
    }
   ],
   "source": [
    "# concat when the row index does not contain useful info\n",
    "df1 = pd.DataFrame(np.random.randn(3, 4), columns=['a', 'b', 'c', 'd'])\n",
    "df2 = pd.DataFrame(np.random.randn(2, 3), columns=['b', 'd', 'a'])\n",
    "display(pd.concat([df1,df2]))\n",
    "display(pd.concat([df1,df2],ignore_index=True))\n",
    "display(pd.concat([df1,df2],ignore_index=True, join='inner'))"
   ]
  },
  {
   "cell_type": "code",
   "execution_count": 342,
   "metadata": {
    "scrolled": true
   },
   "outputs": [
    {
     "name": "stdout",
     "output_type": "stream",
     "text": [
      "[1 2 3 4 6]\n",
      "      0  1\n",
      "0  <NA>  1\n",
      "1     2  3\n",
      "   0  1\n",
      "0  0  1\n",
      "1  2  3\n"
     ]
    },
    {
     "data": {
      "text/html": [
       "<div>\n",
       "<style scoped>\n",
       "    .dataframe tbody tr th:only-of-type {\n",
       "        vertical-align: middle;\n",
       "    }\n",
       "\n",
       "    .dataframe tbody tr th {\n",
       "        vertical-align: top;\n",
       "    }\n",
       "\n",
       "    .dataframe thead th {\n",
       "        text-align: right;\n",
       "    }\n",
       "</style>\n",
       "<table border=\"1\" class=\"dataframe\">\n",
       "  <thead>\n",
       "    <tr style=\"text-align: right;\">\n",
       "      <th></th>\n",
       "      <th>0</th>\n",
       "      <th>1</th>\n",
       "    </tr>\n",
       "  </thead>\n",
       "  <tbody>\n",
       "    <tr>\n",
       "      <th>0</th>\n",
       "      <td>0</td>\n",
       "      <td>1</td>\n",
       "    </tr>\n",
       "    <tr>\n",
       "      <th>1</th>\n",
       "      <td>2</td>\n",
       "      <td>3</td>\n",
       "    </tr>\n",
       "  </tbody>\n",
       "</table>\n",
       "</div>"
      ],
      "text/plain": [
       "   0  1\n",
       "0  0  1\n",
       "1  2  3"
      ]
     },
     "execution_count": 342,
     "metadata": {},
     "output_type": "execute_result"
    }
   ],
   "source": [
    "# concatenation with overlap\n",
    "# effectively apply patches to existing data\n",
    "a = Series([1,2,3,4,0])\n",
    "b = Series([6,6,6,6,6])\n",
    "c = np.where(a,a,b)\n",
    "print(c) # patches\n",
    "\n",
    "# similarly for series\n",
    "a[4] = NA\n",
    "a.combine_first(b)\n",
    "\n",
    "# similarly for data frames\n",
    "df1 = DataFrame(np.arange(2*2).reshape(2,2))\n",
    "df2 = DataFrame(np.arange(2*2).reshape(2,2))\n",
    "\n",
    "df1.loc[0,0] = NA\n",
    "print(df1)\n",
    "print(df2)\n",
    "df1.combine_first(df2) # patch up the values wherever noine"
   ]
  },
  {
   "cell_type": "markdown",
   "metadata": {},
   "source": [
    "####  Reshaping/Pivoting\n"
   ]
  },
  {
   "cell_type": "code",
   "execution_count": 344,
   "metadata": {},
   "outputs": [
    {
     "name": "stdout",
     "output_type": "stream",
     "text": [
      "number    one  two  three\n",
      "state                    \n",
      "Ohio        0    1      2\n",
      "Colorado    3    4      5\n"
     ]
    }
   ],
   "source": [
    "data = pd.DataFrame(np.arange(6).reshape((2, 3)),\n",
    "                    index=pd.Index(['Ohio', 'Colorado'], name='state'),\n",
    "                    columns=pd.Index(['one', 'two', 'three'], name='number'))\n",
    "print(data)\n"
   ]
  },
  {
   "cell_type": "code",
   "execution_count": 345,
   "metadata": {},
   "outputs": [
    {
     "data": {
      "text/plain": [
       "state     number\n",
       "Ohio      one       0\n",
       "          two       1\n",
       "          three     2\n",
       "Colorado  one       3\n",
       "          two       4\n",
       "          three     5\n",
       "dtype: int64"
      ]
     },
     "execution_count": 345,
     "metadata": {},
     "output_type": "execute_result"
    }
   ],
   "source": [
    "data.stack()"
   ]
  },
  {
   "cell_type": "code",
   "execution_count": 347,
   "metadata": {},
   "outputs": [
    {
     "data": {
      "text/html": [
       "<div>\n",
       "<style scoped>\n",
       "    .dataframe tbody tr th:only-of-type {\n",
       "        vertical-align: middle;\n",
       "    }\n",
       "\n",
       "    .dataframe tbody tr th {\n",
       "        vertical-align: top;\n",
       "    }\n",
       "\n",
       "    .dataframe thead th {\n",
       "        text-align: right;\n",
       "    }\n",
       "</style>\n",
       "<table border=\"1\" class=\"dataframe\">\n",
       "  <thead>\n",
       "    <tr style=\"text-align: right;\">\n",
       "      <th>number</th>\n",
       "      <th>one</th>\n",
       "      <th>two</th>\n",
       "      <th>three</th>\n",
       "    </tr>\n",
       "    <tr>\n",
       "      <th>state</th>\n",
       "      <th></th>\n",
       "      <th></th>\n",
       "      <th></th>\n",
       "    </tr>\n",
       "  </thead>\n",
       "  <tbody>\n",
       "    <tr>\n",
       "      <th>Ohio</th>\n",
       "      <td>0</td>\n",
       "      <td>1</td>\n",
       "      <td>2</td>\n",
       "    </tr>\n",
       "    <tr>\n",
       "      <th>Colorado</th>\n",
       "      <td>3</td>\n",
       "      <td>4</td>\n",
       "      <td>5</td>\n",
       "    </tr>\n",
       "  </tbody>\n",
       "</table>\n",
       "</div>"
      ],
      "text/plain": [
       "number    one  two  three\n",
       "state                    \n",
       "Ohio        0    1      2\n",
       "Colorado    3    4      5"
      ]
     },
     "execution_count": 347,
     "metadata": {},
     "output_type": "execute_result"
    }
   ],
   "source": [
    "data.stack().unstack()"
   ]
  },
  {
   "cell_type": "code",
   "execution_count": 349,
   "metadata": {
    "scrolled": false
   },
   "outputs": [
    {
     "data": {
      "text/html": [
       "<div>\n",
       "<style scoped>\n",
       "    .dataframe tbody tr th:only-of-type {\n",
       "        vertical-align: middle;\n",
       "    }\n",
       "\n",
       "    .dataframe tbody tr th {\n",
       "        vertical-align: top;\n",
       "    }\n",
       "\n",
       "    .dataframe thead th {\n",
       "        text-align: right;\n",
       "    }\n",
       "</style>\n",
       "<table border=\"1\" class=\"dataframe\">\n",
       "  <thead>\n",
       "    <tr style=\"text-align: right;\">\n",
       "      <th>state</th>\n",
       "      <th>Ohio</th>\n",
       "      <th>Colorado</th>\n",
       "    </tr>\n",
       "    <tr>\n",
       "      <th>number</th>\n",
       "      <th></th>\n",
       "      <th></th>\n",
       "    </tr>\n",
       "  </thead>\n",
       "  <tbody>\n",
       "    <tr>\n",
       "      <th>one</th>\n",
       "      <td>0</td>\n",
       "      <td>3</td>\n",
       "    </tr>\n",
       "    <tr>\n",
       "      <th>two</th>\n",
       "      <td>1</td>\n",
       "      <td>4</td>\n",
       "    </tr>\n",
       "    <tr>\n",
       "      <th>three</th>\n",
       "      <td>2</td>\n",
       "      <td>5</td>\n",
       "    </tr>\n",
       "  </tbody>\n",
       "</table>\n",
       "</div>"
      ],
      "text/plain": [
       "state   Ohio  Colorado\n",
       "number                \n",
       "one        0         3\n",
       "two        1         4\n",
       "three      2         5"
      ]
     },
     "execution_count": 349,
     "metadata": {},
     "output_type": "execute_result"
    }
   ],
   "source": [
    "# can also unstack a level different than\n",
    "# the innermost index level\n",
    "data.stack().unstack(0)"
   ]
  },
  {
   "cell_type": "code",
   "execution_count": 352,
   "metadata": {},
   "outputs": [
    {
     "data": {
      "text/plain": [
       "s1  a    0\n",
       "    b    1\n",
       "    c    2\n",
       "    d    3\n",
       "s2  b    0\n",
       "    c    1\n",
       "    d    2\n",
       "dtype: int64"
      ]
     },
     "execution_count": 352,
     "metadata": {},
     "output_type": "execute_result"
    }
   ],
   "source": [
    "# series to dataframe view\n",
    "s1 = pd.Series([0, 1, 2, 3], index=['a', 'b', 'c', 'd'])\n",
    "s2 = pd.Series([0, 1, 2], index=['b', 'c', 'd'])\n",
    "s3 = pd.concat([s1,s2], keys=['s1', 's2'])\n",
    "s3"
   ]
  },
  {
   "cell_type": "code",
   "execution_count": 353,
   "metadata": {},
   "outputs": [
    {
     "data": {
      "text/html": [
       "<div>\n",
       "<style scoped>\n",
       "    .dataframe tbody tr th:only-of-type {\n",
       "        vertical-align: middle;\n",
       "    }\n",
       "\n",
       "    .dataframe tbody tr th {\n",
       "        vertical-align: top;\n",
       "    }\n",
       "\n",
       "    .dataframe thead th {\n",
       "        text-align: right;\n",
       "    }\n",
       "</style>\n",
       "<table border=\"1\" class=\"dataframe\">\n",
       "  <thead>\n",
       "    <tr style=\"text-align: right;\">\n",
       "      <th></th>\n",
       "      <th>a</th>\n",
       "      <th>b</th>\n",
       "      <th>c</th>\n",
       "      <th>d</th>\n",
       "    </tr>\n",
       "  </thead>\n",
       "  <tbody>\n",
       "    <tr>\n",
       "      <th>s1</th>\n",
       "      <td>0.0</td>\n",
       "      <td>1.0</td>\n",
       "      <td>2.0</td>\n",
       "      <td>3.0</td>\n",
       "    </tr>\n",
       "    <tr>\n",
       "      <th>s2</th>\n",
       "      <td>NaN</td>\n",
       "      <td>0.0</td>\n",
       "      <td>1.0</td>\n",
       "      <td>2.0</td>\n",
       "    </tr>\n",
       "  </tbody>\n",
       "</table>\n",
       "</div>"
      ],
      "text/plain": [
       "      a    b    c    d\n",
       "s1  0.0  1.0  2.0  3.0\n",
       "s2  NaN  0.0  1.0  2.0"
      ]
     },
     "execution_count": 353,
     "metadata": {},
     "output_type": "execute_result"
    }
   ],
   "source": [
    "s3.unstack()"
   ]
  },
  {
   "cell_type": "code",
   "execution_count": 354,
   "metadata": {},
   "outputs": [
    {
     "data": {
      "text/plain": [
       "s1  a    0.0\n",
       "    b    1.0\n",
       "    c    2.0\n",
       "    d    3.0\n",
       "s2  b    0.0\n",
       "    c    1.0\n",
       "    d    2.0\n",
       "dtype: float64"
      ]
     },
     "execution_count": 354,
     "metadata": {},
     "output_type": "execute_result"
    }
   ],
   "source": [
    "s3.unstack().stack() # drops nulls"
   ]
  },
  {
   "cell_type": "code",
   "execution_count": 356,
   "metadata": {},
   "outputs": [
    {
     "data": {
      "text/plain": [
       "s1  a    0.0\n",
       "    b    1.0\n",
       "    c    2.0\n",
       "    d    3.0\n",
       "s2  a    NaN\n",
       "    b    0.0\n",
       "    c    1.0\n",
       "    d    2.0\n",
       "dtype: float64"
      ]
     },
     "execution_count": 356,
     "metadata": {},
     "output_type": "execute_result"
    }
   ],
   "source": [
    "s3.unstack().stack(dropna=False)"
   ]
  },
  {
   "cell_type": "code",
   "execution_count": 360,
   "metadata": {
    "scrolled": true
   },
   "outputs": [
    {
     "name": "stdout",
     "output_type": "stream",
     "text": [
      "number    one  two  three\n",
      "state                    \n",
      "Ohio        0    1      2\n",
      "Colorado    3    4      5\n"
     ]
    },
    {
     "data": {
      "text/html": [
       "<div>\n",
       "<style scoped>\n",
       "    .dataframe tbody tr th:only-of-type {\n",
       "        vertical-align: middle;\n",
       "    }\n",
       "\n",
       "    .dataframe tbody tr th {\n",
       "        vertical-align: top;\n",
       "    }\n",
       "\n",
       "    .dataframe thead th {\n",
       "        text-align: right;\n",
       "    }\n",
       "</style>\n",
       "<table border=\"1\" class=\"dataframe\">\n",
       "  <thead>\n",
       "    <tr style=\"text-align: right;\">\n",
       "      <th></th>\n",
       "      <th></th>\n",
       "      <th>left</th>\n",
       "      <th>right</th>\n",
       "    </tr>\n",
       "    <tr>\n",
       "      <th>state</th>\n",
       "      <th>number</th>\n",
       "      <th></th>\n",
       "      <th></th>\n",
       "    </tr>\n",
       "  </thead>\n",
       "  <tbody>\n",
       "    <tr>\n",
       "      <th rowspan=\"3\" valign=\"top\">Ohio</th>\n",
       "      <th>one</th>\n",
       "      <td>0</td>\n",
       "      <td>5</td>\n",
       "    </tr>\n",
       "    <tr>\n",
       "      <th>two</th>\n",
       "      <td>1</td>\n",
       "      <td>6</td>\n",
       "    </tr>\n",
       "    <tr>\n",
       "      <th>three</th>\n",
       "      <td>2</td>\n",
       "      <td>7</td>\n",
       "    </tr>\n",
       "    <tr>\n",
       "      <th rowspan=\"3\" valign=\"top\">Colorado</th>\n",
       "      <th>one</th>\n",
       "      <td>3</td>\n",
       "      <td>8</td>\n",
       "    </tr>\n",
       "    <tr>\n",
       "      <th>two</th>\n",
       "      <td>4</td>\n",
       "      <td>9</td>\n",
       "    </tr>\n",
       "    <tr>\n",
       "      <th>three</th>\n",
       "      <td>5</td>\n",
       "      <td>10</td>\n",
       "    </tr>\n",
       "  </tbody>\n",
       "</table>\n",
       "</div>"
      ],
      "text/plain": [
       "                 left  right\n",
       "state    number             \n",
       "Ohio     one        0      5\n",
       "         two        1      6\n",
       "         three      2      7\n",
       "Colorado one        3      8\n",
       "         two        4      9\n",
       "         three      5     10"
      ]
     },
     "execution_count": 360,
     "metadata": {},
     "output_type": "execute_result"
    }
   ],
   "source": [
    "data = pd.DataFrame(np.arange(6).reshape((2, 3)),\n",
    "                    index=pd.Index(['Ohio', 'Colorado'], name='state'),\n",
    "                    columns=pd.Index(['one', 'two', 'three'], name='number'))\n",
    "print(data)\n",
    "\n",
    "# get a series from the dataframe\n",
    "data = data.stack()\n",
    "\n",
    "data_more = pd.DataFrame({'left' : data, 'right' : data + 5})\n",
    "data_more"
   ]
  },
  {
   "cell_type": "code",
   "execution_count": 361,
   "metadata": {},
   "outputs": [
    {
     "data": {
      "text/html": [
       "<div>\n",
       "<style scoped>\n",
       "    .dataframe tbody tr th:only-of-type {\n",
       "        vertical-align: middle;\n",
       "    }\n",
       "\n",
       "    .dataframe tbody tr th {\n",
       "        vertical-align: top;\n",
       "    }\n",
       "\n",
       "    .dataframe thead tr th {\n",
       "        text-align: left;\n",
       "    }\n",
       "\n",
       "    .dataframe thead tr:last-of-type th {\n",
       "        text-align: right;\n",
       "    }\n",
       "</style>\n",
       "<table border=\"1\" class=\"dataframe\">\n",
       "  <thead>\n",
       "    <tr>\n",
       "      <th></th>\n",
       "      <th colspan=\"2\" halign=\"left\">left</th>\n",
       "      <th colspan=\"2\" halign=\"left\">right</th>\n",
       "    </tr>\n",
       "    <tr>\n",
       "      <th>state</th>\n",
       "      <th>Ohio</th>\n",
       "      <th>Colorado</th>\n",
       "      <th>Ohio</th>\n",
       "      <th>Colorado</th>\n",
       "    </tr>\n",
       "    <tr>\n",
       "      <th>number</th>\n",
       "      <th></th>\n",
       "      <th></th>\n",
       "      <th></th>\n",
       "      <th></th>\n",
       "    </tr>\n",
       "  </thead>\n",
       "  <tbody>\n",
       "    <tr>\n",
       "      <th>one</th>\n",
       "      <td>0</td>\n",
       "      <td>3</td>\n",
       "      <td>5</td>\n",
       "      <td>8</td>\n",
       "    </tr>\n",
       "    <tr>\n",
       "      <th>two</th>\n",
       "      <td>1</td>\n",
       "      <td>4</td>\n",
       "      <td>6</td>\n",
       "      <td>9</td>\n",
       "    </tr>\n",
       "    <tr>\n",
       "      <th>three</th>\n",
       "      <td>2</td>\n",
       "      <td>5</td>\n",
       "      <td>7</td>\n",
       "      <td>10</td>\n",
       "    </tr>\n",
       "  </tbody>\n",
       "</table>\n",
       "</div>"
      ],
      "text/plain": [
       "       left          right         \n",
       "state  Ohio Colorado  Ohio Colorado\n",
       "number                             \n",
       "one       0        3     5        8\n",
       "two       1        4     6        9\n",
       "three     2        5     7       10"
      ]
     },
     "execution_count": 361,
     "metadata": {},
     "output_type": "execute_result"
    }
   ],
   "source": [
    "data_more.unstack('state')"
   ]
  },
  {
   "cell_type": "code",
   "execution_count": 363,
   "metadata": {
    "scrolled": true
   },
   "outputs": [
    {
     "data": {
      "text/html": [
       "<div>\n",
       "<style scoped>\n",
       "    .dataframe tbody tr th:only-of-type {\n",
       "        vertical-align: middle;\n",
       "    }\n",
       "\n",
       "    .dataframe tbody tr th {\n",
       "        vertical-align: top;\n",
       "    }\n",
       "\n",
       "    .dataframe thead th {\n",
       "        text-align: right;\n",
       "    }\n",
       "</style>\n",
       "<table border=\"1\" class=\"dataframe\">\n",
       "  <thead>\n",
       "    <tr style=\"text-align: right;\">\n",
       "      <th></th>\n",
       "      <th>state</th>\n",
       "      <th>Colorado</th>\n",
       "      <th>Ohio</th>\n",
       "    </tr>\n",
       "    <tr>\n",
       "      <th>number</th>\n",
       "      <th></th>\n",
       "      <th></th>\n",
       "      <th></th>\n",
       "    </tr>\n",
       "  </thead>\n",
       "  <tbody>\n",
       "    <tr>\n",
       "      <th rowspan=\"2\" valign=\"top\">one</th>\n",
       "      <th>left</th>\n",
       "      <td>3</td>\n",
       "      <td>0</td>\n",
       "    </tr>\n",
       "    <tr>\n",
       "      <th>right</th>\n",
       "      <td>8</td>\n",
       "      <td>5</td>\n",
       "    </tr>\n",
       "    <tr>\n",
       "      <th rowspan=\"2\" valign=\"top\">two</th>\n",
       "      <th>left</th>\n",
       "      <td>4</td>\n",
       "      <td>1</td>\n",
       "    </tr>\n",
       "    <tr>\n",
       "      <th>right</th>\n",
       "      <td>9</td>\n",
       "      <td>6</td>\n",
       "    </tr>\n",
       "    <tr>\n",
       "      <th rowspan=\"2\" valign=\"top\">three</th>\n",
       "      <th>left</th>\n",
       "      <td>5</td>\n",
       "      <td>2</td>\n",
       "    </tr>\n",
       "    <tr>\n",
       "      <th>right</th>\n",
       "      <td>10</td>\n",
       "      <td>7</td>\n",
       "    </tr>\n",
       "  </tbody>\n",
       "</table>\n",
       "</div>"
      ],
      "text/plain": [
       "state         Colorado  Ohio\n",
       "number                      \n",
       "one    left          3     0\n",
       "       right         8     5\n",
       "two    left          4     1\n",
       "       right         9     6\n",
       "three  left          5     2\n",
       "       right        10     7"
      ]
     },
     "execution_count": 363,
     "metadata": {},
     "output_type": "execute_result"
    }
   ],
   "source": [
    "data_more.unstack('state').stack(0)"
   ]
  },
  {
   "cell_type": "code",
   "execution_count": 369,
   "metadata": {
    "scrolled": true
   },
   "outputs": [
    {
     "name": "stdout",
     "output_type": "stream",
     "text": [
      "total 2088\r\n",
      "-rw-r--r-- 1 rushi rushi    7943 Jun  8  2017 tips.csv\r\n",
      "-rw-r--r-- 1 rushi rushi  150105 Jun  8  2017 spx.csv\r\n",
      "drwxr-xr-x 2 rushi rushi    4096 Jun  8  2017 PortAuPrince_Roads\r\n",
      "-rw-r--r-- 1 rushi rushi   18242 Jun  8  2017 macrodata.csv\r\n",
      "-rw-r--r-- 1 rushi rushi 1951984 Jun  8  2017 Haiti.csv\r\n"
     ]
    }
   ],
   "source": [
    "# pivot \"long\" to \"wide\"\n",
    "!ls -lrt ../../data/pda/ch08/"
   ]
  },
  {
   "cell_type": "code",
   "execution_count": 385,
   "metadata": {},
   "outputs": [
    {
     "data": {
      "text/html": [
       "<div>\n",
       "<style scoped>\n",
       "    .dataframe tbody tr th:only-of-type {\n",
       "        vertical-align: middle;\n",
       "    }\n",
       "\n",
       "    .dataframe tbody tr th {\n",
       "        vertical-align: top;\n",
       "    }\n",
       "\n",
       "    .dataframe thead th {\n",
       "        text-align: right;\n",
       "    }\n",
       "</style>\n",
       "<table border=\"1\" class=\"dataframe\">\n",
       "  <thead>\n",
       "    <tr style=\"text-align: right;\">\n",
       "      <th></th>\n",
       "      <th>year</th>\n",
       "      <th>quarter</th>\n",
       "      <th>realgdp</th>\n",
       "      <th>realcons</th>\n",
       "      <th>realinv</th>\n",
       "      <th>realgovt</th>\n",
       "      <th>realdpi</th>\n",
       "      <th>cpi</th>\n",
       "      <th>m1</th>\n",
       "      <th>tbilrate</th>\n",
       "      <th>unemp</th>\n",
       "      <th>pop</th>\n",
       "      <th>infl</th>\n",
       "      <th>realint</th>\n",
       "    </tr>\n",
       "  </thead>\n",
       "  <tbody>\n",
       "    <tr>\n",
       "      <th>0</th>\n",
       "      <td>1959.0</td>\n",
       "      <td>1.0</td>\n",
       "      <td>2710.349</td>\n",
       "      <td>1707.4</td>\n",
       "      <td>286.898</td>\n",
       "      <td>470.045</td>\n",
       "      <td>1886.9</td>\n",
       "      <td>28.98</td>\n",
       "      <td>139.7</td>\n",
       "      <td>2.82</td>\n",
       "      <td>5.8</td>\n",
       "      <td>177.146</td>\n",
       "      <td>0.00</td>\n",
       "      <td>0.00</td>\n",
       "    </tr>\n",
       "    <tr>\n",
       "      <th>1</th>\n",
       "      <td>1959.0</td>\n",
       "      <td>2.0</td>\n",
       "      <td>2778.801</td>\n",
       "      <td>1733.7</td>\n",
       "      <td>310.859</td>\n",
       "      <td>481.301</td>\n",
       "      <td>1919.7</td>\n",
       "      <td>29.15</td>\n",
       "      <td>141.7</td>\n",
       "      <td>3.08</td>\n",
       "      <td>5.1</td>\n",
       "      <td>177.830</td>\n",
       "      <td>2.34</td>\n",
       "      <td>0.74</td>\n",
       "    </tr>\n",
       "    <tr>\n",
       "      <th>2</th>\n",
       "      <td>1959.0</td>\n",
       "      <td>3.0</td>\n",
       "      <td>2775.488</td>\n",
       "      <td>1751.8</td>\n",
       "      <td>289.226</td>\n",
       "      <td>491.260</td>\n",
       "      <td>1916.4</td>\n",
       "      <td>29.35</td>\n",
       "      <td>140.5</td>\n",
       "      <td>3.82</td>\n",
       "      <td>5.3</td>\n",
       "      <td>178.657</td>\n",
       "      <td>2.74</td>\n",
       "      <td>1.09</td>\n",
       "    </tr>\n",
       "    <tr>\n",
       "      <th>3</th>\n",
       "      <td>1959.0</td>\n",
       "      <td>4.0</td>\n",
       "      <td>2785.204</td>\n",
       "      <td>1753.7</td>\n",
       "      <td>299.356</td>\n",
       "      <td>484.052</td>\n",
       "      <td>1931.3</td>\n",
       "      <td>29.37</td>\n",
       "      <td>140.0</td>\n",
       "      <td>4.33</td>\n",
       "      <td>5.6</td>\n",
       "      <td>179.386</td>\n",
       "      <td>0.27</td>\n",
       "      <td>4.06</td>\n",
       "    </tr>\n",
       "    <tr>\n",
       "      <th>4</th>\n",
       "      <td>1960.0</td>\n",
       "      <td>1.0</td>\n",
       "      <td>2847.699</td>\n",
       "      <td>1770.5</td>\n",
       "      <td>331.722</td>\n",
       "      <td>462.199</td>\n",
       "      <td>1955.5</td>\n",
       "      <td>29.54</td>\n",
       "      <td>139.6</td>\n",
       "      <td>3.50</td>\n",
       "      <td>5.2</td>\n",
       "      <td>180.007</td>\n",
       "      <td>2.31</td>\n",
       "      <td>1.19</td>\n",
       "    </tr>\n",
       "  </tbody>\n",
       "</table>\n",
       "</div>"
      ],
      "text/plain": [
       "     year  quarter   realgdp  realcons  realinv  realgovt  realdpi    cpi  \\\n",
       "0  1959.0      1.0  2710.349    1707.4  286.898   470.045   1886.9  28.98   \n",
       "1  1959.0      2.0  2778.801    1733.7  310.859   481.301   1919.7  29.15   \n",
       "2  1959.0      3.0  2775.488    1751.8  289.226   491.260   1916.4  29.35   \n",
       "3  1959.0      4.0  2785.204    1753.7  299.356   484.052   1931.3  29.37   \n",
       "4  1960.0      1.0  2847.699    1770.5  331.722   462.199   1955.5  29.54   \n",
       "\n",
       "      m1  tbilrate  unemp      pop  infl  realint  \n",
       "0  139.7      2.82    5.8  177.146  0.00     0.00  \n",
       "1  141.7      3.08    5.1  177.830  2.34     0.74  \n",
       "2  140.5      3.82    5.3  178.657  2.74     1.09  \n",
       "3  140.0      4.33    5.6  179.386  0.27     4.06  \n",
       "4  139.6      3.50    5.2  180.007  2.31     1.19  "
      ]
     },
     "execution_count": 385,
     "metadata": {},
     "output_type": "execute_result"
    }
   ],
   "source": [
    "data = pd.read_csv('../../data/pda/ch08/macrodata.csv')\n",
    "data.head()\n"
   ]
  },
  {
   "cell_type": "code",
   "execution_count": 389,
   "metadata": {},
   "outputs": [],
   "source": [
    "periods = pd.PeriodIndex(year=data.year, quarter=data.quarter, name='date')\n",
    "columns = pd.Index(['realgdp', 'infl', 'unemp'])\n",
    "data2 = data.reindex(columns=columns)"
   ]
  },
  {
   "cell_type": "code",
   "execution_count": 398,
   "metadata": {
    "scrolled": true
   },
   "outputs": [
    {
     "name": "stdout",
     "output_type": "stream",
     "text": [
      "                                realgdp  infl  unemp\n",
      "date                                                \n",
      "1959-03-31 23:59:59.999999999  2710.349  0.00    5.8\n",
      "1959-06-30 23:59:59.999999999  2778.801  2.34    5.1\n",
      "1959-09-30 23:59:59.999999999  2775.488  2.74    5.3\n",
      "1959-12-31 23:59:59.999999999  2785.204  0.27    5.6\n",
      "1960-03-31 23:59:59.999999999  2847.699  2.31    5.2\n"
     ]
    },
    {
     "data": {
      "text/html": [
       "<div>\n",
       "<style scoped>\n",
       "    .dataframe tbody tr th:only-of-type {\n",
       "        vertical-align: middle;\n",
       "    }\n",
       "\n",
       "    .dataframe tbody tr th {\n",
       "        vertical-align: top;\n",
       "    }\n",
       "\n",
       "    .dataframe thead th {\n",
       "        text-align: right;\n",
       "    }\n",
       "</style>\n",
       "<table border=\"1\" class=\"dataframe\">\n",
       "  <thead>\n",
       "    <tr style=\"text-align: right;\">\n",
       "      <th></th>\n",
       "      <th>date</th>\n",
       "      <th>level_1</th>\n",
       "      <th>0</th>\n",
       "    </tr>\n",
       "  </thead>\n",
       "  <tbody>\n",
       "    <tr>\n",
       "      <th>0</th>\n",
       "      <td>1959-03-31 23:59:59.999999999</td>\n",
       "      <td>realgdp</td>\n",
       "      <td>2710.349</td>\n",
       "    </tr>\n",
       "    <tr>\n",
       "      <th>1</th>\n",
       "      <td>1959-03-31 23:59:59.999999999</td>\n",
       "      <td>infl</td>\n",
       "      <td>0.000</td>\n",
       "    </tr>\n",
       "    <tr>\n",
       "      <th>2</th>\n",
       "      <td>1959-03-31 23:59:59.999999999</td>\n",
       "      <td>unemp</td>\n",
       "      <td>5.800</td>\n",
       "    </tr>\n",
       "    <tr>\n",
       "      <th>3</th>\n",
       "      <td>1959-06-30 23:59:59.999999999</td>\n",
       "      <td>realgdp</td>\n",
       "      <td>2778.801</td>\n",
       "    </tr>\n",
       "    <tr>\n",
       "      <th>4</th>\n",
       "      <td>1959-06-30 23:59:59.999999999</td>\n",
       "      <td>infl</td>\n",
       "      <td>2.340</td>\n",
       "    </tr>\n",
       "  </tbody>\n",
       "</table>\n",
       "</div>"
      ],
      "text/plain": [
       "                           date  level_1         0\n",
       "0 1959-03-31 23:59:59.999999999  realgdp  2710.349\n",
       "1 1959-03-31 23:59:59.999999999     infl     0.000\n",
       "2 1959-03-31 23:59:59.999999999    unemp     5.800\n",
       "3 1959-06-30 23:59:59.999999999  realgdp  2778.801\n",
       "4 1959-06-30 23:59:59.999999999     infl     2.340"
      ]
     },
     "execution_count": 398,
     "metadata": {},
     "output_type": "execute_result"
    }
   ],
   "source": [
    "data2.index = periods.to_timestamp('D', 'end')\n",
    "print(data2.head())\n",
    "\n",
    "data2.stack().reset_index().head()"
   ]
  },
  {
   "cell_type": "code",
   "execution_count": 400,
   "metadata": {
    "scrolled": true
   },
   "outputs": [
    {
     "data": {
      "text/plain": [
       "date                                  \n",
       "1959-03-31 23:59:59.999999999  realgdp    2710.349\n",
       "                               infl          0.000\n",
       "                               unemp         5.800\n",
       "1959-06-30 23:59:59.999999999  realgdp    2778.801\n",
       "                               infl          2.340\n",
       "dtype: float64"
      ]
     },
     "execution_count": 400,
     "metadata": {},
     "output_type": "execute_result"
    }
   ],
   "source": [
    "data2.stack().head()"
   ]
  },
  {
   "cell_type": "code",
   "execution_count": 405,
   "metadata": {},
   "outputs": [
    {
     "data": {
      "text/html": [
       "<div>\n",
       "<style scoped>\n",
       "    .dataframe tbody tr th:only-of-type {\n",
       "        vertical-align: middle;\n",
       "    }\n",
       "\n",
       "    .dataframe tbody tr th {\n",
       "        vertical-align: top;\n",
       "    }\n",
       "\n",
       "    .dataframe thead th {\n",
       "        text-align: right;\n",
       "    }\n",
       "</style>\n",
       "<table border=\"1\" class=\"dataframe\">\n",
       "  <thead>\n",
       "    <tr style=\"text-align: right;\">\n",
       "      <th></th>\n",
       "      <th>date</th>\n",
       "      <th>level_1</th>\n",
       "      <th>value</th>\n",
       "    </tr>\n",
       "  </thead>\n",
       "  <tbody>\n",
       "    <tr>\n",
       "      <th>0</th>\n",
       "      <td>1959-03-31 23:59:59.999999999</td>\n",
       "      <td>realgdp</td>\n",
       "      <td>2710.349</td>\n",
       "    </tr>\n",
       "    <tr>\n",
       "      <th>1</th>\n",
       "      <td>1959-03-31 23:59:59.999999999</td>\n",
       "      <td>infl</td>\n",
       "      <td>0.000</td>\n",
       "    </tr>\n",
       "    <tr>\n",
       "      <th>2</th>\n",
       "      <td>1959-03-31 23:59:59.999999999</td>\n",
       "      <td>unemp</td>\n",
       "      <td>5.800</td>\n",
       "    </tr>\n",
       "    <tr>\n",
       "      <th>3</th>\n",
       "      <td>1959-06-30 23:59:59.999999999</td>\n",
       "      <td>realgdp</td>\n",
       "      <td>2778.801</td>\n",
       "    </tr>\n",
       "    <tr>\n",
       "      <th>4</th>\n",
       "      <td>1959-06-30 23:59:59.999999999</td>\n",
       "      <td>infl</td>\n",
       "      <td>2.340</td>\n",
       "    </tr>\n",
       "    <tr>\n",
       "      <th>...</th>\n",
       "      <td>...</td>\n",
       "      <td>...</td>\n",
       "      <td>...</td>\n",
       "    </tr>\n",
       "    <tr>\n",
       "      <th>604</th>\n",
       "      <td>2009-06-30 23:59:59.999999999</td>\n",
       "      <td>infl</td>\n",
       "      <td>3.370</td>\n",
       "    </tr>\n",
       "    <tr>\n",
       "      <th>605</th>\n",
       "      <td>2009-06-30 23:59:59.999999999</td>\n",
       "      <td>unemp</td>\n",
       "      <td>9.200</td>\n",
       "    </tr>\n",
       "    <tr>\n",
       "      <th>606</th>\n",
       "      <td>2009-09-30 23:59:59.999999999</td>\n",
       "      <td>realgdp</td>\n",
       "      <td>12990.341</td>\n",
       "    </tr>\n",
       "    <tr>\n",
       "      <th>607</th>\n",
       "      <td>2009-09-30 23:59:59.999999999</td>\n",
       "      <td>infl</td>\n",
       "      <td>3.560</td>\n",
       "    </tr>\n",
       "    <tr>\n",
       "      <th>608</th>\n",
       "      <td>2009-09-30 23:59:59.999999999</td>\n",
       "      <td>unemp</td>\n",
       "      <td>9.600</td>\n",
       "    </tr>\n",
       "  </tbody>\n",
       "</table>\n",
       "<p>609 rows × 3 columns</p>\n",
       "</div>"
      ],
      "text/plain": [
       "                             date  level_1      value\n",
       "0   1959-03-31 23:59:59.999999999  realgdp   2710.349\n",
       "1   1959-03-31 23:59:59.999999999     infl      0.000\n",
       "2   1959-03-31 23:59:59.999999999    unemp      5.800\n",
       "3   1959-06-30 23:59:59.999999999  realgdp   2778.801\n",
       "4   1959-06-30 23:59:59.999999999     infl      2.340\n",
       "..                            ...      ...        ...\n",
       "604 2009-06-30 23:59:59.999999999     infl      3.370\n",
       "605 2009-06-30 23:59:59.999999999    unemp      9.200\n",
       "606 2009-09-30 23:59:59.999999999  realgdp  12990.341\n",
       "607 2009-09-30 23:59:59.999999999     infl      3.560\n",
       "608 2009-09-30 23:59:59.999999999    unemp      9.600\n",
       "\n",
       "[609 rows x 3 columns]"
      ]
     },
     "execution_count": 405,
     "metadata": {},
     "output_type": "execute_result"
    }
   ],
   "source": [
    "long_data = data2.stack().reset_index().rename(columns={0: 'value'})\n",
    "long_data"
   ]
  },
  {
   "cell_type": "code",
   "execution_count": 408,
   "metadata": {},
   "outputs": [
    {
     "data": {
      "text/html": [
       "<div>\n",
       "<style scoped>\n",
       "    .dataframe tbody tr th:only-of-type {\n",
       "        vertical-align: middle;\n",
       "    }\n",
       "\n",
       "    .dataframe tbody tr th {\n",
       "        vertical-align: top;\n",
       "    }\n",
       "\n",
       "    .dataframe thead th {\n",
       "        text-align: right;\n",
       "    }\n",
       "</style>\n",
       "<table border=\"1\" class=\"dataframe\">\n",
       "  <thead>\n",
       "    <tr style=\"text-align: right;\">\n",
       "      <th>level_1</th>\n",
       "      <th>infl</th>\n",
       "      <th>realgdp</th>\n",
       "      <th>unemp</th>\n",
       "    </tr>\n",
       "    <tr>\n",
       "      <th>date</th>\n",
       "      <th></th>\n",
       "      <th></th>\n",
       "      <th></th>\n",
       "    </tr>\n",
       "  </thead>\n",
       "  <tbody>\n",
       "    <tr>\n",
       "      <th>1959-03-31 23:59:59.999999999</th>\n",
       "      <td>0.00</td>\n",
       "      <td>2710.349</td>\n",
       "      <td>5.8</td>\n",
       "    </tr>\n",
       "    <tr>\n",
       "      <th>1959-06-30 23:59:59.999999999</th>\n",
       "      <td>2.34</td>\n",
       "      <td>2778.801</td>\n",
       "      <td>5.1</td>\n",
       "    </tr>\n",
       "    <tr>\n",
       "      <th>1959-09-30 23:59:59.999999999</th>\n",
       "      <td>2.74</td>\n",
       "      <td>2775.488</td>\n",
       "      <td>5.3</td>\n",
       "    </tr>\n",
       "    <tr>\n",
       "      <th>1959-12-31 23:59:59.999999999</th>\n",
       "      <td>0.27</td>\n",
       "      <td>2785.204</td>\n",
       "      <td>5.6</td>\n",
       "    </tr>\n",
       "    <tr>\n",
       "      <th>1960-03-31 23:59:59.999999999</th>\n",
       "      <td>2.31</td>\n",
       "      <td>2847.699</td>\n",
       "      <td>5.2</td>\n",
       "    </tr>\n",
       "    <tr>\n",
       "      <th>...</th>\n",
       "      <td>...</td>\n",
       "      <td>...</td>\n",
       "      <td>...</td>\n",
       "    </tr>\n",
       "    <tr>\n",
       "      <th>2008-09-30 23:59:59.999999999</th>\n",
       "      <td>-3.16</td>\n",
       "      <td>13324.600</td>\n",
       "      <td>6.0</td>\n",
       "    </tr>\n",
       "    <tr>\n",
       "      <th>2008-12-31 23:59:59.999999999</th>\n",
       "      <td>-8.79</td>\n",
       "      <td>13141.920</td>\n",
       "      <td>6.9</td>\n",
       "    </tr>\n",
       "    <tr>\n",
       "      <th>2009-03-31 23:59:59.999999999</th>\n",
       "      <td>0.94</td>\n",
       "      <td>12925.410</td>\n",
       "      <td>8.1</td>\n",
       "    </tr>\n",
       "    <tr>\n",
       "      <th>2009-06-30 23:59:59.999999999</th>\n",
       "      <td>3.37</td>\n",
       "      <td>12901.504</td>\n",
       "      <td>9.2</td>\n",
       "    </tr>\n",
       "    <tr>\n",
       "      <th>2009-09-30 23:59:59.999999999</th>\n",
       "      <td>3.56</td>\n",
       "      <td>12990.341</td>\n",
       "      <td>9.6</td>\n",
       "    </tr>\n",
       "  </tbody>\n",
       "</table>\n",
       "<p>203 rows × 3 columns</p>\n",
       "</div>"
      ],
      "text/plain": [
       "level_1                        infl    realgdp  unemp\n",
       "date                                                 \n",
       "1959-03-31 23:59:59.999999999  0.00   2710.349    5.8\n",
       "1959-06-30 23:59:59.999999999  2.34   2778.801    5.1\n",
       "1959-09-30 23:59:59.999999999  2.74   2775.488    5.3\n",
       "1959-12-31 23:59:59.999999999  0.27   2785.204    5.6\n",
       "1960-03-31 23:59:59.999999999  2.31   2847.699    5.2\n",
       "...                             ...        ...    ...\n",
       "2008-09-30 23:59:59.999999999 -3.16  13324.600    6.0\n",
       "2008-12-31 23:59:59.999999999 -8.79  13141.920    6.9\n",
       "2009-03-31 23:59:59.999999999  0.94  12925.410    8.1\n",
       "2009-06-30 23:59:59.999999999  3.37  12901.504    9.2\n",
       "2009-09-30 23:59:59.999999999  3.56  12990.341    9.6\n",
       "\n",
       "[203 rows x 3 columns]"
      ]
     },
     "execution_count": 408,
     "metadata": {},
     "output_type": "execute_result"
    }
   ],
   "source": [
    "long_data.pivot('date', 'level_1', 'value')"
   ]
  },
  {
   "cell_type": "code",
   "execution_count": 410,
   "metadata": {},
   "outputs": [],
   "source": [
    "# TODO: melt is reverse of pivot"
   ]
  },
  {
   "cell_type": "code",
   "execution_count": null,
   "metadata": {},
   "outputs": [],
   "source": []
  },
  {
   "cell_type": "code",
   "execution_count": null,
   "metadata": {},
   "outputs": [],
   "source": []
  }
 ],
 "metadata": {
  "kernelspec": {
   "display_name": "Python 3",
   "language": "python",
   "name": "python3"
  },
  "language_info": {
   "codemirror_mode": {
    "name": "ipython",
    "version": 3
   },
   "file_extension": ".py",
   "mimetype": "text/x-python",
   "name": "python",
   "nbconvert_exporter": "python",
   "pygments_lexer": "ipython3",
   "version": "3.7.5"
  }
 },
 "nbformat": 4,
 "nbformat_minor": 2
}
