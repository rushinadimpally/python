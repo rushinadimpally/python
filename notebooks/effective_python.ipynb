{
 "cells": [
  {
   "cell_type": "code",
   "execution_count": 2,
   "metadata": {},
   "outputs": [
    {
     "name": "stdout",
     "output_type": "stream",
     "text": [
      "Hello World\n"
     ]
    }
   ],
   "source": [
    "print (\"Hello World\")"
   ]
  },
  {
   "cell_type": "markdown",
   "metadata": {},
   "source": [
    "## Item 1"
   ]
  },
  {
   "cell_type": "code",
   "execution_count": 4,
   "metadata": {},
   "outputs": [
    {
     "name": "stdout",
     "output_type": "stream",
     "text": [
      "3.7.5 (default, Apr 19 2020, 20:18:17) \n",
      "[GCC 9.2.1 20191008]\n"
     ]
    }
   ],
   "source": [
    "import sys\n",
    "print (sys.version)"
   ]
  },
  {
   "cell_type": "code",
   "execution_count": 5,
   "metadata": {},
   "outputs": [
    {
     "name": "stdout",
     "output_type": "stream",
     "text": [
      "Hi\n"
     ]
    }
   ],
   "source": [
    "print (\"Hi\")"
   ]
  },
  {
   "cell_type": "markdown",
   "metadata": {},
   "source": [
    "## Item 5"
   ]
  },
  {
   "cell_type": "code",
   "execution_count": 14,
   "metadata": {},
   "outputs": [
    {
     "name": "stdout",
     "output_type": "stream",
     "text": [
      "{'red': ['5'], 'blue': ['0'], 'green': ['']}\n"
     ]
    }
   ],
   "source": [
    "from urllib.parse import parse_qs\n",
    "my_values = parse_qs('red=5&blue=0&green=', keep_blank_values=True)\n",
    "print (repr(my_values))"
   ]
  },
  {
   "cell_type": "code",
   "execution_count": 15,
   "metadata": {},
   "outputs": [
    {
     "data": {
      "text/plain": [
       "['5']"
      ]
     },
     "execution_count": 15,
     "metadata": {},
     "output_type": "execute_result"
    }
   ],
   "source": [
    "my_values.get('red')"
   ]
  },
  {
   "cell_type": "code",
   "execution_count": 16,
   "metadata": {},
   "outputs": [],
   "source": [
    "my_values.get('opacity')"
   ]
  },
  {
   "cell_type": "code",
   "execution_count": 18,
   "metadata": {},
   "outputs": [
    {
     "data": {
      "text/plain": [
       "0"
      ]
     },
     "execution_count": 18,
     "metadata": {},
     "output_type": "execute_result"
    }
   ],
   "source": [
    "my_values.get('opacity', 0)"
   ]
  },
  {
   "cell_type": "code",
   "execution_count": 21,
   "metadata": {},
   "outputs": [],
   "source": [
    "a = ['a', 'b', 'c', 'd', 'e', 'f', 'g', 'h']"
   ]
  },
  {
   "cell_type": "code",
   "execution_count": 22,
   "metadata": {},
   "outputs": [
    {
     "data": {
      "text/plain": [
       "['a', 'b', 'c', 'd']"
      ]
     },
     "execution_count": 22,
     "metadata": {},
     "output_type": "execute_result"
    }
   ],
   "source": [
    "a[:4]"
   ]
  },
  {
   "cell_type": "code",
   "execution_count": 23,
   "metadata": {},
   "outputs": [
    {
     "data": {
      "text/plain": [
       "['e', 'f', 'g', 'h']"
      ]
     },
     "execution_count": 23,
     "metadata": {},
     "output_type": "execute_result"
    }
   ],
   "source": [
    "a[-4:]"
   ]
  },
  {
   "cell_type": "code",
   "execution_count": 24,
   "metadata": {},
   "outputs": [
    {
     "data": {
      "text/plain": [
       "['c', 'd', 'e']"
      ]
     },
     "execution_count": 24,
     "metadata": {},
     "output_type": "execute_result"
    }
   ],
   "source": [
    "a[2:5]"
   ]
  },
  {
   "cell_type": "code",
   "execution_count": 25,
   "metadata": {},
   "outputs": [
    {
     "data": {
      "text/plain": [
       "['e', 'f', 'g', 'h']"
      ]
     },
     "execution_count": 25,
     "metadata": {},
     "output_type": "execute_result"
    }
   ],
   "source": [
    "a[len(a)-4:]"
   ]
  },
  {
   "cell_type": "code",
   "execution_count": 26,
   "metadata": {},
   "outputs": [
    {
     "data": {
      "text/plain": [
       "['a', 'b', 'c', 'd', 'e', 'f', 'g']"
      ]
     },
     "execution_count": 26,
     "metadata": {},
     "output_type": "execute_result"
    }
   ],
   "source": [
    "a[:-1]"
   ]
  },
  {
   "cell_type": "code",
   "execution_count": 27,
   "metadata": {},
   "outputs": [
    {
     "data": {
      "text/plain": [
       "[]"
      ]
     },
     "execution_count": 27,
     "metadata": {},
     "output_type": "execute_result"
    }
   ],
   "source": [
    "a[-1:-2]"
   ]
  },
  {
   "cell_type": "code",
   "execution_count": 28,
   "metadata": {},
   "outputs": [
    {
     "data": {
      "text/plain": [
       "['g']"
      ]
     },
     "execution_count": 28,
     "metadata": {},
     "output_type": "execute_result"
    }
   ],
   "source": [
    "a[-2:-1]"
   ]
  },
  {
   "cell_type": "code",
   "execution_count": 29,
   "metadata": {},
   "outputs": [],
   "source": [
    "b = a[:]"
   ]
  },
  {
   "cell_type": "code",
   "execution_count": 30,
   "metadata": {},
   "outputs": [],
   "source": [
    "assert b == a"
   ]
  },
  {
   "cell_type": "code",
   "execution_count": 32,
   "metadata": {},
   "outputs": [],
   "source": [
    "assert b is not a"
   ]
  },
  {
   "cell_type": "code",
   "execution_count": 33,
   "metadata": {},
   "outputs": [
    {
     "data": {
      "text/plain": [
       "['a', 'c', 'e', 'g']"
      ]
     },
     "execution_count": 33,
     "metadata": {},
     "output_type": "execute_result"
    }
   ],
   "source": [
    "a[::2]"
   ]
  },
  {
   "cell_type": "code",
   "execution_count": 34,
   "metadata": {},
   "outputs": [
    {
     "data": {
      "text/plain": [
       "['b', 'd', 'f', 'h']"
      ]
     },
     "execution_count": 34,
     "metadata": {},
     "output_type": "execute_result"
    }
   ],
   "source": [
    "a[1::2]"
   ]
  },
  {
   "cell_type": "code",
   "execution_count": 35,
   "metadata": {},
   "outputs": [
    {
     "data": {
      "text/plain": [
       "['h', 'g', 'f', 'e', 'd', 'c', 'b', 'a']"
      ]
     },
     "execution_count": 35,
     "metadata": {},
     "output_type": "execute_result"
    }
   ],
   "source": [
    "a[::-1]"
   ]
  },
  {
   "cell_type": "markdown",
   "metadata": {},
   "source": [
    "##  Item 6"
   ]
  },
  {
   "cell_type": "code",
   "execution_count": 21,
   "metadata": {},
   "outputs": [],
   "source": [
    "a = ['a', 'b', 'c', 'd', 'e', 'f', 'g', 'h']"
   ]
  },
  {
   "cell_type": "code",
   "execution_count": 36,
   "metadata": {},
   "outputs": [
    {
     "data": {
      "text/plain": [
       "['a', 'b', 'c', 'd', 'e', 'f', 'g', 'h']"
      ]
     },
     "execution_count": 36,
     "metadata": {},
     "output_type": "execute_result"
    }
   ],
   "source": [
    "a[::1]"
   ]
  },
  {
   "cell_type": "code",
   "execution_count": 37,
   "metadata": {},
   "outputs": [
    {
     "data": {
      "text/plain": [
       "['h', 'g', 'f', 'e', 'd', 'c', 'b', 'a']"
      ]
     },
     "execution_count": 37,
     "metadata": {},
     "output_type": "execute_result"
    }
   ],
   "source": [
    "a[::-1]"
   ]
  },
  {
   "cell_type": "code",
   "execution_count": 38,
   "metadata": {},
   "outputs": [
    {
     "data": {
      "text/plain": [
       "['h', 'f', 'd', 'b']"
      ]
     },
     "execution_count": 38,
     "metadata": {},
     "output_type": "execute_result"
    }
   ],
   "source": [
    "a[::-2]"
   ]
  },
  {
   "cell_type": "code",
   "execution_count": 39,
   "metadata": {},
   "outputs": [
    {
     "data": {
      "text/plain": [
       "['a', 'b', 'c', 'd', 'e', 'f', 'g', 'h']"
      ]
     },
     "execution_count": 39,
     "metadata": {},
     "output_type": "execute_result"
    }
   ],
   "source": [
    "a[::-1][::-1]"
   ]
  },
  {
   "cell_type": "code",
   "execution_count": 40,
   "metadata": {},
   "outputs": [
    {
     "data": {
      "text/plain": [
       "['e', 'c', 'a']"
      ]
     },
     "execution_count": 40,
     "metadata": {},
     "output_type": "execute_result"
    }
   ],
   "source": [
    "a[-4::-2]"
   ]
  },
  {
   "cell_type": "code",
   "execution_count": 41,
   "metadata": {},
   "outputs": [
    {
     "data": {
      "text/plain": [
       "['a', 'b', 'c', 'd', 'e', 'f', 'g', 'h']"
      ]
     },
     "execution_count": 41,
     "metadata": {},
     "output_type": "execute_result"
    }
   ],
   "source": [
    "a"
   ]
  },
  {
   "cell_type": "code",
   "execution_count": 42,
   "metadata": {},
   "outputs": [
    {
     "data": {
      "text/plain": [
       "['e', 'f', 'g', 'h']"
      ]
     },
     "execution_count": 42,
     "metadata": {},
     "output_type": "execute_result"
    }
   ],
   "source": [
    "a[-4:]"
   ]
  },
  {
   "cell_type": "code",
   "execution_count": 43,
   "metadata": {},
   "outputs": [
    {
     "data": {
      "text/plain": [
       "['a', 'b', 'c', 'd']"
      ]
     },
     "execution_count": 43,
     "metadata": {},
     "output_type": "execute_result"
    }
   ],
   "source": [
    "a[:-4:1]"
   ]
  },
  {
   "cell_type": "code",
   "execution_count": 44,
   "metadata": {},
   "outputs": [
    {
     "data": {
      "text/plain": [
       "['a', 'c']"
      ]
     },
     "execution_count": 44,
     "metadata": {},
     "output_type": "execute_result"
    }
   ],
   "source": [
    "a[:-4:2]"
   ]
  },
  {
   "cell_type": "code",
   "execution_count": 54,
   "metadata": {},
   "outputs": [
    {
     "data": {
      "text/plain": [
       "['e', 'c', 'a']"
      ]
     },
     "execution_count": 54,
     "metadata": {},
     "output_type": "execute_result"
    }
   ],
   "source": [
    "a[:-3][::-2]"
   ]
  },
  {
   "cell_type": "code",
   "execution_count": 57,
   "metadata": {},
   "outputs": [
    {
     "data": {
      "text/plain": [
       "['h', 'g', 'f', 'e']"
      ]
     },
     "execution_count": 57,
     "metadata": {},
     "output_type": "execute_result"
    }
   ],
   "source": [
    "a[-4:][::-1]"
   ]
  },
  {
   "cell_type": "markdown",
   "metadata": {},
   "source": [
    "##  Item 7"
   ]
  },
  {
   "cell_type": "code",
   "execution_count": 61,
   "metadata": {},
   "outputs": [
    {
     "name": "stdout",
     "output_type": "stream",
     "text": [
      "[1, 2, 3, 4, 5, 6, 7, 8, 9, 10]\n"
     ]
    }
   ],
   "source": [
    "a = range(1,11)\n",
    "print ([x for x in a])"
   ]
  },
  {
   "cell_type": "code",
   "execution_count": 66,
   "metadata": {},
   "outputs": [
    {
     "name": "stdout",
     "output_type": "stream",
     "text": [
      "[1, 4, 9, 16, 25, 36, 49, 64, 81, 100]\n"
     ]
    }
   ],
   "source": [
    "sq = [x**2 for x in a]\n",
    "print(sq)"
   ]
  },
  {
   "cell_type": "code",
   "execution_count": 71,
   "metadata": {},
   "outputs": [
    {
     "name": "stdout",
     "output_type": "stream",
     "text": [
      "[1, 4, 9, 16, 25, 36, 49, 64, 81, 100]\n"
     ]
    }
   ],
   "source": [
    "sq = map(lambda x : x ** 2 , a)\n",
    "print([x for x in sq])"
   ]
  },
  {
   "cell_type": "code",
   "execution_count": 72,
   "metadata": {},
   "outputs": [
    {
     "name": "stdout",
     "output_type": "stream",
     "text": [
      "[4, 16, 36, 64, 100]\n"
     ]
    }
   ],
   "source": [
    "even_squares = [x**2 for x in a if x % 2 == 0]\n",
    "print (even_squares)"
   ]
  },
  {
   "cell_type": "code",
   "execution_count": 80,
   "metadata": {},
   "outputs": [
    {
     "name": "stdout",
     "output_type": "stream",
     "text": [
      "{1: 'ghost', 2: 'habanero', 3: 'cayenne'}\n"
     ]
    }
   ],
   "source": [
    "chile_ranks = {'ghost' : 1, 'habanero' : 2, 'cayenne' : 3}\n",
    "rank_to_name = {rank: name for name, rank in chile_ranks.items()}\n",
    "print(rank_to_name)"
   ]
  },
  {
   "cell_type": "code",
   "execution_count": 86,
   "metadata": {},
   "outputs": [
    {
     "name": "stdout",
     "output_type": "stream",
     "text": [
      "dict_items([('ghost', 1), ('habanero', 2), ('cayenne', 3)])\n",
      "<class 'dict_items'>\n"
     ]
    }
   ],
   "source": [
    "print(chile_ranks.items())\n",
    "print(type(chile_ranks.items()))"
   ]
  },
  {
   "cell_type": "code",
   "execution_count": 83,
   "metadata": {},
   "outputs": [
    {
     "name": "stdout",
     "output_type": "stream",
     "text": [
      "[('ghost', 1), ('habanero', 2), ('cayenne', 3)]\n"
     ]
    }
   ],
   "source": [
    "print([item for item in chile_ranks.items()])"
   ]
  },
  {
   "cell_type": "code",
   "execution_count": 89,
   "metadata": {},
   "outputs": [
    {
     "name": "stdout",
     "output_type": "stream",
     "text": [
      "[5, 8, 7]\n"
     ]
    }
   ],
   "source": [
    "chile_name_lengths = [len(name) for name in chile_ranks.keys()]\n",
    "print (chile_name_lengths)"
   ]
  },
  {
   "cell_type": "markdown",
   "metadata": {},
   "source": [
    "###  Item 8"
   ]
  },
  {
   "cell_type": "code",
   "execution_count": 98,
   "metadata": {},
   "outputs": [
    {
     "name": "stdout",
     "output_type": "stream",
     "text": [
      "[1, 2, 3, 4, 5, 6, 7, 8, 9]\n"
     ]
    }
   ],
   "source": [
    "matrix = [[1,2,3], [4,5,6], [7,8,9]]\n",
    "concat = []\n",
    "for row in matrix:\n",
    "    concat.extend(row)\n",
    "print(concat)"
   ]
  },
  {
   "cell_type": "code",
   "execution_count": 100,
   "metadata": {},
   "outputs": [
    {
     "name": "stdout",
     "output_type": "stream",
     "text": [
      "[1, 2, 3, 4, 5, 6, 7, 8, 9]\n"
     ]
    }
   ],
   "source": [
    "flat = [x for row in matrix for x in row]\n",
    "print(flat)"
   ]
  },
  {
   "cell_type": "code",
   "execution_count": 103,
   "metadata": {},
   "outputs": [
    {
     "name": "stdout",
     "output_type": "stream",
     "text": [
      "[1, 2, 3, 4, 5, 6, 7, 8, 9]\n"
     ]
    }
   ],
   "source": [
    "# equivalent to \n",
    "flat = []\n",
    "for row in matrix:\n",
    "    for x in row:\n",
    "        flat.append(x)\n",
    "print(flat)\n",
    "# notice that the order of the for statements is the same"
   ]
  },
  {
   "cell_type": "code",
   "execution_count": 104,
   "metadata": {},
   "outputs": [
    {
     "name": "stdout",
     "output_type": "stream",
     "text": [
      "9\n"
     ]
    }
   ],
   "source": [
    "b = [2,3,4]\n",
    "print(sum(b))"
   ]
  },
  {
   "cell_type": "code",
   "execution_count": 106,
   "metadata": {},
   "outputs": [
    {
     "name": "stdout",
     "output_type": "stream",
     "text": [
      "[[6], [9]]\n"
     ]
    }
   ],
   "source": [
    "#multiple if statements and for loops\n",
    "matrix = [[1, 2, 3], [4, 5, 6], [7, 8, 9]]\n",
    "filtered = [[x for x in row if x %3==0]\n",
    "            for row in matrix if sum(row) >=10]\n",
    "print(filtered)"
   ]
  },
  {
   "cell_type": "code",
   "execution_count": 111,
   "metadata": {},
   "outputs": [
    {
     "name": "stdout",
     "output_type": "stream",
     "text": [
      "[[6], [9]]\n"
     ]
    }
   ],
   "source": [
    "# equivalent\n",
    "matrix = [[1, 2, 3], [4, 5, 6], [7, 8, 9]]\n",
    "filtered = []\n",
    "for row in matrix:\n",
    "    if sum(row) >=10:\n",
    "        filtered.append([x for x in row if x % 3 == 0])\n",
    "print(filtered)"
   ]
  },
  {
   "cell_type": "markdown",
   "metadata": {},
   "source": [
    "### Item 9\n"
   ]
  },
  {
   "cell_type": "code",
   "execution_count": 112,
   "metadata": {},
   "outputs": [
    {
     "name": "stdout",
     "output_type": "stream",
     "text": [
      "<class 'generator'>\n",
      "<generator object <genexpr> at 0x7f41283b7cd0>\n"
     ]
    }
   ],
   "source": [
    "gen = (x**2 for x in [3,4,5])\n",
    "print(type(gen))\n",
    "print(gen)"
   ]
  },
  {
   "cell_type": "code",
   "execution_count": 113,
   "metadata": {},
   "outputs": [
    {
     "name": "stdout",
     "output_type": "stream",
     "text": [
      "9\n"
     ]
    }
   ],
   "source": [
    "print(next(gen))"
   ]
  },
  {
   "cell_type": "code",
   "execution_count": 114,
   "metadata": {},
   "outputs": [
    {
     "name": "stdout",
     "output_type": "stream",
     "text": [
      "16\n"
     ]
    }
   ],
   "source": [
    "print(next(gen))"
   ]
  },
  {
   "cell_type": "code",
   "execution_count": 115,
   "metadata": {},
   "outputs": [
    {
     "name": "stdout",
     "output_type": "stream",
     "text": [
      "25\n"
     ]
    }
   ],
   "source": [
    "print(next(gen))"
   ]
  },
  {
   "cell_type": "code",
   "execution_count": 116,
   "metadata": {},
   "outputs": [
    {
     "ename": "StopIteration",
     "evalue": "",
     "output_type": "error",
     "traceback": [
      "\u001b[0;31m---------------------------------------------------------------------------\u001b[0m",
      "\u001b[0;31mStopIteration\u001b[0m                             Traceback (most recent call last)",
      "\u001b[0;32m<ipython-input-116-be0d7584d73f>\u001b[0m in \u001b[0;36m<module>\u001b[0;34m()\u001b[0m\n\u001b[0;32m----> 1\u001b[0;31m \u001b[0mprint\u001b[0m\u001b[0;34m(\u001b[0m\u001b[0mnext\u001b[0m\u001b[0;34m(\u001b[0m\u001b[0mgen\u001b[0m\u001b[0;34m)\u001b[0m\u001b[0;34m)\u001b[0m\u001b[0;34m\u001b[0m\u001b[0;34m\u001b[0m\u001b[0m\n\u001b[0m",
      "\u001b[0;31mStopIteration\u001b[0m: "
     ]
    }
   ],
   "source": [
    "print(next(gen))"
   ]
  },
  {
   "cell_type": "code",
   "execution_count": 121,
   "metadata": {},
   "outputs": [
    {
     "name": "stdout",
     "output_type": "stream",
     "text": [
      "[10, 17, 26]\n"
     ]
    }
   ],
   "source": [
    "# Composing generator\n",
    "# gen is the original generator of values\n",
    "# gen_level_2 is akin to a function composition over gen\n",
    "gen = (x**2 for x in [3,4,5])\n",
    "gen_lvl_2 = (x+1 for x in gen)\n",
    "print([x for x in gen_lvl_2])"
   ]
  },
  {
   "cell_type": "code",
   "execution_count": 137,
   "metadata": {},
   "outputs": [
    {
     "name": "stdout",
     "output_type": "stream",
     "text": [
      "1 9\n",
      "1 16\n",
      "1 25\n"
     ]
    }
   ],
   "source": [
    "from itertools import chain\n",
    "gen_x = (x**2 for x in [3,4,5])\n",
    "gen_y = (y**2 for y in [1,2,3])\n",
    "for y in gen_y:\n",
    "    for x in gen_x: # Generator gets used up here so cannot chain\n",
    "        print (y,x)\n",
    "#print([(x,y) for y in gen_y for x in gen_x]) # Same as above\n",
    "\n",
    "# one way to make this work\n",
    "#list_x = [x for x in gen_x]\n",
    "#list_y = [y for y in gen_y]\n",
    "#print([(x,y) for x in list_x for y in list_y])"
   ]
  },
  {
   "cell_type": "markdown",
   "metadata": {},
   "source": [
    "###  Item 10"
   ]
  },
  {
   "cell_type": "code",
   "execution_count": 141,
   "metadata": {},
   "outputs": [
    {
     "name": "stdout",
     "output_type": "stream",
     "text": [
      "0 vanilla\n",
      "1 chocolate\n",
      "2 pecan\n",
      "3 strawberry\n",
      "===\n",
      "3 vanilla\n",
      "4 chocolate\n",
      "5 pecan\n",
      "6 strawberry\n"
     ]
    }
   ],
   "source": [
    "flavor_list = ['vanilla', 'chocolate', 'pecan', 'strawberry']\n",
    "for i, flavor in enumerate(flavor_list):\n",
    "    print (i, flavor)\n",
    "\n",
    "print (\"===\")\n",
    "for i, flavor in enumerate(flavor_list, 3):\n",
    "    print (i, flavor)"
   ]
  },
  {
   "cell_type": "markdown",
   "metadata": {},
   "source": [
    "###  Item 11"
   ]
  },
  {
   "cell_type": "code",
   "execution_count": 146,
   "metadata": {},
   "outputs": [
    {
     "name": "stdout",
     "output_type": "stream",
     "text": [
      "test_name_long\n"
     ]
    }
   ],
   "source": [
    "names = [\"rushi\", \"siri\", \"test_name_long\"]\n",
    "lengths = [len(x) for x in names]\n",
    "combined = zip(names, lengths)\n",
    "largest_name = max(combined, key=lambda x: x[1])\n",
    "print(largest_name[0])"
   ]
  },
  {
   "cell_type": "markdown",
   "metadata": {},
   "source": [
    "### Item 12"
   ]
  },
  {
   "cell_type": "code",
   "execution_count": 147,
   "metadata": {},
   "outputs": [
    {
     "name": "stdout",
     "output_type": "stream",
     "text": [
      "0\n",
      "1\n",
      "2\n",
      "loop ended\n",
      "else block\n"
     ]
    }
   ],
   "source": [
    "# Don't do this:\n",
    "for i in range(3):\n",
    "    print(i)\n",
    "else:\n",
    "    print (\"loop ended\")\n",
    "    \n",
    "while False:\n",
    "    print (\"Does not print\")\n",
    "else:\n",
    "    print (\"else block\")\n",
    "    \n",
    "for i in range(3):\n",
    "    break\n",
    "else:\n",
    "    print(\"will not print since there is a break in the for loop !\")    \n"
   ]
  },
  {
   "cell_type": "markdown",
   "metadata": {},
   "source": [
    "###  Item 13"
   ]
  },
  {
   "cell_type": "code",
   "execution_count": null,
   "metadata": {},
   "outputs": [],
   "source": [
    "# try/except/else/finally \n",
    "# except block to handle exceptions\n",
    "# else block to clearly distinguish exceptions that are not handled"
   ]
  },
  {
   "cell_type": "markdown",
   "metadata": {},
   "source": [
    "###  Item 14\n"
   ]
  },
  {
   "cell_type": "code",
   "execution_count": 148,
   "metadata": {},
   "outputs": [
    {
     "ename": "ValueError",
     "evalue": "Invalid inputs",
     "output_type": "error",
     "traceback": [
      "\u001b[0;31m---------------------------------------------------------------------------\u001b[0m",
      "\u001b[0;31mZeroDivisionError\u001b[0m                         Traceback (most recent call last)",
      "\u001b[0;32m<ipython-input-148-678605f1b9c9>\u001b[0m in \u001b[0;36mdivide\u001b[0;34m(a, b)\u001b[0m\n\u001b[1;32m      2\u001b[0m     \u001b[0;32mtry\u001b[0m\u001b[0;34m:\u001b[0m\u001b[0;34m\u001b[0m\u001b[0;34m\u001b[0m\u001b[0m\n\u001b[0;32m----> 3\u001b[0;31m         \u001b[0;32mreturn\u001b[0m \u001b[0ma\u001b[0m\u001b[0;34m/\u001b[0m\u001b[0mb\u001b[0m\u001b[0;34m\u001b[0m\u001b[0;34m\u001b[0m\u001b[0m\n\u001b[0m\u001b[1;32m      4\u001b[0m     \u001b[0;32mexcept\u001b[0m \u001b[0mZeroDivisionError\u001b[0m \u001b[0;32mas\u001b[0m \u001b[0me\u001b[0m\u001b[0;34m:\u001b[0m\u001b[0;34m\u001b[0m\u001b[0;34m\u001b[0m\u001b[0m\n",
      "\u001b[0;31mZeroDivisionError\u001b[0m: division by zero",
      "\nThe above exception was the direct cause of the following exception:\n",
      "\u001b[0;31mValueError\u001b[0m                                Traceback (most recent call last)",
      "\u001b[0;32m<ipython-input-148-678605f1b9c9>\u001b[0m in \u001b[0;36m<module>\u001b[0;34m()\u001b[0m\n\u001b[1;32m      5\u001b[0m         \u001b[0;32mraise\u001b[0m \u001b[0mValueError\u001b[0m\u001b[0;34m(\u001b[0m\u001b[0;34m'Invalid inputs'\u001b[0m\u001b[0;34m)\u001b[0m \u001b[0;32mfrom\u001b[0m \u001b[0me\u001b[0m\u001b[0;34m\u001b[0m\u001b[0;34m\u001b[0m\u001b[0m\n\u001b[1;32m      6\u001b[0m \u001b[0;34m\u001b[0m\u001b[0m\n\u001b[0;32m----> 7\u001b[0;31m \u001b[0mdivide\u001b[0m\u001b[0;34m(\u001b[0m\u001b[0;36m3\u001b[0m\u001b[0;34m,\u001b[0m\u001b[0;36m0\u001b[0m\u001b[0;34m)\u001b[0m\u001b[0;34m\u001b[0m\u001b[0;34m\u001b[0m\u001b[0m\n\u001b[0m",
      "\u001b[0;32m<ipython-input-148-678605f1b9c9>\u001b[0m in \u001b[0;36mdivide\u001b[0;34m(a, b)\u001b[0m\n\u001b[1;32m      3\u001b[0m         \u001b[0;32mreturn\u001b[0m \u001b[0ma\u001b[0m\u001b[0;34m/\u001b[0m\u001b[0mb\u001b[0m\u001b[0;34m\u001b[0m\u001b[0;34m\u001b[0m\u001b[0m\n\u001b[1;32m      4\u001b[0m     \u001b[0;32mexcept\u001b[0m \u001b[0mZeroDivisionError\u001b[0m \u001b[0;32mas\u001b[0m \u001b[0me\u001b[0m\u001b[0;34m:\u001b[0m\u001b[0;34m\u001b[0m\u001b[0;34m\u001b[0m\u001b[0m\n\u001b[0;32m----> 5\u001b[0;31m         \u001b[0;32mraise\u001b[0m \u001b[0mValueError\u001b[0m\u001b[0;34m(\u001b[0m\u001b[0;34m'Invalid inputs'\u001b[0m\u001b[0;34m)\u001b[0m \u001b[0;32mfrom\u001b[0m \u001b[0me\u001b[0m\u001b[0;34m\u001b[0m\u001b[0;34m\u001b[0m\u001b[0m\n\u001b[0m\u001b[1;32m      6\u001b[0m \u001b[0;34m\u001b[0m\u001b[0m\n\u001b[1;32m      7\u001b[0m \u001b[0mdivide\u001b[0m\u001b[0;34m(\u001b[0m\u001b[0;36m3\u001b[0m\u001b[0;34m,\u001b[0m\u001b[0;36m0\u001b[0m\u001b[0;34m)\u001b[0m\u001b[0;34m\u001b[0m\u001b[0;34m\u001b[0m\u001b[0m\n",
      "\u001b[0;31mValueError\u001b[0m: Invalid inputs"
     ]
    }
   ],
   "source": [
    "def divide(a,b):\n",
    "    try:\n",
    "        return a/b\n",
    "    except ZeroDivisionError as e:\n",
    "        raise ValueError('Invalid inputs') from e\n",
    "\n",
    "divide(3,0)"
   ]
  },
  {
   "cell_type": "markdown",
   "metadata": {},
   "source": [
    "###  Item 15"
   ]
  },
  {
   "cell_type": "code",
   "execution_count": 153,
   "metadata": {},
   "outputs": [
    {
     "name": "stdout",
     "output_type": "stream",
     "text": [
      "works\n"
     ]
    }
   ],
   "source": [
    "def scoping_test(value):\n",
    "    var_under_test = False\n",
    "    var_under_test_2 = False\n",
    "    \n",
    "    def helper():\n",
    "        nonlocal var_under_test_2\n",
    "        if value > 5:\n",
    "            # This is not the same variable as the one outside of the scope\n",
    "            var_under_test = True \n",
    "            # This works since we declared this variable to be non-local\n",
    "            var_under_test_2 = True \n",
    "    helper()\n",
    "    return var_under_test, var_under_test_2\n",
    "\n",
    "\n",
    "assert scoping_test(6) == (False, True)\n",
    "print (\"works\")"
   ]
  },
  {
   "cell_type": "code",
   "execution_count": 154,
   "metadata": {},
   "outputs": [
    {
     "name": "stdout",
     "output_type": "stream",
     "text": [
      "works\n"
     ]
    }
   ],
   "source": [
    "# python 2 version\n",
    "def scoping_test(value):\n",
    "    var_under_test = False\n",
    "    var_under_test_2 = [False]\n",
    "    \n",
    "    def helper():\n",
    "        var_under_test_2\n",
    "        if value > 5:\n",
    "            # This is not the same variable as the one outside of the scope\n",
    "            # This is considered a new variable\n",
    "            var_under_test = True \n",
    "            # This works since we are doing an index operation which requires the original variable to be found\n",
    "            # This is now linked to the variable in the enclosing scope\n",
    "            var_under_test_2[0] = True \n",
    "    helper()\n",
    "    return var_under_test, var_under_test_2[0]\n",
    "\n",
    "\n",
    "assert scoping_test(6) == (False, True)\n",
    "print (\"works\")"
   ]
  },
  {
   "cell_type": "markdown",
   "metadata": {},
   "source": [
    "###  Item 16"
   ]
  },
  {
   "cell_type": "code",
   "execution_count": 157,
   "metadata": {},
   "outputs": [
    {
     "name": "stdout",
     "output_type": "stream",
     "text": [
      "[0, 4, 7, 9, 14, 23, 26]\n"
     ]
    }
   ],
   "source": [
    "def index_words(text):\n",
    "    if text:\n",
    "        yield 0\n",
    "    for i, c in enumerate(text):\n",
    "        if c == ' ':\n",
    "            yield i\n",
    "\n",
    "print(list(index_words(\"this is a good sentence to index\")))"
   ]
  },
  {
   "cell_type": "markdown",
   "metadata": {},
   "source": [
    "###  Item 17\n"
   ]
  },
  {
   "cell_type": "code",
   "execution_count": 177,
   "metadata": {},
   "outputs": [
    {
     "name": "stdout",
     "output_type": "stream",
     "text": [
      "[1, 2, 3, 4]\n",
      "[]\n",
      "[1, 2, 3, 4]\n",
      "[]\n",
      "wrong time passed to function\n",
      "[0.1, 0.2, 0.3, 0.4]\n",
      "[0.1, 0.2, 0.3, 0.4]\n"
     ]
    }
   ],
   "source": [
    "# exhausting iterators\n",
    "\n",
    "def supply_data():\n",
    "    data = [1,2,3,4]\n",
    "    for i in data:\n",
    "        yield i\n",
    "\n",
    "it = supply_data()        \n",
    "        \n",
    "print(list(it))\n",
    "print(list(it)) # no results since the iterator has been exhausted\n",
    "\n",
    "# to get around this issue, create a new iterator each time:\n",
    "print(list(supply_data()))\n",
    "\n",
    "# however, this does not work for a function which takes in an \n",
    "# iterator and then iterates multiple times over it\n",
    "\n",
    "def use_data(data):\n",
    "    total = sum(data) # usage exhausts an iterator\n",
    "    avg = [x/total for x in data] # data has been exhausted and so is empty\n",
    "    print(avg)\n",
    "\n",
    "it = supply_data()\n",
    "use_data(it) # incorrecct results since use_data is incorrect\n",
    "\n",
    "\n",
    "def use_data_defensive(data):\n",
    "    if iter(data) is iter(data): # Check that a new iterator is created each time\n",
    "        raise RuntimeError(\"Expects containers not iterators\")\n",
    "        \n",
    "    total = sum(data) # calls the __iter__ method and gets a new iterator\n",
    "    avg = [x/total for x in data]# calls the __iter__ method on data\n",
    "    print(avg)\n",
    "\n",
    "try:\n",
    "    use_data_defensive(it) # fails with exception\n",
    "except RuntimeError as e:\n",
    "    print(\"wrong time passed to function\")\n",
    "    \n",
    "    \n",
    "class SupplyData(object):\n",
    "    def __init__(self):\n",
    "        self.list = [1,2,3,4]       \n",
    "    \n",
    "    def __iter__(self):\n",
    "        yield from self.list\n",
    "        \n",
    "\n",
    "use_data_defensive(SupplyData())\n",
    "\n",
    "supply = SupplyData()\n",
    "use_data_defensive(SupplyData())"
   ]
  },
  {
   "cell_type": "markdown",
   "metadata": {},
   "source": [
    "###  Item 18"
   ]
  },
  {
   "cell_type": "code",
   "execution_count": 183,
   "metadata": {},
   "outputs": [
    {
     "name": "stdout",
     "output_type": "stream",
     "text": [
      "1 2 [3, 5]\n",
      "<class 'tuple'>\n",
      "1 2 [5]\n",
      "<class 'tuple'>\n",
      "1 2 []\n",
      "<class 'tuple'>\n",
      "1 2 [5, 6, 7]\n",
      "<class 'tuple'>\n",
      "1 2 [10, 12, 14]\n",
      "<class 'tuple'>\n"
     ]
    }
   ],
   "source": [
    "def my_func(req_arg1, req_arg2, *optional_args):\n",
    "    print(req_arg1, req_arg2, [x for x in optional_args])\n",
    "    print (type(optional_args)) # it always gets expanded to a tuple\n",
    "    \n",
    "my_func(1,2,3,5)\n",
    "my_func(1,2,5)\n",
    "my_func(1,2)\n",
    "\n",
    "# Use * args for optional args\n",
    "\n",
    "optional_args = [5,6,7]\n",
    "gen_args = (x*2 for x in optional_args)\n",
    "my_func(1,2, *optional_args)\n",
    "my_func(1,2, *gen_args) # note that this expands the list by using the generator\n"
   ]
  },
  {
   "cell_type": "code",
   "execution_count": 187,
   "metadata": {},
   "outputs": [
    {
     "name": "stdout",
     "output_type": "stream",
     "text": [
      "1\n",
      "2\n",
      "3\n",
      "5\n"
     ]
    }
   ],
   "source": [
    "class MyGenerator(object):\n",
    "    def __init__(self):\n",
    "        self.list = [1,2,3,5]\n",
    "        \n",
    "    def __iter__(self):\n",
    "        yield from self.list\n",
    "        \n",
    "for x in MyGenerator():\n",
    "    print(x)"
   ]
  },
  {
   "cell_type": "code",
   "execution_count": 26,
   "metadata": {},
   "outputs": [
    {
     "name": "stdout",
     "output_type": "stream",
     "text": [
      "[0, 1, 2, 3, 4, 5, 6, 7, 8, 9, 10, 11, 12, 13, 14, 15, 16, 17, 18, 19, 20, 21, 22, 23, 24, 25, 26, 27, 28, 29, 30, 31, 32, 33, 34, 35, 36, 37, 38, 39, 40, 41, 42, 43, 44, 45, 46, 47, 48, 49, 50, 51, 52, 53, 54, 55, 56, 57, 58, 59, 60, 61, 62, 63, 64, 65, 66, 67, 68, 69, 70, 71, 72, 73, 74, 75, 76, 77, 78, 79, 80, 81, 82, 83, 84, 85, 86, 87, 88, 89, 90, 91, 92, 93, 94, 95, 96, 97, 98, 99]\n",
      "<class 'function'>\n",
      "[0, 1, 2, 3, 4, 5, 6, 7, 8, 9, 10, 11, 12, 13, 14, 15, 16, 17, 18, 19, 20, 21, 22, 23, 24, 25, 26, 27, 28, 29]\n"
     ]
    }
   ],
   "source": [
    "# iterable that does not use yield\n",
    "class MyCollection(object):\n",
    "    def __init__(self):\n",
    "        self.list = range(100)\n",
    "        self.current_index = 0\n",
    "        \n",
    "    def __iter__(self):\n",
    "        return self\n",
    "    \n",
    "    def __next__(self):\n",
    "        if self.current_index < 100:            \n",
    "            result =  self.list[self.current_index]\n",
    "            self.current_index = self.current_index + 1\n",
    "            return result\n",
    "        else:\n",
    "            raise StopIteration\n",
    "\n",
    "# Generator function\n",
    "# when called, because of the yield statement, this returns\n",
    "# a generator which automatically raises StopIteration when\n",
    "# the function completes\n",
    "\n",
    "# Generators are like continuations. State is saved each time \n",
    "# yield is called, and it resumes once the method is called again\n",
    "def genFunc():\n",
    "    list = range(100)\n",
    "    for i in range(30):\n",
    "        yield list[i]\n",
    "            \n",
    "# iterable that uses a generator\n",
    "# Generators are simple functions or written as generator expressions\n",
    "\n",
    "print([x for x in MyCollection()])\n",
    "\n",
    "# how does a generator work ?\n",
    "print(type(genFunc))\n",
    "print([x for x in genFunc()])\n",
    "\n"
   ]
  },
  {
   "cell_type": "markdown",
   "metadata": {},
   "source": [
    "###  Item 19\n"
   ]
  },
  {
   "cell_type": "code",
   "execution_count": 29,
   "metadata": {},
   "outputs": [
    {
     "name": "stdout",
     "output_type": "stream",
     "text": [
      "first func\n",
      "second func\n",
      "second func\n"
     ]
    },
    {
     "data": {
      "text/plain": [
       "16"
      ]
     },
     "execution_count": 29,
     "metadata": {},
     "output_type": "execute_result"
    }
   ],
   "source": [
    "# function definition override\n",
    "def foo(arg_a, arg_b):\n",
    "    print (\"first func\")\n",
    "    return arg_a * arg_b\n",
    "\n",
    "foo(arg_a=4, arg_b=4)\n",
    "\n",
    "# Overrides the definition above\n",
    "def foo(arg_a, arg_b):\n",
    "    print (\"second func\")\n",
    "    return arg_a * arg_b\n",
    "\n",
    "foo(arg_a=4, arg_b=4)\n",
    "foo(arg_a=4, arg_b=4)"
   ]
  },
  {
   "cell_type": "code",
   "execution_count": 33,
   "metadata": {},
   "outputs": [
    {
     "name": "stdout",
     "output_type": "stream",
     "text": [
      "16\n",
      "16\n",
      "48\n"
     ]
    }
   ],
   "source": [
    "def foo(arg_a, arg_b):\n",
    "    return arg_a * arg_b\n",
    "\n",
    "# foo can be modified to look like foo2 without breaking compatibility\n",
    "def foo2(arg_a, arg_b, multiplier=1):\n",
    "    return arg_a * arg_b * multiplier\n",
    "\n",
    "print(foo(arg_a=4, arg_b=4))\n",
    "print(foo2(arg_a=4, arg_b=4))\n",
    "print(foo2(arg_a=4, arg_b=4, multiplier=3))"
   ]
  },
  {
   "cell_type": "markdown",
   "metadata": {},
   "source": [
    "### Item 20"
   ]
  },
  {
   "cell_type": "code",
   "execution_count": 36,
   "metadata": {},
   "outputs": [
    {
     "name": "stdout",
     "output_type": "stream",
     "text": [
      "2020-05-06 07:48:26.563940\n",
      "2020-05-06 07:48:26.563940\n"
     ]
    }
   ],
   "source": [
    "# default arguments are only evaluated once when module is loaded\n",
    "from datetime import datetime\n",
    "from time import sleep\n",
    "\n",
    "def def_args(time=datetime.now()):\n",
    "    print(time)\n",
    "\n",
    "def_args()\n",
    "sleep(0.4)\n",
    "def_args()\n"
   ]
  },
  {
   "cell_type": "code",
   "execution_count": 41,
   "metadata": {},
   "outputs": [
    {
     "name": "stdout",
     "output_type": "stream",
     "text": [
      "{'oops': 'values'}\n",
      "{'oops': 'values'}\n",
      "{'oops': 'values_2'}\n",
      "{}\n"
     ]
    }
   ],
   "source": [
    "# default arguments are evaluated once\n",
    "# they are effectively static objects\n",
    "# if they escape the function scope, all callers share the same object\n",
    "\n",
    "def def_args_scope(default={}):\n",
    "    if False:\n",
    "        return {'good' : 'value'}\n",
    "    else:\n",
    "        return default\n",
    "\n",
    "\n",
    "caller_1 = def_args_scope()\n",
    "caller_2 = def_args_scope()\n",
    "\n",
    "caller_1['oops'] = \"values\"\n",
    "\n",
    "print(caller_1)\n",
    "print(caller_2) # BAD: Caller 2 gets the updated value !!\n",
    "\n",
    "\n",
    "# fix is to take a None value\n",
    "def def_args_scope_fixed(default=None):\n",
    "    if False:\n",
    "        return {'good' : 'value'}\n",
    "    else:\n",
    "        return default or {}\n",
    "\n",
    "caller_1 = def_args_scope_fixed()\n",
    "caller_2 = def_args_scope_fixed()\n",
    "\n",
    "caller_1['oops'] = \"values_2\"\n",
    "\n",
    "print(caller_1)\n",
    "print(caller_2) \n"
   ]
  },
  {
   "cell_type": "code",
   "execution_count": 44,
   "metadata": {},
   "outputs": [
    {
     "name": "stdout",
     "output_type": "stream",
     "text": [
      "Help on function foo in module __main__:\n",
      "\n",
      "foo(arg_1)\n",
      "    @param arg_1: Is arg_1 \n",
      "    @return: returns an arg_1\n",
      "\n"
     ]
    }
   ],
   "source": [
    "# docstrings\n",
    "\n",
    "def foo(arg_1):\n",
    "    \"\"\"\n",
    "    @param arg_1: Is arg_1 \n",
    "    @return: returns an arg_1\n",
    "    \"\"\"\n",
    "    return arg_1\n",
    "\n",
    "help(foo)"
   ]
  },
  {
   "cell_type": "markdown",
   "metadata": {},
   "source": [
    "### Item 21"
   ]
  },
  {
   "cell_type": "code",
   "execution_count": 47,
   "metadata": {},
   "outputs": [
    {
     "ename": "TypeError",
     "evalue": "keyword_only() takes 1 positional argument but 3 were given",
     "output_type": "error",
     "traceback": [
      "\u001b[0;31m---------------------------------------------------------------------------\u001b[0m",
      "\u001b[0;31mTypeError\u001b[0m                                 Traceback (most recent call last)",
      "\u001b[0;32m<ipython-input-47-df8536c3e8a3>\u001b[0m in \u001b[0;36m<module>\u001b[0;34m()\u001b[0m\n\u001b[1;32m      7\u001b[0m \u001b[0;34m\u001b[0m\u001b[0m\n\u001b[1;32m      8\u001b[0m \u001b[0mkeyword_only\u001b[0m\u001b[0;34m(\u001b[0m\u001b[0;36m1\u001b[0m\u001b[0;34m,\u001b[0m \u001b[0marg_2\u001b[0m\u001b[0;34m=\u001b[0m\u001b[0;36m3\u001b[0m\u001b[0;34m,\u001b[0m \u001b[0marg_3\u001b[0m\u001b[0;34m=\u001b[0m\u001b[0;36m2\u001b[0m\u001b[0;34m)\u001b[0m\u001b[0;34m\u001b[0m\u001b[0;34m\u001b[0m\u001b[0m\n\u001b[0;32m----> 9\u001b[0;31m \u001b[0mkeyword_only\u001b[0m\u001b[0;34m(\u001b[0m\u001b[0;36m1\u001b[0m\u001b[0;34m,\u001b[0m \u001b[0;36m3\u001b[0m\u001b[0;34m,\u001b[0m \u001b[0;36m2\u001b[0m\u001b[0;34m)\u001b[0m\u001b[0;34m\u001b[0m\u001b[0;34m\u001b[0m\u001b[0m\n\u001b[0m",
      "\u001b[0;31mTypeError\u001b[0m: keyword_only() takes 1 positional argument but 3 were given"
     ]
    }
   ],
   "source": [
    "# optional arguments can be keyword only arguments\n",
    "\n",
    "# Anything after the * is a keyword only argument\n",
    "# Anything before the * is positional (optionally keyword)\n",
    "def keyword_only(arg_1, *, arg_2, arg_3):\n",
    "    pass\n",
    "\n",
    "keyword_only(1, arg_2=3, arg_3=2)\n",
    "keyword_only(1, 3, 2)\n"
   ]
  },
  {
   "cell_type": "markdown",
   "metadata": {},
   "source": [
    "### Item 22"
   ]
  },
  {
   "cell_type": "code",
   "execution_count": 48,
   "metadata": {},
   "outputs": [
    {
     "name": "stdout",
     "output_type": "stream",
     "text": [
      "Help on class Grade in module __main__:\n",
      "\n",
      "class Grade(builtins.tuple)\n",
      " |  Grade(score, weight)\n",
      " |  \n",
      " |  Grade(score, weight)\n",
      " |  \n",
      " |  Method resolution order:\n",
      " |      Grade\n",
      " |      builtins.tuple\n",
      " |      builtins.object\n",
      " |  \n",
      " |  Methods defined here:\n",
      " |  \n",
      " |  __getnewargs__(self)\n",
      " |      Return self as a plain tuple.  Used by copy and pickle.\n",
      " |  \n",
      " |  __repr__(self)\n",
      " |      Return a nicely formatted representation string\n",
      " |  \n",
      " |  _asdict(self)\n",
      " |      Return a new OrderedDict which maps field names to their values.\n",
      " |  \n",
      " |  _replace(_self, **kwds)\n",
      " |      Return a new Grade object replacing specified fields with new values\n",
      " |  \n",
      " |  ----------------------------------------------------------------------\n",
      " |  Class methods defined here:\n",
      " |  \n",
      " |  _make(iterable) from builtins.type\n",
      " |      Make a new Grade object from a sequence or iterable\n",
      " |  \n",
      " |  ----------------------------------------------------------------------\n",
      " |  Static methods defined here:\n",
      " |  \n",
      " |  __new__(_cls, score, weight)\n",
      " |      Create new instance of Grade(score, weight)\n",
      " |  \n",
      " |  ----------------------------------------------------------------------\n",
      " |  Data descriptors defined here:\n",
      " |  \n",
      " |  score\n",
      " |      Alias for field number 0\n",
      " |  \n",
      " |  weight\n",
      " |      Alias for field number 1\n",
      " |  \n",
      " |  ----------------------------------------------------------------------\n",
      " |  Data and other attributes defined here:\n",
      " |  \n",
      " |  _field_defaults = {}\n",
      " |  \n",
      " |  _fields = ('score', 'weight')\n",
      " |  \n",
      " |  _fields_defaults = {}\n",
      " |  \n",
      " |  ----------------------------------------------------------------------\n",
      " |  Methods inherited from builtins.tuple:\n",
      " |  \n",
      " |  __add__(self, value, /)\n",
      " |      Return self+value.\n",
      " |  \n",
      " |  __contains__(self, key, /)\n",
      " |      Return key in self.\n",
      " |  \n",
      " |  __eq__(self, value, /)\n",
      " |      Return self==value.\n",
      " |  \n",
      " |  __ge__(self, value, /)\n",
      " |      Return self>=value.\n",
      " |  \n",
      " |  __getattribute__(self, name, /)\n",
      " |      Return getattr(self, name).\n",
      " |  \n",
      " |  __getitem__(self, key, /)\n",
      " |      Return self[key].\n",
      " |  \n",
      " |  __gt__(self, value, /)\n",
      " |      Return self>value.\n",
      " |  \n",
      " |  __hash__(self, /)\n",
      " |      Return hash(self).\n",
      " |  \n",
      " |  __iter__(self, /)\n",
      " |      Implement iter(self).\n",
      " |  \n",
      " |  __le__(self, value, /)\n",
      " |      Return self<=value.\n",
      " |  \n",
      " |  __len__(self, /)\n",
      " |      Return len(self).\n",
      " |  \n",
      " |  __lt__(self, value, /)\n",
      " |      Return self<value.\n",
      " |  \n",
      " |  __mul__(self, value, /)\n",
      " |      Return self*value.\n",
      " |  \n",
      " |  __ne__(self, value, /)\n",
      " |      Return self!=value.\n",
      " |  \n",
      " |  __rmul__(self, value, /)\n",
      " |      Return value*self.\n",
      " |  \n",
      " |  count(self, value, /)\n",
      " |      Return number of occurrences of value.\n",
      " |  \n",
      " |  index(self, value, start=0, stop=9223372036854775807, /)\n",
      " |      Return first index of value.\n",
      " |      \n",
      " |      Raises ValueError if the value is not present.\n",
      "\n"
     ]
    }
   ],
   "source": [
    "from collections import namedtuple\n",
    "\n",
    "a = namedtuple('Grade', ('score', 'weight'))\n",
    "help(a)"
   ]
  },
  {
   "cell_type": "code",
   "execution_count": 55,
   "metadata": {},
   "outputs": [
    {
     "name": "stdout",
     "output_type": "stream",
     "text": [
      "75.0\n",
      "100.0\n"
     ]
    }
   ],
   "source": [
    "class GradeBook(object):\n",
    "    \n",
    "    def __init__(self):\n",
    "        self.scores = []\n",
    "\n",
    "    def add_score(self, score):\n",
    "        self.scores.append(score)\n",
    "        \n",
    "    def avg_score(self, subject):\n",
    "        sub_scores = [x.points for x in self.scores if x.subject is subject]\n",
    "        return sum(sub_scores)/len(sub_scores)        \n",
    "        \n",
    "Score = namedtuple('Score', ['name', 'subject', 'points', 'weight'])\n",
    "\n",
    "grade_book = GradeBook()\n",
    "grade_book.add_score(Score(name='rushi', subject='math', points=100, weight=1))\n",
    "grade_book.add_score(Score(name='rushi2', subject='math', points=50, weight=1))\n",
    "grade_book.add_score(Score(name='rushi3', subject='bio', points=100, weight=1))\n",
    "grade_book.add_score(Score(name='rushi4', subject='bio', points=100, weight=1))\n",
    "\n",
    "print(grade_book.avg_score('math'))\n",
    "print(grade_book.avg_score('bio'))"
   ]
  },
  {
   "cell_type": "markdown",
   "metadata": {},
   "source": [
    "### Item 23"
   ]
  },
  {
   "cell_type": "code",
   "execution_count": 66,
   "metadata": {},
   "outputs": [
    {
     "name": "stdout",
     "output_type": "stream",
     "text": [
      "Added a missing key with value 3\n",
      "3\n",
      "Total number of missed keys 1 1\n",
      "4\n",
      "Total number of missed keys 2 2\n",
      "4\n",
      "Total number of missed keys 3 3\n",
      "4\n",
      "===============\n",
      "Total number of missed keys 1\n",
      "6\n",
      "Total number of missed keys 2\n",
      "6\n",
      "Total number of missed keys 3\n",
      "6\n"
     ]
    }
   ],
   "source": [
    "from collections import defaultdict\n",
    "\n",
    "def logging_factory():\n",
    "    print(\"Added a missing key with value 3\")\n",
    "    return 3\n",
    "\n",
    "# default dict takes in a factory\n",
    "a = defaultdict(logging_factory)\n",
    "print(a['new_key'])\n",
    "\n",
    "\n",
    "# use a different factory that keeps track of the number of missing keys\n",
    "MISSING_KEYS\n",
    "def foo():    \n",
    "    missing_keys = 0\n",
    "    def missing_factory():\n",
    "        #Note: This can also be done by using keyword 'global' and using a module level variable\n",
    "        nonlocal missing_keys \n",
    "        global MISSING_KEYS\n",
    "        missing_keys = missing_keys + 1\n",
    "        MISSING_KEYS = MISSING_KEYS + 1\n",
    "        print (\"Total number of missed keys\", missing_keys, MISSING_KEYS)\n",
    "        return 4\n",
    "\n",
    "    a = defaultdict(missing_factory)\n",
    "    print(a[\"new_key_1\"])\n",
    "    print(a[\"new_key_2\"])\n",
    "    print(a[\"new_key_3\"])\n",
    "\n",
    "foo()\n",
    "\n",
    "# non-local keyword cannot reference the module level variables\n",
    "# so earlier in this example, we scoped within the foo function giving access to nonlocal\n",
    "# variables\n",
    "# we can just create a functor\n",
    "print (\"===============\")\n",
    "\n",
    "class MissingFactory(object):\n",
    "    def __init__(self):\n",
    "        self.missing_count = 0\n",
    "        \n",
    "    def __call__(self):\n",
    "        self.missing_count = self.missing_count + 1\n",
    "        print (\"Total number of missed keys\", self.missing_count)\n",
    "        return 6\n",
    "    \n",
    "a = defaultdict(MissingFactory())\n",
    "print(a[\"new_key_1\"])\n",
    "print(a[\"new_key_2\"])\n",
    "print(a[\"new_key_3\"])\n"
   ]
  },
  {
   "cell_type": "markdown",
   "metadata": {},
   "source": [
    "\n",
    "###  Item 24 ( DID NOT FULLY UNDERSTANT CLASSMETHODS)"
   ]
  },
  {
   "cell_type": "code",
   "execution_count": null,
   "metadata": {},
   "outputs": [],
   "source": []
  },
  {
   "cell_type": "code",
   "execution_count": 88,
   "metadata": {},
   "outputs": [
    {
     "name": "stdout",
     "output_type": "stream",
     "text": [
      "SUM 0\n",
      "SUM 1\n",
      "SUM 3SUM 6\n",
      "SUM 10\n",
      "\n"
     ]
    },
    {
     "data": {
      "text/plain": [
       "10"
      ]
     },
     "execution_count": 88,
     "metadata": {},
     "output_type": "execute_result"
    }
   ],
   "source": [
    "from threading import Thread # Note: thread module has been deprecated\n",
    "\n",
    "# generic input\n",
    "class InputData(object):\n",
    "    def read(self):\n",
    "        raise NotImplementedError        \n",
    "        \n",
    "# specific input\n",
    "class ListInputData(InputData):\n",
    "    def __init__(self, upper_limit):\n",
    "        self.values = range(upper_limit + 1)\n",
    "        \n",
    "    def __iter__(self):\n",
    "        yield from self.values\n",
    "\n",
    "# generic worker\n",
    "class Worker(object):\n",
    "    def map(self):\n",
    "        raise NotImplementedError\n",
    "        \n",
    "    def reduce(self, other):\n",
    "        raise NotImplementedError\n",
    "        \n",
    "        \n",
    "# specific worker\n",
    "class MyWorker(Worker):\n",
    "    \n",
    "    def __init__(self, values):\n",
    "        self.values = values        \n",
    "        self.sum = 0\n",
    "        \n",
    "    def map(self):        \n",
    "        self.sum = sum(self.values)\n",
    "        print(\"SUM\", self.sum)\n",
    "    \n",
    "    def reduce(self, other):\n",
    "        self.sum = self.sum + other.sum\n",
    "    \n",
    "        \n",
    "# Code to tie it all together \n",
    "def create_workers():\n",
    "    workers = []\n",
    "    for i in range(5):\n",
    "        # Problem here is that we are constructing the specific classes here\n",
    "        # This makes this create_workers function no longer be generic\n",
    "        workers.append(MyWorker(ListInputData(i)))\n",
    "    return workers\n",
    "        \n",
    "def execute(workers):\n",
    "    threads = [Thread(target=w.map) for w in workers]\n",
    "    for thread in threads:\n",
    "        thread.start()\n",
    "    for thread in threads:\n",
    "        thread.join()\n",
    "    \n",
    "    first, rest = workers[0], workers[1:]\n",
    "    for worker in rest:\n",
    "        first.reduce(worker)\n",
    "    return worker.sum\n",
    "\n",
    "execute(create_workers())"
   ]
  },
  {
   "cell_type": "code",
   "execution_count": 93,
   "metadata": {},
   "outputs": [
    {
     "name": "stdout",
     "output_type": "stream",
     "text": [
      "SUMSUM 1\n",
      " 0\n",
      "SUM 3\n",
      "SUM 6\n",
      "SUM 10\n"
     ]
    },
    {
     "data": {
      "text/plain": [
       "10"
      ]
     },
     "execution_count": 93,
     "metadata": {},
     "output_type": "execute_result"
    }
   ],
   "source": [
    "# Make the example above work with generic functions which tie the workers\n",
    "# with the inputs\n",
    "\n",
    "from threading import Thread # Note: thread module has been deprecated\n",
    "\n",
    "# generic input\n",
    "class InputData(object):\n",
    "    def read(self):\n",
    "        raise NotImplementedError\n",
    "\n",
    "    @classmethod\n",
    "    def generate_work(cls, config):\n",
    "        return NotImplementedError\n",
    "        \n",
    "# specific input\n",
    "class ListInputData(InputData):\n",
    "    def __init__(self, upper_limit):\n",
    "        self.values = range(upper_limit + 1)\n",
    "        \n",
    "    def __iter__(self):\n",
    "        yield from self.values\n",
    "        \n",
    "    @classmethod\n",
    "    def generate_work(cls, config):\n",
    "        return ListInputData(config)\n",
    "\n",
    "# generic worker\n",
    "class GenericWorker(object):\n",
    "    def map(self):\n",
    "        raise NotImplementedError\n",
    "        \n",
    "    def reduce(self, other):\n",
    "        raise NotImplementedError\n",
    "   \n",
    "    @classmethod\n",
    "    def create_workers(self, worker_class, input_class):        \n",
    "        workers = []\n",
    "        for i in range(5):\n",
    "            input_config = i\n",
    "            workers.append(worker_class(input_class.generate_work(input_config)))\n",
    "        return workers\n",
    "        \n",
    "# specific worker\n",
    "class MyWorker(Worker):\n",
    "    \n",
    "    def __init__(self, values):\n",
    "        self.values = values        \n",
    "        self.sum = 0\n",
    "        \n",
    "    def map(self):        \n",
    "        self.sum = sum(self.values)\n",
    "        print(\"SUM\", self.sum)\n",
    "    \n",
    "    def reduce(self, other):\n",
    "        self.sum = self.sum + other.sum        \n",
    "    \n",
    "def execute(workers):\n",
    "    threads = [Thread(target=w.map) for w in workers]\n",
    "    for thread in threads:\n",
    "        thread.start()\n",
    "    for thread in threads:\n",
    "        thread.join()\n",
    "    \n",
    "    first, rest = workers[0], workers[1:]\n",
    "    for worker in rest:\n",
    "        first.reduce(worker)\n",
    "    return worker.sum\n",
    "\n",
    "execute(GenericWorker.create_workers(MyWorker, ListInputData))"
   ]
  },
  {
   "cell_type": "markdown",
   "metadata": {},
   "source": [
    "###  Item 25"
   ]
  },
  {
   "cell_type": "code",
   "execution_count": 133,
   "metadata": {
    "scrolled": true
   },
   "outputs": [
    {
     "name": "stdout",
     "output_type": "stream",
     "text": [
      "A constructor\n",
      "B constructor\n",
      "ab\n",
      "A constructor\n",
      "B constructor\n",
      "ab\n",
      "A constructor\n",
      "B constructor\n",
      "ab\n",
      "A constructor\n",
      "aba\n",
      "==============\n",
      "A constructor\n",
      "a\n",
      "[<class '__main__.GoodChild'>, <class '__main__.AddsA'>, <class '__main__.AddsB'>, <class 'object'>]\n",
      "B constructor\n",
      "b\n",
      "[<class '__main__.GoodChild2'>, <class '__main__.AddsB'>, <class '__main__.AddsA'>, <class 'object'>]\n"
     ]
    },
    {
     "data": {
      "text/plain": [
       "<__main__.GoodChild2 at 0x7f02dc28ef90>"
      ]
     },
     "execution_count": 133,
     "metadata": {},
     "output_type": "execute_result"
    }
   ],
   "source": [
    "class AddsA(object):\n",
    "    def __init__(self, value):\n",
    "        print(\"A constructor\")\n",
    "        self.value = value + 'a'\n",
    "\n",
    "class AddsB(object):\n",
    "    def __init__(self, value):\n",
    "        print(\"B constructor\")\n",
    "        self.value = value + 'b'\n",
    "        \n",
    "class BadChild1(AddsA, AddsB):\n",
    "    def __init__(self, value):\n",
    "        self.value = value\n",
    "        AddsA.__init__(self, self.value)\n",
    "        AddsB.__init__(self, self.value)\n",
    "        print (self.value)\n",
    "\n",
    "# order is changed in inheritance but the initialization order is the same\n",
    "class BadChild2(AddsB, AddsA):\n",
    "    def __init__(self, value):\n",
    "        self.value = value\n",
    "        AddsA.__init__(self, self.value)\n",
    "        AddsB.__init__(self, self.value)\n",
    "        print (self.value)\n",
    "        \n",
    "# diamond problem child\n",
    "# initializes the AddsA class twice\n",
    "class BadChild3(BadChild2, AddsA):\n",
    "    def __init__(self, value):\n",
    "        self.value = value\n",
    "        BadChild2.__init__(self, self.value)\n",
    "        AddsA.__init__(self, self.value)\n",
    "        print (self.value)\n",
    "\n",
    "BadChild1(\"\") # Manually calls init\n",
    "BadChild2(\"\") # Same output as that of BadChild1 though inheritance order is different\n",
    "BadChild3(\"\") # Calls Addsa twice\n",
    "\n",
    "print(\"==============\")\n",
    "class GoodChild(AddsA, AddsB):\n",
    "    def __init__(self, value):\n",
    "        self.value = value\n",
    "        super(GoodChild, self).__init__(self.value)\n",
    "        print(self.value)\n",
    "        print(GoodChild.mro())\n",
    "\n",
    "class GoodChild2(AddsB, AddsA):\n",
    "    def __init__(self, value):\n",
    "        self.value = value\n",
    "        super(GoodChild2, self).__init__(self.value)\n",
    "        print(self.value)\n",
    "        print(GoodChild2.mro())\n",
    "                 \n",
    "GoodChild(\"\")      \n",
    "GoodChild2(\"\")\n",
    "\n",
    "\n",
    "# Long story short, multiple inheritance is bad; try to stay away"
   ]
  },
  {
   "cell_type": "markdown",
   "metadata": {},
   "source": [
    "###  Item 26\n"
   ]
  },
  {
   "cell_type": "code",
   "execution_count": 142,
   "metadata": {},
   "outputs": [
    {
     "name": "stdout",
     "output_type": "stream",
     "text": [
      "True\n",
      "False\n"
     ]
    }
   ],
   "source": [
    "# does not provide a __init__ method\n",
    "class HasFooMixin(object):\n",
    "        \n",
    "    def has_foo(self):\n",
    "        return hasattr(self, 'foo')\n",
    "\n",
    "class A(HasFooMixin):\n",
    "    def __init__(self):\n",
    "        self.foo = 4\n",
    "\n",
    "class B(HasFooMixin):\n",
    "    def __init__(self):\n",
    "        self.bar = 4\n",
    "\n",
    "print(A().has_foo())\n",
    "print(B().has_foo())"
   ]
  },
  {
   "cell_type": "code",
   "execution_count": 139,
   "metadata": {},
   "outputs": [
    {
     "data": {
      "text/plain": [
       "True"
      ]
     },
     "execution_count": 139,
     "metadata": {},
     "output_type": "execute_result"
    }
   ],
   "source": [
    "class Foo(object):\n",
    "    def __init__(self):\n",
    "        self.foo = 3\n",
    "dir(Foo)\n",
    "hasattr(Foo(), 'foo')"
   ]
  },
  {
   "cell_type": "markdown",
   "metadata": {},
   "source": [
    "###  Item 27\n",
    "\n"
   ]
  },
  {
   "cell_type": "code",
   "execution_count": 149,
   "metadata": {},
   "outputs": [
    {
     "name": "stdout",
     "output_type": "stream",
     "text": [
      "3\n",
      "4\n",
      "Fails to access C\n",
      "6\n"
     ]
    },
    {
     "data": {
      "text/plain": [
       "<__main__.B at 0x7f02dc25d090>"
      ]
     },
     "execution_count": 149,
     "metadata": {},
     "output_type": "execute_result"
    }
   ],
   "source": [
    "class A(object):\n",
    "    def __init__(self):\n",
    "        self.A = 3\n",
    "        self._B = 4\n",
    "        self.__C = 6\n",
    "        \n",
    "class B(A):\n",
    "    def __init__(self):\n",
    "        super(B, self).__init__()\n",
    "        print(self.A) # public\n",
    "        print(self._B) # protected\n",
    "        try:\n",
    "            print(self.__C) # fails since it's private\n",
    "        except AttributeError as e:\n",
    "            print (\"Fails to access C\")\n",
    "        print(self._A__C) # Can get around this by using the mangled name\n",
    "\n",
    "B()"
   ]
  },
  {
   "cell_type": "markdown",
   "metadata": {},
   "source": [
    "###  Item 28\n"
   ]
  },
  {
   "cell_type": "code",
   "execution_count": 162,
   "metadata": {},
   "outputs": [
    {
     "name": "stdout",
     "output_type": "stream",
     "text": [
      "4\n",
      "4\n",
      "4\n",
      "[4, 4, 4, 4, 4]\n",
      "40\n"
     ]
    }
   ],
   "source": [
    "from collections.abc import Sequence\n",
    "\n",
    "class MySeq(Sequence):\n",
    "    \n",
    "    def __init__(self):\n",
    "        self.only_value = 4\n",
    "        \n",
    "    def __getitem__(self, index):\n",
    "        if isinstance(index, slice):\n",
    "            # simple slice             \n",
    "            start = index.start if (index.start and index.start >=0 ) else 0\n",
    "            stop = index.stop if (index.stop and index.stop) < self.__len__() else self.__len__()\n",
    "            step = index.step if (index.step and index.step > 0) else 1\n",
    "            \n",
    "            return [self.only_value for _ in range(self.__len__())][start:stop:step]\n",
    "            \n",
    "        elif isinstance(index, int):\n",
    "            return self.only_value\n",
    "        else:\n",
    "            raise ValueError(\"needs an int or a slice\")\n",
    "    \n",
    "    # pretend as though length is larger than it is\n",
    "    def __len__(self):\n",
    "        return 40\n",
    "        \n",
    "seq = MySeq()\n",
    "\n",
    "print(seq[0])\n",
    "print(seq[22])\n",
    "print(seq[23])\n",
    "\n",
    "print (seq[:5])\n",
    "print(len(seq))\n"
   ]
  },
  {
   "cell_type": "markdown",
   "metadata": {},
   "source": [
    "### Item 29\n"
   ]
  },
  {
   "cell_type": "code",
   "execution_count": 165,
   "metadata": {},
   "outputs": [
    {
     "name": "stdout",
     "output_type": "stream",
     "text": [
      "logging when a is accessed\n",
      "4\n",
      "logging when setting a\n",
      "logging when a is accessed\n",
      "5\n"
     ]
    }
   ],
   "source": [
    "class A(object):\n",
    "    def __init__(self):\n",
    "        self._a = 4\n",
    "    \n",
    "    # IMPORTANT: The function name must be different than\n",
    "    # the internal value otherwise the function will be called in a \n",
    "    # recursive loop. _a vs a\n",
    "    @property\n",
    "    def a(self):\n",
    "        print(\"logging when a is accessed\")\n",
    "        return self._a \n",
    "    \n",
    "    # gets called whenever the assignment operator is used\n",
    "    # IMPORTANT: function name is different than variable : _a vs a\n",
    "    # otherwise the line self._a = a if changed to self.a = a will \n",
    "    # cause a loop\n",
    "    @a.setter\n",
    "    def a(self, a):\n",
    "        print(\"logging when setting a\")\n",
    "        self._a = a\n",
    "        \n",
    "obj_a = A()\n",
    "print(obj_a.a)\n",
    "obj_a.a = 5 \n",
    "print(obj_a.a)"
   ]
  },
  {
   "cell_type": "markdown",
   "metadata": {},
   "source": [
    "### Item 30\n"
   ]
  },
  {
   "cell_type": "code",
   "execution_count": 168,
   "metadata": {
    "scrolled": true
   },
   "outputs": [
    {
     "name": "stdout",
     "output_type": "stream",
     "text": [
      "new feature: loggin when setting this variable\n",
      "new feature: logging when accessing this variable\n",
      "5\n"
     ]
    }
   ],
   "source": [
    "\n",
    "# property used for changing behavior of the class to add additional information\n",
    "\n",
    "class A(object):\n",
    "    def __init__(self, a):\n",
    "        self.a = a\n",
    "\n",
    "# prior usage\n",
    "a = A(4)\n",
    "a.a = 5\n",
    "    \n",
    "#class A can be changed to add additional functionality \n",
    "# by refactoring it to use property methods\n",
    "# During real use, class B would be called class 'A'\n",
    "class B(object):\n",
    "    def __init__(self, a):\n",
    "        self._a = a # Variable name change\n",
    "    \n",
    "    @property\n",
    "    def a(self):\n",
    "        print(\"new feature: logging when accessing this variable\")\n",
    "        return self._a\n",
    "    \n",
    "    \n",
    "    @a.setter\n",
    "    def a(self, value):\n",
    "        print(\"new feature: loggin when setting this variable\")\n",
    "        self._a = value\n",
    "\n",
    "# no change at the call site, everything looks the same but \n",
    "# new feature has been added while accessing and setting this variable\n",
    "b = B(4)\n",
    "b.a = 5\n",
    "print(b.a)"
   ]
  },
  {
   "cell_type": "markdown",
   "metadata": {},
   "source": [
    "###  Item 31"
   ]
  },
  {
   "cell_type": "code",
   "execution_count": 184,
   "metadata": {},
   "outputs": [
    {
     "name": "stdout",
     "output_type": "stream",
     "text": [
      "30\n",
      "90\n",
      "20\n",
      "80\n",
      "30\n",
      "90\n"
     ]
    }
   ],
   "source": [
    "from weakref import WeakKeyDictionary\n",
    "\n",
    "# We need some property feature applied to multiple attributes\n",
    "# one way to do it would be to create multiple property getter and \n",
    "# setter methods that do the same thing\n",
    "\n",
    "# a different way is to use a class attribute\n",
    "\n",
    "class CheckedPercentage(object):\n",
    "    \n",
    "    def __init__(self):\n",
    "        # Using a weakrefdictionary since otherwise\n",
    "        # these values would never get collected since\n",
    "        # this class is going to stick around forever.\n",
    "        self.value = WeakKeyDictionary()\n",
    "\n",
    "    def __get__(self, instance, instance_type):\n",
    "        return self.value[instance]\n",
    "    \n",
    "    # will need to store values at an instance level\n",
    "    # otherwise all instances will share the same values\n",
    "    # for class attributes\n",
    "    def __set__(self, instance, value):\n",
    "        if value < 0 or value >= 100:\n",
    "            raise ValueError(\"needs to be between 0 and a 100\")\n",
    "        self.value[instance] = value\n",
    "        \n",
    "class Grades(object):\n",
    "    math_grade = CheckedPercentage()\n",
    "    bio_grade = CheckedPercentage()\n",
    "\n",
    "grades = Grades()\n",
    " # gets translated to Exam.__dict__[\"math_grade\"].__set__(exam, 30)\n",
    "grades.math_grade = 30\n",
    "grades.bio_grade = 90\n",
    "\n",
    "print (grades.math_grade)\n",
    "print (grades.bio_grade)\n",
    "\n",
    "grades_2 = Grades()\n",
    "grades_2.math_grade = 20\n",
    "grades_2.bio_grade = 80\n",
    "\n",
    "print (grades_2.math_grade)\n",
    "print (grades_2.bio_grade)\n",
    "\n",
    " # With a naive approach of a single\n",
    "print (grades.math_grade)\n",
    "print (grades.bio_grade)"
   ]
  },
  {
   "cell_type": "markdown",
   "metadata": {},
   "source": [
    "### Item 32\n"
   ]
  },
  {
   "cell_type": "code",
   "execution_count": 193,
   "metadata": {},
   "outputs": [
    {
     "name": "stdout",
     "output_type": "stream",
     "text": [
      "__getattribute__ called on name: a\n",
      "__getattribute__ called on name: a\n",
      "2\n",
      "__getattribute__ called on name: b\n",
      "getattr called for:  b\n",
      "__getattribute__ called on name: c\n",
      "getattr called for:  c\n",
      "__getattribute__ called on name: a\n",
      "__getattribute__ called on name: b\n",
      "__getattribute__ called on name: c\n",
      "__getattribute__ called on name: d\n",
      "__getattribute__ called on name: f\n",
      "2 0 0 4 9\n",
      "__getattribute__ called on name: f\n",
      "9\n",
      "__getattribute__ called on name: f\n",
      "9\n"
     ]
    }
   ],
   "source": [
    "# __getattr__ vs __getattribute__\n",
    "# setattr and __setattr__\n",
    "# hasattr\n",
    "\n",
    "\n",
    "class A(object):\n",
    "    \n",
    "    f = 9\n",
    "    \n",
    "    def __init__(self):\n",
    "        self.a = 2\n",
    "    \n",
    "    # function is called when the attribute is not found\n",
    "    # in the instance dictionary or in the class dictionary\n",
    "    def __getattr__(self, name):\n",
    "        print(\"getattr called for: \", name)\n",
    "        # creating a new attribute which defaults to none\n",
    "        setattr(self, name, 0)\n",
    "        \n",
    "    def __getattribute__(self, name):\n",
    "        # this is called everytime an attribute is accessed\n",
    "        print(\"__getattribute__ called on name:\", name)\n",
    "        return super(A, self).__getattribute__(name)\n",
    "        \n",
    "        \n",
    "a = A()\n",
    "a.a\n",
    "print(a.a)\n",
    "a.b\n",
    "a.c\n",
    "a.d = 4\n",
    "       \n",
    "print(a.a, a.b, a.c, a.d, a.f)"
   ]
  },
  {
   "cell_type": "code",
   "execution_count": 197,
   "metadata": {
    "scrolled": true
   },
   "outputs": [
    {
     "name": "stdout",
     "output_type": "stream",
     "text": [
      "3\n",
      "3\n",
      "3\n",
      "4\n",
      "4\n",
      "10\n",
      "4\n",
      "10\n",
      "13\n"
     ]
    }
   ],
   "source": [
    "class A():\n",
    "    f = 3\n",
    "    \n",
    "# both instances see the initial value\n",
    "a = A()\n",
    "b = A()\n",
    "print (b.f)\n",
    "\n",
    "A.f = 4\n",
    "# both instances see the new value\n",
    "print (a.f) \n",
    "print (b.f)\n",
    "\n",
    "# this creates an attribute within A which is now separate from \n",
    "# the class attribute (This assignment through an instance causes \n",
    "# the value to now get updated only for this instance turning\n",
    "# it into an instance variable going forward.\n",
    "\n",
    "# This is best explained here: \n",
    "# https://www.toptal.com/python/python-class-attributes-an-overly-thorough-guide\n",
    "\n",
    "a.f = 10\n",
    "print (a.f)\n",
    "print (b.f) # b still sees the class attribute\n",
    "\n",
    "A.f = 13\n",
    "print (a.f) # a.f no longer sees the update\n",
    "print (b.f) # b.f still sees the update\n"
   ]
  },
  {
   "cell_type": "markdown",
   "metadata": {},
   "source": [
    "###  Item 33"
   ]
  },
  {
   "cell_type": "code",
   "execution_count": 211,
   "metadata": {},
   "outputs": [
    {
     "name": "stdout",
     "output_type": "stream",
     "text": [
      "AFoo\n",
      "<class '__main__.ValidateFoo'> AFoo (<class 'object'>,) {'__module__': '__main__', '__qualname__': 'AFoo', 'bar': 3, '__init__': <function AFoo.__init__ at 0x7f02dc2b6680>}\n",
      "Bar\n"
     ]
    },
    {
     "ename": "ValueError",
     "evalue": "Need to have Foo in the name !",
     "output_type": "error",
     "traceback": [
      "\u001b[0;31m---------------------------------------------------------------------------\u001b[0m",
      "\u001b[0;31mValueError\u001b[0m                                Traceback (most recent call last)",
      "\u001b[0;32m<ipython-input-211-3d1b7bbe7649>\u001b[0m in \u001b[0;36m<module>\u001b[0;34m()\u001b[0m\n\u001b[1;32m     20\u001b[0m \u001b[0;31m# the metaclass expects the class name to have 'Foo'\u001b[0m\u001b[0;34m\u001b[0m\u001b[0;34m\u001b[0m\u001b[0;34m\u001b[0m\u001b[0m\n\u001b[1;32m     21\u001b[0m \u001b[0;31m# in it and this class does not\u001b[0m\u001b[0;34m\u001b[0m\u001b[0;34m\u001b[0m\u001b[0;34m\u001b[0m\u001b[0m\n\u001b[0;32m---> 22\u001b[0;31m \u001b[0;32mclass\u001b[0m \u001b[0mBar\u001b[0m\u001b[0;34m(\u001b[0m\u001b[0mobject\u001b[0m\u001b[0;34m,\u001b[0m \u001b[0mmetaclass\u001b[0m\u001b[0;34m=\u001b[0m\u001b[0mValidateFoo\u001b[0m\u001b[0;34m)\u001b[0m\u001b[0;34m:\u001b[0m\u001b[0;34m\u001b[0m\u001b[0;34m\u001b[0m\u001b[0m\n\u001b[0m\u001b[1;32m     23\u001b[0m     \u001b[0mbar\u001b[0m \u001b[0;34m=\u001b[0m \u001b[0;36m4\u001b[0m\u001b[0;34m\u001b[0m\u001b[0;34m\u001b[0m\u001b[0m\n\u001b[1;32m     24\u001b[0m     \u001b[0;32mdef\u001b[0m \u001b[0m__init__\u001b[0m\u001b[0;34m(\u001b[0m\u001b[0mself\u001b[0m\u001b[0;34m)\u001b[0m\u001b[0;34m:\u001b[0m\u001b[0;34m\u001b[0m\u001b[0;34m\u001b[0m\u001b[0m\n",
      "\u001b[0;32m<ipython-input-211-3d1b7bbe7649>\u001b[0m in \u001b[0;36m__new__\u001b[0;34m(meta, name, bases, class_dict)\u001b[0m\n\u001b[1;32m      3\u001b[0m         \u001b[0mprint\u001b[0m\u001b[0;34m(\u001b[0m\u001b[0mname\u001b[0m\u001b[0;34m)\u001b[0m\u001b[0;34m\u001b[0m\u001b[0;34m\u001b[0m\u001b[0m\n\u001b[1;32m      4\u001b[0m         \u001b[0;32mif\u001b[0m  \u001b[0mname\u001b[0m\u001b[0;34m.\u001b[0m\u001b[0mfind\u001b[0m\u001b[0;34m(\u001b[0m\u001b[0;34m'Foo'\u001b[0m\u001b[0;34m)\u001b[0m \u001b[0;34m==\u001b[0m \u001b[0;34m-\u001b[0m\u001b[0;36m1\u001b[0m\u001b[0;34m:\u001b[0m\u001b[0;34m\u001b[0m\u001b[0;34m\u001b[0m\u001b[0m\n\u001b[0;32m----> 5\u001b[0;31m             \u001b[0;32mraise\u001b[0m \u001b[0mValueError\u001b[0m \u001b[0;34m(\u001b[0m\u001b[0;34m\"Need to have Foo in the name !\"\u001b[0m\u001b[0;34m)\u001b[0m\u001b[0;34m\u001b[0m\u001b[0;34m\u001b[0m\u001b[0m\n\u001b[0m\u001b[1;32m      6\u001b[0m         \u001b[0;32mif\u001b[0m \u001b[0;34m'bar'\u001b[0m \u001b[0;32mnot\u001b[0m \u001b[0;32min\u001b[0m \u001b[0mclass_dict\u001b[0m\u001b[0;34m.\u001b[0m\u001b[0mkeys\u001b[0m\u001b[0;34m(\u001b[0m\u001b[0;34m)\u001b[0m\u001b[0;34m:\u001b[0m\u001b[0;34m\u001b[0m\u001b[0;34m\u001b[0m\u001b[0m\n\u001b[1;32m      7\u001b[0m             \u001b[0;32mraise\u001b[0m \u001b[0mValueError\u001b[0m \u001b[0;34m(\u001b[0m\u001b[0;34m\"Need to have bar as an attribute\"\u001b[0m\u001b[0;34m)\u001b[0m\u001b[0;34m\u001b[0m\u001b[0;34m\u001b[0m\u001b[0m\n",
      "\u001b[0;31mValueError\u001b[0m: Need to have Foo in the name !"
     ]
    }
   ],
   "source": [
    "class ValidateFoo(type):\n",
    "    def __new__(meta, name, bases, class_dict):\n",
    "        print(name)\n",
    "        if  name.find('Foo') == -1:\n",
    "            raise ValueError (\"Need to have Foo in the name !\")\n",
    "        if 'bar' not in class_dict.keys():\n",
    "            raise ValueError (\"Need to have bar as an attribute\")\n",
    "            \n",
    "        print (meta, name, bases, class_dict)\n",
    "        return type.__new__(meta, name, bases, class_dict)\n",
    "\n",
    "class AFoo(object, metaclass=ValidateFoo):\n",
    "    bar = 3\n",
    "    def __init__(self):\n",
    "        self.value = 5\n",
    "\n",
    "a_foo = AFoo()\n",
    "\n",
    "# The next line will cause a value error since \n",
    "# the metaclass expects the class name to have 'Foo'\n",
    "# in it and this class does not\n",
    "class Bar(object, metaclass=ValidateFoo):\n",
    "    bar = 4\n",
    "    def __init__(self):\n",
    "        self.value = 5\n",
    "\n",
    "        \n",
    "\n",
    "b_bar = Bar()"
   ]
  },
  {
   "cell_type": "code",
   "execution_count": 207,
   "metadata": {},
   "outputs": [
    {
     "data": {
      "text/plain": [
       "-1"
      ]
     },
     "execution_count": 207,
     "metadata": {},
     "output_type": "execute_result"
    }
   ],
   "source": [
    "\"abc\".find('d')"
   ]
  },
  {
   "cell_type": "markdown",
   "metadata": {},
   "source": [
    "### Item 34\n"
   ]
  },
  {
   "cell_type": "code",
   "execution_count": 220,
   "metadata": {},
   "outputs": [
    {
     "name": "stdout",
     "output_type": "stream",
     "text": [
      "(3, 4)\n",
      "(3, 4)\n",
      "(5,)\n",
      "(5,)\n"
     ]
    }
   ],
   "source": [
    "import json\n",
    "\n",
    "# serialize and deserialize a class using a meta-class\n",
    "registered_classes = {}\n",
    "class MyMeta(type): \n",
    "\n",
    "    def __new__(meta, name, bases, class_dict):        \n",
    "        cls = type.__new__(meta,name,bases,class_dict)\n",
    "        registered_classes[name] = cls\n",
    "        return cls\n",
    "\n",
    "class A(object, metaclass=MyMeta):\n",
    "    def __init__(self, *args):\n",
    "        self.args = args\n",
    "\n",
    "class B(object, metaclass=MyMeta):\n",
    "    def __init__(self, *args):\n",
    "        self.args = args\n",
    "        \n",
    "def serialize(obj):\n",
    "    return json.dumps({'class': obj.__class__.__name__,\n",
    "                       'args' : obj.args})       \n",
    "        \n",
    "def deserialize(data_str):\n",
    "    data = json.loads(data_str)\n",
    "    return registered_classes[data['class']](*data['args'])\n",
    "                  \n",
    "a = A(3,4)\n",
    "print(a.args)\n",
    "a_data= serialize(a)\n",
    "a_new = deserialize(a_data)\n",
    "print(a_new.args)\n",
    "\n",
    "b = B(5)\n",
    "print(b.args)\n",
    "b_data= serialize(b)\n",
    "b_new = deserialize(b_data)\n",
    "print(b_new.args)\n"
   ]
  },
  {
   "cell_type": "markdown",
   "metadata": {},
   "source": [
    "### Item 35\n"
   ]
  },
  {
   "cell_type": "code",
   "execution_count": null,
   "metadata": {},
   "outputs": [],
   "source": [
    "# annotate class attributes with metaclasses\n",
    "# Did not get fully . For class attributes, instead of \n",
    "# using a descriptor class for validating or setting/getting\n",
    "# one could use a metaclass to load these directly into the class attribute\n",
    "# by iterating through all of the elements of a particular type and generating the\n",
    "# attributes for them directly using their name"
   ]
  },
  {
   "cell_type": "markdown",
   "metadata": {},
   "source": [
    "### Item 36\n"
   ]
  },
  {
   "cell_type": "code",
   "execution_count": 69,
   "metadata": {},
   "outputs": [
    {
     "name": "stdout",
     "output_type": "stream",
     "text": [
      "b'Thu 07 May 2020 07:16:37 AM EDT\\n' b'' 0\n"
     ]
    }
   ],
   "source": [
    "import subprocess\n",
    "import time\n",
    "\n",
    "date_proc = subprocess.Popen(['date'],\n",
    "                             stdout=subprocess.PIPE)\n",
    "#gawk_proc = subprocess.Popen(['gawk', '{print $1}']\n",
    "#                             , stdout=subprocess.PIPE\n",
    "#                             , stderr=subprocess.PIPE\n",
    "#                             , stdin=date_proc.stdout)\n",
    "\n",
    "# Some issue with way I am using gawk above, example uses cat instead.\n",
    "gawk_proc = subprocess.Popen(['cat'],\n",
    "                             stdout=subprocess.PIPE,\n",
    "                             stdin=date_proc.stdout,\n",
    "                             stderr=subprocess.PIPE\n",
    "                            )\n",
    "\n",
    "# IMPORTANT: Cannot call communicate immediately.\n",
    "# Will need for the poll to finish to call communicate successfully.\n",
    "# Otherwise, communicate returns unexpected empty results\n",
    "while(date_proc.poll() is None):\n",
    "    time.sleep(0.1)\n",
    "date_proc.communicate()\n",
    "while(gawk_proc.poll() is None):\n",
    "    time.sleep(0.1)\n",
    "out, err = gawk_proc.communicate()\n",
    "print(out, err, gawk_proc.poll())"
   ]
  },
  {
   "cell_type": "markdown",
   "metadata": {},
   "source": [
    "### Item 37\n"
   ]
  },
  {
   "cell_type": "code",
   "execution_count": 70,
   "metadata": {},
   "outputs": [],
   "source": [
    "# Gil exists, making thread usage meaningless other than for blocking IO\n",
    "# and for slow system calls which can block. Use threads to make \n",
    "# the program make forward progress in some thread but do not expect speedup\n"
   ]
  },
  {
   "cell_type": "markdown",
   "metadata": {},
   "source": [
    "###  Item 38\n"
   ]
  },
  {
   "cell_type": "code",
   "execution_count": null,
   "metadata": {},
   "outputs": [],
   "source": [
    "#Locks still need to be used when using threads\n",
    "# Threads can be suspended at any time so statements like\n",
    "# counter += counter + 1 won't work without locks\n",
    "# use Lock class"
   ]
  },
  {
   "cell_type": "markdown",
   "metadata": {},
   "source": [
    "###  Item 39 (TODO)\n"
   ]
  },
  {
   "cell_type": "code",
   "execution_count": null,
   "metadata": {},
   "outputs": [],
   "source": [
    "# use queues for threads when using pipelines\n",
    "# queue has a blocking get call for extracting items.\n",
    "# queue also has a join call for when all of the tasks are done\n"
   ]
  },
  {
   "cell_type": "markdown",
   "metadata": {},
   "source": [
    "###  Item 40"
   ]
  },
  {
   "cell_type": "code",
   "execution_count": 79,
   "metadata": {},
   "outputs": [
    {
     "name": "stdout",
     "output_type": "stream",
     "text": [
      "Called next\n",
      "first function call\n",
      "About to give up control\n",
      "<class 'generator'>\n",
      "Received control and value:  first\n",
      "About to give up control\n",
      "Received control and value:  second\n",
      "About to give up control\n"
     ]
    }
   ],
   "source": [
    "def co_routine():\n",
    "    print(\"first function call\")\n",
    "    while True:        \n",
    "        print(\"About to give up control\")\n",
    "        received = yield # stack saved at this point and execution returns to caller of next.\n",
    "        print(\"Received control and value: \", received)\n",
    "        \n",
    "it = co_routine()\n",
    "print(\"Called next\")\n",
    "next(it)\n",
    "print(type(it))\n",
    "#print(dir(it))\n",
    "it.send(\"first\")\n",
    "it.send(\"second\")"
   ]
  },
  {
   "cell_type": "markdown",
   "metadata": {},
   "source": [
    "### Item 41"
   ]
  },
  {
   "cell_type": "code",
   "execution_count": 85,
   "metadata": {},
   "outputs": [
    {
     "name": "stdout",
     "output_type": "stream",
     "text": [
      "Time:  0:00:00.336261\n",
      "Time:  0:00:00.121693\n"
     ]
    }
   ],
   "source": [
    "from datetime import datetime\n",
    "from multiprocessing import Pool\n",
    "\n",
    "def gcd(pair):\n",
    "    a, b = pair\n",
    "    low = min(a,b)\n",
    "    for i in range(low, 0, -1):\n",
    "        if a%i == 0 and b%i ==0:\n",
    "            return i\n",
    "\n",
    "numbers = [(1963309, 2265973), (2030677, 3814172),\n",
    "           (1551645, 2229620), (2039045, 2020802)]\n",
    "\n",
    "# serial calculation\n",
    "start = datetime.now()\n",
    "results = [gcd(x) for x in numbers]\n",
    "end = datetime.now()\n",
    "print(\"Time: \", end - start)\n",
    "\n",
    "# multiprocessing\n",
    "start = datetime.now()\n",
    "pool = Pool(processes=4)\n",
    "results = list(pool.map(gcd, numbers))\n",
    "end = datetime.now()\n",
    "print(\"Time: \", end - start)\n",
    "\n",
    "# process is importtant. steps:\n",
    "# serializes all of the data sent to map\n",
    "# creates worker processes\n",
    "# pickles all of the data and sends over socket to the worker\n",
    "# de-serializes all of the data\n",
    "# runs the computation\n",
    "# serializes the result, sends it back\n",
    "# parent deserializes the data and makes it available\n"
   ]
  },
  {
   "cell_type": "markdown",
   "metadata": {},
   "source": [
    "###  Item 42\n"
   ]
  },
  {
   "cell_type": "code",
   "execution_count": null,
   "metadata": {},
   "outputs": [],
   "source": []
  },
  {
   "cell_type": "code",
   "execution_count": 94,
   "metadata": {},
   "outputs": [
    {
     "name": "stdout",
     "output_type": "stream",
     "text": [
      "Calling function foo, with args: 1 and 2\n",
      "1 2\n",
      "function completed. return value:  None\n",
      "Help on function foo in module __main__:\n",
      "\n",
      "foo(arg_1, arg_2)\n",
      "\n"
     ]
    }
   ],
   "source": [
    "from functools import wraps\n",
    "\n",
    "# old style of doing a wrap is to create a wrapper and then\n",
    "# to annotate the function with @wrapper_name\n",
    "# new style is to annotate the wrapper with functools.wraps\n",
    "def my_wrapper(func_to_be_wrapped):\n",
    "    # This line is important since otherwise we don't get\n",
    "    # good help output\n",
    "    @wraps(func_to_be_wrapped)\n",
    "    def wrapper(*args, **kwargs):\n",
    "        print(\"Calling function {}, with args: {} and {}\".format\n",
    "             (func_to_be_wrapped.__name__, *args, **kwargs))\n",
    "        result = func_to_be_wrapped(*args, **kwargs)\n",
    "        print(\"function completed. return value: \", result)\n",
    "    return wrapper\n",
    "\n",
    "@my_wrapper\n",
    "def foo(arg_1, arg_2):\n",
    "    print (arg_1, arg_2)\n",
    "\n",
    "foo(1,2)\n",
    "\n",
    "# this is not useful since it only gives the help for the wrapper and\n",
    "# not the method itself\n",
    "help(foo) \n",
    "\n",
    "\n",
    "# better way is to use the functools.wrap methods"
   ]
  },
  {
   "cell_type": "markdown",
   "metadata": {},
   "source": [
    "###  Item 43\n"
   ]
  },
  {
   "cell_type": "code",
   "execution_count": 99,
   "metadata": {},
   "outputs": [
    {
     "name": "stdout",
     "output_type": "stream",
     "text": [
      "3\n",
      "5\n",
      "3\n"
     ]
    }
   ],
   "source": [
    "# Using context managers instead of __enter__ and __exit\n",
    "from contextlib import contextmanager\n",
    "\n",
    "GLOBAL_VAR = 3\n",
    "\n",
    "def my_function():\n",
    "    print(GLOBAL_VAR)\n",
    "    \n",
    "@contextmanager\n",
    "def func_context():\n",
    "    global GLOBAL_VAR\n",
    "    temp_store = GLOBAL_VAR\n",
    "    try:\n",
    "        # change the context and yield so that the with\n",
    "        # scope can be run\n",
    "        GLOBAL_VAR = 5\n",
    "        yield\n",
    "    finally:\n",
    "        GLOBAL_VAR = temp_store\n",
    "    \n",
    "my_function() # will print 3\n",
    "with func_context():\n",
    "    my_function() # will print 5\n",
    "my_function()\n"
   ]
  },
  {
   "cell_type": "markdown",
   "metadata": {},
   "source": [
    "###  Item 44"
   ]
  },
  {
   "cell_type": "code",
   "execution_count": null,
   "metadata": {},
   "outputs": [],
   "source": [
    "# will need to come back to the pickle concept\n",
    "# for serializing and de-serializing"
   ]
  },
  {
   "cell_type": "markdown",
   "metadata": {},
   "source": [
    "### Item 45\n"
   ]
  },
  {
   "cell_type": "code",
   "execution_count": 100,
   "metadata": {},
   "outputs": [
    {
     "name": "stdout",
     "output_type": "stream",
     "text": [
      "2020-05-07 09:41:35.454241\n"
     ]
    }
   ],
   "source": [
    "from datetime import datetime \n",
    "\n",
    "print(datetime.now())"
   ]
  },
  {
   "cell_type": "markdown",
   "metadata": {},
   "source": [
    "###  Item 46"
   ]
  },
  {
   "cell_type": "code",
   "execution_count": 107,
   "metadata": {},
   "outputs": [
    {
     "name": "stdout",
     "output_type": "stream",
     "text": [
      "deque([2, 1])\n",
      "deque([1])\n",
      "foo 1\n",
      "bar 2\n",
      "0\n"
     ]
    }
   ],
   "source": [
    "from collections import deque, OrderedDict, defaultdict\n",
    "\n",
    "# double ended queue\n",
    "my_deque = deque()\n",
    "my_deque.append(1)\n",
    "my_deque.appendleft(2)\n",
    "print(my_deque)\n",
    "my_deque.popleft()\n",
    "print(my_deque)\n",
    "\n",
    "\n",
    "# ordered dict (always iterates through keys in the same order as that inserted)\n",
    "my_dict = OrderedDict()\n",
    "my_dict[\"foo\"] = 1\n",
    "my_dict[\"bar\"] = 2\n",
    "for k,v in my_dict.items():\n",
    "    print(k, v)\n",
    "\n",
    "# defaultdict\n",
    "my_dict = defaultdict(int)\n",
    "print(my_dict[\"new_key\"])"
   ]
  },
  {
   "cell_type": "code",
   "execution_count": 129,
   "metadata": {},
   "outputs": [
    {
     "name": "stdout",
     "output_type": "stream",
     "text": [
      "[0, 1, 2, 3, 4, 0, 1, 2, 3, 4]\n",
      "0\n",
      "1\n",
      "2\n",
      "3\n",
      "4\n",
      "0\n",
      "[0, 1, 2, 3, 4]\n",
      "[0, 1, 2, 3, 4]\n",
      "[(0, 0), (1, 1), (2, 2), (3, 3), (None, 4)]\n",
      "[0, 1, 2]\n",
      "[0, 1]\n"
     ]
    }
   ],
   "source": [
    "from itertools import chain, cycle, tee, \\\n",
    "zip_longest, islice, takewhile, dropwhile, filterfalse, \\\n",
    "product, permutations, combinations\n",
    "\n",
    "# chain\n",
    "my_list = range(5)\n",
    "my_other_list = range(5)\n",
    "print([x for x in chain(my_list, my_other_list)])\n",
    "\n",
    "# cycle\n",
    "it = cycle(my_list)\n",
    "for _ in range(6):\n",
    "    print(next(it))\n",
    "\n",
    "# tee (2 copies)\n",
    "it_1, it_2 = tee(my_list, 2)\n",
    "print([x for x in it_1])\n",
    "print([x for x in it_2])\n",
    "\n",
    "# zip longest (substitutes None when list is exhausted)\n",
    "my_list = range(4)\n",
    "longer_list = range(5)\n",
    "print([x for x in zip_longest(my_list, longer_list)])\n",
    "\n",
    "\n",
    "#islice (not a copy)\n",
    "my_list = range(4)\n",
    "print([x for x in islice(my_list,3)])\n",
    "\n",
    "# take while\n",
    "print(list(takewhile(lambda x : x < 2, my_list)))"
   ]
  },
  {
   "cell_type": "code",
   "execution_count": 136,
   "metadata": {
    "scrolled": true
   },
   "outputs": [
    {
     "name": "stdout",
     "output_type": "stream",
     "text": [
      "[2, 3]\n",
      "[0, 1, 3]\n",
      "[2]\n",
      "[(0, 0), (0, 1), (0, 2), (1, 0), (1, 1), (1, 2), (2, 0), (2, 1), (2, 2)]\n",
      "[(0, 1), (0, 2), (1, 0), (1, 2), (2, 0), (2, 1)]\n",
      "[(0, 1), (0, 2), (1, 2)]\n"
     ]
    }
   ],
   "source": [
    "from itertools import chain, cycle, tee, \\\n",
    "zip_longest, islice, takewhile, dropwhile, filterfalse, \\\n",
    "product, permutations, combinations\n",
    "\n",
    "# dropwhile\n",
    "print(list(dropwhile(lambda x : x < 2, my_list)))\n",
    "\n",
    "#filterfalse\n",
    "print(list(filterfalse(lambda x : x == 2, my_list)))\n",
    "print(list(filter(lambda x : x == 2, my_list)))\n",
    "\n",
    "#product - cartesian product\n",
    "print(list(product(range(3), range(3))))\n",
    "\n",
    "#permutations\n",
    "print(list(permutations(range(3), 2)))\n",
    "\n",
    "\n",
    "#permutations\n",
    "print(list(combinations(range(3), 2)))"
   ]
  },
  {
   "cell_type": "markdown",
   "metadata": {},
   "source": [
    "###  Item 47  : Decimal values (TODO)\n",
    "\n"
   ]
  },
  {
   "cell_type": "markdown",
   "metadata": {},
   "source": [
    "###  Item 48: Understanding PIP (Not useful)"
   ]
  },
  {
   "cell_type": "markdown",
   "metadata": {},
   "source": [
    "### Item 49 - 53 (Documentation, Modules, Packages, Pythong Environment) "
   ]
  },
  {
   "cell_type": "markdown",
   "metadata": {},
   "source": [
    "###  Item 54 - 59 (repr vs print, unit tests, pdb, profiling, tracemalloc)\n"
   ]
  }
 ],
 "metadata": {
  "kernelspec": {
   "display_name": "Python 3",
   "language": "python",
   "name": "python3"
  },
  "language_info": {
   "codemirror_mode": {
    "name": "ipython",
    "version": 3
   },
   "file_extension": ".py",
   "mimetype": "text/x-python",
   "name": "python",
   "nbconvert_exporter": "python",
   "pygments_lexer": "ipython3",
   "version": "3.7.5"
  }
 },
 "nbformat": 4,
 "nbformat_minor": 2
}
