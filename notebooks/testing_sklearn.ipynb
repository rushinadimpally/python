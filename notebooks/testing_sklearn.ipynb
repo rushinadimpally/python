{
 "cells": [
  {
   "cell_type": "code",
   "execution_count": 3,
   "metadata": {},
   "outputs": [],
   "source": [
    "import numpy as np\n",
    "from matplotlib import pyplot as plt"
   ]
  },
  {
   "cell_type": "code",
   "execution_count": 54,
   "metadata": {},
   "outputs": [],
   "source": [
    "y = np.random.standard_normal(1000)"
   ]
  },
  {
   "cell_type": "code",
   "execution_count": 55,
   "metadata": {},
   "outputs": [
    {
     "data": {
      "text/plain": [
       "(array([  8.,  21.,  66., 154., 208., 228., 165.,  96.,  39.,  15.]),\n",
       " array([-3.03394325, -2.44481579, -1.85568834, -1.26656088, -0.67743343,\n",
       "        -0.08830597,  0.50082148,  1.08994894,  1.67907639,  2.26820385,\n",
       "         2.85733131]),\n",
       " <a list of 10 Patch objects>)"
      ]
     },
     "execution_count": 55,
     "metadata": {},
     "output_type": "execute_result"
    },
    {
     "data": {
      "image/png": "[encoded data removed]",
      "text/plain": [
       "<Figure size 432x288 with 1 Axes>"
      ]
     },
     "metadata": {
      "needs_background": "light"
     },
     "output_type": "display_data"
    }
   ],
   "source": [
    "plt.hist(y)"
   ]
  },
  {
   "cell_type": "code",
   "execution_count": 70,
   "metadata": {},
   "outputs": [
    {
     "data": {
      "text/plain": [
       "(array([ 2.,  5., 10.,  7., 22., 18., 22.,  8.,  2.,  4.]),\n",
       " array([-175.98810135, -124.40999939,  -72.83189743,  -21.25379548,\n",
       "          30.32430648,   81.90240844,  133.48051039,  185.05861235,\n",
       "         236.63671431,  288.21481626,  339.79291822]),\n",
       " <a list of 10 Patch objects>)"
      ]
     },
     "execution_count": 70,
     "metadata": {},
     "output_type": "execute_result"
    },
    {
     "data": {
      "image/png": "[encoded data removed]",
      "text/plain": [
       "<Figure size 432x288 with 1 Axes>"
      ]
     },
     "metadata": {
      "needs_background": "light"
     },
     "output_type": "display_data"
    }
   ],
   "source": [
    "plt.hist(np.random.normal(100, 100, 100))"
   ]
  },
  {
   "cell_type": "code",
   "execution_count": 91,
   "metadata": {},
   "outputs": [],
   "source": [
    "# TRUE GENERATING FUNCTION\n",
    "slope = 10\n",
    "intercept = 200\n",
    "noise_mean = 0\n",
    "noise_std = 10\n",
    "def y_fn(x):    \n",
    "    y = slope*x + intercept + np.random.normal(noise_mean, noise_std, x.shape[0])\n",
    "    return y"
   ]
  },
  {
   "cell_type": "code",
   "execution_count": 100,
   "metadata": {},
   "outputs": [
    {
     "data": {
      "text/plain": [
       "[<matplotlib.lines.Line2D at 0x7f0bb6661d50>]"
      ]
     },
     "execution_count": 100,
     "metadata": {},
     "output_type": "execute_result"
    },
    {
     "data": {
      "image/png": "[encoded data removed]",
      "text/plain": [
       "<Figure size 432x288 with 1 Axes>"
      ]
     },
     "metadata": {
      "needs_background": "light"
     },
     "output_type": "display_data"
    }
   ],
   "source": [
    "num_test_points = 100\n",
    "x = np.random.uniform(-5, 5, num_test_points)\n",
    "y = y_fn(x)\n",
    "plt.plot(x, y, '.')"
   ]
  },
  {
   "cell_type": "code",
   "execution_count": 101,
   "metadata": {},
   "outputs": [],
   "source": [
    "num_test_points = 1000\n",
    "x_test = np.random.uniform(-5,5,num_test_points)\n",
    "y_test = y_fn(x_test)"
   ]
  },
  {
   "cell_type": "code",
   "execution_count": 102,
   "metadata": {},
   "outputs": [
    {
     "name": "stdout",
     "output_type": "stream",
     "text": [
      "slope: [10.27662626], Intercept: 199.96994140528582\n",
      "score: 0.8924603644505833\n"
     ]
    }
   ],
   "source": [
    "from sklearn import linear_model\n",
    "\n",
    "# Normal regression with intercept\n",
    "lr = linear_model.LinearRegression(fit_intercept=True)\n",
    "res = lr.fit(x[:,np.newaxis], y)\n",
    "print(f'slope: {res.coef_}, Intercept: {res.intercept_}')\n",
    "print(f'score: {res.score(x_test[:, np.newaxis], y_test)}')"
   ]
  },
  {
   "cell_type": "code",
   "execution_count": 103,
   "metadata": {},
   "outputs": [
    {
     "name": "stdout",
     "output_type": "stream",
     "text": [
      "slope: [17.32073606], Intercept: 0.0\n",
      "score: -41.40162014677358\n"
     ]
    }
   ],
   "source": [
    "# Regression without intercept\n",
    "lr = linear_model.LinearRegression(fit_intercept=False)\n",
    "res = lr.fit(x[:,np.newaxis], y)\n",
    "print(f'slope: {res.coef_}, Intercept: {res.intercept_}')\n",
    "print(f'score: {res.score(x_test[:, np.newaxis], y_test)}')"
   ]
  },
  {
   "cell_type": "code",
   "execution_count": 113,
   "metadata": {},
   "outputs": [
    {
     "name": "stdout",
     "output_type": "stream",
     "text": [
      "(100, 2)\n",
      "slope: [ 10.27662626 199.96994141], Intercept: 0.0\n",
      "score: 0.8924603644505833\n"
     ]
    }
   ],
   "source": [
    "# Regression with manual intercept and no sklearn intercept\n",
    "x_int = np.stack([x, np.ones(x.shape[0])], axis=1)\n",
    "print(x_int.shape)\n",
    "lr = linear_model.LinearRegression(fit_intercept=False)\n",
    "res = lr.fit(x_int, y)\n",
    "print(f'slope: {res.coef_}, Intercept: {res.intercept_}')\n",
    "\n",
    "x_test_int = np.stack([x_test, np.ones(x_test.shape[0])], axis=1)\n",
    "print(f'score: {res.score(x_test_int, y_test)}')"
   ]
  },
  {
   "cell_type": "code",
   "execution_count": 114,
   "metadata": {},
   "outputs": [
    {
     "name": "stdout",
     "output_type": "stream",
     "text": [
      "slope: [10.27662626  0.        ], Intercept: 199.96994140528582\n",
      "score: 0.8924603644505833\n"
     ]
    }
   ],
   "source": [
    "# Regression with manual intercept and an sklearn intercept\n",
    "\n",
    "lr = linear_model.LinearRegression(fit_intercept=True)\n",
    "res = lr.fit(x_int, y)\n",
    "print(f'slope: {res.coef_}, Intercept: {res.intercept_}')\n",
    "print(f'score: {res.score(x_test_int, y_test)}')"
   ]
  }
 ],
 "metadata": {
  "kernelspec": {
   "display_name": "Python 3",
   "language": "python",
   "name": "python3"
  },
  "language_info": {
   "codemirror_mode": {
    "name": "ipython",
    "version": 3
   },
   "file_extension": ".py",
   "mimetype": "text/x-python",
   "name": "python",
   "nbconvert_exporter": "python",
   "pygments_lexer": "ipython3",
   "version": "3.7.5"
  }
 },
 "nbformat": 4,
 "nbformat_minor": 4
}
