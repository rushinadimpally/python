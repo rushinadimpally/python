{
 "cells": [
  {
   "cell_type": "markdown",
   "metadata": {},
   "source": [
    "###  Setup"
   ]
  },
  {
   "cell_type": "markdown",
   "metadata": {},
   "source": [
    "Needed to do some setup for running pandas and numpy\n",
    "\n",
    "- Did an apt-get install for python3-venv\n",
    "- Created a virtual environment directory and activated it using the instructions here: https://docs.python.org/3/library/venv.html\n",
    "- After activation, installed pip and used pip to install pandas and numpy\n",
    "- Also installed jupyter notebook and ran the notebook under the activated virtual env\n",
    "- Also installed matplotlib using pip"
   ]
  },
  {
   "cell_type": "code",
   "execution_count": 3,
   "metadata": {},
   "outputs": [],
   "source": [
    "import pandas\n",
    "import numpy\n",
    "# no error"
   ]
  },
  {
   "cell_type": "markdown",
   "metadata": {},
   "source": [
    "###  Chapter 2  - Intro (Old Edition)"
   ]
  },
  {
   "cell_type": "code",
   "execution_count": 13,
   "metadata": {},
   "outputs": [
    {
     "name": "stdout",
     "output_type": "stream",
     "text": [
      "('America/New_York', 1251)\n",
      "('', 521)\n",
      "('America/Chicago', 400)\n",
      "('America/Los_Angeles', 382)\n",
      "('America/Denver', 191)\n",
      "('Europe/London', 74)\n",
      "('Asia/Tokyo', 37)\n",
      "('Pacific/Honolulu', 36)\n",
      "('Europe/Madrid', 35)\n",
      "('America/Sao_Paulo', 33)\n"
     ]
    }
   ],
   "source": [
    "# getting top 10 time zones from a dataset using classic python\n",
    "\n",
    "from collections import defaultdict\n",
    "import json\n",
    "import heapq\n",
    "\n",
    "tz_dict = defaultdict(int)\n",
    "with open(\"/home/rushi/dev/data/pda/ch02/usagov_bitly_data2012-03-16-1331923249.txt\", \"r\") as f:\n",
    "    for line in f.readlines():\n",
    "        data = json.loads(line)\n",
    "        if 'tz' in data.keys():\n",
    "            tz_dict[data['tz']] += 1\n",
    "\n",
    "results = heapq.nlargest(10, tz_dict.items(), key=lambda x: x[1])\n",
    "for result in results:\n",
    "    print(result)\n"
   ]
  },
  {
   "cell_type": "code",
   "execution_count": 12,
   "metadata": {
    "scrolled": false
   },
   "outputs": [
    {
     "data": {
      "text/plain": [
       "<matplotlib.axes._subplots.AxesSubplot at 0x7f39afe4b890>"
      ]
     },
     "execution_count": 12,
     "metadata": {},
     "output_type": "execute_result"
    },
    {
     "data": {
      "image/png": "[encoded data removed]",
      "text/plain": [
       "<Figure size 432x288 with 1 Axes>"
      ]
     },
     "metadata": {
      "needs_background": "light"
     },
     "output_type": "display_data"
    }
   ],
   "source": [
    "# pandas approach\n",
    "import json\n",
    "\n",
    "from pandas import DataFrame, Series\n",
    "import pandas as pd\n",
    "\n",
    "records = []\n",
    "with open(\"/home/rushi/dev/data/pda/ch02/usagov_bitly_data2012-03-16-1331923249.txt\", \"r\") as f:\n",
    "    for line in f.readlines():\n",
    "        records.append(json.loads(line))\n",
    "        \n",
    "frame = DataFrame(records)\n",
    "frame['tz'].value_counts()[:10]\n",
    "\n",
    "# since the second most tz is unknown, clean up the data a little\n",
    "clean_tz = frame['tz'].fillna('Missing')\n",
    "clean_tz[clean_tz == ''] = 'Unknown'\n",
    "tz_counts = clean_tz.value_counts()[:10]\n",
    "#print(tz_counts[:10])\n",
    "\n",
    "tz_counts.plot(kind='barh', rot=0)\n",
    "\n"
   ]
  },
  {
   "cell_type": "code",
   "execution_count": 11,
   "metadata": {
    "scrolled": false
   },
   "outputs": [
    {
     "data": {
      "text/plain": [
       "<matplotlib.axes._subplots.AxesSubplot at 0x7f39af451990>"
      ]
     },
     "execution_count": 11,
     "metadata": {},
     "output_type": "execute_result"
    },
    {
     "data": {
      "image/png": "[encoded data removed]",
      "text/plain": [
       "<Figure size 432x288 with 1 Axes>"
      ]
     },
     "metadata": {
      "needs_background": "light"
     },
     "output_type": "display_data"
    }
   ],
   "source": [
    "\n",
    "# getting agent strings\n",
    "results = Series([x.split()[0] for x in frame.a.dropna()])\n",
    "results.value_counts()[:5].plot(kind='barh', rot=0)"
   ]
  },
  {
   "cell_type": "code",
   "execution_count": 20,
   "metadata": {},
   "outputs": [
    {
     "name": "stdout",
     "output_type": "stream",
     "text": [
      "['Windows' 'NotWindows' 'Windows' 'NotWindows' 'Windows']\n"
     ]
    },
    {
     "data": {
      "text/html": [
       "<div>\n",
       "<style scoped>\n",
       "    .dataframe tbody tr th:only-of-type {\n",
       "        vertical-align: middle;\n",
       "    }\n",
       "\n",
       "    .dataframe tbody tr th {\n",
       "        vertical-align: top;\n",
       "    }\n",
       "\n",
       "    .dataframe thead th {\n",
       "        text-align: right;\n",
       "    }\n",
       "</style>\n",
       "<table border=\"1\" class=\"dataframe\">\n",
       "  <thead>\n",
       "    <tr style=\"text-align: right;\">\n",
       "      <th></th>\n",
       "      <th>NotWindows</th>\n",
       "      <th>Windows</th>\n",
       "    </tr>\n",
       "    <tr>\n",
       "      <th>tz</th>\n",
       "      <th></th>\n",
       "      <th></th>\n",
       "    </tr>\n",
       "  </thead>\n",
       "  <tbody>\n",
       "    <tr>\n",
       "      <th></th>\n",
       "      <td>245.0</td>\n",
       "      <td>276.0</td>\n",
       "    </tr>\n",
       "    <tr>\n",
       "      <th>Africa/Cairo</th>\n",
       "      <td>0.0</td>\n",
       "      <td>3.0</td>\n",
       "    </tr>\n",
       "    <tr>\n",
       "      <th>Africa/Casablanca</th>\n",
       "      <td>0.0</td>\n",
       "      <td>1.0</td>\n",
       "    </tr>\n",
       "    <tr>\n",
       "      <th>Africa/Ceuta</th>\n",
       "      <td>0.0</td>\n",
       "      <td>2.0</td>\n",
       "    </tr>\n",
       "    <tr>\n",
       "      <th>Africa/Johannesburg</th>\n",
       "      <td>0.0</td>\n",
       "      <td>1.0</td>\n",
       "    </tr>\n",
       "    <tr>\n",
       "      <th>Africa/Lusaka</th>\n",
       "      <td>0.0</td>\n",
       "      <td>1.0</td>\n",
       "    </tr>\n",
       "    <tr>\n",
       "      <th>America/Anchorage</th>\n",
       "      <td>4.0</td>\n",
       "      <td>1.0</td>\n",
       "    </tr>\n",
       "    <tr>\n",
       "      <th>America/Argentina/Buenos_Aires</th>\n",
       "      <td>1.0</td>\n",
       "      <td>0.0</td>\n",
       "    </tr>\n",
       "    <tr>\n",
       "      <th>America/Argentina/Cordoba</th>\n",
       "      <td>0.0</td>\n",
       "      <td>1.0</td>\n",
       "    </tr>\n",
       "    <tr>\n",
       "      <th>America/Argentina/Mendoza</th>\n",
       "      <td>0.0</td>\n",
       "      <td>1.0</td>\n",
       "    </tr>\n",
       "  </tbody>\n",
       "</table>\n",
       "</div>"
      ],
      "text/plain": [
       "                                NotWindows  Windows\n",
       "tz                                                 \n",
       "                                     245.0    276.0\n",
       "Africa/Cairo                           0.0      3.0\n",
       "Africa/Casablanca                      0.0      1.0\n",
       "Africa/Ceuta                           0.0      2.0\n",
       "Africa/Johannesburg                    0.0      1.0\n",
       "Africa/Lusaka                          0.0      1.0\n",
       "America/Anchorage                      4.0      1.0\n",
       "America/Argentina/Buenos_Aires         1.0      0.0\n",
       "America/Argentina/Cordoba              0.0      1.0\n",
       "America/Argentina/Mendoza              0.0      1.0"
      ]
     },
     "execution_count": 20,
     "metadata": {},
     "output_type": "execute_result"
    }
   ],
   "source": [
    "import numpy as np\n",
    "cframe = frame[frame.a.notnull()]\n",
    "operating_system = np.where(cframe['a'].str.contains('Windows'), 'Windows', 'NotWindows')\n",
    "print(operating_system[:5])\n",
    "\n",
    "group_by_tz_os = cframe.groupby(['tz', operating_system])\n",
    "\n",
    "# recreate a table view\n",
    "agg_counts = group_by_tz_os.size().unstack().fillna(0)\n",
    "agg_counts[:10]"
   ]
  },
  {
   "cell_type": "code",
   "execution_count": 23,
   "metadata": {},
   "outputs": [
    {
     "data": {
      "text/plain": [
       "tz\n",
       "                                  24\n",
       "Africa/Cairo                      20\n",
       "Africa/Casablanca                 21\n",
       "Africa/Ceuta                      92\n",
       "Africa/Johannesburg               87\n",
       "Africa/Lusaka                     53\n",
       "America/Anchorage                 54\n",
       "America/Argentina/Buenos_Aires    57\n",
       "America/Argentina/Cordoba         26\n",
       "America/Argentina/Mendoza         55\n",
       "dtype: int64"
      ]
     },
     "execution_count": 23,
     "metadata": {},
     "output_type": "execute_result"
    }
   ],
   "source": [
    "# sort in ascending order\n",
    "indexer = agg_counts.sum(1).argsort()\n",
    "indexer[:10]\n"
   ]
  },
  {
   "cell_type": "code",
   "execution_count": 24,
   "metadata": {},
   "outputs": [
    {
     "data": {
      "text/html": [
       "<div>\n",
       "<style scoped>\n",
       "    .dataframe tbody tr th:only-of-type {\n",
       "        vertical-align: middle;\n",
       "    }\n",
       "\n",
       "    .dataframe tbody tr th {\n",
       "        vertical-align: top;\n",
       "    }\n",
       "\n",
       "    .dataframe thead th {\n",
       "        text-align: right;\n",
       "    }\n",
       "</style>\n",
       "<table border=\"1\" class=\"dataframe\">\n",
       "  <thead>\n",
       "    <tr style=\"text-align: right;\">\n",
       "      <th></th>\n",
       "      <th>NotWindows</th>\n",
       "      <th>Windows</th>\n",
       "    </tr>\n",
       "    <tr>\n",
       "      <th>tz</th>\n",
       "      <th></th>\n",
       "      <th></th>\n",
       "    </tr>\n",
       "  </thead>\n",
       "  <tbody>\n",
       "    <tr>\n",
       "      <th>America/Sao_Paulo</th>\n",
       "      <td>13.0</td>\n",
       "      <td>20.0</td>\n",
       "    </tr>\n",
       "    <tr>\n",
       "      <th>Europe/Madrid</th>\n",
       "      <td>16.0</td>\n",
       "      <td>19.0</td>\n",
       "    </tr>\n",
       "    <tr>\n",
       "      <th>Pacific/Honolulu</th>\n",
       "      <td>0.0</td>\n",
       "      <td>36.0</td>\n",
       "    </tr>\n",
       "    <tr>\n",
       "      <th>Asia/Tokyo</th>\n",
       "      <td>2.0</td>\n",
       "      <td>35.0</td>\n",
       "    </tr>\n",
       "    <tr>\n",
       "      <th>Europe/London</th>\n",
       "      <td>43.0</td>\n",
       "      <td>31.0</td>\n",
       "    </tr>\n",
       "    <tr>\n",
       "      <th>America/Denver</th>\n",
       "      <td>132.0</td>\n",
       "      <td>59.0</td>\n",
       "    </tr>\n",
       "    <tr>\n",
       "      <th>America/Los_Angeles</th>\n",
       "      <td>130.0</td>\n",
       "      <td>252.0</td>\n",
       "    </tr>\n",
       "    <tr>\n",
       "      <th>America/Chicago</th>\n",
       "      <td>115.0</td>\n",
       "      <td>285.0</td>\n",
       "    </tr>\n",
       "    <tr>\n",
       "      <th></th>\n",
       "      <td>245.0</td>\n",
       "      <td>276.0</td>\n",
       "    </tr>\n",
       "    <tr>\n",
       "      <th>America/New_York</th>\n",
       "      <td>339.0</td>\n",
       "      <td>912.0</td>\n",
       "    </tr>\n",
       "  </tbody>\n",
       "</table>\n",
       "</div>"
      ],
      "text/plain": [
       "                     NotWindows  Windows\n",
       "tz                                      \n",
       "America/Sao_Paulo          13.0     20.0\n",
       "Europe/Madrid              16.0     19.0\n",
       "Pacific/Honolulu            0.0     36.0\n",
       "Asia/Tokyo                  2.0     35.0\n",
       "Europe/London              43.0     31.0\n",
       "America/Denver            132.0     59.0\n",
       "America/Los_Angeles       130.0    252.0\n",
       "America/Chicago           115.0    285.0\n",
       "                          245.0    276.0\n",
       "America/New_York          339.0    912.0"
      ]
     },
     "execution_count": 24,
     "metadata": {},
     "output_type": "execute_result"
    }
   ],
   "source": [
    "\n",
    "# pick the 10 rows with top count\n",
    "count_subset = agg_counts.take(indexer)[-10:]\n",
    "count_subset"
   ]
  },
  {
   "cell_type": "code",
   "execution_count": 26,
   "metadata": {},
   "outputs": [
    {
     "data": {
      "text/plain": [
       "<matplotlib.axes._subplots.AxesSubplot at 0x7f39cc6d92d0>"
      ]
     },
     "execution_count": 26,
     "metadata": {},
     "output_type": "execute_result"
    },
    {
     "data": {
      "image/png": "[encoded data removed]",
      "text/plain": [
       "<Figure size 432x288 with 1 Axes>"
      ]
     },
     "metadata": {
      "needs_background": "light"
     },
     "output_type": "display_data"
    }
   ],
   "source": [
    "count_subset.plot(kind='barh', stacked=True)"
   ]
  },
  {
   "cell_type": "code",
   "execution_count": 67,
   "metadata": {
    "scrolled": true
   },
   "outputs": [
    {
     "name": "stdout",
     "output_type": "stream",
     "text": [
      "   user_id gender  age  occupation    zip\n",
      "0        1      F    1          10  48067\n",
      "1        2      M   56          16  70072\n",
      "2        3      M   25          15  55117\n",
      "3        4      M   45           7  02460\n",
      "4        5      M   25          20  55455\n"
     ]
    }
   ],
   "source": [
    "import pandas as pd\n",
    "import os\n",
    "\n",
    "data_path = '/home/rushi/dev/data/pda/ch02/'\n",
    "unames = ['user_id', 'gender', 'age', 'occupation', 'zip']\n",
    "users = pd.read_table(os.path.join(data_path, 'movielens/users.dat'), sep='::', header=None, names=unames, engine='python')\n",
    "\n",
    "rnames = ['user_id', 'movie_id', 'rating', 'timestamp']\n",
    "ratings = pd.read_table(os.path.join(data_path, 'movielens/ratings.dat'), sep='::', header=None, names=rnames, engine='python')\n",
    "\n",
    "mnames = ['movie_id', 'title', 'genres']\n",
    "movies = pd.read_table(os.path.join(data_path, 'movielens/movies.dat'), sep='::', header=None, names=mnames, engine='python')\n",
    "\n",
    "print(users[:5])"
   ]
  },
  {
   "cell_type": "code",
   "execution_count": 68,
   "metadata": {
    "scrolled": true
   },
   "outputs": [
    {
     "data": {
      "text/html": [
       "<div>\n",
       "<style scoped>\n",
       "    .dataframe tbody tr th:only-of-type {\n",
       "        vertical-align: middle;\n",
       "    }\n",
       "\n",
       "    .dataframe tbody tr th {\n",
       "        vertical-align: top;\n",
       "    }\n",
       "\n",
       "    .dataframe thead th {\n",
       "        text-align: right;\n",
       "    }\n",
       "</style>\n",
       "<table border=\"1\" class=\"dataframe\">\n",
       "  <thead>\n",
       "    <tr style=\"text-align: right;\">\n",
       "      <th></th>\n",
       "      <th>movie_id</th>\n",
       "      <th>title</th>\n",
       "      <th>genres</th>\n",
       "    </tr>\n",
       "  </thead>\n",
       "  <tbody>\n",
       "    <tr>\n",
       "      <th>0</th>\n",
       "      <td>1</td>\n",
       "      <td>Toy Story (1995)</td>\n",
       "      <td>Animation|Children's|Comedy</td>\n",
       "    </tr>\n",
       "    <tr>\n",
       "      <th>1</th>\n",
       "      <td>2</td>\n",
       "      <td>Jumanji (1995)</td>\n",
       "      <td>Adventure|Children's|Fantasy</td>\n",
       "    </tr>\n",
       "    <tr>\n",
       "      <th>2</th>\n",
       "      <td>3</td>\n",
       "      <td>Grumpier Old Men (1995)</td>\n",
       "      <td>Comedy|Romance</td>\n",
       "    </tr>\n",
       "    <tr>\n",
       "      <th>3</th>\n",
       "      <td>4</td>\n",
       "      <td>Waiting to Exhale (1995)</td>\n",
       "      <td>Comedy|Drama</td>\n",
       "    </tr>\n",
       "    <tr>\n",
       "      <th>4</th>\n",
       "      <td>5</td>\n",
       "      <td>Father of the Bride Part II (1995)</td>\n",
       "      <td>Comedy</td>\n",
       "    </tr>\n",
       "  </tbody>\n",
       "</table>\n",
       "</div>"
      ],
      "text/plain": [
       "   movie_id                               title                        genres\n",
       "0         1                    Toy Story (1995)   Animation|Children's|Comedy\n",
       "1         2                      Jumanji (1995)  Adventure|Children's|Fantasy\n",
       "2         3             Grumpier Old Men (1995)                Comedy|Romance\n",
       "3         4            Waiting to Exhale (1995)                  Comedy|Drama\n",
       "4         5  Father of the Bride Part II (1995)                        Comedy"
      ]
     },
     "execution_count": 68,
     "metadata": {},
     "output_type": "execute_result"
    }
   ],
   "source": [
    "movies[:5]"
   ]
  },
  {
   "cell_type": "code",
   "execution_count": 70,
   "metadata": {
    "scrolled": true
   },
   "outputs": [
    {
     "data": {
      "text/html": [
       "<div>\n",
       "<style scoped>\n",
       "    .dataframe tbody tr th:only-of-type {\n",
       "        vertical-align: middle;\n",
       "    }\n",
       "\n",
       "    .dataframe tbody tr th {\n",
       "        vertical-align: top;\n",
       "    }\n",
       "\n",
       "    .dataframe thead th {\n",
       "        text-align: right;\n",
       "    }\n",
       "</style>\n",
       "<table border=\"1\" class=\"dataframe\">\n",
       "  <thead>\n",
       "    <tr style=\"text-align: right;\">\n",
       "      <th></th>\n",
       "      <th>user_id</th>\n",
       "      <th>movie_id</th>\n",
       "      <th>rating</th>\n",
       "      <th>timestamp</th>\n",
       "    </tr>\n",
       "  </thead>\n",
       "  <tbody>\n",
       "    <tr>\n",
       "      <th>0</th>\n",
       "      <td>1</td>\n",
       "      <td>1193</td>\n",
       "      <td>5</td>\n",
       "      <td>978300760</td>\n",
       "    </tr>\n",
       "    <tr>\n",
       "      <th>1</th>\n",
       "      <td>1</td>\n",
       "      <td>661</td>\n",
       "      <td>3</td>\n",
       "      <td>978302109</td>\n",
       "    </tr>\n",
       "    <tr>\n",
       "      <th>2</th>\n",
       "      <td>1</td>\n",
       "      <td>914</td>\n",
       "      <td>3</td>\n",
       "      <td>978301968</td>\n",
       "    </tr>\n",
       "    <tr>\n",
       "      <th>3</th>\n",
       "      <td>1</td>\n",
       "      <td>3408</td>\n",
       "      <td>4</td>\n",
       "      <td>978300275</td>\n",
       "    </tr>\n",
       "    <tr>\n",
       "      <th>4</th>\n",
       "      <td>1</td>\n",
       "      <td>2355</td>\n",
       "      <td>5</td>\n",
       "      <td>978824291</td>\n",
       "    </tr>\n",
       "  </tbody>\n",
       "</table>\n",
       "</div>"
      ],
      "text/plain": [
       "   user_id  movie_id  rating  timestamp\n",
       "0        1      1193       5  978300760\n",
       "1        1       661       3  978302109\n",
       "2        1       914       3  978301968\n",
       "3        1      3408       4  978300275\n",
       "4        1      2355       5  978824291"
      ]
     },
     "execution_count": 70,
     "metadata": {},
     "output_type": "execute_result"
    }
   ],
   "source": [
    "ratings[:5]"
   ]
  },
  {
   "cell_type": "code",
   "execution_count": 73,
   "metadata": {
    "scrolled": true
   },
   "outputs": [
    {
     "data": {
      "text/html": [
       "<div>\n",
       "<style scoped>\n",
       "    .dataframe tbody tr th:only-of-type {\n",
       "        vertical-align: middle;\n",
       "    }\n",
       "\n",
       "    .dataframe tbody tr th {\n",
       "        vertical-align: top;\n",
       "    }\n",
       "\n",
       "    .dataframe thead th {\n",
       "        text-align: right;\n",
       "    }\n",
       "</style>\n",
       "<table border=\"1\" class=\"dataframe\">\n",
       "  <thead>\n",
       "    <tr style=\"text-align: right;\">\n",
       "      <th></th>\n",
       "      <th>user_id</th>\n",
       "      <th>movie_id</th>\n",
       "      <th>rating</th>\n",
       "      <th>timestamp</th>\n",
       "      <th>gender</th>\n",
       "      <th>age</th>\n",
       "      <th>occupation</th>\n",
       "      <th>zip</th>\n",
       "      <th>title</th>\n",
       "      <th>genres</th>\n",
       "    </tr>\n",
       "  </thead>\n",
       "  <tbody>\n",
       "    <tr>\n",
       "      <th>0</th>\n",
       "      <td>1</td>\n",
       "      <td>1193</td>\n",
       "      <td>5</td>\n",
       "      <td>978300760</td>\n",
       "      <td>F</td>\n",
       "      <td>1</td>\n",
       "      <td>10</td>\n",
       "      <td>48067</td>\n",
       "      <td>One Flew Over the Cuckoo's Nest (1975)</td>\n",
       "      <td>Drama</td>\n",
       "    </tr>\n",
       "    <tr>\n",
       "      <th>1</th>\n",
       "      <td>2</td>\n",
       "      <td>1193</td>\n",
       "      <td>5</td>\n",
       "      <td>978298413</td>\n",
       "      <td>M</td>\n",
       "      <td>56</td>\n",
       "      <td>16</td>\n",
       "      <td>70072</td>\n",
       "      <td>One Flew Over the Cuckoo's Nest (1975)</td>\n",
       "      <td>Drama</td>\n",
       "    </tr>\n",
       "    <tr>\n",
       "      <th>2</th>\n",
       "      <td>12</td>\n",
       "      <td>1193</td>\n",
       "      <td>4</td>\n",
       "      <td>978220179</td>\n",
       "      <td>M</td>\n",
       "      <td>25</td>\n",
       "      <td>12</td>\n",
       "      <td>32793</td>\n",
       "      <td>One Flew Over the Cuckoo's Nest (1975)</td>\n",
       "      <td>Drama</td>\n",
       "    </tr>\n",
       "    <tr>\n",
       "      <th>3</th>\n",
       "      <td>15</td>\n",
       "      <td>1193</td>\n",
       "      <td>4</td>\n",
       "      <td>978199279</td>\n",
       "      <td>M</td>\n",
       "      <td>25</td>\n",
       "      <td>7</td>\n",
       "      <td>22903</td>\n",
       "      <td>One Flew Over the Cuckoo's Nest (1975)</td>\n",
       "      <td>Drama</td>\n",
       "    </tr>\n",
       "    <tr>\n",
       "      <th>4</th>\n",
       "      <td>17</td>\n",
       "      <td>1193</td>\n",
       "      <td>5</td>\n",
       "      <td>978158471</td>\n",
       "      <td>M</td>\n",
       "      <td>50</td>\n",
       "      <td>1</td>\n",
       "      <td>95350</td>\n",
       "      <td>One Flew Over the Cuckoo's Nest (1975)</td>\n",
       "      <td>Drama</td>\n",
       "    </tr>\n",
       "    <tr>\n",
       "      <th>...</th>\n",
       "      <td>...</td>\n",
       "      <td>...</td>\n",
       "      <td>...</td>\n",
       "      <td>...</td>\n",
       "      <td>...</td>\n",
       "      <td>...</td>\n",
       "      <td>...</td>\n",
       "      <td>...</td>\n",
       "      <td>...</td>\n",
       "      <td>...</td>\n",
       "    </tr>\n",
       "    <tr>\n",
       "      <th>1000204</th>\n",
       "      <td>5949</td>\n",
       "      <td>2198</td>\n",
       "      <td>5</td>\n",
       "      <td>958846401</td>\n",
       "      <td>M</td>\n",
       "      <td>18</td>\n",
       "      <td>17</td>\n",
       "      <td>47901</td>\n",
       "      <td>Modulations (1998)</td>\n",
       "      <td>Documentary</td>\n",
       "    </tr>\n",
       "    <tr>\n",
       "      <th>1000205</th>\n",
       "      <td>5675</td>\n",
       "      <td>2703</td>\n",
       "      <td>3</td>\n",
       "      <td>976029116</td>\n",
       "      <td>M</td>\n",
       "      <td>35</td>\n",
       "      <td>14</td>\n",
       "      <td>30030</td>\n",
       "      <td>Broken Vessels (1998)</td>\n",
       "      <td>Drama</td>\n",
       "    </tr>\n",
       "    <tr>\n",
       "      <th>1000206</th>\n",
       "      <td>5780</td>\n",
       "      <td>2845</td>\n",
       "      <td>1</td>\n",
       "      <td>958153068</td>\n",
       "      <td>M</td>\n",
       "      <td>18</td>\n",
       "      <td>17</td>\n",
       "      <td>92886</td>\n",
       "      <td>White Boys (1999)</td>\n",
       "      <td>Drama</td>\n",
       "    </tr>\n",
       "    <tr>\n",
       "      <th>1000207</th>\n",
       "      <td>5851</td>\n",
       "      <td>3607</td>\n",
       "      <td>5</td>\n",
       "      <td>957756608</td>\n",
       "      <td>F</td>\n",
       "      <td>18</td>\n",
       "      <td>20</td>\n",
       "      <td>55410</td>\n",
       "      <td>One Little Indian (1973)</td>\n",
       "      <td>Comedy|Drama|Western</td>\n",
       "    </tr>\n",
       "    <tr>\n",
       "      <th>1000208</th>\n",
       "      <td>5938</td>\n",
       "      <td>2909</td>\n",
       "      <td>4</td>\n",
       "      <td>957273353</td>\n",
       "      <td>M</td>\n",
       "      <td>25</td>\n",
       "      <td>1</td>\n",
       "      <td>35401</td>\n",
       "      <td>Five Wives, Three Secretaries and Me (1998)</td>\n",
       "      <td>Documentary</td>\n",
       "    </tr>\n",
       "  </tbody>\n",
       "</table>\n",
       "<p>1000209 rows × 10 columns</p>\n",
       "</div>"
      ],
      "text/plain": [
       "         user_id  movie_id  rating  timestamp gender  age  occupation    zip  \\\n",
       "0              1      1193       5  978300760      F    1          10  48067   \n",
       "1              2      1193       5  978298413      M   56          16  70072   \n",
       "2             12      1193       4  978220179      M   25          12  32793   \n",
       "3             15      1193       4  978199279      M   25           7  22903   \n",
       "4             17      1193       5  978158471      M   50           1  95350   \n",
       "...          ...       ...     ...        ...    ...  ...         ...    ...   \n",
       "1000204     5949      2198       5  958846401      M   18          17  47901   \n",
       "1000205     5675      2703       3  976029116      M   35          14  30030   \n",
       "1000206     5780      2845       1  958153068      M   18          17  92886   \n",
       "1000207     5851      3607       5  957756608      F   18          20  55410   \n",
       "1000208     5938      2909       4  957273353      M   25           1  35401   \n",
       "\n",
       "                                               title                genres  \n",
       "0             One Flew Over the Cuckoo's Nest (1975)                 Drama  \n",
       "1             One Flew Over the Cuckoo's Nest (1975)                 Drama  \n",
       "2             One Flew Over the Cuckoo's Nest (1975)                 Drama  \n",
       "3             One Flew Over the Cuckoo's Nest (1975)                 Drama  \n",
       "4             One Flew Over the Cuckoo's Nest (1975)                 Drama  \n",
       "...                                              ...                   ...  \n",
       "1000204                           Modulations (1998)           Documentary  \n",
       "1000205                        Broken Vessels (1998)                 Drama  \n",
       "1000206                            White Boys (1999)                 Drama  \n",
       "1000207                     One Little Indian (1973)  Comedy|Drama|Western  \n",
       "1000208  Five Wives, Three Secretaries and Me (1998)           Documentary  \n",
       "\n",
       "[1000209 rows x 10 columns]"
      ]
     },
     "execution_count": 73,
     "metadata": {},
     "output_type": "execute_result"
    }
   ],
   "source": [
    "data = pd.merge(pd.merge(ratings, users), movies)\n",
    "data"
   ]
  },
  {
   "cell_type": "code",
   "execution_count": 35,
   "metadata": {
    "scrolled": true
   },
   "outputs": [],
   "source": [
    "#mean_ratings = data.pivot_table('rating', rows='title', cols='gender', aggfunc='mean')\n",
    "#mean_ratings[:5]"
   ]
  },
  {
   "cell_type": "markdown",
   "metadata": {},
   "source": [
    "### Chapter 1-2-3 (Edition 2) are introductory for pure python and so are skipped"
   ]
  },
  {
   "cell_type": "markdown",
   "metadata": {},
   "source": [
    "###  Chapter 4 - Numpy "
   ]
  },
  {
   "cell_type": "code",
   "execution_count": 5,
   "metadata": {},
   "outputs": [
    {
     "name": "stdout",
     "output_type": "stream",
     "text": [
      "CPU times: user 13.6 ms, sys: 504 µs, total: 14.1 ms\n",
      "Wall time: 14.1 ms\n",
      "CPU times: user 231 ms, sys: 10.2 ms, total: 241 ms\n",
      "Wall time: 241 ms\n"
     ]
    }
   ],
   "source": [
    "import numpy as np\n",
    "\n",
    "my_arr = np.arange(1000000)\n",
    "my_list = list(range(1000000))\n",
    "\n",
    "# IMPORTANT: The %time tag only applies to a single line\n",
    "# putting it on a preceding line will make it look as though \n",
    "# no time is taken for the call\n",
    "\n",
    "%time for _ in range(10): my_arr2 = my_arr * 3\n",
    "%time for _ in range(10): my_list2 = my_list * 3"
   ]
  },
  {
   "cell_type": "code",
   "execution_count": 11,
   "metadata": {
    "scrolled": true
   },
   "outputs": [
    {
     "name": "stdout",
     "output_type": "stream",
     "text": [
      "[[ 0.44495969 -0.97437562 -0.28132561]\n",
      " [ 1.29134199 -0.34296103  0.51717116]]\n",
      "[[ 0.88991938 -1.94875125 -0.56265122]\n",
      " [ 2.58268398 -0.68592205  1.03434232]]\n",
      "[[ 4.44959691 -9.74375623 -2.8132561 ]\n",
      " [12.9134199  -3.42961027  5.17171158]]\n",
      "[[0.19798913 0.94940785 0.0791441 ]\n",
      " [1.66756413 0.11762227 0.26746601]]\n",
      "(2, 3)\n",
      "float64\n"
     ]
    }
   ],
   "source": [
    "import numpy as np\n",
    "data = np.random.randn(2,3) # shape of the output is 2X3\n",
    "#help(np.random.randn)\n",
    "print(data)\n",
    "print(data + data)\n",
    "print(data * 10)\n",
    "print(data * data)\n",
    "\n",
    "# numpy arrays are homogenous\n",
    "print(data.shape)\n",
    "print(data.dtype)"
   ]
  },
  {
   "cell_type": "code",
   "execution_count": 28,
   "metadata": {
    "scrolled": true
   },
   "outputs": [
    {
     "name": "stdout",
     "output_type": "stream",
     "text": [
      "[1 2 3 4]\n",
      "1\n",
      "(4,)\n",
      "=========\n",
      "[[1 2 3]\n",
      " [4 5 6]\n",
      " [7 8 9]]\n",
      "2\n",
      "(3, 3)\n",
      "=========\n",
      "[list([1, 2, 3]) list([4, 5, 6]) list([7, 8, 9, 10])]\n",
      "1\n",
      "(3,)\n",
      "=========\n",
      "[[[1 1 1]\n",
      "  [2 2 2]\n",
      "  [3 3 3]]\n",
      "\n",
      " [[4 4 4]\n",
      "  [5 5 5]\n",
      "  [6 6 6]]\n",
      "\n",
      " [[7 7 7]\n",
      "  [8 8 8]\n",
      "  [9 9 9]]]\n",
      "3\n",
      "(3, 3, 3)\n"
     ]
    }
   ],
   "source": [
    "\n",
    "my_list = [1,2,3,4]\n",
    "np_list = np.array(my_list)\n",
    "print(np_list)\n",
    "print(np_list.ndim) # dimensionality - 1\n",
    "print(np_list.shape) # 4 columns each of them has a scalar (4,)\n",
    "\n",
    "print(\"=========\")\n",
    "\n",
    "my_inner_list = [[1,2,3],[4,5,6],[7,8,9]]\n",
    "np_list = np.array(my_inner_list)\n",
    "print(np_list)\n",
    "print(np_list.ndim) # dimensionality - 2 (list of lists)\n",
    "print(np_list.shape) # 3 columns, each a list of 3 (3,3)\n",
    "\n",
    "print(\"=========\")\n",
    "\n",
    "my_inner_list = [[1,2,3],[4,5,6],[7,8,9, 10]]\n",
    "np_list = np.array(my_inner_list)\n",
    "print(np_list)\n",
    "print(np_list.ndim) # dimensionality - 1 since non homogenous sizes\n",
    "print(np_list.shape) # Non homogenous list size. 3 columns (3,)\n",
    "\n",
    "print(\"=========\")\n",
    "\n",
    "my_inner_list = [[[1,1,1],[2,2,2],[3,3,3]],\n",
    "                 [[4,4,4],[5,5,5],[6,6,6]],\n",
    "                 [[7,7,7],[8,8,8],[9,9,9]]]\n",
    "np_list = np.array(my_inner_list)\n",
    "print(np_list)\n",
    "print(np_list.ndim) # dimensionality - 3. List of list of list\n",
    "print(np_list.shape) # 3 columns, each a list with 3 columns, each with 3 column (3,3,3)\n",
    "\n"
   ]
  },
  {
   "cell_type": "code",
   "execution_count": 34,
   "metadata": {},
   "outputs": [
    {
     "name": "stdout",
     "output_type": "stream",
     "text": [
      "[0. 0. 0. 0. 0. 0. 0. 0. 0. 0.]\n",
      "[[[0. 0. 0.]\n",
      "  [0. 0. 0.]\n",
      "  [0. 0. 0.]]\n",
      "\n",
      " [[0. 0. 0.]\n",
      "  [0. 0. 0.]\n",
      "  [0. 0. 0.]]\n",
      "\n",
      " [[0. 0. 0.]\n",
      "  [0. 0. 0.]\n",
      "  [0. 0. 0.]]]\n",
      "[[[[0. 0.]\n",
      "   [0. 0.]]\n",
      "\n",
      "  [[0. 0.]\n",
      "   [0. 0.]]]\n",
      "\n",
      "\n",
      " [[[0. 0.]\n",
      "   [0. 0.]]\n",
      "\n",
      "  [[0. 0.]\n",
      "   [0. 0.]]]]\n"
     ]
    }
   ],
   "source": [
    "print(np.zeros(10))\n",
    "print(np.zeros((3,3,3))) # 3 dimensional array\n",
    "print(np.zeros((2,2,2,2))) # 3 dimensional array"
   ]
  },
  {
   "cell_type": "markdown",
   "metadata": {},
   "source": [
    "Visualzing dimensions - initial attempt\n",
    "\n",
    "- 0 dimension. A single value with no metadata. Ex: 19\n",
    "- 1 dimension. List of values. 1 metadata variable: size. Ex: [1,2,3,4]. Size: 4\n",
    "- 2 dimension. Matrix of values. Can grow horizontally or vertically. Imagine a sheet of paper which can grow horizontally or verically. Metadata: x-size and y-size Eg: Matrix with m,n row, column values to indicate size\n",
    "- 3 dimension. Multiple sheets of paper layered on one other. Extra metadata value to represent number of sheets. 3 sheets of paper. each paper length 1m and height 2m can be represented as 1,2,3\n",
    "- 4 dimension. Multiple stacks of sheets of paper. Extra metadata value represents the number of such stacks. Ex: 4 stacks of paper. Each stack with 5 sheets of paper and each paper has height 2m and widhth 3 me : (3,2,5,4) : (height, width, numsheets, numstacks)\n",
    "- 5 dims : multiple boxes. each box contains multiple stacks of paper. extra variable indicates the number of such boxes\n",
    "- 6 dims: container with boxes representing 5 dims.\n",
    "- 7 dims: boats with container\n",
    "- 8 dims: fleet with boats\n"
   ]
  },
  {
   "cell_type": "code",
   "execution_count": 56,
   "metadata": {
    "scrolled": true
   },
   "outputs": [
    {
     "name": "stdout",
     "output_type": "stream",
     "text": [
      "[0. 0. 0. 0.]\n",
      "[[0. 0.]\n",
      " [0. 0.]]\n",
      "[[1. 1.]\n",
      " [1. 1.]]\n",
      "[1. 1. 1.]\n",
      "[0 1 2 3]\n",
      "[[1 2]\n",
      " [3 4]]\n",
      "(2, 2)\n",
      "(2, 2)\n",
      "[[9 9]\n",
      " [9 9]]\n",
      "[[0 0]\n",
      " [0 0]]\n",
      "[[0 0]\n",
      " [0 0]]\n",
      "[[1. 0. 0.]\n",
      " [0. 1. 0.]\n",
      " [0. 0. 1.]]\n",
      "[[1. 0. 0.]\n",
      " [0. 1. 0.]\n",
      " [0. 0. 1.]]\n"
     ]
    }
   ],
   "source": [
    "# array creation methods\n",
    "\n",
    "print(np.zeros(4))\n",
    "print(np.zeros((2,2)))\n",
    "print(np.ones((2,2)))\n",
    "print(np.empty(3)) # unintialized\n",
    "print(np.arange(4))\n",
    "\n",
    "my_list = [[1,2],[3,4]]\n",
    "my_np = np.array(my_list) # copies data into np.array\n",
    "print(my_np)\n",
    "\n",
    "my_np_2 = np.asarray(my_list) # does a copy\n",
    "my_np_2 = np.asarray(my_np) # does not do a copy\n",
    "\n",
    "my_ones = np.ones_like(my_np_2) # create ones with same shape\n",
    "print(my_np_2.shape)\n",
    "print(my_ones.shape)\n",
    "\n",
    "# use shape fill with value\n",
    "my_fullof9s = np.full_like(my_ones , 9)\n",
    "print(my_fullof9s)\n",
    "\n",
    "# similarly\n",
    "print(np.zeros_like(my_ones))\n",
    "print(np.empty_like(my_ones))\n",
    "\n",
    "# identity (0s on the diagonal)\n",
    "# always creates an N*N matrix\n",
    "print(np.eye(3))\n",
    "print(np.identity(3))"
   ]
  },
  {
   "cell_type": "code",
   "execution_count": 60,
   "metadata": {},
   "outputs": [
    {
     "name": "stdout",
     "output_type": "stream",
     "text": [
      "int64\n",
      "float64\n",
      "[1 3]\n"
     ]
    }
   ],
   "source": [
    "# data types\n",
    "int_arr = np.array([1,2,3,4])\n",
    "print(int_arr.dtype)\n",
    "\n",
    "# cast to a different type (always copies)\n",
    "float_arr = int_arr.astype(np.float64)\n",
    "print(float_arr.dtype)\n",
    "\n",
    "# downcasting works - be careful\n",
    "floats = [1.2,3.4]\n",
    "print(np.array(floats).astype(np.int32)) # will give truncated values"
   ]
  },
  {
   "cell_type": "code",
   "execution_count": 67,
   "metadata": {
    "scrolled": true
   },
   "outputs": [
    {
     "name": "stdout",
     "output_type": "stream",
     "text": [
      "[[ 2  4  6]\n",
      " [ 8 10 12]]\n",
      "[[ True  True  True]\n",
      " [ True  True  True]]\n",
      "[[ 1  4  9]\n",
      " [16 25 36]]\n",
      "[[ 3  6  9]\n",
      " [12 15 18]]\n",
      "[[ 1  4  9]\n",
      " [16 25 36]]\n",
      "[[1.         0.5        0.33333333]\n",
      " [0.25       0.2        0.16666667]]\n",
      "[[ 2  4  6]\n",
      " [ 8 10 12]]\n"
     ]
    }
   ],
   "source": [
    "arr = np.array([[1,2,3], [4,5,6]])\n",
    "\n",
    "print(arr + arr)\n",
    "print(arr == arr) # returns booleans with same shape\n",
    "print(arr * arr)\n",
    "\n",
    "print(arr * 3) # scalars apply to all elements\n",
    "print(arr ** 2) # scalars apply to all elements\n",
    "print(1/arr) # scalars apply to all elements\n",
    "\n",
    "# operations between differently sizes arrays \n",
    "# termed 'broadcasting' seems to be an advanced topic\n",
    "\n",
    "diff_arr = np.array([[1,2,3], [4,5,6], [7,8,9]])\n",
    "\n",
    "print(arr + diff_arr[0:2]) # this works !"
   ]
  },
  {
   "cell_type": "code",
   "execution_count": 72,
   "metadata": {
    "scrolled": true
   },
   "outputs": [
    {
     "name": "stdout",
     "output_type": "stream",
     "text": [
      "[0 1 2 3 4 5 6 7 8 9]\n",
      "[8 9]\n",
      "[3 4]\n",
      "[ 0  1  2 -1 -1  5  6  7  8  9]\n",
      "[ 0  1  2 -1 -1  5  6 12 12 12]\n",
      "[23  1  2 -1 -1  5  6 12 12 12]\n"
     ]
    }
   ],
   "source": [
    "# indexing and slicing\n",
    "arr = np.arange(10)\n",
    "print(arr)\n",
    "print(arr[-2:])\n",
    "print(arr[3:5])\n",
    "\n",
    "# all slices are views and no copies are made implicitly\n",
    "# which means that changes are reflected in original array\n",
    "\n",
    "arr[3:5] = [-1, -1]\n",
    "print(arr)\n",
    "\n",
    "# scalars are broadcasted (applied to all values in the slice)\n",
    "arr[7:] = 12\n",
    "print(arr)\n",
    "\n",
    "# slices are views\n",
    "arr_slice = arr[0:1]\n",
    "arr_slice[:] = 23\n",
    "print(arr)"
   ]
  },
  {
   "cell_type": "code",
   "execution_count": 97,
   "metadata": {
    "scrolled": true
   },
   "outputs": [
    {
     "name": "stdout",
     "output_type": "stream",
     "text": [
      "[[[0 0]\n",
      "  [0 0]]\n",
      "\n",
      " [[1 1]\n",
      "  [1 1]]\n",
      "\n",
      " [[2 2]\n",
      "  [2 2]]]\n",
      "=====\n",
      "[[1 1]\n",
      " [1 1]]\n",
      "[2 2]\n",
      "2\n",
      "<class 'numpy.int64'>\n",
      "int64\n",
      "====\n",
      "2\n",
      "[0 1 2]\n",
      "[[[ 0  0]\n",
      "  [35  0]]\n",
      "\n",
      " [[ 1  1]\n",
      "  [35  1]]\n",
      "\n",
      " [[ 2  2]\n",
      "  [35  2]]]\n",
      "=====\n",
      "3\n",
      "3\n",
      "[[[1.]]]\n",
      "2\n",
      "[[1.]]\n",
      "1\n",
      "[1.]\n",
      "0\n",
      "1.0\n"
     ]
    }
   ],
   "source": [
    "# working with higher dim arrays\n",
    "\n",
    "# create a 3 dimensional array (list of 2 dim arrays)\n",
    "arr = np.array([np.full((2,2), x) for x in range(3)])\n",
    "print(arr)\n",
    "\n",
    "print(\"=====\")\n",
    "\n",
    "# indexing the 3 dim array results in the 2 dim elemen t\n",
    "print(arr[1])\n",
    "\n",
    "# chained indexing\n",
    "print(arr[2][1]) # results in a 1 dim array\n",
    "print(arr[2][1][0]) # results in a 0 dim array, scalar\n",
    "print(type(arr[2][1][0]))\n",
    "print(arr[2][1][0].dtype)\n",
    "\n",
    "print(\"====\")\n",
    "# comma separated indexing is the same thing\n",
    "print(arr[2,1,0])\n",
    "\n",
    "# slicing\n",
    "print(arr[:,1,0]) # from each 2 dim array, pick row 1 and from there element 0\n",
    "arr[:,1,0] = 35\n",
    "print(arr)\n",
    "\n",
    "print(\"=====\")\n",
    "\n",
    "# mixing indexes and slices results in a lowe dimensional slice\n",
    "dim_3 = np.ones((3,2,2))\n",
    "print(dim_3.ndim)\n",
    "# gets the last 2 dim element's last 1 dim elements' last element\n",
    "# this is a single element\n",
    "dim_3_slice = dim_3[-1:,-1:,-1:] \n",
    "# though a single element, it's still a 3 dim view since \n",
    "# we did not use indexes, only slices\n",
    "print(dim_3_slice.ndim)\n",
    "print(dim_3_slice)\n",
    "\n",
    "# using indexeds + slices results in a lower dim\n",
    "dim_2_slice = dim_3[-1,-1:,-1:]\n",
    "print(dim_2_slice.ndim)\n",
    "print(dim_2_slice)\n",
    "\n",
    "# using 2 indexes\n",
    "dim_1_slice = dim_3[-1,-1,-1:]\n",
    "print(dim_1_slice.ndim)\n",
    "print(dim_1_slice)\n",
    "\n",
    "# using 3 indexes\n",
    "dim_0_slice = dim_3[-1,-1,-1]\n",
    "print(dim_0_slice.ndim)\n",
    "print(dim_0_slice)\n"
   ]
  },
  {
   "cell_type": "code",
   "execution_count": 120,
   "metadata": {},
   "outputs": [
    {
     "name": "stdout",
     "output_type": "stream",
     "text": [
      "<U4\n",
      "['Bob' 'Joe' 'Will' 'Bob' 'Will' 'Joe' 'Joe']\n",
      "[ True False False  True False False False]\n",
      "[[ 0.0203783   1.11994277 -0.51407979  1.13245742]\n",
      " [-0.36596106 -1.05154301  0.43952533  0.7653775 ]\n",
      " [-0.94395208 -1.87999608 -0.51348828  0.52559861]\n",
      " [-0.93631458 -0.25028632 -0.6900305   1.35750237]\n",
      " [ 0.62767707  0.62827412 -0.29056594 -0.73218849]\n",
      " [ 1.05119636  0.7294467   0.75083831  1.68344635]\n",
      " [ 0.0668203  -0.30589904  0.42204542  1.4447867 ]]\n",
      "===\n",
      "[[ 0.0203783   1.11994277 -0.51407979  1.13245742]\n",
      " [-0.93631458 -0.25028632 -0.6900305   1.35750237]]\n",
      "[[1.13245742]\n",
      " [1.35750237]]\n",
      "(2, 1)\n",
      "[[ 0.7653775 ]\n",
      " [ 0.52559861]\n",
      " [-0.73218849]\n",
      " [ 1.68344635]\n",
      " [ 1.4447867 ]]\n",
      "<class 'numpy.ndarray'>\n",
      "bool\n"
     ]
    }
   ],
   "source": [
    "# boolean indexing\n",
    "names = np.array(['Bob', 'Joe', 'Will', 'Bob', 'Will', 'Joe', 'Joe'])\n",
    "data = np.random.randn(7, 4)\n",
    "print(names.dtype)\n",
    "#'<U4'  means little endian unicode 4 bytes\n",
    "#help(names.dtype)\n",
    "\n",
    "print(names)\n",
    "print(names == 'Bob') # comparison operator on a scalar also broadcasts\n",
    "\n",
    "# this boolean array can be passed to a different array\n",
    "# selects rows where the index in the boolean expression array is true\n",
    "# effectively selects 2 rows (0 and 3)\n",
    "print(data)\n",
    "print(\"===\")\n",
    "print(data[names == 'Bob']) \n",
    "\n",
    "# can also slice\n",
    "print(data[names == 'Bob', -1:]) \n",
    "print(data[names == 'Bob', -1:].shape) \n",
    "\n",
    "cond = names == 'Bob'\n",
    "print(data[~cond, -1:]) # negation\n",
    "\n",
    "#can create masks\n",
    "cond = (names == 'Bob') | (names == 'Will')\n",
    "print(type(cond)) # also an ndarray just has booleans\n",
    "print(cond.dtype)"
   ]
  },
  {
   "cell_type": "code",
   "execution_count": 121,
   "metadata": {},
   "outputs": [
    {
     "name": "stdout",
     "output_type": "stream",
     "text": [
      "2\n",
      "(2, 3)\n"
     ]
    }
   ],
   "source": [
    "# notation of shape\n",
    "# higher dimensions come first in the order \n",
    "# list of 2 elements each element is a list of 3 scalars\n",
    "arr = np.array([[2,3,4], [2,3,4]])\n",
    "print(arr.ndim)\n",
    "print(arr.shape)"
   ]
  },
  {
   "cell_type": "code",
   "execution_count": 146,
   "metadata": {
    "scrolled": true
   },
   "outputs": [
    {
     "name": "stdout",
     "output_type": "stream",
     "text": [
      "[[0.0203783  1.11994277 0.         1.13245742]\n",
      " [0.         0.         0.43952533 0.7653775 ]\n",
      " [0.         0.         0.         0.52559861]\n",
      " [0.         0.         0.         1.35750237]\n",
      " [0.62767707 0.62827412 0.         0.        ]\n",
      " [1.05119636 0.7294467  0.75083831 1.68344635]\n",
      " [0.0668203  0.         0.42204542 1.4447867 ]]\n"
     ]
    }
   ],
   "source": [
    "# the next mapping is fascinating\n",
    "# data < 0 is a 3 dim boolean index. This allows \n",
    "# for manipulation at a scalar level\n",
    "data[data < 0] = 0\n",
    "print(data)\n",
    "# array takes in a boolean indexing condition\n",
    "# which has the same dimensions as itself\n",
    "# and then broadcasts only to those elements"
   ]
  },
  {
   "cell_type": "code",
   "execution_count": 145,
   "metadata": {},
   "outputs": [
    {
     "name": "stdout",
     "output_type": "stream",
     "text": [
      "====\n",
      "(3, 2, 2)\n",
      "(3, 2)\n",
      "[[[ 1.  1.]\n",
      "  [ 1.  1.]]\n",
      "\n",
      " [[24. 24.]\n",
      "  [24. 24.]]\n",
      "\n",
      " [[ 1.  1.]\n",
      "  [ 1.  1.]]]\n",
      "[[[50. 50.]\n",
      "  [50. 50.]]\n",
      "\n",
      " [[24. 24.]\n",
      "  [24. 24.]]\n",
      "\n",
      " [[50. 50.]\n",
      "  [50. 50.]]]\n"
     ]
    }
   ],
   "source": [
    "# in the first example, a single dimensional array\n",
    "# was used; so the indexing only applied to \n",
    "# the lower dimensional arrays whose higherstdimension array\n",
    "# mapped to True\n",
    "\n",
    "print(\"====\")\n",
    "# what happens is a two dimensional array is used ?\n",
    "dim_3_ones = np.ones((3,2,2))\n",
    "print(dim_3_ones.shape)\n",
    "\n",
    "# the higher dimensions need to match\n",
    "dim_2_boolean = np.array([[0,0],[1,1],[0,0]]) > 0\n",
    "print(dim_2_boolean.shape)\n",
    "\n",
    "dim_3_ones[dim_2_boolean] = 24\n",
    "print(dim_3_ones)\n",
    "\n",
    "dim_1_boolean = np.array([1,0,1]) > 0\n",
    "dim_3_ones[dim_1_boolean] = 50\n",
    "print(dim_3_ones)\n",
    "\n",
    "# if the boolean expression is of a lower dimension\n",
    "# all lower dimensions of the original array are brodcasted\n",
    "# example: a 1 dim bool expression is used for a 3 dim array\n",
    "# the lower 2 dims of the 3 dim array are untouched\n",
    "# when a 2 dim bool expression is used for a 3 dim array\n",
    "# each elemnt in the lower dimensions also is conditionally selected\n"
   ]
  },
  {
   "cell_type": "code",
   "execution_count": 150,
   "metadata": {
    "scrolled": true
   },
   "outputs": [
    {
     "name": "stdout",
     "output_type": "stream",
     "text": [
      "[[4. 4. 4. 4.]\n",
      " [3. 3. 3. 3.]\n",
      " [0. 0. 0. 0.]\n",
      " [6. 6. 6. 6.]]\n",
      "[[4. 4. 4. 4.]\n",
      " [3. 3. 3. 3.]\n",
      " [3. 3. 3. 3.]\n",
      " [4. 4. 4. 4.]]\n",
      "[[4. 4. 4. 4.]\n",
      " [7. 7. 7. 7.]\n",
      " [6. 6. 6. 6.]\n",
      " [4. 4. 4. 4.]]\n"
     ]
    }
   ],
   "source": [
    "# fancy indexing\n",
    "arr = np.empty((8,4))\n",
    "\n",
    "for i in range(8):\n",
    "    arr[i] = i\n",
    "\n",
    "# select rows in particular order:\n",
    "# select row 4 then 3 then 0 then 6:\n",
    "print(arr[[4,3,0,6]])\n",
    "print(arr[[4,3,3,4]])\n",
    "print(arr[[4,-1,-2,4]])"
   ]
  },
  {
   "cell_type": "code",
   "execution_count": 153,
   "metadata": {},
   "outputs": [
    {
     "name": "stdout",
     "output_type": "stream",
     "text": [
      "[[ 0  1  2  3]\n",
      " [ 4  5  6  7]\n",
      " [ 8  9 10 11]\n",
      " [12 13 14 15]\n",
      " [16 17 18 19]\n",
      " [20 21 22 23]\n",
      " [24 25 26 27]\n",
      " [28 29 30 31]]\n"
     ]
    }
   ],
   "source": [
    "# reshape\n",
    "arr=np.arange(32).reshape(8,4)\n",
    "print(arr)"
   ]
  },
  {
   "cell_type": "code",
   "execution_count": 174,
   "metadata": {
    "scrolled": true
   },
   "outputs": [
    {
     "name": "stdout",
     "output_type": "stream",
     "text": [
      "[ 4 23 29 10]\n",
      "[[ 4  6]\n",
      " [ 8 10]]\n",
      "----\n",
      "(8, 4)\n"
     ]
    },
    {
     "data": {
      "text/plain": [
       "array([[ 4,  6],\n",
       "       [ 8, 10]])"
      ]
     },
     "execution_count": 174,
     "metadata": {},
     "output_type": "execute_result"
    }
   ],
   "source": [
    "print(arr[[1,5,7,2],[0,3,1,2]]) # selects (1,0); (5,3); (7,1) ..\n",
    "\n",
    "# if the rectangular region bounded by the subset of rows, columns is desired\n",
    "# then do only select rows 1 2 and only colums 0 2\n",
    "print(arr[[1,2]][:,[0,2]])\n",
    "\n",
    "print(\"----\")\n",
    "\n",
    "# via bool expression\n",
    "print(arr.shape)\n",
    "row_index = np.zeros(arr.shape[0])\n",
    "column_index = np.zeros(arr.shape[1])\n",
    "row_index[1:3] = 1\n",
    "column_index[[0,2]] = 1\n",
    "arr[row_index == 1][:,column_index == 1]"
   ]
  },
  {
   "cell_type": "code",
   "execution_count": 182,
   "metadata": {
    "scrolled": true
   },
   "outputs": [
    {
     "name": "stdout",
     "output_type": "stream",
     "text": [
      "[[ 0  1  2  3  4]\n",
      " [ 5  6  7  8  9]\n",
      " [10 11 12 13 14]]\n",
      "[[ 0  5 10]\n",
      " [ 1  6 11]\n",
      " [ 2  7 12]\n",
      " [ 3  8 13]\n",
      " [ 4  9 14]]\n",
      "=======\n",
      "[[[ 0  1  2  3]\n",
      "  [ 4  5  6  7]]\n",
      "\n",
      " [[ 8  9 10 11]\n",
      "  [12 13 14 15]]]\n",
      "[[[ 0  1  2  3]\n",
      "  [ 8  9 10 11]]\n",
      "\n",
      " [[ 4  5  6  7]\n",
      "  [12 13 14 15]]]\n",
      "[[[ 0  4]\n",
      "  [ 8 12]]\n",
      "\n",
      " [[ 1  5]\n",
      "  [ 9 13]]\n",
      "\n",
      " [[ 2  6]\n",
      "  [10 14]]\n",
      "\n",
      " [[ 3  7]\n",
      "  [11 15]]]\n",
      "====\n",
      "14\n",
      "14\n"
     ]
    }
   ],
   "source": [
    "# swapping axes / transposing\n",
    "arr = np.arange(15).reshape((3, 5))\n",
    "print(arr)\n",
    "\n",
    "# transpose (which is just an axis swap)\n",
    "print(arr.T)\n",
    "\n",
    "print('=======')\n",
    "arr = np.arange(16).reshape((2,2,4))\n",
    "print(arr)\n",
    "print(arr.transpose(1,0,2))\n",
    "print(arr.transpose(2,0,1))\n",
    "\n",
    "# transpose above is a bit mind-bending but see explanation below\n",
    "\n",
    "print(\"====\")\n",
    "# the transformation itself is straightforward as \n",
    "# a bad brute force transformation could just be to \n",
    "# enumerate all of the elements and replace them using the \n",
    "# logic: element at x,y,z is now at z,x,y since we transposed 0,1,2\n",
    "# to 2, 0, 1\n",
    "print(arr[1][1][2])\n",
    "print(arr.transpose(2,0,1)[2][1][1])"
   ]
  },
  {
   "cell_type": "code",
   "execution_count": 194,
   "metadata": {
    "scrolled": false
   },
   "outputs": [
    {
     "name": "stdout",
     "output_type": "stream",
     "text": [
      "[0 1 2 3 4 5 6 7 8 9]\n",
      "[0.         1.         1.41421356 1.73205081 2.         2.23606798\n",
      " 2.44948974 2.64575131 2.82842712 3.        ]\n",
      "[1.00000000e+00 2.71828183e+00 7.38905610e+00 2.00855369e+01\n",
      " 5.45981500e+01 1.48413159e+02 4.03428793e+02 1.09663316e+03\n",
      " 2.98095799e+03 8.10308393e+03]\n",
      "=====\n",
      "[-0.06230541 -0.1873436   1.0080327   0.10815927  2.03754922  0.46921418\n",
      "  0.2932346   1.16181418  0.35542358  3.32527619]\n",
      "False\n"
     ]
    },
    {
     "data": {
      "text/plain": [
       "array([0.        , 0.        , 1.00400832, 0.        , 0.        ,\n",
       "       0.        , 0.54151141, 1.07787485, 0.        , 0.28434917])"
      ]
     },
     "execution_count": 194,
     "metadata": {},
     "output_type": "execute_result"
    }
   ],
   "source": [
    "# universal functions\n",
    "arr = np.arange(10)\n",
    "print(arr)\n",
    "\n",
    "#unary\n",
    "print(np.sqrt(arr))\n",
    "print(np.exp(arr))\n",
    "\n",
    "print(\"=====\")\n",
    "# binary\n",
    "arr_1 = np.random.randn(10)\n",
    "arr_2 = np.random.randn(10)\n",
    "\n",
    "# element-wise maximum\n",
    "print(np.maximum(arr_1, arr_2))\n",
    "\n",
    "# in-place operations\n",
    "arr_1[arr_1  < 0 ] = 0\n",
    "arr_2 = np.sqrt(arr_1) # creates a new array\n",
    "print(arr_2 is arr_1)\n",
    "\n",
    "np.sqrt(arr_1, arr_1)\n"
   ]
  },
  {
   "cell_type": "code",
   "execution_count": 206,
   "metadata": {
    "scrolled": true
   },
   "outputs": [
    {
     "data": {
      "text/plain": [
       "array([[7.07106781, 7.06400028, 7.05693985, ..., 7.04988652, 7.05693985,\n",
       "        7.06400028],\n",
       "       [7.06400028, 7.05692568, 7.04985815, ..., 7.04279774, 7.04985815,\n",
       "        7.05692568],\n",
       "       [7.05693985, 7.04985815, 7.04278354, ..., 7.03571603, 7.04278354,\n",
       "        7.04985815],\n",
       "       ...,\n",
       "       [7.04988652, 7.04279774, 7.03571603, ..., 7.0286414 , 7.03571603,\n",
       "        7.04279774],\n",
       "       [7.05693985, 7.04985815, 7.04278354, ..., 7.03571603, 7.04278354,\n",
       "        7.04985815],\n",
       "       [7.06400028, 7.05692568, 7.04985815, ..., 7.04279774, 7.04985815,\n",
       "        7.05692568]])"
      ]
     },
     "execution_count": 206,
     "metadata": {},
     "output_type": "execute_result"
    }
   ],
   "source": [
    "points = np.arange(-5,5,0.01)\n",
    "xs,ys = np.meshgrid(points, points)\n",
    "#print(xs)\n",
    "#print(ys)\n",
    "#help(np.meshgrid)\n",
    "z = np.sqrt(xs**2  + ys**2)\n",
    "z"
   ]
  },
  {
   "cell_type": "code",
   "execution_count": 213,
   "metadata": {},
   "outputs": [
    {
     "data": {
      "text/plain": [
       "<matplotlib.colorbar.Colorbar at 0x7fc87d0404d0>"
      ]
     },
     "execution_count": 213,
     "metadata": {},
     "output_type": "execute_result"
    },
    {
     "data": {
      "image/png": "[encoded data removed]",
      "text/plain": [
       "<Figure size 432x288 with 2 Axes>"
      ]
     },
     "metadata": {
      "needs_background": "light"
     },
     "output_type": "display_data"
    }
   ],
   "source": [
    "import matplotlib.pyplot as plt\n",
    "plt.imshow(z, cmap=plt.cm.gray)\n",
    "plt.colorbar()"
   ]
  },
  {
   "cell_type": "code",
   "execution_count": 226,
   "metadata": {
    "scrolled": true
   },
   "outputs": [
    {
     "name": "stdout",
     "output_type": "stream",
     "text": [
      "[1, -2, 3, -4, 5]\n",
      "[ 1 -2  3 -4  5]\n",
      "[1 0 3 0 5]\n"
     ]
    }
   ],
   "source": [
    "# where\n",
    "\n",
    "arr_1 = np.array([1,2,3,4,5])\n",
    "arr_2 = np.array([-1,-2,-3,-4,-5])\n",
    "cond_arr = np.array([bool(x % 2) for x in range(1,6)])\n",
    "\n",
    "#we could do (very slow since all of it is in python)\n",
    "selection = [x if z else y for x,y,z in zip(arr_1,arr_2,cond_arr)]\n",
    "print(selection)\n",
    "\n",
    "# instead do this\n",
    "selection_np = np.where(cond_arr, arr_1, arr_2)\n",
    "print(selection_np)\n",
    "\n",
    "\n",
    "# where arguments can also be scalar\n",
    "select_odd = np.where(arr_1 % 2 == 0, 0, arr_1)\n",
    "print(select_odd)"
   ]
  },
  {
   "cell_type": "code",
   "execution_count": 239,
   "metadata": {
    "scrolled": true
   },
   "outputs": [
    {
     "name": "stdout",
     "output_type": "stream",
     "text": [
      "[[ 1.15835023 -0.70394427  1.97181942]\n",
      " [-0.80855889 -1.43698642 -0.51954994]\n",
      " [ 0.11824519  0.84990935  0.51294519]]\n",
      "0.12691442944800388\n",
      "1.1422298650320348\n",
      "[ 0.15601218 -0.43034045  0.65507156]\n",
      "=======\n",
      "[[0. 1. 2.]\n",
      " [3. 4. 5.]\n",
      " [6. 7. 8.]]\n",
      "[ 9. 12. 15.]\n",
      "[ 3. 12. 21.]\n",
      "[[ 0.  1.  3.]\n",
      " [ 3.  7. 12.]\n",
      " [ 6. 13. 21.]]\n"
     ]
    }
   ],
   "source": [
    "# aggregations and reductions\n",
    "arr = np.random.randn(3,3)\n",
    "print(arr)\n",
    "\n",
    "print(np.mean(arr))\n",
    "print(np.sum(arr))\n",
    "\n",
    "print(np.mean(arr, axis=0))\n",
    "\n",
    "print(\"=======\")\n",
    "arr = np.arange(9, dtype=np.float64).reshape(3,3)\n",
    "print(arr)\n",
    "\n",
    "print(np.sum(arr, axis=0))\n",
    "print(np.sum(arr, axis=1))\n",
    "\n",
    "print(np.cumsum(arr, axis=1))"
   ]
  },
  {
   "cell_type": "code",
   "execution_count": 255,
   "metadata": {
    "scrolled": true
   },
   "outputs": [
    {
     "name": "stdout",
     "output_type": "stream",
     "text": [
      "53\n",
      "True\n",
      "False\n",
      "True\n",
      "[1 1 1 2 3 4]\n",
      "5\n"
     ]
    }
   ],
   "source": [
    "# boolean array\n",
    "\n",
    "arr = np.random.randn(100)\n",
    "print((arr>0).sum()) # boolean values are coerced into 0 and 1 so can be summed\n",
    "\n",
    "print((arr>0).any())\n",
    "print((arr>0).all())\n",
    "arr[True] = 1 # turn all elements to 1\n",
    "print(arr.all())\n",
    "\n",
    "#sorting\n",
    "arr = np.array([1,4,1,2,3,1])\n",
    "arr.sort()\n",
    "print(arr)\n",
    "\n",
    "#quantiles\n",
    "arr = np.arange(100)\n",
    "print(arr[int(0.05 * len(arr))])"
   ]
  },
  {
   "cell_type": "code",
   "execution_count": 262,
   "metadata": {
    "scrolled": true
   },
   "outputs": [
    {
     "name": "stdout",
     "output_type": "stream",
     "text": [
      "[1 2 3 4 5]\n",
      "[1 3]\n",
      "[1 2 3 4 5 6]\n",
      "[ True  True False  True False False False False False]\n",
      "[2 4 5]\n",
      "[2 4 5 6]\n"
     ]
    }
   ],
   "source": [
    "# set-like operations\n",
    "arr_1 = np.array([1,1,2,3,4,4,4,4,5])\n",
    "arr_2 = np.array([6,6,1,3])\n",
    "\n",
    "print(np.unique(arr_1))\n",
    "print(np.intersect1d(arr_1, arr_2))\n",
    "print(np.union1d(arr_1, arr_2))\n",
    "print(np.in1d(arr_1, arr_2)) # figures out whether each element in arr_1 is in arr_2\n",
    "print(np.setdiff1d(arr_1, arr_2)) # elements in a but not in b\n",
    "print(np.setxor1d(arr_1, arr_2)) # elements that are in one but no both"
   ]
  },
  {
   "cell_type": "code",
   "execution_count": 268,
   "metadata": {
    "scrolled": true
   },
   "outputs": [
    {
     "name": "stdout",
     "output_type": "stream",
     "text": [
      "/home/rushi/dev/git/python\n",
      "total 320\n",
      "-rw-r--r-- 1 rushi rushi  89926 May  7 10:51 effective_python.ipynb\n",
      "drwxr-xr-x 3 rushi rushi   4096 May 15 08:13 c_module\n",
      "-rw-r--r-- 1 rushi rushi  97846 May 15 08:22 python_cookbook.ipynb\n",
      "drwxr-xr-x 7 rushi rushi   4096 May 18 20:11 environment\n",
      "-rw-r--r-- 1 rushi rushi 127698 May 19 20:28 PythonForDataAnalysis.ipynb\n",
      "rm: cannot remove 'some_array.npy': No such file or directory\n"
     ]
    }
   ],
   "source": [
    "!pwd\n",
    "!ls -lrt"
   ]
  },
  {
   "cell_type": "code",
   "execution_count": 270,
   "metadata": {},
   "outputs": [],
   "source": [
    "# file saving and loading\n",
    "arr = np.arange(10)\n",
    "np.save('../../data/some_array', arr)"
   ]
  },
  {
   "cell_type": "code",
   "execution_count": 271,
   "metadata": {},
   "outputs": [
    {
     "name": "stdout",
     "output_type": "stream",
     "text": [
      "total 8\r\n",
      "drwxr-xr-x 10 rushi rushi 4096 Jun  8  2017 pda\r\n",
      "-rw-r--r--  1 rushi rushi  208 May 19 20:29 some_array.npy\r\n"
     ]
    }
   ],
   "source": [
    "!ls -lrt ../../data/\n"
   ]
  },
  {
   "cell_type": "code",
   "execution_count": 276,
   "metadata": {},
   "outputs": [
    {
     "name": "stdout",
     "output_type": "stream",
     "text": [
      "[0 1 2 3 4 5 6 7 8 9]\n"
     ]
    }
   ],
   "source": [
    "arr = np.load('../../data/some_array.npy')\n",
    "print(arr)"
   ]
  },
  {
   "cell_type": "code",
   "execution_count": 278,
   "metadata": {},
   "outputs": [
    {
     "name": "stdout",
     "output_type": "stream",
     "text": [
      "<class 'numpy.lib.npyio.NpzFile'>\n",
      "[0 1 2 3 4 5 6 7 8 9]\n",
      "[0 1 2 3 4]\n"
     ]
    }
   ],
   "source": [
    "# saving multiple arrays\n",
    "a_arr = np.arange(10)\n",
    "b_arr = np.arange(5)\n",
    "np.savez('../../data/mult_arrays.npz', a=a_arr, b=b_arr)\n",
    "# can also use np.savez_compressed('arrays_compressed.npz')\n",
    "values = np.load('../../data/mult_arrays.npz')\n",
    "print(type(values))\n",
    "print(values['a'])\n",
    "print(values['b'])"
   ]
  },
  {
   "cell_type": "code",
   "execution_count": 281,
   "metadata": {
    "scrolled": true
   },
   "outputs": [
    {
     "name": "stdout",
     "output_type": "stream",
     "text": [
      "[[17]\n",
      " [38]]\n",
      "[[17]\n",
      " [38]]\n"
     ]
    }
   ],
   "source": [
    "#linear algebra\n",
    "x = np.array([[1,2,3],[4,5,6]]) # 2x3 matrix\n",
    "y = np.array([[1],[2], [4]]) # 3x1 matrix\n",
    "print(np.dot(x,y))\n",
    "\n",
    "# infix operator also does dot mult\n",
    "print(x@y)"
   ]
  },
  {
   "cell_type": "code",
   "execution_count": 286,
   "metadata": {
    "scrolled": true
   },
   "outputs": [
    {
     "name": "stdout",
     "output_type": "stream",
     "text": [
      "[[ 1.44937947  0.08307145 -0.66755479]\n",
      " [ 0.08307145  0.34493396 -0.65476578]\n",
      " [-0.66755479 -0.65476578  2.39115406]]\n",
      "[[0.83127264 0.50046822 0.36911444]\n",
      " [0.50046822 6.33847741 1.87537397]\n",
      " [0.36911444 1.87537397 1.03478687]]\n",
      "[[ 1.00000000e+00  7.72923104e-17 -5.84209203e-17]\n",
      " [-1.48721238e-18  1.00000000e+00 -2.82469012e-17]\n",
      " [ 2.46343443e-17  3.61891644e-16  1.00000000e+00]]\n"
     ]
    }
   ],
   "source": [
    "# basic linear algebra functions\n",
    "arr = np.random.randn(3,3)\n",
    "mat = arr.T.dot(arr)\n",
    "print(mat)\n",
    "print(np.linalg.inv(mat))\n",
    "print(mat@np.linalg.inv(mat))\n",
    "\n",
    "# TODO understand and do:\n",
    "# eigens, pinv(penrose-moore pseudo inverse), qr decomposition,\n",
    "# svd (singular value decomposition), solve Ax = b for x\n",
    "# lstsq (least squares solution for ) Ax = b"
   ]
  },
  {
   "cell_type": "code",
   "execution_count": 289,
   "metadata": {},
   "outputs": [
    {
     "name": "stdout",
     "output_type": "stream",
     "text": [
      "[[-0.51957403 -1.63289077  1.3640908  -0.68774719]\n",
      " [-2.35507342 -1.64901052  1.29616814 -0.04114126]\n",
      " [ 0.58024239  1.12228698  0.103795   -0.14703223]\n",
      " [ 0.21214896 -0.59112371  0.26030598  0.1141144 ]]\n"
     ]
    }
   ],
   "source": [
    "# pseudo random number generation\n",
    "\n",
    "samples = np.random.normal(size=(4,4))\n",
    "print(samples)"
   ]
  },
  {
   "cell_type": "code",
   "execution_count": 292,
   "metadata": {},
   "outputs": [
    {
     "name": "stdout",
     "output_type": "stream",
     "text": [
      "490 ms ± 2.05 ms per loop (mean ± std. dev. of 7 runs, 1 loop each)\n"
     ]
    }
   ],
   "source": [
    "from random import normalvariate\n",
    "\n",
    "# generating large number of samples is faster in numpy\n",
    "# since it generates them simultaneously ?\n",
    "N = 1000000\n",
    "%timeit samples = [normalvariate(0,1) for _ in range(N)]"
   ]
  },
  {
   "cell_type": "code",
   "execution_count": 293,
   "metadata": {},
   "outputs": [
    {
     "name": "stdout",
     "output_type": "stream",
     "text": [
      "22.5 ms ± 948 µs per loop (mean ± std. dev. of 7 runs, 10 loops each)\n"
     ]
    }
   ],
   "source": [
    "%timeit np.random.normal(size=N)"
   ]
  },
  {
   "cell_type": "code",
   "execution_count": 298,
   "metadata": {
    "scrolled": true
   },
   "outputs": [
    {
     "name": "stdout",
     "output_type": "stream",
     "text": [
      "[0.19151945 0.62210877 0.43772774 0.78535858 0.77997581 0.27259261\n",
      " 0.27646426 0.80187218 0.95813935 0.87593263]\n",
      "[0.19151945 0.62210877 0.43772774 0.78535858 0.77997581 0.27259261\n",
      " 0.27646426 0.80187218 0.95813935 0.87593263]\n",
      "[ 0.47143516 -1.19097569  1.43270697 -0.3126519  -0.72058873  0.88716294\n",
      "  0.85958841 -0.6365235   0.01569637 -2.24268495]\n",
      "[ 0.47143516 -1.19097569  1.43270697 -0.3126519  -0.72058873  0.88716294\n",
      "  0.85958841 -0.6365235   0.01569637 -2.24268495]\n"
     ]
    }
   ],
   "source": [
    "# get the same random sequence\n",
    "np.random.seed(1234)\n",
    "print(np.random.rand(10))\n",
    "np.random.seed(1234)\n",
    "print(np.random.rand(10))\n",
    "\n",
    "# instead of global state, use a generator instead\n",
    "rng = np.random.RandomState(1234)\n",
    "print(rng.randn(10))\n",
    "rng = np.random.RandomState(1234)\n",
    "print(rng.randn(10))\n",
    "\n",
    "# TODO: Learn and run:\n",
    "# binomial, beta, chisquare, gamme and uniform distributions\n"
   ]
  },
  {
   "cell_type": "code",
   "execution_count": 304,
   "metadata": {
    "scrolled": true
   },
   "outputs": [
    {
     "data": {
      "text/plain": [
       "[<matplotlib.lines.Line2D at 0x7fc87d215210>]"
      ]
     },
     "execution_count": 304,
     "metadata": {},
     "output_type": "execute_result"
    },
    {
     "data": {
      "image/png": "[encoded data removed]",
      "text/plain": [
       "<Figure size 432x288 with 1 Axes>"
      ]
     },
     "metadata": {
      "needs_background": "light"
     },
     "output_type": "display_data"
    }
   ],
   "source": [
    "# random walk and simulation\n",
    "\n",
    "import random\n",
    "position = 0 \n",
    "walk = [position]\n",
    "steps = 1000\n",
    "for i in range(steps):\n",
    "    step = 1 if random.randint(0,1) else -1\n",
    "    position += step\n",
    "    walk.append(position)\n",
    "\n",
    "plt.title(\"Rushi Awesomeness over time\")\n",
    "plt.plot(walk[:100])"
   ]
  },
  {
   "cell_type": "code",
   "execution_count": 327,
   "metadata": {
    "scrolled": true
   },
   "outputs": [
    {
     "name": "stdout",
     "output_type": "stream",
     "text": [
      "-11\n",
      "34\n",
      "183\n",
      "[[  1   2   3 ... -26 -27 -26]\n",
      " [ -1  -2  -1 ... -34 -35 -34]\n",
      " [  1   2   1 ... -24 -23 -22]\n",
      " ...\n",
      " [ -1  -2  -1 ...  -2  -3  -2]\n",
      " [ -1  -2  -1 ...  12  11  12]\n",
      " [ -1   0  -1 ...   6   5   6]]\n",
      "-107\n",
      "105\n",
      "3324\n"
     ]
    },
    {
     "data": {
      "text/plain": [
       "[<matplotlib.lines.Line2D at 0x7fc8700cc610>,\n",
       " <matplotlib.lines.Line2D at 0x7fc8568559d0>]"
      ]
     },
     "execution_count": 327,
     "metadata": {},
     "output_type": "execute_result"
    },
    {
     "data": {
      "image/png": "[encoded data removed]",
      "text/plain": [
       "<Figure size 432x288 with 1 Axes>"
      ]
     },
     "metadata": {
      "needs_background": "light"
     },
     "output_type": "display_data"
    }
   ],
   "source": [
    "# can achieve the same effect as above \n",
    "# since a walk is just a collection of steps and a cumulative sum\n",
    "\n",
    "nsteps = 1000\n",
    "draws = np.random.randint(0, 2, size=nsteps)\n",
    "steps = np.where(draws > 0, 1, -1)\n",
    "walk = steps.cumsum()\n",
    "print(walk.min())\n",
    "print(walk.max())\n",
    "\n",
    "# first time a value crossed a threshold\n",
    "print((np.abs(walk) >= 10).argmax())\n",
    "\n",
    "#generating multiple random walk simulations\n",
    "nwalks = 5000\n",
    "draws = np.random.randint(0, 2, size=(nwalks,nsteps))\n",
    "steps = np.where(draws > 0, 1, -1)\n",
    "walks = steps.cumsum(1) # cumsum over the 1st axis (not the 0th)\n",
    "print(walks)\n",
    "\n",
    "print(walks.min())\n",
    "print(walks.max())\n",
    "\n",
    "\n",
    "hits30 = (np.abs(walks) >= 30).any(1) # creats a boolean array\n",
    "print(hits30.sum()) # number of walks that hit 30\n",
    "\n",
    "# crossing times\n",
    "(np.abs(walks[hits30]) >= 30).argmax(1)\n",
    "\n",
    "# draw simultaneous\n",
    "t = walks[1][:100]\n",
    "z = walks[2][:100]\n",
    "#print(t)\n",
    "#print(z)\n",
    "plt.plot(t,'r', z, 'g')"
   ]
  },
  {
   "cell_type": "markdown",
   "metadata": {},
   "source": [
    "###  Chapter 5 - Pandas"
   ]
  },
  {
   "cell_type": "code",
   "execution_count": 353,
   "metadata": {},
   "outputs": [
    {
     "name": "stdout",
     "output_type": "stream",
     "text": [
      "0    1\n",
      "1    2\n",
      "2    3\n",
      "3    4\n",
      "dtype: int64\n",
      "[1 2 3 4]\n",
      "<class 'numpy.ndarray'>\n",
      "<class 'pandas.core.indexes.range.RangeIndex'>\n",
      "RangeIndex(start=0, stop=4, step=1)\n",
      "a    1\n",
      "b    2\n",
      "c    3\n",
      "d    4\n",
      "dtype: int64\n",
      "<class 'pandas.core.indexes.base.Index'>\n",
      "3\n",
      "3\n",
      "====\n",
      "c    3\n",
      "d    4\n",
      "dtype: int64\n",
      "a    1\n",
      "b    2\n",
      "c    3\n",
      "d    4\n",
      "dtype: int64\n"
     ]
    }
   ],
   "source": [
    "# series (fixed value ordered dict with index(keys) and values (np array))\n",
    "\n",
    "import pandas as pd\n",
    "from pandas import Series, DataFrame\n",
    "\n",
    "obj = Series([1,2,3,4]) # similar to np.array\n",
    "print(obj)\n",
    "\n",
    "# series have a sequence of values and an associated array of labels\n",
    "# called its index\n",
    "\n",
    "print(obj.values)\n",
    "print(type(obj.values)) # is a numpy array !\n",
    "print(type(obj.index))\n",
    "print(obj.index)\n",
    "#help(obj) --> TODO: Read the entire help\n",
    "\n",
    "\n",
    "obj2 = pd.Series([1,2,3,4], index = ['a','b', 'c', 'd'])\n",
    "print(obj2)\n",
    "print(type(obj2.index))\n",
    "\n",
    "# can use labels for access\n",
    "print(obj2['c'])\n",
    "print(obj2[2])\n",
    "\n",
    "print(\"====\")\n",
    "# link preserved post numpy filtering\n",
    "print(obj2[obj2 > 2])\n",
    "\n",
    "# can also be passed to numpy universal functions\n",
    "print(np.abs(obj2))\n"
   ]
  },
  {
   "cell_type": "code",
   "execution_count": 356,
   "metadata": {},
   "outputs": [
    {
     "name": "stdout",
     "output_type": "stream",
     "text": [
      "True\n",
      "False\n",
      "a    1\n",
      "b    2\n",
      "c    3\n",
      "d    4\n",
      "dtype: int64\n",
      "a    1.0\n",
      "b    2.0\n",
      "d    4.0\n",
      "e    NaN\n",
      "dtype: float64\n",
      "a    False\n",
      "b    False\n",
      "d    False\n",
      "e     True\n",
      "dtype: bool\n"
     ]
    }
   ],
   "source": [
    "# Series can also be though of as a fixed length ordered dict\n",
    "# mapping from index key to values\n",
    "\n",
    "# dict like operations\n",
    "print('b' in obj2)\n",
    "print('e' in obj2)\n",
    "\n",
    "\n",
    "# dict to series conversion\n",
    "sdata = {'a' : 1, 'b' : 2, 'c' : 3, 'd': 4}\n",
    "pdata = Series(sdata)\n",
    "print(pdata)\n",
    "\n",
    "# pass in a different order \n",
    "ordered_keys = ['a', 'b', 'd', 'e'] # exclude c, include e\n",
    "pdata = Series(sdata, index=ordered_keys)\n",
    "print(pdata) # will include e with a null value and exclude c\n",
    "print(pdata.isnull())"
   ]
  },
  {
   "cell_type": "code",
   "execution_count": 362,
   "metadata": {
    "scrolled": true
   },
   "outputs": [
    {
     "name": "stdout",
     "output_type": "stream",
     "text": [
      "a    2.0\n",
      "b    4.0\n",
      "c    6.0\n",
      "d    NaN\n",
      "e    NaN\n",
      "dtype: float64\n",
      "my_index\n",
      "a    1\n",
      "b    2\n",
      "c    3\n",
      "d    4\n",
      "Name: my_dataset, dtype: int64\n",
      "0    1\n",
      "1    2\n",
      "2    3\n",
      "3    4\n",
      "Name: my_dataset, dtype: int64\n"
     ]
    }
   ],
   "source": [
    "# data alignment by keys\n",
    "sdata = {'a' : 1, 'b' : 2, 'c' : 3, 'd': 4}\n",
    "pdata = Series(sdata)\n",
    "\n",
    "sdata = {'a' : 1, 'b' : 2, 'c' : 3, 'e': 4}\n",
    "pdata_2 = Series(sdata)\n",
    "\n",
    "print(pdata + pdata_2)\n",
    "\n",
    "#names to index and series \n",
    "pdata.name = \"my_dataset\"\n",
    "pdata.index.name = \"my_index\"\n",
    "print(pdata)\n",
    "\n",
    "# indexes can be replaced in-place\n",
    "pdata.index = range(4)\n",
    "print(pdata)"
   ]
  },
  {
   "cell_type": "code",
   "execution_count": 378,
   "metadata": {
    "scrolled": true
   },
   "outputs": [
    {
     "name": "stdout",
     "output_type": "stream",
     "text": [
      "    state  year  pop\n",
      "0    Ohio  2000  1.5\n",
      "1    Ohio  2001  1.7\n",
      "2    Ohio  2002  3.6\n",
      "3  Nevada  2001  2.4\n",
      "4  Nevada  2002  2.9\n",
      "5  Nevada  2003  3.2\n",
      "\n",
      "       year   state  pop empty\n",
      "one    2000    Ohio  1.5   NaN\n",
      "two    2001    Ohio  1.7   NaN\n",
      "three  2002    Ohio  3.6   NaN\n",
      "four   2001  Nevada  2.4   NaN\n",
      "five   2002  Nevada  2.9   NaN\n",
      "six    2003  Nevada  3.2   NaN\n",
      "Index(['year', 'state', 'pop', 'empty'], dtype='object')\n",
      "<class 'pandas.core.indexes.base.Index'>\n",
      "\n",
      "one      2000\n",
      "two      2001\n",
      "three    2002\n",
      "four     2001\n",
      "five     2002\n",
      "six      2003\n",
      "Name: year, dtype: int64\n",
      "one        Ohio\n",
      "two        Ohio\n",
      "three      Ohio\n",
      "four     Nevada\n",
      "five     Nevada\n",
      "six      Nevada\n",
      "Name: state, dtype: object\n",
      "year\n",
      "Index(['one', 'two', 'three', 'four', 'five', 'six'], dtype='object')\n",
      "[2000 2001 2002 2001 2002 2003]\n",
      "---\n",
      "year     2000\n",
      "state    Ohio\n",
      "pop       1.5\n",
      "empty     NaN\n",
      "Name: one, dtype: object\n",
      "<class 'pandas.core.series.Series'>\n",
      "Index(['year', 'state', 'pop', 'empty'], dtype='object')\n"
     ]
    }
   ],
   "source": [
    "# dataframe\n",
    "# table of data contains an ordered collection of columns.\n",
    "# has a row and column index\n",
    "# dict of series all sharing the same index\n",
    "\n",
    "# assumption: the shared index is the row index and the \n",
    "# column index is the keys in the dict which has columns/Series as values ?\n",
    "\n",
    "# construction from dict of equal length lists\n",
    "data = {'state': ['Ohio', 'Ohio', 'Ohio', 'Nevada', 'Nevada', 'Nevada']\n",
    "        ,'year': [2000, 2001, 2002, 2001, 2002, 2003]\n",
    "        ,'pop': [1.5, 1.7, 3.6, 2.4, 2.9, 3.2]}\n",
    "\n",
    "frame = DataFrame(data)\n",
    "print(frame)\n",
    "\n",
    "# can provide order of the columns as well as row indexes\n",
    "frame2 = DataFrame(data, \n",
    "                   columns=['year', 'state', 'pop', 'empty'],\n",
    "                   index=['one', 'two', 'three', 'four', 'five', 'six'])\n",
    "print()\n",
    "print(frame2)\n",
    "\n",
    "print(frame2.columns)\n",
    "print(type(frame2.columns))\n",
    "\n",
    "print()\n",
    "# access as dict key or attribute\n",
    "print(frame2.year)# returns a series with the same index as the frame \n",
    "print(frame2['state']) \n",
    "print(frame2.year.name)\n",
    "print(frame2.year.index)\n",
    "print(frame2.year.values)\n",
    "\n",
    "print(\"---\")\n",
    "# getting an entire row (with all columns from the frame)\n",
    "print(frame2.loc['one']) \n",
    "# the return type is a series with the column names\n",
    "# as the index of the series\n",
    "print(type(frame2.loc['one']))\n",
    "print(frame2.loc['one'].index)"
   ]
  },
  {
   "cell_type": "code",
   "execution_count": 384,
   "metadata": {},
   "outputs": [
    {
     "name": "stdout",
     "output_type": "stream",
     "text": [
      "6\n",
      "       year   state  pop  empty\n",
      "one    2000    Ohio  1.5      0\n",
      "two    2001    Ohio  1.7      1\n",
      "three  2002    Ohio  3.6      2\n",
      "four   2001  Nevada  2.4      3\n",
      "five   2002  Nevada  2.9      4\n",
      "six    2003  Nevada  3.2      5\n",
      "       year   state  pop  empty\n",
      "one    2000    Ohio  1.5     15\n",
      "two    2001    Ohio  1.7     15\n",
      "three  2002    Ohio  3.6     15\n",
      "four   2001  Nevada  2.4     15\n",
      "five   2002  Nevada  2.9     15\n",
      "six    2003  Nevada  3.2     15\n"
     ]
    }
   ],
   "source": [
    "# entire columns can be modified\n",
    "print(len(frame2['empty']))\n",
    "frame2['empty']  = np.arange(len(frame2['empty']))\n",
    "print(frame2)\n",
    "\n",
    "# can also do scalar assignments similar to np arrays\n",
    "frame2['empty'] = 15\n",
    "print(frame2)"
   ]
  },
  {
   "cell_type": "code",
   "execution_count": 387,
   "metadata": {},
   "outputs": [
    {
     "name": "stdout",
     "output_type": "stream",
     "text": [
      "       year   state  pop  empty  new_column\n",
      "one    2000    Ohio  1.5     15           0\n",
      "two    2001    Ohio  1.7     15           1\n",
      "three  2002    Ohio  3.6     15           2\n",
      "four   2001  Nevada  2.4     15           3\n",
      "five   2002  Nevada  2.9     15           4\n",
      "six    2003  Nevada  3.2     15           5\n"
     ]
    }
   ],
   "source": [
    "# assign new columns\n",
    "frame2['new_column'] = np.arange(6)\n",
    "print(frame2)"
   ]
  },
  {
   "cell_type": "code",
   "execution_count": 400,
   "metadata": {
    "scrolled": false
   },
   "outputs": [
    {
     "name": "stdout",
     "output_type": "stream",
     "text": [
      "       year   state  pop  new_column_2\n",
      "one    2000    Ohio  1.5           NaN\n",
      "two    2001    Ohio  1.7           NaN\n",
      "three  2002    Ohio  3.6           NaN\n",
      "four   2001  Nevada  2.4           NaN\n",
      "five   2002  Nevada  2.9           NaN\n",
      "six    2003  Nevada  3.2           NaN\n",
      "==========\n",
      "       year   state  pop  new_column_2\n",
      "one    2000    Ohio  1.5             0\n",
      "two    2001    Ohio  1.7             1\n",
      "three  2002    Ohio  3.6             2\n",
      "four   2001  Nevada  2.4             3\n",
      "five   2002  Nevada  2.9             4\n",
      "six    2003  Nevada  3.2             5\n",
      "Index(['year', 'state', 'pop'], dtype='object')\n"
     ]
    }
   ],
   "source": [
    "# assign new series\n",
    "\n",
    "# this will not work since the series does not have the \n",
    "# right indexes\n",
    "new_column_2 = pd.Series([x for x in range(6)])\n",
    "frame2['new_column_2'] = new_column_2\n",
    "print(frame2)\n",
    "\n",
    "#assigning the indexes to the series will make it work\n",
    "print(\"==========\")\n",
    "new_column_2 = pd.Series([x for x in range(6)],\n",
    "                         index=frame2.index)\n",
    "frame2['new_column_2'] = new_column_2\n",
    "print(frame2)\n",
    "\n",
    "# deleting columns\n",
    "del frame2['new_column_2']\n",
    "print(frame2.columns)"
   ]
  },
  {
   "cell_type": "code",
   "execution_count": 411,
   "metadata": {
    "scrolled": true
   },
   "outputs": [
    {
     "name": "stdout",
     "output_type": "stream",
     "text": [
      "      nevada  ohio\n",
      "2001     2.4   1.6\n",
      "2002     2.9   3.5\n",
      "2000     NaN   1.5\n",
      "Index(['nevada', 'ohio'], dtype='object')\n",
      "Int64Index([2001, 2002, 2000], dtype='int64')\n",
      "nevada    2.9\n",
      "ohio      3.5\n",
      "Name: 2002, dtype: float64\n",
      "        2001  2002  2000\n",
      "nevada   2.4   2.9   NaN\n",
      "ohio     1.6   3.5   1.5\n",
      "[[2.4 1.6]\n",
      " [2.9 3.5]\n",
      " [nan 1.5]]\n",
      "(3, 2)\n",
      "(2, 3)\n"
     ]
    }
   ],
   "source": [
    "# nested dictionaries for pandas dataframe construction\n",
    "\n",
    "pop = {'nevada' : {2001: 2.4, 2002: 2.9},\n",
    "       'ohio' : {2000: 1.5, 2001:1.6, 2002:3.5}}\n",
    "pop_frame = DataFrame(pop)\n",
    "print(pop_frame)\n",
    "# the inner keys are considered to be the row indexes\n",
    "# the outer keys are considered to be the column indexes\n",
    "print(pop_frame.columns)\n",
    "print(pop_frame.index)\n",
    "# getting a particular row \n",
    "print(pop_frame.loc[2002])\n",
    "\n",
    "# dataframe can be transposed\n",
    "print(pop_frame.T)\n",
    "\n",
    "# values will return a 2 dimensional array with all of the values\n",
    "print(pop_frame.values)\n",
    "print(pop_frame.values.shape)\n",
    "print(pop_frame.T.values.shape)"
   ]
  },
  {
   "cell_type": "code",
   "execution_count": 435,
   "metadata": {
    "scrolled": false
   },
   "outputs": [
    {
     "name": "stdout",
     "output_type": "stream",
     "text": [
      "[[0 1 2 3 4]\n",
      " [5 6 7 8 9]]\n",
      "         one  two  three  four  five\n",
      "row_one    0    1      2     3     4\n",
      "row_two    5    6      7     8     9\n",
      "=====\n",
      "   col_a  col_b col_c\n",
      "0      1      0     a\n",
      "1      2      1     b\n",
      "2      3      2     c\n",
      "3      4      3     d\n",
      "4      5      4     e\n",
      "===\n",
      "   column_1  column_2\n",
      "a         1         2\n",
      "b         2         2\n",
      "c         3         2\n",
      "d         4         2\n",
      "e         5         2\n",
      "      nevada  ohio\n",
      "2001     2.4   1.6\n",
      "2002     2.9   3.5\n",
      "2000     NaN   1.5\n",
      "   a  b  c  d  e\n",
      "0  1  2  3  4  5\n",
      "1  2  2  2  2  2\n",
      "   0  1\n",
      "a  1  2\n",
      "b  2  2\n",
      "c  3  2\n",
      "d  4  2\n",
      "e  5  2\n",
      "     a  b    c\n",
      "0  1.0  2  NaN\n",
      "1  NaN  2  1.0\n",
      "=========\n",
      "   0  1  2\n",
      "0  0  1  2\n",
      "1  1  2  3\n",
      "        0   1   2\n",
      "row_1 NaN NaN NaN\n",
      "row_2 NaN NaN NaN\n",
      "   0  1  2\n",
      "0  0  1  2\n",
      "1  1  2  3\n"
     ]
    }
   ],
   "source": [
    "# construction methods for data frame\n",
    "\n",
    "# np 2d array\n",
    "np_2d = np.arange(10).reshape(2,5)\n",
    "print(np_2d)\n",
    "\n",
    "pd = DataFrame(np_2d,\n",
    "               columns=['one', 'two', 'three', 'four', 'five'],\n",
    "               index=['row_one', 'row_two']\n",
    "              )\n",
    "print(pd)\n",
    "print(\"=====\")\n",
    "\n",
    "# dict of arrays, lists or tuples\n",
    "# keys of dict are interpreted as column names\n",
    "my_dict = {'col_a' : [1,2,3,4,5],\n",
    "          'col_b' : [x for x in range(5)],\n",
    "          'col_c' : ['a', 'b', 'c', 'd', 'e']}\n",
    "pd = DataFrame(my_dict)\n",
    "print(pd)\n",
    "\n",
    "# dict of series\n",
    "series_1 = Series([1,2,3,4,5], index=['a','b','c','d','e'])\n",
    "series_2 = Series([2,2,2,2,2], index=['a','b','c','d','e'])\n",
    "pd = DataFrame({'column_1' : series_1, 'column_2' : series_2})\n",
    "print(\"===\")\n",
    "print(pd)\n",
    "\n",
    "# dict of dict (inner key is a row label)\n",
    "pop = {'nevada' : {2001: 2.4, 2002: 2.9},\n",
    "       'ohio' : {2000: 1.5, 2001:1.6, 2002:3.5}}\n",
    "pop_frame = DataFrame(pop)\n",
    "print(pop_frame)\n",
    "\n",
    "# list of series, union of indexes in series is the column index\n",
    "pd = DataFrame([series_1, series_2])\n",
    "print(pd)\n",
    "print(pd.T)\n",
    "\n",
    "# list of dicts\n",
    "dict_1 = {'a' : 1, 'b': 2}\n",
    "dict_2 = {'c' : 1, 'b': 2}\n",
    "pd = DataFrame([dict_1, dict_2])\n",
    "print(pd)\n",
    "\n",
    "# list of lists or tuples (same as 2dim nd array)\n",
    "list_1 = [0,1,2]\n",
    "list_2 = [1,2,3]\n",
    "pd = DataFrame([list_1, list_2])\n",
    "# same as [[],[]] which is the same way a 2dim array looks\n",
    "print(\"=========\")\n",
    "print(pd)\n",
    "\n",
    "#  Different dataframe\n",
    "# earlier dataframe had two rows.\n",
    "my_pd = DataFrame(pd, index=['row_1', 'row_2'])\n",
    "print(my_pd) \n",
    "\n",
    "my_pd_2 = DataFrame(pd)\n",
    "print(my_pd_2)\n",
    "\n",
    "# TODO: numpy maskled array and numpy structured record/record array"
   ]
  },
  {
   "cell_type": "code",
   "execution_count": 447,
   "metadata": {},
   "outputs": [
    {
     "name": "stdout",
     "output_type": "stream",
     "text": [
      "Index(['a', 'b', 'c'], dtype='object')\n",
      "<class 'pandas.core.indexes.base.Index'>\n",
      "Index(['b', 'c'], dtype='object')\n",
      "Int64Index([0, 1, 2], dtype='int64')\n",
      "True\n"
     ]
    }
   ],
   "source": [
    "# index objects\n",
    "import pandas as pd\n",
    "\n",
    "pd_d = DataFrame(range(3), index=['a', 'b', 'c'])\n",
    "print(pd_d.index)\n",
    "print(type(pd_d.index))\n",
    "print(pd_d.index[1:])\n",
    "\n",
    "# create new lables\n",
    "labels = pd.Index(np.arange(3))\n",
    "print(labels)\n",
    "\n",
    "new_series = pd.Series([0,1,2], index=labels)\n",
    "print(new_series.index is labels)\n",
    "\n"
   ]
  },
  {
   "cell_type": "code",
   "execution_count": 459,
   "metadata": {},
   "outputs": [
    {
     "name": "stdout",
     "output_type": "stream",
     "text": [
      "   a  b\n",
      "0  1  2\n",
      "1  3  4\n",
      "Index(['a', 'b'], dtype='object')\n",
      "True\n",
      "Index(['a', 'd', 'd'], dtype='object')\n",
      "   0\n",
      "a  0\n",
      "d  1\n",
      "d  2\n",
      "<class 'pandas.core.frame.DataFrame'>\n",
      "<class 'pandas.core.series.Series'>\n"
     ]
    }
   ],
   "source": [
    "dict_1 = {'a' : 1, 'b': 2}\n",
    "dict_2 = {'a' : 3, 'b': 4}\n",
    "pd_d = DataFrame([dict_1, dict_2])\n",
    "print(pd_d)\n",
    "\n",
    "print(pd_d.columns)\n",
    "\n",
    "# set like semantics\n",
    "print('a' in pd_d.columns)\n",
    "\n",
    "import pandas as pd \n",
    "# pandas index can contain duplicate labels\n",
    "labels = pd.Index(['a','d','d'])\n",
    "print(labels)\n",
    "\n",
    "pd_d = DataFrame(np.arange(3), labels)\n",
    "print(pd_d)\n",
    "\n",
    "print(type(pd_d.T['d'])) # if there are multiple selections, returns a dataframe\n",
    "print(type(pd_d.T['a'])) # if there is a single selection, returns a series"
   ]
  },
  {
   "cell_type": "code",
   "execution_count": 463,
   "metadata": {
    "scrolled": true
   },
   "outputs": [
    {
     "name": "stdout",
     "output_type": "stream",
     "text": [
      "a    1\n",
      "b    2\n",
      "c    3\n",
      "d    4\n",
      "dtype: int64\n",
      "c    3.0\n",
      "d    4.0\n",
      "b    2.0\n",
      "a    1.0\n",
      "e    NaN\n",
      "dtype: float64\n"
     ]
    }
   ],
   "source": [
    "# essential functionality\n",
    "\n",
    "obj = pd.Series([1,2,3,4], index=['a', 'b', 'c', 'd'])\n",
    "print(obj)\n",
    "obj2 = obj.reindex(['c', 'd', 'b', 'a', 'e']) # re-arrange + introduce new\n",
    "print(obj2)"
   ]
  },
  {
   "cell_type": "code",
   "execution_count": 470,
   "metadata": {
    "scrolled": true
   },
   "outputs": [
    {
     "name": "stdout",
     "output_type": "stream",
     "text": [
      "0     Apple\n",
      "5    Orange\n",
      "7    Banana\n",
      "dtype: object\n",
      "0     Apple\n",
      "1     Apple\n",
      "2     Apple\n",
      "3     Apple\n",
      "4     Apple\n",
      "5    Orange\n",
      "6    Orange\n",
      "7    Banana\n",
      "dtype: object\n",
      "0     Apple\n",
      "1    Orange\n",
      "2    Orange\n",
      "3    Orange\n",
      "4    Orange\n",
      "5    Orange\n",
      "6    Banana\n",
      "7    Banana\n",
      "dtype: object\n",
      "0     Apple\n",
      "1     Apple\n",
      "2     Apple\n",
      "3    Orange\n",
      "4    Orange\n",
      "5    Orange\n",
      "6    Banana\n",
      "7    Banana\n",
      "dtype: object\n"
     ]
    }
   ],
   "source": [
    "obj = pd.Series(['Apple', 'Orange', 'Banana'], index=[0,5,7])\n",
    "print(obj)\n",
    "obj2 = obj.reindex(range(8), method='ffill')\n",
    "print(obj2)\n",
    "\n",
    "obj3 = obj.reindex(range(8), method='bfill')\n",
    "print(obj3)\n",
    "\n",
    "obj4 = obj.reindex(range(8), method='nearest')\n",
    "print(obj4)"
   ]
  },
  {
   "cell_type": "code",
   "execution_count": 475,
   "metadata": {
    "scrolled": true
   },
   "outputs": [
    {
     "name": "stdout",
     "output_type": "stream",
     "text": [
      "   a  b\n",
      "0  0  2\n",
      "1  3  3\n",
      "   a  e  f\n",
      "0  0  2  2\n",
      "1  3  3  3\n"
     ]
    }
   ],
   "source": [
    "obj = pd.DataFrame({'a': [0,3] , 'b': [2,3]})\n",
    "print(obj)\n",
    "\n",
    "obj2 = obj.reindex(columns=['a', 'e','f'], method='ffill')\n",
    "print(obj2)"
   ]
  },
  {
   "cell_type": "code",
   "execution_count": 482,
   "metadata": {
    "scrolled": false
   },
   "outputs": [
    {
     "name": "stdout",
     "output_type": "stream",
     "text": [
      "          one  two  three  four\n",
      "Ohio        0    1      2     3\n",
      "Colorado    4    5      6     7\n",
      "Utah        8    9     10    11\n",
      "New York   12   13     14    15\n",
      "          one  two  three  four\n",
      "Colorado    4    5      6     7\n",
      "New York   12   13     14    15\n",
      "          one  four\n",
      "Colorado    4     7\n",
      "New York   12    15\n",
      "          one  two  three  four\n",
      "Colorado    4    5      6     7\n",
      "Utah        8    9     10    11\n",
      "New York   12   13     14    15\n"
     ]
    }
   ],
   "source": [
    "# dropping indexes\n",
    "data = pd.DataFrame(np.arange(16).reshape((4, 4)),\n",
    "                    index=['Ohio', 'Colorado', 'Utah', 'New York'],\n",
    "                    columns=['one', 'two', 'three', 'four'])\n",
    "\n",
    "print(data)\n",
    "data2 = data.drop(['Ohio', 'Utah']) # drops axis 0\n",
    "print(data2)\n",
    "data3 = data2.drop(['two', 'three'], axis=1) # drops axis 1\n",
    "print(data3)\n",
    "\n",
    "data.drop(['Ohio'], inplace=True)\n",
    "print(data)"
   ]
  },
  {
   "cell_type": "code",
   "execution_count": 487,
   "metadata": {
    "scrolled": true
   },
   "outputs": [
    {
     "name": "stdout",
     "output_type": "stream",
     "text": [
      "True\n",
      "c    True\n",
      "d    True\n",
      "dtype: bool\n",
      "a    0.0\n",
      "b    1.0\n",
      "dtype: float64\n"
     ]
    }
   ],
   "source": [
    "# indexing, selection and filtering\n",
    "\n",
    "obj = pd.Series(np.arange(4.), index = ['a','b','c','d'])\n",
    "print(obj['a'] == obj[0])\n",
    "\n",
    "print(obj[2:4] == obj[['c', 'd']])\n",
    "print(obj[obj<2])"
   ]
  },
  {
   "cell_type": "code",
   "execution_count": 500,
   "metadata": {
    "scrolled": true
   },
   "outputs": [
    {
     "name": "stdout",
     "output_type": "stream",
     "text": [
      "          one  two  three  four\n",
      "Ohio        0    1      2     3\n",
      "Colorado    4    5      6     7\n",
      "Utah        8    9     10    11\n",
      "New York   12   13     14    15\n",
      "Ohio         0\n",
      "Colorado     4\n",
      "Utah         8\n",
      "New York    12\n",
      "Name: one, dtype: int64\n",
      "Ohio         True\n",
      "Colorado    False\n",
      "Utah         True\n",
      "New York    False\n",
      "Name: one, dtype: bool\n",
      "      one  two  three  four\n",
      "Ohio    0    1      2     3\n",
      "Utah    8    9     10    11\n",
      "          one  two  three  four\n",
      "Ohio        0    1      2     3\n",
      "Colorado    4    5      6     7\n",
      "          one  two  three  four\n",
      "Ohio       19   19     19    19\n",
      "Colorado    4    5      6     7\n",
      "Utah       19   19     19    19\n",
      "New York   12   13     14    15\n"
     ]
    }
   ],
   "source": [
    "data = pd.DataFrame(np.arange(16).reshape((4, 4)),\n",
    "                    index=['Ohio', 'Colorado', 'Utah', 'New York'],\n",
    "                    columns=['one', 'two', 'three', 'four'])\n",
    "\n",
    "# for dataframes, only columns are directly accesible\n",
    "#print(data[['Ohio']]) --> Error\n",
    "print(data)\n",
    "print(data['one'])\n",
    "print(data['one'] % 8 == 0) # creates a one dim selection array\n",
    "print(data[data['one'] % 8 == 0])\n",
    "\n",
    "#special case to select rows\n",
    "print(data[:2])\n",
    "\n",
    "# passing in non labels does not work\n",
    "# though this  works for the series, it does not work for datframe\n",
    "#rint(data[2])\n",
    "\n",
    "data[data['one'] % 8 == 0] = 19\n",
    "print(data)"
   ]
  },
  {
   "cell_type": "code",
   "execution_count": 514,
   "metadata": {
    "scrolled": true
   },
   "outputs": [
    {
     "name": "stdout",
     "output_type": "stream",
     "text": [
      "two      1\n",
      "three    2\n",
      "Name: Ohio, dtype: int64\n",
      "<class 'pandas.core.series.Series'>\n",
      "one      0\n",
      "two      1\n",
      "three    2\n",
      "Name: Ohio, dtype: int64\n",
      "<class 'pandas.core.series.Series'>\n",
      "one      0\n",
      "two      1\n",
      "three    2\n",
      "four     3\n",
      "Name: Ohio, dtype: int64\n",
      "          one  two\n",
      "Ohio        0    1\n",
      "Colorado    4    5\n",
      "<class 'pandas.core.frame.DataFrame'>\n",
      "1\n",
      "two      1\n",
      "three    2\n",
      "four     3\n",
      "Name: Ohio, dtype: int64\n",
      "          four\n",
      "Colorado     7\n",
      "Utah        11\n",
      "New York    15\n"
     ]
    }
   ],
   "source": [
    "# loc and iloc \n",
    "# dataframe label-indexing on the rows\n",
    "# loc uses the axes labels\n",
    "# iloc uses the integers directly\n",
    "data = pd.DataFrame(np.arange(16).reshape((4, 4)),\n",
    "                    index=['Ohio', 'Colorado', 'Utah', 'New York'],\n",
    "                    columns=['one', 'two', 'three', 'four'])\n",
    "\n",
    "#selecting a single row returns a series\n",
    "# which has the column indexes as it's row index\n",
    "data_ohio = data.loc['Ohio', ['two', 'three']]\n",
    "print(data_ohio)\n",
    "print(type(data_ohio))\n",
    "\n",
    "data_sel = data.iloc[0, [0,1,2]]\n",
    "print(data_sel)\n",
    "print(type(data_sel))\n",
    "\n",
    "#select all columns\n",
    "data_sel = data.iloc[0]\n",
    "print(data_sel)\n",
    "\n",
    "#selecting multiple rows and columns\n",
    "# this results in a dataframe\n",
    "data_sel = data.loc[['Ohio', 'Colorado'], ['one', 'two']]\n",
    "print(data_sel)\n",
    "print(type(data_sel))\n",
    "\n",
    "# can use a list for rows, columns\n",
    "# can also use slices ':' notation\n",
    "# can use single labels\n",
    "# can mix and match\n",
    "\n",
    "data_sel = data.loc['Ohio', 'two']\n",
    "print(data_sel)\n",
    "\n",
    "data_sel = data.loc['Ohio', 'two':]\n",
    "print(data_sel)\n",
    "\n",
    "print(data.iloc[:,3:][data['four'] > 6])"
   ]
  },
  {
   "cell_type": "code",
   "execution_count": 520,
   "metadata": {
    "scrolled": false
   },
   "outputs": [
    {
     "name": "stdout",
     "output_type": "stream",
     "text": [
      "0    0\n",
      "1    1\n",
      "2    2\n",
      "dtype: int64\n",
      "2\n"
     ]
    }
   ],
   "source": [
    "# integer indexing\n",
    "\n",
    "ser = pd.Series(np.arange(3))\n",
    "print(ser)\n",
    "\n",
    "# the below does not work since there is no index with -1\n",
    "# this is different from python's list indexing since -1\n",
    "# returns the last element\n",
    "#print(ser[-1]) \n",
    "\n",
    "# this is because when the index is formed out of integers\n",
    "# indexing using -1 can be both label based and integer based\n",
    "# which can be confusing\n",
    "\n",
    "# if the axis has any integers, the indexing is going to be label based\n",
    "\n",
    "ser = pd.Series(np.arange(3), index=['a', 'b', 'c'])\n",
    "print(ser[-1]) # works\n",
    "\n",
    "\n",
    "ser = pd.Series(np.arange(3), index=['a', 'b', 5])\n",
    "#print(ser[-1]) # does not work\n"
   ]
  },
  {
   "cell_type": "code",
   "execution_count": 531,
   "metadata": {
    "scrolled": true
   },
   "outputs": [
    {
     "name": "stdout",
     "output_type": "stream",
     "text": [
      "a    7.3\n",
      "c   -2.5\n",
      "d    3.4\n",
      "e    1.5\n",
      "dtype: float64\n",
      "a   -2.1\n",
      "c    3.6\n",
      "e   -1.5\n",
      "f    4.0\n",
      "g    3.1\n",
      "dtype: float64\n",
      "a    5.2\n",
      "c    1.1\n",
      "d    NaN\n",
      "e    0.0\n",
      "f    NaN\n",
      "g    NaN\n",
      "dtype: float64\n",
      "           a     b     c   d\n",
      "Colorado NaN  13.0  15.0 NaN\n",
      "NY       NaN   NaN   NaN NaN\n",
      "Ohio     NaN   1.0   3.0 NaN\n",
      "Texas    NaN   NaN   NaN NaN\n",
      "            a     b     c    d\n",
      "Colorado  6.0  13.0  15.0  8.0\n",
      "NY        NaN   3.0   4.0  5.0\n",
      "Ohio      0.0   1.0   3.0  2.0\n",
      "Texas     3.0   4.0   5.0  NaN\n",
      "            a     b     c    d\n",
      "Colorado  6.0  13.0  15.0  8.0\n",
      "NY        NaN   3.0   4.0  5.0\n",
      "Ohio      0.0   1.0   3.0  2.0\n",
      "Texas     3.0   4.0   5.0  NaN\n"
     ]
    }
   ],
   "source": [
    "# arithmetic and data alignment\n",
    "\n",
    "#nan propagation\n",
    "\n",
    "s1 = pd.Series([7.3, -2.5, 3.4, 1.5], index=['a', 'c', 'd', 'e'])\n",
    "s2 = pd.Series([-2.1, 3.6, -1.5, 4, 3.1],\n",
    "               index=['a', 'c', 'e', 'f', 'g'])\n",
    "\n",
    "print(s1)\n",
    "print(s2)\n",
    "\n",
    "# for indexes that don't exist in both; it's \n",
    "# as though we are adding NaN to a value which is the same as Nan\n",
    "print(s1 + s2)\n",
    "\n",
    "\n",
    "# it's the same for dataframes\n",
    "# adding columns + indexes that don't exist in both dataframes\n",
    "# will result in NaN values\n",
    "\n",
    "df1 = pd.DataFrame(np.arange(9.).reshape((3, 3)), columns=list('abc'),\n",
    "                   index=['Ohio', 'Texas', 'Colorado'])\n",
    "\n",
    "df2 = pd.DataFrame(np.arange(9.).reshape((3, 3)), columns=list('bcd'),\n",
    "                   index=['Ohio', 'NY', 'Colorado'])\n",
    "\n",
    "print(df1 + df2)\n",
    "\n",
    "# to do the above, a fill value maybe useful\n",
    "\n",
    "print(df1.add(df2, fill_value=0))\n",
    "print(df1.radd(df2, fill_value=0))\n",
    "#help(df1.radd)\n",
    "\n",
    "# radd, rsub, etc\n",
    "# when doing something like a + b \n",
    "# what's invoked is actually a.__add__(b)\n",
    "# however, this is not useful when adding with a scalar\n",
    "# example: obj + 4 results in obj.__add__(4).\n",
    "# however, 4+ obj results in 4.__add__(obj) which is not implemented\n",
    "# when this happens, python invokes obj.__radd__(4) as a fallback\n",
    "\n",
    "# for dataframes this is useful since operations with scalars are common\n"
   ]
  },
  {
   "cell_type": "code",
   "execution_count": 544,
   "metadata": {},
   "outputs": [
    {
     "name": "stdout",
     "output_type": "stream",
     "text": [
      "            b    c    d\n",
      "Ohio      0.0  1.0  2.0\n",
      "NY        3.0  4.0  5.0\n",
      "Colorado  6.0  7.0  8.0\n",
      "b    0\n",
      "c    1\n",
      "d    2\n",
      "dtype: int64\n",
      "            b    c    d\n",
      "Ohio      0.0  0.0  0.0\n",
      "NY        3.0  3.0  3.0\n",
      "Colorado  6.0  6.0  6.0\n",
      "            b    c    d\n",
      "Colorado  NaN  NaN  NaN\n",
      "NY        NaN  NaN  NaN\n",
      "Ohio     -5.0 -4.0 -3.0\n",
      "            b    c    d\n",
      "Ohio     -2.0 -1.0  0.0\n",
      "NY       -2.0 -1.0  0.0\n",
      "Colorado -2.0 -1.0  0.0\n"
     ]
    }
   ],
   "source": [
    "# operations between data frames and series \n",
    "\n",
    "# is similar to opeartions between numpy arrays of different \n",
    "# dimensions where the operation gets broadcasted to lower dimensions\n",
    "\n",
    "\n",
    "df2 = pd.DataFrame(np.arange(9.).reshape((3, 3)), columns=list('bcd'),\n",
    "                   index=['Ohio', 'NY', 'Colorado'])\n",
    "\n",
    "print(df2)\n",
    "sub_series = pd.Series(np.arange(3), index=list('bcd'))\n",
    "print(sub_series)\n",
    "\n",
    "# series is one dimensional, df is two, \n",
    "# this operation is therefore applied to all of the rows of df (lower dimensions)\n",
    "print(df2 - sub_series)\n",
    "\n",
    "# can also broadcast over columns matching on rows\n",
    "sub_series = pd.Series([5], index=['Ohio'])\n",
    "print(df2.sub(sub_series, axis='index'))\n",
    "\n",
    "# subtract a columns values from all other columns\n",
    "print(df2.sub(df2['d'], axis='index'))"
   ]
  },
  {
   "cell_type": "code",
   "execution_count": 552,
   "metadata": {},
   "outputs": [
    {
     "name": "stdout",
     "output_type": "stream",
     "text": [
      "            b    c    d\n",
      "Ohio      0.0  1.0  2.0\n",
      "NY        3.0  4.0  5.0\n",
      "Colorado  6.0  7.0  8.0\n",
      "                 b         c         d\n",
      "Ohio      0.000000  1.000000  1.414214\n",
      "NY        1.732051  2.000000  2.236068\n",
      "Colorado  2.449490  2.645751  2.828427\n",
      "b    6.0\n",
      "c    6.0\n",
      "d    6.0\n",
      "dtype: float64\n",
      "b    6.0\n",
      "c    6.0\n",
      "d    6.0\n",
      "dtype: float64\n",
      "Ohio        2.0\n",
      "NY          2.0\n",
      "Colorado    2.0\n",
      "dtype: float64\n",
      "Ohio        2.0\n",
      "NY          2.0\n",
      "Colorado    2.0\n",
      "dtype: float64\n",
      "            b    c     d\n",
      "Ohio      2.0  3.0   4.0\n",
      "NY        5.0  6.0   7.0\n",
      "Colorado  8.0  9.0  10.0\n"
     ]
    }
   ],
   "source": [
    "#  function application and mapping\n",
    "df2 = pd.DataFrame(np.arange(9.).reshape((3, 3)), columns=list('bcd'),\n",
    "                   index=['Ohio', 'NY', 'Colorado'])\n",
    "\n",
    "print(df2)\n",
    "print(np.sqrt(df2))\n",
    "\n",
    "f = lambda x : x.max() - x.min()\n",
    "\n",
    "# applies across rows by default \n",
    "\n",
    "print(df2.apply(f))\n",
    "print(df2.apply(f, axis=0))\n",
    "\n",
    "print(df2.apply(f, axis='columns'))\n",
    "print(df2.apply(f, axis=1))\n",
    "\n",
    "# applymap allows application of a function to each value\n",
    "\n",
    "f = lambda x : x + 2\n",
    "print(df2.applymap(f))"
   ]
  },
  {
   "cell_type": "code",
   "execution_count": 561,
   "metadata": {
    "scrolled": true
   },
   "outputs": [
    {
     "name": "stdout",
     "output_type": "stream",
     "text": [
      "Index(['a', 'c', 'd', 'b'], dtype='object')\n",
      "a    0\n",
      "b    3\n",
      "c    1\n",
      "d    2\n",
      "dtype: int64\n",
      "a    0\n",
      "c    1\n",
      "d    2\n",
      "b    3\n",
      "dtype: int64\n",
      "   b  a\n",
      "0  4  0\n",
      "1  7  1\n",
      "2 -3  0\n",
      "3  7  3\n",
      "   b  a\n",
      "2 -3  0\n",
      "0  4  0\n",
      "1  7  1\n",
      "3  7  3\n",
      "   b  a\n",
      "2 -3  0\n",
      "0  4  0\n",
      "1  7  1\n",
      "3  7  3\n"
     ]
    }
   ],
   "source": [
    "# sorting and ranking\n",
    "obj = pd.Series(range(4), list('acdb'))\n",
    "print(obj.index)\n",
    "print(obj.sort_index())\n",
    "print(obj.sort_values())\n",
    "\n",
    "# use data in multiple columns\n",
    "\n",
    "frame = pd.DataFrame({'b': [4, 7, -3, 7], 'a': [0, 1, 0, 3]})\n",
    "print(frame)\n",
    "\n",
    "print(frame.sort_values(by='b'))\n",
    "print(frame.sort_values(by=['b', 'a']))"
   ]
  },
  {
   "cell_type": "code",
   "execution_count": null,
   "metadata": {},
   "outputs": [],
   "source": [
    "#ranking"
   ]
  }
 ],
 "metadata": {
  "kernelspec": {
   "display_name": "Python 3",
   "language": "python",
   "name": "python3"
  },
  "language_info": {
   "codemirror_mode": {
    "name": "ipython",
    "version": 3
   },
   "file_extension": ".py",
   "mimetype": "text/x-python",
   "name": "python",
   "nbconvert_exporter": "python",
   "pygments_lexer": "ipython3",
   "version": "3.7.5"
  }
 },
 "nbformat": 4,
 "nbformat_minor": 2
}
